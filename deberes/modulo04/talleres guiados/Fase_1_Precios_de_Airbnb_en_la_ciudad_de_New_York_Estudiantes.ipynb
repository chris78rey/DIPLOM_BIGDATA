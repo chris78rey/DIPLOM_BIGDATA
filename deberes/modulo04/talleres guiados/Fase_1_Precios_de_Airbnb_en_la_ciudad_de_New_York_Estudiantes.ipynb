{
  "nbformat": 4,
  "nbformat_minor": 0,
  "metadata": {
    "colab": {
      "name": "Copy of Fase 1: Precios de Airbnb en la ciudad de New York - Estudiantes.ipynb",
      "provenance": [],
      "collapsed_sections": []
    },
    "kernelspec": {
      "name": "python3",
      "display_name": "Python 3"
    },
    "language_info": {
      "name": "python"
    }
  },
  "cells": [
    {
      "cell_type": "markdown",
      "source": [
        "<img src = \"https://github.com/HarryVargas96/UdeCataluna/blob/main/logo_uc_grande.png?raw=true\" alt = \"Encabezado\" width = \"100%\">  </img>\n",
        "\n"
      ],
      "metadata": {
        "id": "Qn9KhQOz9tm4"
      }
    },
    {
      "cell_type": "markdown",
      "source": [
        "# **Agrupar los diferente tipos de hospedaje de acuerdo a sus características(Cluster) Predicción del precio de hospedajes en Airbnb para la ciudad de Amsterdam**\n",
        "\n",
        "# Christian Ruiz-Promocion 30 de BigData"
      ],
      "metadata": {
        "id": "Mz2E7fl9h7L_"
      }
    },
    {
      "cell_type": "markdown",
      "source": [
        "## Indicaciones para resolver el Taller"
      ],
      "metadata": {
        "id": "HBaTjU1MZoUG"
      }
    },
    {
      "cell_type": "markdown",
      "source": [
        "## Cargar las librerías necesarias"
      ],
      "metadata": {
        "id": "Y6VyUG5tXJVk"
      }
    },
    {
      "cell_type": "markdown",
      "source": [
        "A continuación vamos a cargar las librerías necesarias para el desarrollo de este caso."
      ],
      "metadata": {
        "id": "TaTMauXVNsyt"
      }
    },
    {
      "cell_type": "code",
      "source": [
        "import numpy as np\n",
        "import pandas as pd\n",
        "import matplotlib as mpl\n",
        "import matplotlib.pyplot as plt\n",
        "import seaborn as sns\n",
        "%matplotlib inline\n",
        "sns.set()"
      ],
      "metadata": {
        "id": "eywIxOMDhsJp"
      },
      "execution_count": null,
      "outputs": []
    },
    {
      "cell_type": "code",
      "source": [
        "!python --version\n",
        "print('NumPy', np.__version__)\n",
        "print('Pandas', pd.__version__)\n",
        "print('Matplotlib', mpl.__version__)\n",
        "print('Seaborn',sns.__version__)"
      ],
      "metadata": {
        "colab": {
          "base_uri": "https://localhost:8080/"
        },
        "id": "-6WQYSOHLCz1",
        "outputId": "98dcf336-3398-4d21-ce97-1022c33bce24"
      },
      "execution_count": null,
      "outputs": [
        {
          "output_type": "stream",
          "name": "stdout",
          "text": [
            "Python 3.7.13\n",
            "NumPy 1.21.6\n",
            "Pandas 1.3.5\n",
            "Matplotlib 3.2.2\n",
            "Seaborn 0.11.2\n"
          ]
        }
      ]
    },
    {
      "cell_type": "markdown",
      "source": [
        "Este caso de uso fue creado con las siguientes versiones:\n",
        "\n",
        "```\n",
        "Python 3.7.13\n",
        "NumPy 1.21.6\n",
        "Pandas 1.3.5\n",
        "Matplotlib 3.2.2\n",
        "Seaborn 0.11.2\n",
        "```\n",
        "\n"
      ],
      "metadata": {
        "id": "ZO3ynx-mLxJr"
      }
    },
    {
      "cell_type": "markdown",
      "source": [
        "## Cargar el dataset de trabajo"
      ],
      "metadata": {
        "id": "o5kPM6IKYOs9"
      }
    },
    {
      "cell_type": "code",
      "source": [
        "pd.options.display.max_columns = 1000 # Permite visualizar todas las columnas del dataframe\n",
        "\n",
        "airbnb =  pd.read_excel('https://github.com/chris78rey/DIPLOM_BIGDATA/blob/main/amsterdam_airbnb.xlsx?raw=true')\n",
        "\n",
        "airbnb.head(3)"
      ],
      "metadata": {
        "colab": {
          "base_uri": "https://localhost:8080/",
          "height": 485
        },
        "id": "63YgHaHeiG6m",
        "outputId": "a1d659e2-c5ba-4e0c-e9d1-6aa4f2e5684a"
      },
      "execution_count": null,
      "outputs": [
        {
          "output_type": "stream",
          "name": "stderr",
          "text": [
            "/usr/local/lib/python3.7/dist-packages/openpyxl/styles/stylesheet.py:226: UserWarning: Workbook contains no default style, apply openpyxl's default\n",
            "  warn(\"Workbook contains no default style, apply openpyxl's default\")\n"
          ]
        },
        {
          "output_type": "execute_result",
          "data": {
            "text/plain": [
              "           id                            listing_url     scrape_id  \\\n",
              "0  23726706.0  https://www.airbnb.com/rooms/23726706  2.022061e+13   \n",
              "1  35815036.0  https://www.airbnb.com/rooms/35815036  2.022061e+13   \n",
              "2  31553121.0  https://www.airbnb.com/rooms/31553121  2.022061e+13   \n",
              "\n",
              "  last_scraped                                               name  \\\n",
              "0   2022-06-05  Private room 20 minutes from Amsterdam + Break...   \n",
              "1   2022-06-05  Vrijstaand vakantiehuis, privÃ© tuin aan het w...   \n",
              "2   2022-06-05                    Quiet Guesthouse near Amsterdam   \n",
              "\n",
              "                                         description  \\\n",
              "0  Cousy  private room 20 min. from Amsterdam. Sh...   \n",
              "1  Bij het pittoreske dorpje Watergang ligt ons p...   \n",
              "2  Welcome to the countryside north of Amsterdam ...   \n",
              "\n",
              "                               neighborhood_overview  \\\n",
              "0  We live in a nice Cousy and clean house with e...   \n",
              "1  U heeft hier diverse mogelijkheden. Zo kunt u ...   \n",
              "2  Within 6 kilometers of the city center you'll ...   \n",
              "\n",
              "                                         picture_url      host_id  \\\n",
              "0  https://a0.muscache.com/pictures/eb6d6636-02d6...  122619127.0   \n",
              "1  https://a0.muscache.com/pictures/e309d415-78de...  269425139.0   \n",
              "2  https://a0.muscache.com/pictures/64edc273-3b2b...   76806621.0   \n",
              "\n",
              "                                      host_url host_name  host_since  \\\n",
              "0  https://www.airbnb.com/users/show/122619127  Patricia  2017-03-26   \n",
              "1  https://www.airbnb.com/users/show/269425139     Lydia  2019-06-18   \n",
              "2   https://www.airbnb.com/users/show/76806621      Ralf  2016-06-09   \n",
              "\n",
              "                           host_location  \\\n",
              "0     Diemen, North Holland, Netherlands   \n",
              "1  Watergang, North Holland, Netherlands   \n",
              "2  Landsmeer, North Holland, Netherlands   \n",
              "\n",
              "                                          host_about host_response_time  \\\n",
              "0  Hi, Welcome. we are so glade we are able to op...     within an hour   \n",
              "1                                                 --     within an hour   \n",
              "2                                                 --     within an hour   \n",
              "\n",
              "  host_response_rate host_acceptance_rate host_is_superhost  \\\n",
              "0               100%                  95%                 f   \n",
              "1               100%                  99%                 t   \n",
              "2               100%                 100%                 f   \n",
              "\n",
              "                                  host_thumbnail_url  \\\n",
              "0  https://a0.muscache.com/im/pictures/user/52706...   \n",
              "1  https://a0.muscache.com/im/pictures/user/af417...   \n",
              "2  https://a0.muscache.com/im/pictures/user/1df22...   \n",
              "\n",
              "                                    host_picture_url host_neighbourhood  \\\n",
              "0  https://a0.muscache.com/im/pictures/user/52706...                 --   \n",
              "1  https://a0.muscache.com/im/pictures/user/af417...                 --   \n",
              "2  https://a0.muscache.com/im/pictures/user/1df22...                 --   \n",
              "\n",
              "   host_listings_count  host_total_listings_count  \\\n",
              "0                  1.0                        1.0   \n",
              "1                  1.0                        1.0   \n",
              "2                  1.0                        1.0   \n",
              "\n",
              "                 host_verifications host_has_profile_pic  \\\n",
              "0  ['email', 'phone', 'work_email']                    t   \n",
              "1                ['email', 'phone']                    t   \n",
              "2                ['email', 'phone']                    t   \n",
              "\n",
              "  host_identity_verified                          neighbourhood  \\\n",
              "0                      t     Diemen, Noord-Holland, Netherlands   \n",
              "1                      t  Watergang, Noord-Holland, Netherlands   \n",
              "2                      t  Landsmeer, Noord-Holland, Netherlands   \n",
              "\n",
              "     neighbourhood_cleansed neighbourhood_group_cleansed  latitude  longitude  \\\n",
              "0  IJburg - Zeeburgereiland                           --  52.34916    4.97879   \n",
              "1                Noord-Oost                           --  52.42419    4.95689   \n",
              "2                Noord-West                           --  52.43237    4.91821   \n",
              "\n",
              "          property_type        room_type  accommodates  bathrooms  \\\n",
              "0  Private room in home     Private room           2.0        3.0   \n",
              "1             Tiny home  Entire home/apt           2.0        4.0   \n",
              "2     Entire guesthouse  Entire home/apt           4.0        2.0   \n",
              "\n",
              "  bathrooms_text  bedrooms  beds  \\\n",
              "0  1 shared bath       1.0   1.0   \n",
              "1      1.5 baths       1.0   1.0   \n",
              "2         1 bath       1.0   3.0   \n",
              "\n",
              "                                           amenities  price  minimum_nights  \\\n",
              "0  [\"Carbon monoxide alarm\", \"Dishes and silverwa...   88.0             2.0   \n",
              "1  [\"Carbon monoxide alarm\", \"Dishes and silverwa...  105.0             3.0   \n",
              "2  [\"Dishwasher\", \"Carbon monoxide alarm\", \"Ether...  152.0             2.0   \n",
              "\n",
              "   maximum_nights  minimum_minimum_nights  maximum_minimum_nights  \\\n",
              "0            14.0                     2.0                     2.0   \n",
              "1           100.0                     1.0                     3.0   \n",
              "2            60.0                     2.0                     2.0   \n",
              "\n",
              "   minimum_maximum_nights  maximum_maximum_nights  minimum_nights_avg_ntm  \\\n",
              "0                  1125.0                  1125.0                     2.0   \n",
              "1                  1125.0                  1125.0                     3.0   \n",
              "2                  1125.0                  1125.0                     2.0   \n",
              "\n",
              "   maximum_nights_avg_ntm calendar_updated has_availability  availability_30  \\\n",
              "0                  1125.0               --                t              0.0   \n",
              "1                  1125.0               --                t              4.0   \n",
              "2                  1125.0               --                t              0.0   \n",
              "\n",
              "   availability_60  availability_90  availability_365 calendar_last_scraped  \\\n",
              "0              6.0             20.0              66.0            2022-06-05   \n",
              "1              6.0             12.0             243.0            2022-06-05   \n",
              "2              3.0              3.0               3.0            2022-06-05   \n",
              "\n",
              "   number_of_reviews  number_of_reviews_ltm  number_of_reviews_l30d  \\\n",
              "0               78.0                   11.0                     3.0   \n",
              "1               95.0                   36.0                     6.0   \n",
              "2               82.0                   26.0                     1.0   \n",
              "\n",
              "  first_review last_review  review_scores_rating  review_scores_accuracy  \\\n",
              "0   2018-03-26  2022-05-29                  4.99                    4.96   \n",
              "1   2019-06-26  2022-06-02                  4.96                    4.94   \n",
              "2   2019-02-04  2022-05-29                  4.74                    4.85   \n",
              "\n",
              "   review_scores_cleanliness  review_scores_checkin  \\\n",
              "0                       4.97                   4.95   \n",
              "1                       5.00                   4.98   \n",
              "2                       4.84                   4.98   \n",
              "\n",
              "   review_scores_communication  review_scores_location  review_scores_value  \\\n",
              "0                         4.97                    4.73                 4.87   \n",
              "1                         4.98                    4.81                 4.83   \n",
              "2                         4.95                    4.62                 4.59   \n",
              "\n",
              "                license instant_bookable  calculated_host_listings_count  \\\n",
              "0  038469D9AA6BDF1142CE                t                             1.0   \n",
              "1                    --                f                             1.0   \n",
              "2                    --                f                             1.0   \n",
              "\n",
              "   calculated_host_listings_count_entire_homes  \\\n",
              "0                                          0.0   \n",
              "1                                          1.0   \n",
              "2                                          1.0   \n",
              "\n",
              "   calculated_host_listings_count_private_rooms  \\\n",
              "0                                           1.0   \n",
              "1                                           0.0   \n",
              "2                                           0.0   \n",
              "\n",
              "   calculated_host_listings_count_shared_rooms  reviews_per_month  \n",
              "0                                          0.0               1.53  \n",
              "1                                          0.0               2.65  \n",
              "2                                          0.0               2.02  "
            ],
            "text/html": [
              "\n",
              "  <div id=\"df-3816df09-5d3f-4a02-bf58-d790bf9f9d8e\">\n",
              "    <div class=\"colab-df-container\">\n",
              "      <div>\n",
              "<style scoped>\n",
              "    .dataframe tbody tr th:only-of-type {\n",
              "        vertical-align: middle;\n",
              "    }\n",
              "\n",
              "    .dataframe tbody tr th {\n",
              "        vertical-align: top;\n",
              "    }\n",
              "\n",
              "    .dataframe thead th {\n",
              "        text-align: right;\n",
              "    }\n",
              "</style>\n",
              "<table border=\"1\" class=\"dataframe\">\n",
              "  <thead>\n",
              "    <tr style=\"text-align: right;\">\n",
              "      <th></th>\n",
              "      <th>id</th>\n",
              "      <th>listing_url</th>\n",
              "      <th>scrape_id</th>\n",
              "      <th>last_scraped</th>\n",
              "      <th>name</th>\n",
              "      <th>description</th>\n",
              "      <th>neighborhood_overview</th>\n",
              "      <th>picture_url</th>\n",
              "      <th>host_id</th>\n",
              "      <th>host_url</th>\n",
              "      <th>host_name</th>\n",
              "      <th>host_since</th>\n",
              "      <th>host_location</th>\n",
              "      <th>host_about</th>\n",
              "      <th>host_response_time</th>\n",
              "      <th>host_response_rate</th>\n",
              "      <th>host_acceptance_rate</th>\n",
              "      <th>host_is_superhost</th>\n",
              "      <th>host_thumbnail_url</th>\n",
              "      <th>host_picture_url</th>\n",
              "      <th>host_neighbourhood</th>\n",
              "      <th>host_listings_count</th>\n",
              "      <th>host_total_listings_count</th>\n",
              "      <th>host_verifications</th>\n",
              "      <th>host_has_profile_pic</th>\n",
              "      <th>host_identity_verified</th>\n",
              "      <th>neighbourhood</th>\n",
              "      <th>neighbourhood_cleansed</th>\n",
              "      <th>neighbourhood_group_cleansed</th>\n",
              "      <th>latitude</th>\n",
              "      <th>longitude</th>\n",
              "      <th>property_type</th>\n",
              "      <th>room_type</th>\n",
              "      <th>accommodates</th>\n",
              "      <th>bathrooms</th>\n",
              "      <th>bathrooms_text</th>\n",
              "      <th>bedrooms</th>\n",
              "      <th>beds</th>\n",
              "      <th>amenities</th>\n",
              "      <th>price</th>\n",
              "      <th>minimum_nights</th>\n",
              "      <th>maximum_nights</th>\n",
              "      <th>minimum_minimum_nights</th>\n",
              "      <th>maximum_minimum_nights</th>\n",
              "      <th>minimum_maximum_nights</th>\n",
              "      <th>maximum_maximum_nights</th>\n",
              "      <th>minimum_nights_avg_ntm</th>\n",
              "      <th>maximum_nights_avg_ntm</th>\n",
              "      <th>calendar_updated</th>\n",
              "      <th>has_availability</th>\n",
              "      <th>availability_30</th>\n",
              "      <th>availability_60</th>\n",
              "      <th>availability_90</th>\n",
              "      <th>availability_365</th>\n",
              "      <th>calendar_last_scraped</th>\n",
              "      <th>number_of_reviews</th>\n",
              "      <th>number_of_reviews_ltm</th>\n",
              "      <th>number_of_reviews_l30d</th>\n",
              "      <th>first_review</th>\n",
              "      <th>last_review</th>\n",
              "      <th>review_scores_rating</th>\n",
              "      <th>review_scores_accuracy</th>\n",
              "      <th>review_scores_cleanliness</th>\n",
              "      <th>review_scores_checkin</th>\n",
              "      <th>review_scores_communication</th>\n",
              "      <th>review_scores_location</th>\n",
              "      <th>review_scores_value</th>\n",
              "      <th>license</th>\n",
              "      <th>instant_bookable</th>\n",
              "      <th>calculated_host_listings_count</th>\n",
              "      <th>calculated_host_listings_count_entire_homes</th>\n",
              "      <th>calculated_host_listings_count_private_rooms</th>\n",
              "      <th>calculated_host_listings_count_shared_rooms</th>\n",
              "      <th>reviews_per_month</th>\n",
              "    </tr>\n",
              "  </thead>\n",
              "  <tbody>\n",
              "    <tr>\n",
              "      <th>0</th>\n",
              "      <td>23726706.0</td>\n",
              "      <td>https://www.airbnb.com/rooms/23726706</td>\n",
              "      <td>2.022061e+13</td>\n",
              "      <td>2022-06-05</td>\n",
              "      <td>Private room 20 minutes from Amsterdam + Break...</td>\n",
              "      <td>Cousy  private room 20 min. from Amsterdam. Sh...</td>\n",
              "      <td>We live in a nice Cousy and clean house with e...</td>\n",
              "      <td>https://a0.muscache.com/pictures/eb6d6636-02d6...</td>\n",
              "      <td>122619127.0</td>\n",
              "      <td>https://www.airbnb.com/users/show/122619127</td>\n",
              "      <td>Patricia</td>\n",
              "      <td>2017-03-26</td>\n",
              "      <td>Diemen, North Holland, Netherlands</td>\n",
              "      <td>Hi, Welcome. we are so glade we are able to op...</td>\n",
              "      <td>within an hour</td>\n",
              "      <td>100%</td>\n",
              "      <td>95%</td>\n",
              "      <td>f</td>\n",
              "      <td>https://a0.muscache.com/im/pictures/user/52706...</td>\n",
              "      <td>https://a0.muscache.com/im/pictures/user/52706...</td>\n",
              "      <td>--</td>\n",
              "      <td>1.0</td>\n",
              "      <td>1.0</td>\n",
              "      <td>['email', 'phone', 'work_email']</td>\n",
              "      <td>t</td>\n",
              "      <td>t</td>\n",
              "      <td>Diemen, Noord-Holland, Netherlands</td>\n",
              "      <td>IJburg - Zeeburgereiland</td>\n",
              "      <td>--</td>\n",
              "      <td>52.34916</td>\n",
              "      <td>4.97879</td>\n",
              "      <td>Private room in home</td>\n",
              "      <td>Private room</td>\n",
              "      <td>2.0</td>\n",
              "      <td>3.0</td>\n",
              "      <td>1 shared bath</td>\n",
              "      <td>1.0</td>\n",
              "      <td>1.0</td>\n",
              "      <td>[\"Carbon monoxide alarm\", \"Dishes and silverwa...</td>\n",
              "      <td>88.0</td>\n",
              "      <td>2.0</td>\n",
              "      <td>14.0</td>\n",
              "      <td>2.0</td>\n",
              "      <td>2.0</td>\n",
              "      <td>1125.0</td>\n",
              "      <td>1125.0</td>\n",
              "      <td>2.0</td>\n",
              "      <td>1125.0</td>\n",
              "      <td>--</td>\n",
              "      <td>t</td>\n",
              "      <td>0.0</td>\n",
              "      <td>6.0</td>\n",
              "      <td>20.0</td>\n",
              "      <td>66.0</td>\n",
              "      <td>2022-06-05</td>\n",
              "      <td>78.0</td>\n",
              "      <td>11.0</td>\n",
              "      <td>3.0</td>\n",
              "      <td>2018-03-26</td>\n",
              "      <td>2022-05-29</td>\n",
              "      <td>4.99</td>\n",
              "      <td>4.96</td>\n",
              "      <td>4.97</td>\n",
              "      <td>4.95</td>\n",
              "      <td>4.97</td>\n",
              "      <td>4.73</td>\n",
              "      <td>4.87</td>\n",
              "      <td>038469D9AA6BDF1142CE</td>\n",
              "      <td>t</td>\n",
              "      <td>1.0</td>\n",
              "      <td>0.0</td>\n",
              "      <td>1.0</td>\n",
              "      <td>0.0</td>\n",
              "      <td>1.53</td>\n",
              "    </tr>\n",
              "    <tr>\n",
              "      <th>1</th>\n",
              "      <td>35815036.0</td>\n",
              "      <td>https://www.airbnb.com/rooms/35815036</td>\n",
              "      <td>2.022061e+13</td>\n",
              "      <td>2022-06-05</td>\n",
              "      <td>Vrijstaand vakantiehuis, privÃ© tuin aan het w...</td>\n",
              "      <td>Bij het pittoreske dorpje Watergang ligt ons p...</td>\n",
              "      <td>U heeft hier diverse mogelijkheden. Zo kunt u ...</td>\n",
              "      <td>https://a0.muscache.com/pictures/e309d415-78de...</td>\n",
              "      <td>269425139.0</td>\n",
              "      <td>https://www.airbnb.com/users/show/269425139</td>\n",
              "      <td>Lydia</td>\n",
              "      <td>2019-06-18</td>\n",
              "      <td>Watergang, North Holland, Netherlands</td>\n",
              "      <td>--</td>\n",
              "      <td>within an hour</td>\n",
              "      <td>100%</td>\n",
              "      <td>99%</td>\n",
              "      <td>t</td>\n",
              "      <td>https://a0.muscache.com/im/pictures/user/af417...</td>\n",
              "      <td>https://a0.muscache.com/im/pictures/user/af417...</td>\n",
              "      <td>--</td>\n",
              "      <td>1.0</td>\n",
              "      <td>1.0</td>\n",
              "      <td>['email', 'phone']</td>\n",
              "      <td>t</td>\n",
              "      <td>t</td>\n",
              "      <td>Watergang, Noord-Holland, Netherlands</td>\n",
              "      <td>Noord-Oost</td>\n",
              "      <td>--</td>\n",
              "      <td>52.42419</td>\n",
              "      <td>4.95689</td>\n",
              "      <td>Tiny home</td>\n",
              "      <td>Entire home/apt</td>\n",
              "      <td>2.0</td>\n",
              "      <td>4.0</td>\n",
              "      <td>1.5 baths</td>\n",
              "      <td>1.0</td>\n",
              "      <td>1.0</td>\n",
              "      <td>[\"Carbon monoxide alarm\", \"Dishes and silverwa...</td>\n",
              "      <td>105.0</td>\n",
              "      <td>3.0</td>\n",
              "      <td>100.0</td>\n",
              "      <td>1.0</td>\n",
              "      <td>3.0</td>\n",
              "      <td>1125.0</td>\n",
              "      <td>1125.0</td>\n",
              "      <td>3.0</td>\n",
              "      <td>1125.0</td>\n",
              "      <td>--</td>\n",
              "      <td>t</td>\n",
              "      <td>4.0</td>\n",
              "      <td>6.0</td>\n",
              "      <td>12.0</td>\n",
              "      <td>243.0</td>\n",
              "      <td>2022-06-05</td>\n",
              "      <td>95.0</td>\n",
              "      <td>36.0</td>\n",
              "      <td>6.0</td>\n",
              "      <td>2019-06-26</td>\n",
              "      <td>2022-06-02</td>\n",
              "      <td>4.96</td>\n",
              "      <td>4.94</td>\n",
              "      <td>5.00</td>\n",
              "      <td>4.98</td>\n",
              "      <td>4.98</td>\n",
              "      <td>4.81</td>\n",
              "      <td>4.83</td>\n",
              "      <td>--</td>\n",
              "      <td>f</td>\n",
              "      <td>1.0</td>\n",
              "      <td>1.0</td>\n",
              "      <td>0.0</td>\n",
              "      <td>0.0</td>\n",
              "      <td>2.65</td>\n",
              "    </tr>\n",
              "    <tr>\n",
              "      <th>2</th>\n",
              "      <td>31553121.0</td>\n",
              "      <td>https://www.airbnb.com/rooms/31553121</td>\n",
              "      <td>2.022061e+13</td>\n",
              "      <td>2022-06-05</td>\n",
              "      <td>Quiet Guesthouse near Amsterdam</td>\n",
              "      <td>Welcome to the countryside north of Amsterdam ...</td>\n",
              "      <td>Within 6 kilometers of the city center you'll ...</td>\n",
              "      <td>https://a0.muscache.com/pictures/64edc273-3b2b...</td>\n",
              "      <td>76806621.0</td>\n",
              "      <td>https://www.airbnb.com/users/show/76806621</td>\n",
              "      <td>Ralf</td>\n",
              "      <td>2016-06-09</td>\n",
              "      <td>Landsmeer, North Holland, Netherlands</td>\n",
              "      <td>--</td>\n",
              "      <td>within an hour</td>\n",
              "      <td>100%</td>\n",
              "      <td>100%</td>\n",
              "      <td>f</td>\n",
              "      <td>https://a0.muscache.com/im/pictures/user/1df22...</td>\n",
              "      <td>https://a0.muscache.com/im/pictures/user/1df22...</td>\n",
              "      <td>--</td>\n",
              "      <td>1.0</td>\n",
              "      <td>1.0</td>\n",
              "      <td>['email', 'phone']</td>\n",
              "      <td>t</td>\n",
              "      <td>t</td>\n",
              "      <td>Landsmeer, Noord-Holland, Netherlands</td>\n",
              "      <td>Noord-West</td>\n",
              "      <td>--</td>\n",
              "      <td>52.43237</td>\n",
              "      <td>4.91821</td>\n",
              "      <td>Entire guesthouse</td>\n",
              "      <td>Entire home/apt</td>\n",
              "      <td>4.0</td>\n",
              "      <td>2.0</td>\n",
              "      <td>1 bath</td>\n",
              "      <td>1.0</td>\n",
              "      <td>3.0</td>\n",
              "      <td>[\"Dishwasher\", \"Carbon monoxide alarm\", \"Ether...</td>\n",
              "      <td>152.0</td>\n",
              "      <td>2.0</td>\n",
              "      <td>60.0</td>\n",
              "      <td>2.0</td>\n",
              "      <td>2.0</td>\n",
              "      <td>1125.0</td>\n",
              "      <td>1125.0</td>\n",
              "      <td>2.0</td>\n",
              "      <td>1125.0</td>\n",
              "      <td>--</td>\n",
              "      <td>t</td>\n",
              "      <td>0.0</td>\n",
              "      <td>3.0</td>\n",
              "      <td>3.0</td>\n",
              "      <td>3.0</td>\n",
              "      <td>2022-06-05</td>\n",
              "      <td>82.0</td>\n",
              "      <td>26.0</td>\n",
              "      <td>1.0</td>\n",
              "      <td>2019-02-04</td>\n",
              "      <td>2022-05-29</td>\n",
              "      <td>4.74</td>\n",
              "      <td>4.85</td>\n",
              "      <td>4.84</td>\n",
              "      <td>4.98</td>\n",
              "      <td>4.95</td>\n",
              "      <td>4.62</td>\n",
              "      <td>4.59</td>\n",
              "      <td>--</td>\n",
              "      <td>f</td>\n",
              "      <td>1.0</td>\n",
              "      <td>1.0</td>\n",
              "      <td>0.0</td>\n",
              "      <td>0.0</td>\n",
              "      <td>2.02</td>\n",
              "    </tr>\n",
              "  </tbody>\n",
              "</table>\n",
              "</div>\n",
              "      <button class=\"colab-df-convert\" onclick=\"convertToInteractive('df-3816df09-5d3f-4a02-bf58-d790bf9f9d8e')\"\n",
              "              title=\"Convert this dataframe to an interactive table.\"\n",
              "              style=\"display:none;\">\n",
              "        \n",
              "  <svg xmlns=\"http://www.w3.org/2000/svg\" height=\"24px\"viewBox=\"0 0 24 24\"\n",
              "       width=\"24px\">\n",
              "    <path d=\"M0 0h24v24H0V0z\" fill=\"none\"/>\n",
              "    <path d=\"M18.56 5.44l.94 2.06.94-2.06 2.06-.94-2.06-.94-.94-2.06-.94 2.06-2.06.94zm-11 1L8.5 8.5l.94-2.06 2.06-.94-2.06-.94L8.5 2.5l-.94 2.06-2.06.94zm10 10l.94 2.06.94-2.06 2.06-.94-2.06-.94-.94-2.06-.94 2.06-2.06.94z\"/><path d=\"M17.41 7.96l-1.37-1.37c-.4-.4-.92-.59-1.43-.59-.52 0-1.04.2-1.43.59L10.3 9.45l-7.72 7.72c-.78.78-.78 2.05 0 2.83L4 21.41c.39.39.9.59 1.41.59.51 0 1.02-.2 1.41-.59l7.78-7.78 2.81-2.81c.8-.78.8-2.07 0-2.86zM5.41 20L4 18.59l7.72-7.72 1.47 1.35L5.41 20z\"/>\n",
              "  </svg>\n",
              "      </button>\n",
              "      \n",
              "  <style>\n",
              "    .colab-df-container {\n",
              "      display:flex;\n",
              "      flex-wrap:wrap;\n",
              "      gap: 12px;\n",
              "    }\n",
              "\n",
              "    .colab-df-convert {\n",
              "      background-color: #E8F0FE;\n",
              "      border: none;\n",
              "      border-radius: 50%;\n",
              "      cursor: pointer;\n",
              "      display: none;\n",
              "      fill: #1967D2;\n",
              "      height: 32px;\n",
              "      padding: 0 0 0 0;\n",
              "      width: 32px;\n",
              "    }\n",
              "\n",
              "    .colab-df-convert:hover {\n",
              "      background-color: #E2EBFA;\n",
              "      box-shadow: 0px 1px 2px rgba(60, 64, 67, 0.3), 0px 1px 3px 1px rgba(60, 64, 67, 0.15);\n",
              "      fill: #174EA6;\n",
              "    }\n",
              "\n",
              "    [theme=dark] .colab-df-convert {\n",
              "      background-color: #3B4455;\n",
              "      fill: #D2E3FC;\n",
              "    }\n",
              "\n",
              "    [theme=dark] .colab-df-convert:hover {\n",
              "      background-color: #434B5C;\n",
              "      box-shadow: 0px 1px 3px 1px rgba(0, 0, 0, 0.15);\n",
              "      filter: drop-shadow(0px 1px 2px rgba(0, 0, 0, 0.3));\n",
              "      fill: #FFFFFF;\n",
              "    }\n",
              "  </style>\n",
              "\n",
              "      <script>\n",
              "        const buttonEl =\n",
              "          document.querySelector('#df-3816df09-5d3f-4a02-bf58-d790bf9f9d8e button.colab-df-convert');\n",
              "        buttonEl.style.display =\n",
              "          google.colab.kernel.accessAllowed ? 'block' : 'none';\n",
              "\n",
              "        async function convertToInteractive(key) {\n",
              "          const element = document.querySelector('#df-3816df09-5d3f-4a02-bf58-d790bf9f9d8e');\n",
              "          const dataTable =\n",
              "            await google.colab.kernel.invokeFunction('convertToInteractive',\n",
              "                                                     [key], {});\n",
              "          if (!dataTable) return;\n",
              "\n",
              "          const docLinkHtml = 'Like what you see? Visit the ' +\n",
              "            '<a target=\"_blank\" href=https://colab.research.google.com/notebooks/data_table.ipynb>data table notebook</a>'\n",
              "            + ' to learn more about interactive tables.';\n",
              "          element.innerHTML = '';\n",
              "          dataTable['output_type'] = 'display_data';\n",
              "          await google.colab.output.renderOutput(dataTable, element);\n",
              "          const docLink = document.createElement('div');\n",
              "          docLink.innerHTML = docLinkHtml;\n",
              "          element.appendChild(docLink);\n",
              "        }\n",
              "      </script>\n",
              "    </div>\n",
              "  </div>\n",
              "  "
            ]
          },
          "metadata": {},
          "execution_count": 326
        }
      ]
    },
    {
      "cell_type": "code",
      "source": [
        "airbnb['price'].describe()"
      ],
      "metadata": {
        "id": "8CiuXRBUdIbZ",
        "outputId": "019ccf6c-a3f6-451c-f37b-614379903213",
        "colab": {
          "base_uri": "https://localhost:8080/"
        }
      },
      "execution_count": null,
      "outputs": [
        {
          "output_type": "execute_result",
          "data": {
            "text/plain": [
              "count    1121.000000\n",
              "mean      181.939340\n",
              "std       110.144288\n",
              "min        28.000000\n",
              "25%       110.000000\n",
              "50%       150.000000\n",
              "75%       225.000000\n",
              "max       911.000000\n",
              "Name: price, dtype: float64"
            ]
          },
          "metadata": {},
          "execution_count": 327
        }
      ]
    },
    {
      "cell_type": "code",
      "source": [
        "# Dimensiones del dataframe\n",
        "airbnb.shape"
      ],
      "metadata": {
        "colab": {
          "base_uri": "https://localhost:8080/"
        },
        "id": "iZf8Jq1TbyDM",
        "outputId": "b627d7a2-3354-4a04-89a6-8bb6ac70773d"
      },
      "execution_count": null,
      "outputs": [
        {
          "output_type": "execute_result",
          "data": {
            "text/plain": [
              "(1122, 74)"
            ]
          },
          "metadata": {},
          "execution_count": 328
        }
      ]
    },
    {
      "cell_type": "code",
      "source": [
        "# Resumen de las variables del dataframe\n",
        "airbnb.info()"
      ],
      "metadata": {
        "colab": {
          "base_uri": "https://localhost:8080/"
        },
        "id": "eDmHmLfe6FOG",
        "outputId": "354e3fb2-0446-4559-997c-c94e16d40602"
      },
      "execution_count": null,
      "outputs": [
        {
          "output_type": "stream",
          "name": "stdout",
          "text": [
            "<class 'pandas.core.frame.DataFrame'>\n",
            "RangeIndex: 1122 entries, 0 to 1121\n",
            "Data columns (total 74 columns):\n",
            " #   Column                                        Non-Null Count  Dtype  \n",
            "---  ------                                        --------------  -----  \n",
            " 0   id                                            1122 non-null   float64\n",
            " 1   listing_url                                   1122 non-null   object \n",
            " 2   scrape_id                                     1122 non-null   float64\n",
            " 3   last_scraped                                  1122 non-null   object \n",
            " 4   name                                          1122 non-null   object \n",
            " 5   description                                   1122 non-null   object \n",
            " 6   neighborhood_overview                         1122 non-null   object \n",
            " 7   picture_url                                   1122 non-null   object \n",
            " 8   host_id                                       1122 non-null   float64\n",
            " 9   host_url                                      1122 non-null   object \n",
            " 10  host_name                                     1122 non-null   object \n",
            " 11  host_since                                    1122 non-null   object \n",
            " 12  host_location                                 1122 non-null   object \n",
            " 13  host_about                                    1122 non-null   object \n",
            " 14  host_response_time                            794 non-null    object \n",
            " 15  host_response_rate                            794 non-null    object \n",
            " 16  host_acceptance_rate                          916 non-null    object \n",
            " 17  host_is_superhost                             1122 non-null   object \n",
            " 18  host_thumbnail_url                            1122 non-null   object \n",
            " 19  host_picture_url                              1122 non-null   object \n",
            " 20  host_neighbourhood                            1122 non-null   object \n",
            " 21  host_listings_count                           1122 non-null   float64\n",
            " 22  host_total_listings_count                     1122 non-null   float64\n",
            " 23  host_verifications                            1122 non-null   object \n",
            " 24  host_has_profile_pic                          1122 non-null   object \n",
            " 25  host_identity_verified                        1122 non-null   object \n",
            " 26  neighbourhood                                 1122 non-null   object \n",
            " 27  neighbourhood_cleansed                        1122 non-null   object \n",
            " 28  neighbourhood_group_cleansed                  1122 non-null   object \n",
            " 29  latitude                                      1122 non-null   float64\n",
            " 30  longitude                                     1122 non-null   float64\n",
            " 31  property_type                                 1122 non-null   object \n",
            " 32  room_type                                     1122 non-null   object \n",
            " 33  accommodates                                  1122 non-null   float64\n",
            " 34  bathrooms                                     1122 non-null   float64\n",
            " 35  bathrooms_text                                1122 non-null   object \n",
            " 36  bedrooms                                      1122 non-null   float64\n",
            " 37  beds                                          1122 non-null   float64\n",
            " 38  amenities                                     1122 non-null   object \n",
            " 39  price                                         1121 non-null   float64\n",
            " 40  minimum_nights                                1122 non-null   float64\n",
            " 41  maximum_nights                                1122 non-null   float64\n",
            " 42  minimum_minimum_nights                        1122 non-null   float64\n",
            " 43  maximum_minimum_nights                        1122 non-null   float64\n",
            " 44  minimum_maximum_nights                        1122 non-null   float64\n",
            " 45  maximum_maximum_nights                        1122 non-null   float64\n",
            " 46  minimum_nights_avg_ntm                        1122 non-null   float64\n",
            " 47  maximum_nights_avg_ntm                        1122 non-null   float64\n",
            " 48  calendar_updated                              1122 non-null   object \n",
            " 49  has_availability                              1122 non-null   object \n",
            " 50  availability_30                               1122 non-null   float64\n",
            " 51  availability_60                               1122 non-null   float64\n",
            " 52  availability_90                               1122 non-null   float64\n",
            " 53  availability_365                              1122 non-null   float64\n",
            " 54  calendar_last_scraped                         1122 non-null   object \n",
            " 55  number_of_reviews                             1122 non-null   float64\n",
            " 56  number_of_reviews_ltm                         1122 non-null   float64\n",
            " 57  number_of_reviews_l30d                        1122 non-null   float64\n",
            " 58  first_review                                  1122 non-null   object \n",
            " 59  last_review                                   1122 non-null   object \n",
            " 60  review_scores_rating                          1122 non-null   float64\n",
            " 61  review_scores_accuracy                        1122 non-null   float64\n",
            " 62  review_scores_cleanliness                     1122 non-null   float64\n",
            " 63  review_scores_checkin                         1122 non-null   float64\n",
            " 64  review_scores_communication                   1122 non-null   float64\n",
            " 65  review_scores_location                        1122 non-null   float64\n",
            " 66  review_scores_value                           1122 non-null   float64\n",
            " 67  license                                       1122 non-null   object \n",
            " 68  instant_bookable                              1122 non-null   object \n",
            " 69  calculated_host_listings_count                1122 non-null   float64\n",
            " 70  calculated_host_listings_count_entire_homes   1122 non-null   float64\n",
            " 71  calculated_host_listings_count_private_rooms  1122 non-null   float64\n",
            " 72  calculated_host_listings_count_shared_rooms   1122 non-null   float64\n",
            " 73  reviews_per_month                             1122 non-null   float64\n",
            "dtypes: float64(39), object(35)\n",
            "memory usage: 648.8+ KB\n"
          ]
        }
      ]
    },
    {
      "cell_type": "markdown",
      "source": [
        "## Análisis Univariado"
      ],
      "metadata": {
        "id": "7LhZaQhRlN18"
      }
    },
    {
      "cell_type": "markdown",
      "source": [
        "### Ejercicio 1\n",
        "\n",
        "Como puede observar en el resumen anterior, el dataframe airbnb tiene 28 columnas. \n",
        "Haga la detección de las variables listadas a continuación, siga la tabla de ejemplo.\n",
        "\n",
        "* price\n",
        "* latitud\n",
        "* longitud\n",
        "* host_is_superhost\n",
        "* neighbourhood\n",
        "* property_type\n",
        "* room_types\n",
        "* bathrooms\n",
        "* bedrooms\n",
        "* number_of_reviews\n",
        "* reviews_per_month\n",
        "\n",
        "\n",
        "[Aquí](https://docs.google.com/spreadsheets/d/1iWCNJcSutYqpULSQHlNyGInUvHg2BoUGoNRIGa6Szc4/edit?usp=sharing) encontrará el diccionario de Datos para el conjunto de datos de trabajo.\n",
        "\n",
        "Nota: Puede encontrar variables que estén representadas por números, sin embargo, su tipología es cualitativa o categórica."
      ],
      "metadata": {
        "id": "vp6U7ZfPZnX9"
      }
    },
    {
      "cell_type": "markdown",
      "source": [
        "Respuesta:\n",
        "\n",
        "|Nombre de la variable|Descripción|Tipología estadística|Tipología computacional|\n",
        "|---|---|---|---|\n",
        "|price|Precio diario en dólares|Cuantitativa continua|int|\n",
        "|latitude|Latitud basado en World Geodetic System|Cuantitativa continua|float|\n",
        "|parking|Si tiene o no tiene parqueadero|Cualitativa dicotómico|int|\n",
        "|host_is_superhost|Toma el valor de true o false|Cualitativa dicotómico|boolean|\n",
        "|neighbourhood|Vecindario|Cuantitativa continua|text|\n",
        "|property_type|Tipo de propiedad autoseleccionable|Cualitativa dicotómico|text|\n",
        "|room_types|Agrupamiento de las casas|Cualitativa dicotómico|text|\n",
        "|bathrooms|Numero de baños en la lista|Cuantitativa continua|numerico|\n",
        "|bedrooms| Numero de dormitorios|Cuantitativa continua|int|\n",
        "|number_of_reviews|Numero de revisiones|Cuantitativa continua|int|\n",
        "|reviews_per_month|Numero de revisiones en su vida útil|Cuantitativa continua|numerico|"
      ],
      "metadata": {
        "id": "qqhFtLDrY8Qy"
      }
    },
    {
      "cell_type": "markdown",
      "source": [
        "### Ejercicio 2\n",
        "\n",
        "Obtenga un resumen estadístico para las variables: price, bedrooms, bathrooms latitude y longitude. Haga un corto análisis de sus hallazgos. ¿Cuál es el rango de cada variable? ¿La distribución de la variable es simétrica? ¿Hay atípicos? ¿Los valores son lógicos en el contexto del negocio?\n",
        "\n"
      ],
      "metadata": {
        "id": "CcDNziWebnar"
      }
    },
    {
      "cell_type": "markdown",
      "source": [
        "<details>    \n",
        "<summary>\n",
        "    <font size=\"3\" color=\"darkblue\"><b>Pistas</b></font>\n",
        "</summary>\n",
        "\n",
        "\n",
        "\n",
        "* Filtre las 5 variables, obtendrá un dataframe solo con esas columnas.\n",
        "* Aplique el método `describe()`"
      ],
      "metadata": {
        "id": "HDgen8ySSdes"
      }
    },
    {
      "cell_type": "code",
      "source": [
        "# Respuesta:\n",
        "airbnb5col=airbnb[['price','bedrooms','bathrooms','latitude','longitude']]\n",
        "airbnb5col\n",
        "airbnb5col.describe()\n",
        "airbnb5col.rank()\n",
        "\n",
        "airbnb5col\n"
      ],
      "metadata": {
        "colab": {
          "base_uri": "https://localhost:8080/",
          "height": 424
        },
        "id": "qQisYAtfctf4",
        "outputId": "562dca4c-6266-4819-e807-6af08790a3ce"
      },
      "execution_count": null,
      "outputs": [
        {
          "output_type": "execute_result",
          "data": {
            "text/plain": [
              "      price  bedrooms  bathrooms  latitude  longitude\n",
              "0      88.0       1.0        3.0  52.34916    4.97879\n",
              "1     105.0       1.0        4.0  52.42419    4.95689\n",
              "2     152.0       1.0        2.0  52.43237    4.91821\n",
              "3     160.0       2.0        2.0  52.31475    5.03030\n",
              "4     140.0       2.0        3.0  52.33828    4.96443\n",
              "...     ...       ...        ...       ...        ...\n",
              "1117  200.0       4.0        1.0  52.36118    4.92798\n",
              "1118  289.0       3.0        4.0  52.35917    4.87933\n",
              "1119  225.0       1.0        3.0  52.36665    4.88254\n",
              "1120  231.0       2.0        1.0  52.38408    4.84556\n",
              "1121  204.0       3.0        3.0  52.32781    4.98080\n",
              "\n",
              "[1122 rows x 5 columns]"
            ],
            "text/html": [
              "\n",
              "  <div id=\"df-fae454f4-f371-4c15-9dab-d60b5af9f189\">\n",
              "    <div class=\"colab-df-container\">\n",
              "      <div>\n",
              "<style scoped>\n",
              "    .dataframe tbody tr th:only-of-type {\n",
              "        vertical-align: middle;\n",
              "    }\n",
              "\n",
              "    .dataframe tbody tr th {\n",
              "        vertical-align: top;\n",
              "    }\n",
              "\n",
              "    .dataframe thead th {\n",
              "        text-align: right;\n",
              "    }\n",
              "</style>\n",
              "<table border=\"1\" class=\"dataframe\">\n",
              "  <thead>\n",
              "    <tr style=\"text-align: right;\">\n",
              "      <th></th>\n",
              "      <th>price</th>\n",
              "      <th>bedrooms</th>\n",
              "      <th>bathrooms</th>\n",
              "      <th>latitude</th>\n",
              "      <th>longitude</th>\n",
              "    </tr>\n",
              "  </thead>\n",
              "  <tbody>\n",
              "    <tr>\n",
              "      <th>0</th>\n",
              "      <td>88.0</td>\n",
              "      <td>1.0</td>\n",
              "      <td>3.0</td>\n",
              "      <td>52.34916</td>\n",
              "      <td>4.97879</td>\n",
              "    </tr>\n",
              "    <tr>\n",
              "      <th>1</th>\n",
              "      <td>105.0</td>\n",
              "      <td>1.0</td>\n",
              "      <td>4.0</td>\n",
              "      <td>52.42419</td>\n",
              "      <td>4.95689</td>\n",
              "    </tr>\n",
              "    <tr>\n",
              "      <th>2</th>\n",
              "      <td>152.0</td>\n",
              "      <td>1.0</td>\n",
              "      <td>2.0</td>\n",
              "      <td>52.43237</td>\n",
              "      <td>4.91821</td>\n",
              "    </tr>\n",
              "    <tr>\n",
              "      <th>3</th>\n",
              "      <td>160.0</td>\n",
              "      <td>2.0</td>\n",
              "      <td>2.0</td>\n",
              "      <td>52.31475</td>\n",
              "      <td>5.03030</td>\n",
              "    </tr>\n",
              "    <tr>\n",
              "      <th>4</th>\n",
              "      <td>140.0</td>\n",
              "      <td>2.0</td>\n",
              "      <td>3.0</td>\n",
              "      <td>52.33828</td>\n",
              "      <td>4.96443</td>\n",
              "    </tr>\n",
              "    <tr>\n",
              "      <th>...</th>\n",
              "      <td>...</td>\n",
              "      <td>...</td>\n",
              "      <td>...</td>\n",
              "      <td>...</td>\n",
              "      <td>...</td>\n",
              "    </tr>\n",
              "    <tr>\n",
              "      <th>1117</th>\n",
              "      <td>200.0</td>\n",
              "      <td>4.0</td>\n",
              "      <td>1.0</td>\n",
              "      <td>52.36118</td>\n",
              "      <td>4.92798</td>\n",
              "    </tr>\n",
              "    <tr>\n",
              "      <th>1118</th>\n",
              "      <td>289.0</td>\n",
              "      <td>3.0</td>\n",
              "      <td>4.0</td>\n",
              "      <td>52.35917</td>\n",
              "      <td>4.87933</td>\n",
              "    </tr>\n",
              "    <tr>\n",
              "      <th>1119</th>\n",
              "      <td>225.0</td>\n",
              "      <td>1.0</td>\n",
              "      <td>3.0</td>\n",
              "      <td>52.36665</td>\n",
              "      <td>4.88254</td>\n",
              "    </tr>\n",
              "    <tr>\n",
              "      <th>1120</th>\n",
              "      <td>231.0</td>\n",
              "      <td>2.0</td>\n",
              "      <td>1.0</td>\n",
              "      <td>52.38408</td>\n",
              "      <td>4.84556</td>\n",
              "    </tr>\n",
              "    <tr>\n",
              "      <th>1121</th>\n",
              "      <td>204.0</td>\n",
              "      <td>3.0</td>\n",
              "      <td>3.0</td>\n",
              "      <td>52.32781</td>\n",
              "      <td>4.98080</td>\n",
              "    </tr>\n",
              "  </tbody>\n",
              "</table>\n",
              "<p>1122 rows × 5 columns</p>\n",
              "</div>\n",
              "      <button class=\"colab-df-convert\" onclick=\"convertToInteractive('df-fae454f4-f371-4c15-9dab-d60b5af9f189')\"\n",
              "              title=\"Convert this dataframe to an interactive table.\"\n",
              "              style=\"display:none;\">\n",
              "        \n",
              "  <svg xmlns=\"http://www.w3.org/2000/svg\" height=\"24px\"viewBox=\"0 0 24 24\"\n",
              "       width=\"24px\">\n",
              "    <path d=\"M0 0h24v24H0V0z\" fill=\"none\"/>\n",
              "    <path d=\"M18.56 5.44l.94 2.06.94-2.06 2.06-.94-2.06-.94-.94-2.06-.94 2.06-2.06.94zm-11 1L8.5 8.5l.94-2.06 2.06-.94-2.06-.94L8.5 2.5l-.94 2.06-2.06.94zm10 10l.94 2.06.94-2.06 2.06-.94-2.06-.94-.94-2.06-.94 2.06-2.06.94z\"/><path d=\"M17.41 7.96l-1.37-1.37c-.4-.4-.92-.59-1.43-.59-.52 0-1.04.2-1.43.59L10.3 9.45l-7.72 7.72c-.78.78-.78 2.05 0 2.83L4 21.41c.39.39.9.59 1.41.59.51 0 1.02-.2 1.41-.59l7.78-7.78 2.81-2.81c.8-.78.8-2.07 0-2.86zM5.41 20L4 18.59l7.72-7.72 1.47 1.35L5.41 20z\"/>\n",
              "  </svg>\n",
              "      </button>\n",
              "      \n",
              "  <style>\n",
              "    .colab-df-container {\n",
              "      display:flex;\n",
              "      flex-wrap:wrap;\n",
              "      gap: 12px;\n",
              "    }\n",
              "\n",
              "    .colab-df-convert {\n",
              "      background-color: #E8F0FE;\n",
              "      border: none;\n",
              "      border-radius: 50%;\n",
              "      cursor: pointer;\n",
              "      display: none;\n",
              "      fill: #1967D2;\n",
              "      height: 32px;\n",
              "      padding: 0 0 0 0;\n",
              "      width: 32px;\n",
              "    }\n",
              "\n",
              "    .colab-df-convert:hover {\n",
              "      background-color: #E2EBFA;\n",
              "      box-shadow: 0px 1px 2px rgba(60, 64, 67, 0.3), 0px 1px 3px 1px rgba(60, 64, 67, 0.15);\n",
              "      fill: #174EA6;\n",
              "    }\n",
              "\n",
              "    [theme=dark] .colab-df-convert {\n",
              "      background-color: #3B4455;\n",
              "      fill: #D2E3FC;\n",
              "    }\n",
              "\n",
              "    [theme=dark] .colab-df-convert:hover {\n",
              "      background-color: #434B5C;\n",
              "      box-shadow: 0px 1px 3px 1px rgba(0, 0, 0, 0.15);\n",
              "      filter: drop-shadow(0px 1px 2px rgba(0, 0, 0, 0.3));\n",
              "      fill: #FFFFFF;\n",
              "    }\n",
              "  </style>\n",
              "\n",
              "      <script>\n",
              "        const buttonEl =\n",
              "          document.querySelector('#df-fae454f4-f371-4c15-9dab-d60b5af9f189 button.colab-df-convert');\n",
              "        buttonEl.style.display =\n",
              "          google.colab.kernel.accessAllowed ? 'block' : 'none';\n",
              "\n",
              "        async function convertToInteractive(key) {\n",
              "          const element = document.querySelector('#df-fae454f4-f371-4c15-9dab-d60b5af9f189');\n",
              "          const dataTable =\n",
              "            await google.colab.kernel.invokeFunction('convertToInteractive',\n",
              "                                                     [key], {});\n",
              "          if (!dataTable) return;\n",
              "\n",
              "          const docLinkHtml = 'Like what you see? Visit the ' +\n",
              "            '<a target=\"_blank\" href=https://colab.research.google.com/notebooks/data_table.ipynb>data table notebook</a>'\n",
              "            + ' to learn more about interactive tables.';\n",
              "          element.innerHTML = '';\n",
              "          dataTable['output_type'] = 'display_data';\n",
              "          await google.colab.output.renderOutput(dataTable, element);\n",
              "          const docLink = document.createElement('div');\n",
              "          docLink.innerHTML = docLinkHtml;\n",
              "          element.appendChild(docLink);\n",
              "        }\n",
              "      </script>\n",
              "    </div>\n",
              "  </div>\n",
              "  "
            ]
          },
          "metadata": {},
          "execution_count": 330
        }
      ]
    },
    {
      "cell_type": "code",
      "source": [
        "histogram = airbnb5col.plot.hist()\n",
        "print(histogram)\n",
        "plt.show()"
      ],
      "metadata": {
        "colab": {
          "base_uri": "https://localhost:8080/",
          "height": 285
        },
        "id": "Bp1TGk_uG1pn",
        "outputId": "90ccbca2-81bf-4c2c-dbe5-a5023fadd3db"
      },
      "execution_count": null,
      "outputs": [
        {
          "output_type": "stream",
          "name": "stdout",
          "text": [
            "AxesSubplot(0.125,0.125;0.775x0.755)\n"
          ]
        },
        {
          "output_type": "display_data",
          "data": {
            "text/plain": [
              "<Figure size 432x288 with 1 Axes>"
            ],
            "image/png": "[encoded data removed]"
          },
          "metadata": {}
        }
      ]
    },
    {
      "cell_type": "markdown",
      "source": [
        "# **Los histogramas son gráficos que indican la frecuencia de un hecho mediante una distribución de los datos, en este caso que existe un lugar en específico en que las personas que visitan Amsterdan buscan alojarse**\n"
      ],
      "metadata": {
        "id": "rXbYsF8zgfim"
      }
    },
    {
      "cell_type": "code",
      "source": [
        "airbnb5col=airbnb[['bedrooms']]\n",
        "histogram = airbnb5col.plot.hist(   )\n",
        "print(histogram)\n",
        "plt.show()"
      ],
      "metadata": {
        "colab": {
          "base_uri": "https://localhost:8080/",
          "height": 285
        },
        "id": "swPBZpzRHiF_",
        "outputId": "bbc89c4c-3067-4187-8af1-7baf22421e03"
      },
      "execution_count": null,
      "outputs": [
        {
          "output_type": "stream",
          "name": "stdout",
          "text": [
            "AxesSubplot(0.125,0.125;0.775x0.755)\n"
          ]
        },
        {
          "output_type": "display_data",
          "data": {
            "text/plain": [
              "<Figure size 432x288 with 1 Axes>"
            ],
            "image/png": "[encoded data removed]"
          },
          "metadata": {}
        }
      ]
    },
    {
      "cell_type": "markdown",
      "source": [
        "# **En base al histograma se puede indentificar que en la gran mayoria de los datos el número de habitaciones más comun es 2**"
      ],
      "metadata": {
        "id": "1DTO-ZyLhDn3"
      }
    },
    {
      "cell_type": "code",
      "source": [
        "airbnb5col=airbnb[['bathrooms']]\n",
        "airbnb5col.head(100)\n",
        "histogram = airbnb5col.plot.hist()\n",
        "print(histogram)\n",
        "plt.show()"
      ],
      "metadata": {
        "colab": {
          "base_uri": "https://localhost:8080/",
          "height": 285
        },
        "id": "GvFchAEVH4X_",
        "outputId": "861ff4fa-f16c-4c65-958c-57875e9a8ad3"
      },
      "execution_count": null,
      "outputs": [
        {
          "output_type": "stream",
          "name": "stdout",
          "text": [
            "AxesSubplot(0.125,0.125;0.775x0.755)\n"
          ]
        },
        {
          "output_type": "display_data",
          "data": {
            "text/plain": [
              "<Figure size 432x288 with 1 Axes>"
            ],
            "image/png": "[encoded data removed]"
          },
          "metadata": {}
        }
      ]
    },
    {
      "cell_type": "markdown",
      "source": [
        "# **En base al histograma se puede indentificar que en la gran mayoria de los datos el número de baños más comun es 2**"
      ],
      "metadata": {
        "id": "1DGgSYeSh3dX"
      }
    },
    {
      "cell_type": "code",
      "source": [
        "airbnb5col=airbnb[['latitude']]\n",
        "airbnb5col.head(100)\n",
        "histogram = airbnb5col.plot.hist()\n",
        "print(histogram)\n",
        "plt.show()"
      ],
      "metadata": {
        "colab": {
          "base_uri": "https://localhost:8080/",
          "height": 285
        },
        "id": "ZP_K12P6IQGI",
        "outputId": "5a3bd4a0-ef40-420d-de72-3f2b0aef46c6"
      },
      "execution_count": null,
      "outputs": [
        {
          "output_type": "stream",
          "name": "stdout",
          "text": [
            "AxesSubplot(0.125,0.125;0.775x0.755)\n"
          ]
        },
        {
          "output_type": "display_data",
          "data": {
            "text/plain": [
              "<Figure size 432x288 with 1 Axes>"
            ],
            "image/png": "[encoded data removed]"
          },
          "metadata": {}
        }
      ]
    },
    {
      "cell_type": "code",
      "source": [
        "airbnb5col=airbnb[['longitude']]\n",
        "airbnb5col.head(100)\n",
        "histogram = airbnb5col.plot.hist()\n",
        "print(histogram)\n",
        "plt.show()"
      ],
      "metadata": {
        "colab": {
          "base_uri": "https://localhost:8080/",
          "height": 285
        },
        "id": "hY1LYonFIVe2",
        "outputId": "5cb38757-b3f2-4cb6-cc80-16f7fbd942cd"
      },
      "execution_count": null,
      "outputs": [
        {
          "output_type": "stream",
          "name": "stdout",
          "text": [
            "AxesSubplot(0.125,0.125;0.775x0.755)\n"
          ]
        },
        {
          "output_type": "display_data",
          "data": {
            "text/plain": [
              "<Figure size 432x288 with 1 Axes>"
            ],
            "image/png": "[encoded data removed]"
          },
          "metadata": {}
        }
      ]
    },
    {
      "cell_type": "markdown",
      "source": [
        "# **Observando de manera separada los gráficos de lat y long se puede establecer que existen zonas o barrios donde los viajeros prefieren hospedarse**"
      ],
      "metadata": {
        "id": "TuwBvZJhh_sw"
      }
    },
    {
      "cell_type": "markdown",
      "source": [
        "## Visualizaciones\n",
        "Tenga presente las siguientes recomendaciones para todas las gráficas que realice.\n",
        "\n",
        "Recuerde que una buena gráfica al menos debe tener:\n",
        "* **título:** descripción corta de lo que se está mostrando\n",
        "* **títulos de ejes:** título para la variable en x, título para la variable en y\n",
        "* **análisis:** lo más valioso de la gráfica es la interpretación y análisis del analista, la gráfica por sí sola no genera valor"
      ],
      "metadata": {
        "id": "eh3vf4t2MeUQ"
      }
    },
    {
      "cell_type": "code",
      "source": [
        "airbnb5col=airbnb[['price','bedrooms','bathrooms','latitude','longitude']]\n",
        "\n",
        "histogram = airbnb5col.plot.hist(  )\n",
        "histogram.set_title('Analisis de 5 Variables')\n",
        "histogram.set_xlabel ('Variables seleccionadas')\n",
        "histogram.set_ylabel ('Frecuencia')\n",
        "\n",
        "plt.show()"
      ],
      "metadata": {
        "colab": {
          "base_uri": "https://localhost:8080/",
          "height": 301
        },
        "id": "L4KoOLfJGvkC",
        "outputId": "9c2a44f0-45ad-4671-d46c-f38fec66d905"
      },
      "execution_count": null,
      "outputs": [
        {
          "output_type": "display_data",
          "data": {
            "text/plain": [
              "<Figure size 432x288 with 1 Axes>"
            ],
            "image/png": "[encoded data removed]"
          },
          "metadata": {}
        }
      ]
    },
    {
      "cell_type": "markdown",
      "source": [
        "### Ejercicio 3\n",
        "\n",
        "Revisemos nuestra variable objetivo price. Construya un histograma para conocer su distribución. \n",
        "\n",
        "Describa la distribución del precio, su forma, simetría, kurtosis, sesgo, presencia de atípicos. Puede también apoyarse de las estadísticas descriptivas obtenidas en el ejercicio anterior.\n",
        "\n",
        "\n",
        "\n"
      ],
      "metadata": {
        "id": "uY3SHkE-LbeP"
      }
    },
    {
      "cell_type": "markdown",
      "source": [
        "<details>    \n",
        "<summary>\n",
        "    <font size=\"3\" color=\"darkblue\"><b>Pistas</b></font>\n",
        "</summary>\n",
        "\n",
        "\n",
        "\n",
        "* Use `histplot()` de seaborn. Puede construir también el perfil de densidad kde.\n",
        "* [Curtosis](https://pandas.pydata.org/docs/reference/api/pandas.Series.kurtosis.html?highlight=kurtosis#pandas.Series.kurtosis)\n",
        "* [Sesgo](https://pandas.pydata.org/docs/reference/api/pandas.DataFrame.skew.html)"
      ],
      "metadata": {
        "id": "rkQCqKYXTUmr"
      }
    },
    {
      "cell_type": "code",
      "source": [
        "\n",
        "airbnb5col=airbnb[['price','bedrooms','bathrooms','latitude','longitude']]\n",
        "\n",
        "histogram = airbnb5col.plot.hist()\n",
        "histogram.set_title('Analisis de 5 Variables')\n",
        "histogram.set_xlabel ('Variables seleccionadas')\n",
        "histogram.set_ylabel ('Frecuencia')\n",
        "plt.show()"
      ],
      "metadata": {
        "colab": {
          "base_uri": "https://localhost:8080/",
          "height": 301
        },
        "id": "_XTRCCXJVRuX",
        "outputId": "b341c2d2-fbc8-4462-f1d9-40b611b95150"
      },
      "execution_count": null,
      "outputs": [
        {
          "output_type": "display_data",
          "data": {
            "text/plain": [
              "<Figure size 432x288 with 1 Axes>"
            ],
            "image/png": "[encoded data removed]"
          },
          "metadata": {}
        }
      ]
    },
    {
      "cell_type": "markdown",
      "source": [
        "### Ejercicio 4\n",
        "\n",
        "Acompañe el análisis del punto anterior con la construcción e interpretación de un boxplot para el precio."
      ],
      "metadata": {
        "id": "4N-tOYZNd1I6"
      }
    },
    {
      "cell_type": "code",
      "source": [
        "df = pd.DataFrame(airbnb5col,\n",
        "                  columns=['price'])\n",
        "boxplot = df.boxplot(column=['price'] )  "
      ],
      "metadata": {
        "colab": {
          "base_uri": "https://localhost:8080/",
          "height": 268
        },
        "id": "Hg-zK-yYd0nk",
        "outputId": "71c6a219-a52b-4676-874e-d3cd1067338a"
      },
      "execution_count": null,
      "outputs": [
        {
          "output_type": "display_data",
          "data": {
            "text/plain": [
              "<Figure size 432x288 with 1 Axes>"
            ],
            "image/png": "[encoded data removed]"
          },
          "metadata": {}
        }
      ]
    },
    {
      "cell_type": "markdown",
      "source": [
        "# **El turismo como actividad económica, es un sector estratégico para Amsterdam, ,ciudad dotada por atractivos naturales de montaña únicos en el país y en el Caribe. Esta favorecedora ubicación explica el elevado flujo de turismo receptivo que anualmente visitan la ciudad, las condiciones naturales y su ubicación estratégica en Europa no bastan para el expedito desarrollo del turismo, por lo que es relevante el estudio de la competitividad del sector, donde la calidad de los servicios es fundamental y es por esto el análisis del Dataset, se puede obeservar en el boxplot que la media tiende a irse alredodor de $ 200,00 y los valores atípicos sobrepasan los 400 dólares**"
      ],
      "metadata": {
        "id": "zw1VodDbjbvO"
      }
    },
    {
      "cell_type": "markdown",
      "source": [
        "### Ejercicio 5\n",
        "\n",
        "Basado en lo que hemos hecho hasta ahora, analice las variables longitude y latitude. Use los recursos que crea necesarios para analizar de forma univariada estas 2 variables. No olvide discutir los resultados obtenidos."
      ],
      "metadata": {
        "id": "r91SzBcOgDHV"
      }
    },
    {
      "cell_type": "code",
      "source": [
        "# Respuesta\n",
        "x =airbnb5col['latitude'].tolist()\n",
        "y =airbnb5col['longitude'].tolist()\n",
        " \n",
        "plt.scatter(x, y, c =\"cyan\")\n",
        "plt.title('Relación de Ubicación en Amsterdam')\n",
        "plt.xlabel('latitud')\n",
        "plt.ylabel('longitud')\n",
        "\n",
        "# To show the plot\n",
        "plt.show()"
      ],
      "metadata": {
        "id": "SvQ_MocwhLxJ",
        "colab": {
          "base_uri": "https://localhost:8080/",
          "height": 301
        },
        "outputId": "b936b692-6a3e-4205-8d50-7082d0ab4d7e"
      },
      "execution_count": null,
      "outputs": [
        {
          "output_type": "display_data",
          "data": {
            "text/plain": [
              "<Figure size 432x288 with 1 Axes>"
            ],
            "image/png": "[encoded data removed]"
          },
          "metadata": {}
        }
      ]
    },
    {
      "cell_type": "markdown",
      "source": [
        "# **La concentración urbana se define como la población del lugar más grande de la comuna, es así que Amsterdan según el análisis efectuado concentra sus puntos de visita más frecuentes entre los 52.36 y 4.90 en donde se observa la gran cantidad de hospedajes según el dataset**"
      ],
      "metadata": {
        "id": "6jb6S-BjlgRu"
      }
    },
    {
      "cell_type": "markdown",
      "source": [
        "### Ejercicio 6\n",
        "\n",
        "Pasemos ahora a analizar las variables cualitativas ¿Cuántos barrios diferentes tiene la variable neighbourhood? \n",
        "\n",
        "Haga una gráfica que muestre la cantidad de hospedajes por barrio. Solamente muestre el top 10.\n",
        "\n",
        "\n",
        "\n"
      ],
      "metadata": {
        "id": "9Isz9oxXgpPv"
      }
    },
    {
      "cell_type": "markdown",
      "source": [
        "<details>    \n",
        "<summary>\n",
        "    <font size=\"3\" color=\"darkblue\"><b>Pistas</b></font>\n",
        "</summary>\n",
        "\n",
        "* Métodos útiles:\n",
        "`.nunique(), .unique(), .value_counts(),.sort_values(),head()`\n",
        "* Obtenga la cantidad de valores únicos y una lista con el nombre de los barrios.\n",
        "* Obtenga la tabla de frecuencia con la cantidad de hospedajes por barrio. \n",
        "* Organicela de mayor a menor a frecuencia.\n",
        "* Grafique usando el método `.plot()`\n",
        "* No olvide describir y analizar la visualización obtenida. ¿Todos los barrios tienen la misma cantidad de hospedajes? ¿Cuales son los 3 más importantes?\n",
        "* ¿Qué porcentaje de los hospedajes están el top 3?"
      ],
      "metadata": {
        "id": "kd9LjmC6UAUy"
      }
    },
    {
      "cell_type": "code",
      "source": [
        "# Respuesta\n",
        "var1=airbnb['neighbourhood'].unique()\n",
        "unicas=len(airbnb['neighbourhood'].unique())\n",
        "print('Obtenga la cantidad de valores únicos y una lista con el nombre de los barrios ',unicas, ' y los barrios son:')\n",
        "lista=var1.tolist()\n",
        "for i in lista:\n",
        "    print(i)\n",
        "\n"
      ],
      "metadata": {
        "colab": {
          "base_uri": "https://localhost:8080/"
        },
        "id": "LkYLwdmRg09n",
        "outputId": "4d224eb3-b96e-474f-adf3-06717d78d73b"
      },
      "execution_count": null,
      "outputs": [
        {
          "output_type": "stream",
          "name": "stdout",
          "text": [
            "Obtenga la cantidad de valores únicos y una lista con el nombre de los barrios  26  y los barrios son:\n",
            "Diemen, Noord-Holland, Netherlands\n",
            "Watergang, Noord-Holland, Netherlands\n",
            "Landsmeer, Noord-Holland, Netherlands\n",
            "Weesp, Noord-Holland, Netherlands\n",
            "--\n",
            "Zuiderwoude, Noord-Holland, Netherlands\n",
            "Abcoude, Utrecht, Netherlands\n",
            "Amsterdam, Noord-Holland, Netherlands\n",
            "Amsterdam, North Holland, Netherlands\n",
            "Amsterdam, NH, Netherlands\n",
            "Amsterdam, Netherlands, Netherlands\n",
            "De Pijp, North Holland, Netherlands\n",
            "Jordaan, North Holland, Netherlands\n",
            "Zeeburg, North Holland, Netherlands\n",
            "Amsterdam, Haarlemmerbuurt, Netherlands\n",
            "Amsterdam, Netherlands\n",
            "Amsterdam-Zuidoost, North Holland, Netherlands\n",
            "Amsterdam, SN, Netherlands\n",
            "Amsterdam Zuid-Oost, Noord-Holland, Netherlands\n",
            "Amsterdam, Noord Holland, Netherlands\n",
            "Amsterdam, GD, Netherlands\n",
            "Amsterdam , 2 de Egelantiersdwarsstraat 13 III, Netherlands\n",
            "Amsterdam-Zuidoost, Noord-Holland, Netherlands\n",
            "Amsterdam, Noord- Holland, Netherlands\n",
            "Amsterdam, North-Holland, Netherlands\n",
            "Amsterdam , Noord-Holland, Netherlands\n"
          ]
        }
      ]
    },
    {
      "cell_type": "markdown",
      "source": [
        "# **Se determina que hay 26 barrios que poseen la mayor cantidad de visitas**"
      ],
      "metadata": {
        "id": "9KV7P6pQl6-5"
      }
    },
    {
      "cell_type": "markdown",
      "source": [
        "Obtenga la tabla de frecuencia con la cantidad de hospedajes por barrio.\n"
      ],
      "metadata": {
        "id": "FJxmbpD3hWYh"
      }
    },
    {
      "cell_type": "code",
      "source": [
        "n_by_state = airbnb.groupby(\"neighbourhood\")[\"id\"].count()\n",
        "df_cuenta_hospedajes=n_by_state.to_frame()\n",
        "df_cuenta_hospedajes\n",
        "df=df_cuenta_hospedajes.sort_values('id',ascending=False)\n",
        "df_top10= df.head(10)\n",
        "df_top10\n"
      ],
      "metadata": {
        "colab": {
          "base_uri": "https://localhost:8080/",
          "height": 395
        },
        "id": "mrkqlRQLhZTx",
        "outputId": "581b70b0-674f-4bab-c3f1-38c088d74670"
      },
      "execution_count": null,
      "outputs": [
        {
          "output_type": "execute_result",
          "data": {
            "text/plain": [
              "                                                  id\n",
              "neighbourhood                                       \n",
              "Amsterdam, Noord-Holland, Netherlands            532\n",
              "--                                               272\n",
              "Amsterdam, North Holland, Netherlands            237\n",
              "Amsterdam, NH, Netherlands                        49\n",
              "Amsterdam-Zuidoost, North Holland, Netherlands     5\n",
              "Amsterdam-Zuidoost, Noord-Holland, Netherlands     4\n",
              "Diemen, Noord-Holland, Netherlands                 3\n",
              "Amsterdam Zuid-Oost, Noord-Holland, Netherlands    2\n",
              "Amsterdam , Noord-Holland, Netherlands             1\n",
              "Zeeburg, North Holland, Netherlands                1"
            ],
            "text/html": [
              "\n",
              "  <div id=\"df-04e884b0-93e9-4f69-818b-2da1c6e7c335\">\n",
              "    <div class=\"colab-df-container\">\n",
              "      <div>\n",
              "<style scoped>\n",
              "    .dataframe tbody tr th:only-of-type {\n",
              "        vertical-align: middle;\n",
              "    }\n",
              "\n",
              "    .dataframe tbody tr th {\n",
              "        vertical-align: top;\n",
              "    }\n",
              "\n",
              "    .dataframe thead th {\n",
              "        text-align: right;\n",
              "    }\n",
              "</style>\n",
              "<table border=\"1\" class=\"dataframe\">\n",
              "  <thead>\n",
              "    <tr style=\"text-align: right;\">\n",
              "      <th></th>\n",
              "      <th>id</th>\n",
              "    </tr>\n",
              "    <tr>\n",
              "      <th>neighbourhood</th>\n",
              "      <th></th>\n",
              "    </tr>\n",
              "  </thead>\n",
              "  <tbody>\n",
              "    <tr>\n",
              "      <th>Amsterdam, Noord-Holland, Netherlands</th>\n",
              "      <td>532</td>\n",
              "    </tr>\n",
              "    <tr>\n",
              "      <th>--</th>\n",
              "      <td>272</td>\n",
              "    </tr>\n",
              "    <tr>\n",
              "      <th>Amsterdam, North Holland, Netherlands</th>\n",
              "      <td>237</td>\n",
              "    </tr>\n",
              "    <tr>\n",
              "      <th>Amsterdam, NH, Netherlands</th>\n",
              "      <td>49</td>\n",
              "    </tr>\n",
              "    <tr>\n",
              "      <th>Amsterdam-Zuidoost, North Holland, Netherlands</th>\n",
              "      <td>5</td>\n",
              "    </tr>\n",
              "    <tr>\n",
              "      <th>Amsterdam-Zuidoost, Noord-Holland, Netherlands</th>\n",
              "      <td>4</td>\n",
              "    </tr>\n",
              "    <tr>\n",
              "      <th>Diemen, Noord-Holland, Netherlands</th>\n",
              "      <td>3</td>\n",
              "    </tr>\n",
              "    <tr>\n",
              "      <th>Amsterdam Zuid-Oost, Noord-Holland, Netherlands</th>\n",
              "      <td>2</td>\n",
              "    </tr>\n",
              "    <tr>\n",
              "      <th>Amsterdam , Noord-Holland, Netherlands</th>\n",
              "      <td>1</td>\n",
              "    </tr>\n",
              "    <tr>\n",
              "      <th>Zeeburg, North Holland, Netherlands</th>\n",
              "      <td>1</td>\n",
              "    </tr>\n",
              "  </tbody>\n",
              "</table>\n",
              "</div>\n",
              "      <button class=\"colab-df-convert\" onclick=\"convertToInteractive('df-04e884b0-93e9-4f69-818b-2da1c6e7c335')\"\n",
              "              title=\"Convert this dataframe to an interactive table.\"\n",
              "              style=\"display:none;\">\n",
              "        \n",
              "  <svg xmlns=\"http://www.w3.org/2000/svg\" height=\"24px\"viewBox=\"0 0 24 24\"\n",
              "       width=\"24px\">\n",
              "    <path d=\"M0 0h24v24H0V0z\" fill=\"none\"/>\n",
              "    <path d=\"M18.56 5.44l.94 2.06.94-2.06 2.06-.94-2.06-.94-.94-2.06-.94 2.06-2.06.94zm-11 1L8.5 8.5l.94-2.06 2.06-.94-2.06-.94L8.5 2.5l-.94 2.06-2.06.94zm10 10l.94 2.06.94-2.06 2.06-.94-2.06-.94-.94-2.06-.94 2.06-2.06.94z\"/><path d=\"M17.41 7.96l-1.37-1.37c-.4-.4-.92-.59-1.43-.59-.52 0-1.04.2-1.43.59L10.3 9.45l-7.72 7.72c-.78.78-.78 2.05 0 2.83L4 21.41c.39.39.9.59 1.41.59.51 0 1.02-.2 1.41-.59l7.78-7.78 2.81-2.81c.8-.78.8-2.07 0-2.86zM5.41 20L4 18.59l7.72-7.72 1.47 1.35L5.41 20z\"/>\n",
              "  </svg>\n",
              "      </button>\n",
              "      \n",
              "  <style>\n",
              "    .colab-df-container {\n",
              "      display:flex;\n",
              "      flex-wrap:wrap;\n",
              "      gap: 12px;\n",
              "    }\n",
              "\n",
              "    .colab-df-convert {\n",
              "      background-color: #E8F0FE;\n",
              "      border: none;\n",
              "      border-radius: 50%;\n",
              "      cursor: pointer;\n",
              "      display: none;\n",
              "      fill: #1967D2;\n",
              "      height: 32px;\n",
              "      padding: 0 0 0 0;\n",
              "      width: 32px;\n",
              "    }\n",
              "\n",
              "    .colab-df-convert:hover {\n",
              "      background-color: #E2EBFA;\n",
              "      box-shadow: 0px 1px 2px rgba(60, 64, 67, 0.3), 0px 1px 3px 1px rgba(60, 64, 67, 0.15);\n",
              "      fill: #174EA6;\n",
              "    }\n",
              "\n",
              "    [theme=dark] .colab-df-convert {\n",
              "      background-color: #3B4455;\n",
              "      fill: #D2E3FC;\n",
              "    }\n",
              "\n",
              "    [theme=dark] .colab-df-convert:hover {\n",
              "      background-color: #434B5C;\n",
              "      box-shadow: 0px 1px 3px 1px rgba(0, 0, 0, 0.15);\n",
              "      filter: drop-shadow(0px 1px 2px rgba(0, 0, 0, 0.3));\n",
              "      fill: #FFFFFF;\n",
              "    }\n",
              "  </style>\n",
              "\n",
              "      <script>\n",
              "        const buttonEl =\n",
              "          document.querySelector('#df-04e884b0-93e9-4f69-818b-2da1c6e7c335 button.colab-df-convert');\n",
              "        buttonEl.style.display =\n",
              "          google.colab.kernel.accessAllowed ? 'block' : 'none';\n",
              "\n",
              "        async function convertToInteractive(key) {\n",
              "          const element = document.querySelector('#df-04e884b0-93e9-4f69-818b-2da1c6e7c335');\n",
              "          const dataTable =\n",
              "            await google.colab.kernel.invokeFunction('convertToInteractive',\n",
              "                                                     [key], {});\n",
              "          if (!dataTable) return;\n",
              "\n",
              "          const docLinkHtml = 'Like what you see? Visit the ' +\n",
              "            '<a target=\"_blank\" href=https://colab.research.google.com/notebooks/data_table.ipynb>data table notebook</a>'\n",
              "            + ' to learn more about interactive tables.';\n",
              "          element.innerHTML = '';\n",
              "          dataTable['output_type'] = 'display_data';\n",
              "          await google.colab.output.renderOutput(dataTable, element);\n",
              "          const docLink = document.createElement('div');\n",
              "          docLink.innerHTML = docLinkHtml;\n",
              "          element.appendChild(docLink);\n",
              "        }\n",
              "      </script>\n",
              "    </div>\n",
              "  </div>\n",
              "  "
            ]
          },
          "metadata": {},
          "execution_count": 341
        }
      ]
    },
    {
      "cell_type": "code",
      "source": [
        "df_top10['barrio'] = df_top10.index\n",
        "df_top10.reset_index()\n",
        "df_top10\n",
        "\n",
        "df_top10.dtypes\n",
        "\n",
        "ax = df_top10.plot.bar(x='barrio', y='id', rot=0)"
      ],
      "metadata": {
        "colab": {
          "base_uri": "https://localhost:8080/",
          "height": 389
        },
        "id": "kGJ7t7M-ld5K",
        "outputId": "c7726fd0-743e-49fd-e93f-a364c8ce5c60"
      },
      "execution_count": null,
      "outputs": [
        {
          "output_type": "stream",
          "name": "stderr",
          "text": [
            "/usr/local/lib/python3.7/dist-packages/ipykernel_launcher.py:1: SettingWithCopyWarning: \n",
            "A value is trying to be set on a copy of a slice from a DataFrame.\n",
            "Try using .loc[row_indexer,col_indexer] = value instead\n",
            "\n",
            "See the caveats in the documentation: https://pandas.pydata.org/pandas-docs/stable/user_guide/indexing.html#returning-a-view-versus-a-copy\n",
            "  \"\"\"Entry point for launching an IPython kernel.\n"
          ]
        },
        {
          "output_type": "display_data",
          "data": {
            "text/plain": [
              "<Figure size 432x288 with 1 Axes>"
            ],
            "image/png": "[encoded data removed]"
          },
          "metadata": {}
        }
      ]
    },
    {
      "cell_type": "markdown",
      "source": [
        "# **Los 3 barrios  más importantes son: North Holland, Amsterdam-Zuidoost, North Holland, Netherlands , Abcoude, Utrecht, Netherlands**"
      ],
      "metadata": {
        "id": "dGZ095WOmG7e"
      }
    },
    {
      "cell_type": "markdown",
      "source": [
        "### Ejercicio 7\n",
        "\n",
        "Superhost (cuya traducción del inglés significa “Super anfitrión”) es una categoría de Airbnb que destaca a los anfitriones más experimentados, hospitalarios y mejor valorados. Estos anfitriones reciben un distintivo especial en su anuncio y su perfil que les otorga una mayor visibilidad en la plataforma.\n",
        "\n",
        "¿Qué porcentaje de los hospedajes son ofrecidos por un superhost?"
      ],
      "metadata": {
        "id": "06-kBsFkgJ-T"
      }
    },
    {
      "cell_type": "markdown",
      "source": [
        "<details>    \n",
        "<summary>\n",
        "    <font size=\"3\" color=\"darkblue\"><b>Pistas</b></font>\n",
        "</summary>\n",
        "\n",
        "* value_counts()\n",
        "* Normalice el conteo y multiplique por 100\n",
        "* Haga una gráfica"
      ],
      "metadata": {
        "id": "I6A0gWsfiJBs"
      }
    },
    {
      "cell_type": "code",
      "source": [
        "# Respuesta\n",
        "df_sh=airbnb['host_is_superhost']"
      ],
      "metadata": {
        "id": "guB50be6iuhg"
      },
      "execution_count": null,
      "outputs": []
    },
    {
      "cell_type": "code",
      "source": [
        "s1=airbnb['host_is_superhost'].value_counts()\n",
        "df2=s1.to_frame()\n",
        "df_transp=df2.T\n",
        "\n",
        "no_superhost=df_transp.loc['host_is_superhost','f']\n",
        "si_superhost=df_transp.loc['host_is_superhost','t']"
      ],
      "metadata": {
        "id": "faGwbglrEkbH"
      },
      "execution_count": null,
      "outputs": []
    },
    {
      "cell_type": "code",
      "source": [
        "total=si_superhost+no_superhost\n",
        "total"
      ],
      "metadata": {
        "colab": {
          "base_uri": "https://localhost:8080/"
        },
        "id": "U3jQA-6VMish",
        "outputId": "9468bd50-991a-46e7-a767-305bbbfeb681"
      },
      "execution_count": null,
      "outputs": [
        {
          "output_type": "execute_result",
          "data": {
            "text/plain": [
              "1122"
            ]
          },
          "metadata": {},
          "execution_count": 345
        }
      ]
    },
    {
      "cell_type": "code",
      "source": [
        "s = pd.Series(data=[no_superhost,si_superhost ],index = ['NO SuperHost', 'SI SuperHost'])\n",
        "ax = s.plot.pie(autopct='%.1f')\n",
        "# followed by the standard plot output ...\n",
        "ax.set_title('Pie Chart Super Host')\n",
        "ax.set_aspect(1) # make it round\n",
        "ax.set_ylabel('') # remove default\n",
        "fig = ax.figure\n",
        "fig.set_size_inches(20, 12)\n",
        "fig.savefig('filename.png', dpi=125)\n",
        "plt.show()"
      ],
      "metadata": {
        "colab": {
          "base_uri": "https://localhost:8080/",
          "height": 699
        },
        "id": "3J56eUnDNIKb",
        "outputId": "faa50c46-aa20-48aa-c973-c363719ccd2b"
      },
      "execution_count": null,
      "outputs": [
        {
          "output_type": "display_data",
          "data": {
            "text/plain": [
              "<Figure size 1440x864 with 1 Axes>"
            ],
            "image/png": "[encoded data removed]"
          },
          "metadata": {}
        }
      ]
    },
    {
      "cell_type": "code",
      "source": [
        "grupo=airbnb.groupby(by='host_is_superhost')"
      ],
      "metadata": {
        "id": "3l_0RkqiHaXg"
      },
      "execution_count": null,
      "outputs": []
    },
    {
      "cell_type": "code",
      "source": [
        "grupo.count()"
      ],
      "metadata": {
        "colab": {
          "base_uri": "https://localhost:8080/",
          "height": 208
        },
        "id": "NRlG9vhrHSzk",
        "outputId": "53f834a5-40c9-40c3-aebe-79f2b29c7d40"
      },
      "execution_count": null,
      "outputs": [
        {
          "output_type": "execute_result",
          "data": {
            "text/plain": [
              "                    id  listing_url  scrape_id  last_scraped  name  \\\n",
              "host_is_superhost                                                    \n",
              "f                  921          921        921           921   921   \n",
              "t                  201          201        201           201   201   \n",
              "\n",
              "                   description  neighborhood_overview  picture_url  host_id  \\\n",
              "host_is_superhost                                                             \n",
              "f                          921                    921          921      921   \n",
              "t                          201                    201          201      201   \n",
              "\n",
              "                   host_url  host_name  host_since  host_location  host_about  \\\n",
              "host_is_superhost                                                               \n",
              "f                       921        921         921            921         921   \n",
              "t                       201        201         201            201         201   \n",
              "\n",
              "                   host_response_time  host_response_rate  \\\n",
              "host_is_superhost                                           \n",
              "f                                 596                 596   \n",
              "t                                 198                 198   \n",
              "\n",
              "                   host_acceptance_rate  host_thumbnail_url  host_picture_url  \\\n",
              "host_is_superhost                                                               \n",
              "f                                   715                 921               921   \n",
              "t                                   201                 201               201   \n",
              "\n",
              "                   host_neighbourhood  host_listings_count  \\\n",
              "host_is_superhost                                            \n",
              "f                                 921                  921   \n",
              "t                                 201                  201   \n",
              "\n",
              "                   host_total_listings_count  host_verifications  \\\n",
              "host_is_superhost                                                  \n",
              "f                                        921                 921   \n",
              "t                                        201                 201   \n",
              "\n",
              "                   host_has_profile_pic  host_identity_verified  \\\n",
              "host_is_superhost                                                 \n",
              "f                                   921                     921   \n",
              "t                                   201                     201   \n",
              "\n",
              "                   neighbourhood  neighbourhood_cleansed  \\\n",
              "host_is_superhost                                          \n",
              "f                            921                     921   \n",
              "t                            201                     201   \n",
              "\n",
              "                   neighbourhood_group_cleansed  latitude  longitude  \\\n",
              "host_is_superhost                                                      \n",
              "f                                           921       921        921   \n",
              "t                                           201       201        201   \n",
              "\n",
              "                   property_type  room_type  accommodates  bathrooms  \\\n",
              "host_is_superhost                                                      \n",
              "f                            921        921           921        921   \n",
              "t                            201        201           201        201   \n",
              "\n",
              "                   bathrooms_text  bedrooms  beds  amenities  price  \\\n",
              "host_is_superhost                                                     \n",
              "f                             921       921   921        921    920   \n",
              "t                             201       201   201        201    201   \n",
              "\n",
              "                   minimum_nights  maximum_nights  minimum_minimum_nights  \\\n",
              "host_is_superhost                                                           \n",
              "f                             921             921                     921   \n",
              "t                             201             201                     201   \n",
              "\n",
              "                   maximum_minimum_nights  minimum_maximum_nights  \\\n",
              "host_is_superhost                                                   \n",
              "f                                     921                     921   \n",
              "t                                     201                     201   \n",
              "\n",
              "                   maximum_maximum_nights  minimum_nights_avg_ntm  \\\n",
              "host_is_superhost                                                   \n",
              "f                                     921                     921   \n",
              "t                                     201                     201   \n",
              "\n",
              "                   maximum_nights_avg_ntm  calendar_updated  has_availability  \\\n",
              "host_is_superhost                                                               \n",
              "f                                     921               921               921   \n",
              "t                                     201               201               201   \n",
              "\n",
              "                   availability_30  availability_60  availability_90  \\\n",
              "host_is_superhost                                                      \n",
              "f                              921              921              921   \n",
              "t                              201              201              201   \n",
              "\n",
              "                   availability_365  calendar_last_scraped  number_of_reviews  \\\n",
              "host_is_superhost                                                               \n",
              "f                               921                    921                921   \n",
              "t                               201                    201                201   \n",
              "\n",
              "                   number_of_reviews_ltm  number_of_reviews_l30d  \\\n",
              "host_is_superhost                                                  \n",
              "f                                    921                     921   \n",
              "t                                    201                     201   \n",
              "\n",
              "                   first_review  last_review  review_scores_rating  \\\n",
              "host_is_superhost                                                    \n",
              "f                           921          921                   921   \n",
              "t                           201          201                   201   \n",
              "\n",
              "                   review_scores_accuracy  review_scores_cleanliness  \\\n",
              "host_is_superhost                                                      \n",
              "f                                     921                        921   \n",
              "t                                     201                        201   \n",
              "\n",
              "                   review_scores_checkin  review_scores_communication  \\\n",
              "host_is_superhost                                                       \n",
              "f                                    921                          921   \n",
              "t                                    201                          201   \n",
              "\n",
              "                   review_scores_location  review_scores_value  license  \\\n",
              "host_is_superhost                                                         \n",
              "f                                     921                  921      921   \n",
              "t                                     201                  201      201   \n",
              "\n",
              "                   instant_bookable  calculated_host_listings_count  \\\n",
              "host_is_superhost                                                     \n",
              "f                               921                             921   \n",
              "t                               201                             201   \n",
              "\n",
              "                   calculated_host_listings_count_entire_homes  \\\n",
              "host_is_superhost                                                \n",
              "f                                                          921   \n",
              "t                                                          201   \n",
              "\n",
              "                   calculated_host_listings_count_private_rooms  \\\n",
              "host_is_superhost                                                 \n",
              "f                                                           921   \n",
              "t                                                           201   \n",
              "\n",
              "                   calculated_host_listings_count_shared_rooms  \\\n",
              "host_is_superhost                                                \n",
              "f                                                          921   \n",
              "t                                                          201   \n",
              "\n",
              "                   reviews_per_month  \n",
              "host_is_superhost                     \n",
              "f                                921  \n",
              "t                                201  "
            ],
            "text/html": [
              "\n",
              "  <div id=\"df-8e7eca9b-1581-4cfd-96a1-f49ae647aa2d\">\n",
              "    <div class=\"colab-df-container\">\n",
              "      <div>\n",
              "<style scoped>\n",
              "    .dataframe tbody tr th:only-of-type {\n",
              "        vertical-align: middle;\n",
              "    }\n",
              "\n",
              "    .dataframe tbody tr th {\n",
              "        vertical-align: top;\n",
              "    }\n",
              "\n",
              "    .dataframe thead th {\n",
              "        text-align: right;\n",
              "    }\n",
              "</style>\n",
              "<table border=\"1\" class=\"dataframe\">\n",
              "  <thead>\n",
              "    <tr style=\"text-align: right;\">\n",
              "      <th></th>\n",
              "      <th>id</th>\n",
              "      <th>listing_url</th>\n",
              "      <th>scrape_id</th>\n",
              "      <th>last_scraped</th>\n",
              "      <th>name</th>\n",
              "      <th>description</th>\n",
              "      <th>neighborhood_overview</th>\n",
              "      <th>picture_url</th>\n",
              "      <th>host_id</th>\n",
              "      <th>host_url</th>\n",
              "      <th>host_name</th>\n",
              "      <th>host_since</th>\n",
              "      <th>host_location</th>\n",
              "      <th>host_about</th>\n",
              "      <th>host_response_time</th>\n",
              "      <th>host_response_rate</th>\n",
              "      <th>host_acceptance_rate</th>\n",
              "      <th>host_thumbnail_url</th>\n",
              "      <th>host_picture_url</th>\n",
              "      <th>host_neighbourhood</th>\n",
              "      <th>host_listings_count</th>\n",
              "      <th>host_total_listings_count</th>\n",
              "      <th>host_verifications</th>\n",
              "      <th>host_has_profile_pic</th>\n",
              "      <th>host_identity_verified</th>\n",
              "      <th>neighbourhood</th>\n",
              "      <th>neighbourhood_cleansed</th>\n",
              "      <th>neighbourhood_group_cleansed</th>\n",
              "      <th>latitude</th>\n",
              "      <th>longitude</th>\n",
              "      <th>property_type</th>\n",
              "      <th>room_type</th>\n",
              "      <th>accommodates</th>\n",
              "      <th>bathrooms</th>\n",
              "      <th>bathrooms_text</th>\n",
              "      <th>bedrooms</th>\n",
              "      <th>beds</th>\n",
              "      <th>amenities</th>\n",
              "      <th>price</th>\n",
              "      <th>minimum_nights</th>\n",
              "      <th>maximum_nights</th>\n",
              "      <th>minimum_minimum_nights</th>\n",
              "      <th>maximum_minimum_nights</th>\n",
              "      <th>minimum_maximum_nights</th>\n",
              "      <th>maximum_maximum_nights</th>\n",
              "      <th>minimum_nights_avg_ntm</th>\n",
              "      <th>maximum_nights_avg_ntm</th>\n",
              "      <th>calendar_updated</th>\n",
              "      <th>has_availability</th>\n",
              "      <th>availability_30</th>\n",
              "      <th>availability_60</th>\n",
              "      <th>availability_90</th>\n",
              "      <th>availability_365</th>\n",
              "      <th>calendar_last_scraped</th>\n",
              "      <th>number_of_reviews</th>\n",
              "      <th>number_of_reviews_ltm</th>\n",
              "      <th>number_of_reviews_l30d</th>\n",
              "      <th>first_review</th>\n",
              "      <th>last_review</th>\n",
              "      <th>review_scores_rating</th>\n",
              "      <th>review_scores_accuracy</th>\n",
              "      <th>review_scores_cleanliness</th>\n",
              "      <th>review_scores_checkin</th>\n",
              "      <th>review_scores_communication</th>\n",
              "      <th>review_scores_location</th>\n",
              "      <th>review_scores_value</th>\n",
              "      <th>license</th>\n",
              "      <th>instant_bookable</th>\n",
              "      <th>calculated_host_listings_count</th>\n",
              "      <th>calculated_host_listings_count_entire_homes</th>\n",
              "      <th>calculated_host_listings_count_private_rooms</th>\n",
              "      <th>calculated_host_listings_count_shared_rooms</th>\n",
              "      <th>reviews_per_month</th>\n",
              "    </tr>\n",
              "    <tr>\n",
              "      <th>host_is_superhost</th>\n",
              "      <th></th>\n",
              "      <th></th>\n",
              "      <th></th>\n",
              "      <th></th>\n",
              "      <th></th>\n",
              "      <th></th>\n",
              "      <th></th>\n",
              "      <th></th>\n",
              "      <th></th>\n",
              "      <th></th>\n",
              "      <th></th>\n",
              "      <th></th>\n",
              "      <th></th>\n",
              "      <th></th>\n",
              "      <th></th>\n",
              "      <th></th>\n",
              "      <th></th>\n",
              "      <th></th>\n",
              "      <th></th>\n",
              "      <th></th>\n",
              "      <th></th>\n",
              "      <th></th>\n",
              "      <th></th>\n",
              "      <th></th>\n",
              "      <th></th>\n",
              "      <th></th>\n",
              "      <th></th>\n",
              "      <th></th>\n",
              "      <th></th>\n",
              "      <th></th>\n",
              "      <th></th>\n",
              "      <th></th>\n",
              "      <th></th>\n",
              "      <th></th>\n",
              "      <th></th>\n",
              "      <th></th>\n",
              "      <th></th>\n",
              "      <th></th>\n",
              "      <th></th>\n",
              "      <th></th>\n",
              "      <th></th>\n",
              "      <th></th>\n",
              "      <th></th>\n",
              "      <th></th>\n",
              "      <th></th>\n",
              "      <th></th>\n",
              "      <th></th>\n",
              "      <th></th>\n",
              "      <th></th>\n",
              "      <th></th>\n",
              "      <th></th>\n",
              "      <th></th>\n",
              "      <th></th>\n",
              "      <th></th>\n",
              "      <th></th>\n",
              "      <th></th>\n",
              "      <th></th>\n",
              "      <th></th>\n",
              "      <th></th>\n",
              "      <th></th>\n",
              "      <th></th>\n",
              "      <th></th>\n",
              "      <th></th>\n",
              "      <th></th>\n",
              "      <th></th>\n",
              "      <th></th>\n",
              "      <th></th>\n",
              "      <th></th>\n",
              "      <th></th>\n",
              "      <th></th>\n",
              "      <th></th>\n",
              "      <th></th>\n",
              "      <th></th>\n",
              "    </tr>\n",
              "  </thead>\n",
              "  <tbody>\n",
              "    <tr>\n",
              "      <th>f</th>\n",
              "      <td>921</td>\n",
              "      <td>921</td>\n",
              "      <td>921</td>\n",
              "      <td>921</td>\n",
              "      <td>921</td>\n",
              "      <td>921</td>\n",
              "      <td>921</td>\n",
              "      <td>921</td>\n",
              "      <td>921</td>\n",
              "      <td>921</td>\n",
              "      <td>921</td>\n",
              "      <td>921</td>\n",
              "      <td>921</td>\n",
              "      <td>921</td>\n",
              "      <td>596</td>\n",
              "      <td>596</td>\n",
              "      <td>715</td>\n",
              "      <td>921</td>\n",
              "      <td>921</td>\n",
              "      <td>921</td>\n",
              "      <td>921</td>\n",
              "      <td>921</td>\n",
              "      <td>921</td>\n",
              "      <td>921</td>\n",
              "      <td>921</td>\n",
              "      <td>921</td>\n",
              "      <td>921</td>\n",
              "      <td>921</td>\n",
              "      <td>921</td>\n",
              "      <td>921</td>\n",
              "      <td>921</td>\n",
              "      <td>921</td>\n",
              "      <td>921</td>\n",
              "      <td>921</td>\n",
              "      <td>921</td>\n",
              "      <td>921</td>\n",
              "      <td>921</td>\n",
              "      <td>921</td>\n",
              "      <td>920</td>\n",
              "      <td>921</td>\n",
              "      <td>921</td>\n",
              "      <td>921</td>\n",
              "      <td>921</td>\n",
              "      <td>921</td>\n",
              "      <td>921</td>\n",
              "      <td>921</td>\n",
              "      <td>921</td>\n",
              "      <td>921</td>\n",
              "      <td>921</td>\n",
              "      <td>921</td>\n",
              "      <td>921</td>\n",
              "      <td>921</td>\n",
              "      <td>921</td>\n",
              "      <td>921</td>\n",
              "      <td>921</td>\n",
              "      <td>921</td>\n",
              "      <td>921</td>\n",
              "      <td>921</td>\n",
              "      <td>921</td>\n",
              "      <td>921</td>\n",
              "      <td>921</td>\n",
              "      <td>921</td>\n",
              "      <td>921</td>\n",
              "      <td>921</td>\n",
              "      <td>921</td>\n",
              "      <td>921</td>\n",
              "      <td>921</td>\n",
              "      <td>921</td>\n",
              "      <td>921</td>\n",
              "      <td>921</td>\n",
              "      <td>921</td>\n",
              "      <td>921</td>\n",
              "      <td>921</td>\n",
              "    </tr>\n",
              "    <tr>\n",
              "      <th>t</th>\n",
              "      <td>201</td>\n",
              "      <td>201</td>\n",
              "      <td>201</td>\n",
              "      <td>201</td>\n",
              "      <td>201</td>\n",
              "      <td>201</td>\n",
              "      <td>201</td>\n",
              "      <td>201</td>\n",
              "      <td>201</td>\n",
              "      <td>201</td>\n",
              "      <td>201</td>\n",
              "      <td>201</td>\n",
              "      <td>201</td>\n",
              "      <td>201</td>\n",
              "      <td>198</td>\n",
              "      <td>198</td>\n",
              "      <td>201</td>\n",
              "      <td>201</td>\n",
              "      <td>201</td>\n",
              "      <td>201</td>\n",
              "      <td>201</td>\n",
              "      <td>201</td>\n",
              "      <td>201</td>\n",
              "      <td>201</td>\n",
              "      <td>201</td>\n",
              "      <td>201</td>\n",
              "      <td>201</td>\n",
              "      <td>201</td>\n",
              "      <td>201</td>\n",
              "      <td>201</td>\n",
              "      <td>201</td>\n",
              "      <td>201</td>\n",
              "      <td>201</td>\n",
              "      <td>201</td>\n",
              "      <td>201</td>\n",
              "      <td>201</td>\n",
              "      <td>201</td>\n",
              "      <td>201</td>\n",
              "      <td>201</td>\n",
              "      <td>201</td>\n",
              "      <td>201</td>\n",
              "      <td>201</td>\n",
              "      <td>201</td>\n",
              "      <td>201</td>\n",
              "      <td>201</td>\n",
              "      <td>201</td>\n",
              "      <td>201</td>\n",
              "      <td>201</td>\n",
              "      <td>201</td>\n",
              "      <td>201</td>\n",
              "      <td>201</td>\n",
              "      <td>201</td>\n",
              "      <td>201</td>\n",
              "      <td>201</td>\n",
              "      <td>201</td>\n",
              "      <td>201</td>\n",
              "      <td>201</td>\n",
              "      <td>201</td>\n",
              "      <td>201</td>\n",
              "      <td>201</td>\n",
              "      <td>201</td>\n",
              "      <td>201</td>\n",
              "      <td>201</td>\n",
              "      <td>201</td>\n",
              "      <td>201</td>\n",
              "      <td>201</td>\n",
              "      <td>201</td>\n",
              "      <td>201</td>\n",
              "      <td>201</td>\n",
              "      <td>201</td>\n",
              "      <td>201</td>\n",
              "      <td>201</td>\n",
              "      <td>201</td>\n",
              "    </tr>\n",
              "  </tbody>\n",
              "</table>\n",
              "</div>\n",
              "      <button class=\"colab-df-convert\" onclick=\"convertToInteractive('df-8e7eca9b-1581-4cfd-96a1-f49ae647aa2d')\"\n",
              "              title=\"Convert this dataframe to an interactive table.\"\n",
              "              style=\"display:none;\">\n",
              "        \n",
              "  <svg xmlns=\"http://www.w3.org/2000/svg\" height=\"24px\"viewBox=\"0 0 24 24\"\n",
              "       width=\"24px\">\n",
              "    <path d=\"M0 0h24v24H0V0z\" fill=\"none\"/>\n",
              "    <path d=\"M18.56 5.44l.94 2.06.94-2.06 2.06-.94-2.06-.94-.94-2.06-.94 2.06-2.06.94zm-11 1L8.5 8.5l.94-2.06 2.06-.94-2.06-.94L8.5 2.5l-.94 2.06-2.06.94zm10 10l.94 2.06.94-2.06 2.06-.94-2.06-.94-.94-2.06-.94 2.06-2.06.94z\"/><path d=\"M17.41 7.96l-1.37-1.37c-.4-.4-.92-.59-1.43-.59-.52 0-1.04.2-1.43.59L10.3 9.45l-7.72 7.72c-.78.78-.78 2.05 0 2.83L4 21.41c.39.39.9.59 1.41.59.51 0 1.02-.2 1.41-.59l7.78-7.78 2.81-2.81c.8-.78.8-2.07 0-2.86zM5.41 20L4 18.59l7.72-7.72 1.47 1.35L5.41 20z\"/>\n",
              "  </svg>\n",
              "      </button>\n",
              "      \n",
              "  <style>\n",
              "    .colab-df-container {\n",
              "      display:flex;\n",
              "      flex-wrap:wrap;\n",
              "      gap: 12px;\n",
              "    }\n",
              "\n",
              "    .colab-df-convert {\n",
              "      background-color: #E8F0FE;\n",
              "      border: none;\n",
              "      border-radius: 50%;\n",
              "      cursor: pointer;\n",
              "      display: none;\n",
              "      fill: #1967D2;\n",
              "      height: 32px;\n",
              "      padding: 0 0 0 0;\n",
              "      width: 32px;\n",
              "    }\n",
              "\n",
              "    .colab-df-convert:hover {\n",
              "      background-color: #E2EBFA;\n",
              "      box-shadow: 0px 1px 2px rgba(60, 64, 67, 0.3), 0px 1px 3px 1px rgba(60, 64, 67, 0.15);\n",
              "      fill: #174EA6;\n",
              "    }\n",
              "\n",
              "    [theme=dark] .colab-df-convert {\n",
              "      background-color: #3B4455;\n",
              "      fill: #D2E3FC;\n",
              "    }\n",
              "\n",
              "    [theme=dark] .colab-df-convert:hover {\n",
              "      background-color: #434B5C;\n",
              "      box-shadow: 0px 1px 3px 1px rgba(0, 0, 0, 0.15);\n",
              "      filter: drop-shadow(0px 1px 2px rgba(0, 0, 0, 0.3));\n",
              "      fill: #FFFFFF;\n",
              "    }\n",
              "  </style>\n",
              "\n",
              "      <script>\n",
              "        const buttonEl =\n",
              "          document.querySelector('#df-8e7eca9b-1581-4cfd-96a1-f49ae647aa2d button.colab-df-convert');\n",
              "        buttonEl.style.display =\n",
              "          google.colab.kernel.accessAllowed ? 'block' : 'none';\n",
              "\n",
              "        async function convertToInteractive(key) {\n",
              "          const element = document.querySelector('#df-8e7eca9b-1581-4cfd-96a1-f49ae647aa2d');\n",
              "          const dataTable =\n",
              "            await google.colab.kernel.invokeFunction('convertToInteractive',\n",
              "                                                     [key], {});\n",
              "          if (!dataTable) return;\n",
              "\n",
              "          const docLinkHtml = 'Like what you see? Visit the ' +\n",
              "            '<a target=\"_blank\" href=https://colab.research.google.com/notebooks/data_table.ipynb>data table notebook</a>'\n",
              "            + ' to learn more about interactive tables.';\n",
              "          element.innerHTML = '';\n",
              "          dataTable['output_type'] = 'display_data';\n",
              "          await google.colab.output.renderOutput(dataTable, element);\n",
              "          const docLink = document.createElement('div');\n",
              "          docLink.innerHTML = docLinkHtml;\n",
              "          element.appendChild(docLink);\n",
              "        }\n",
              "      </script>\n",
              "    </div>\n",
              "  </div>\n",
              "  "
            ]
          },
          "metadata": {},
          "execution_count": 348
        }
      ]
    },
    {
      "cell_type": "markdown",
      "source": [
        "# **De acuerdo a la grafica el 17% de los hospedadores tienen la calificación de Superhost**"
      ],
      "metadata": {
        "id": "TN_UArgYm6HY"
      }
    },
    {
      "cell_type": "markdown",
      "source": [
        "### Ejercicio 8\n",
        "\n",
        "Basado en los ejercicios anteriores analice las variable property_type y parking con los recursos que considere necesarios. No olvide analizar y describir sus resultados."
      ],
      "metadata": {
        "id": "GDWHf8v7jR9b"
      }
    },
    {
      "cell_type": "code",
      "source": [
        "# Respuesta\n",
        "n_by_state = airbnb.groupby(\"property_type\")[\"id\"].count()\n",
        "df_cuenta_hospedajes=n_by_state.to_frame()\n",
        "\n",
        "df_cuenta_hospedajes['property_type'] = df_cuenta_hospedajes.index\n",
        "\n",
        "\n",
        "ax = df_cuenta_hospedajes.plot.bar(x='property_type', y='id', rot=0)\n",
        "\n"
      ],
      "metadata": {
        "id": "bEwxUL1IltoG",
        "colab": {
          "base_uri": "https://localhost:8080/",
          "height": 285
        },
        "outputId": "12f7cdfd-9f30-4bf4-c4ae-051cf63ee37c"
      },
      "execution_count": null,
      "outputs": [
        {
          "output_type": "display_data",
          "data": {
            "text/plain": [
              "<Figure size 432x288 with 1 Axes>"
            ],
            "image/png": "[encoded data removed]"
          },
          "metadata": {}
        }
      ]
    },
    {
      "cell_type": "markdown",
      "source": [
        "# **# El tipo de propiedad que más gusta es:Entire rental unit con 536 personas hospedadas pero el gráfco no lo muestra de manera correcta ya que se solapan las etiquetas del gráfico**"
      ],
      "metadata": {
        "id": "-qVLEwfhnNNx"
      }
    },
    {
      "cell_type": "markdown",
      "source": [
        "## Análisis multivariado"
      ],
      "metadata": {
        "id": "5IQs9dFKlJvd"
      }
    },
    {
      "cell_type": "markdown",
      "source": [
        "Hasta aquí hemos estado analizando nuestras variables y describiendo las características principales de nuestra población. Ahora vamos a comenzar a buscar relaciones entre nuestras variables, sobretodo con respecto al precio, recuerde que esta es nuestra variable objetivo.\n"
      ],
      "metadata": {
        "id": "wLOZaIdNw55M"
      }
    },
    {
      "cell_type": "markdown",
      "source": [
        "### Ejercicio 9\n",
        "\n",
        "Construya una gráfica que muestre el mínimo, máximo, media y mediana del precio para las hospedajes con Superhost y sin Superhost.\n",
        "\n",
        "¿Existe alguna relación entre el precio y ser un *Superhost*? Justifique su respuesta.\n",
        "\n",
        "Recuerde describir y discutir sus resultados. \n"
      ],
      "metadata": {
        "id": "zh698ObH_YRZ"
      }
    },
    {
      "cell_type": "markdown",
      "source": [
        "<details>    \n",
        "<summary>\n",
        "    <font size=\"3\" color=\"darkblue\"><b>Pistas</b></font>\n",
        "</summary>\n",
        "\n",
        "* agrupe los datos usando `.groupby()` \n",
        "* Use el método `.agg()` para calcular las descriptivas de la variable precio\n",
        "* Grafique con el método `.plot`  \n",
        "* Puede construir también un boxplot.\n",
        "\n"
      ],
      "metadata": {
        "id": "101Yle1T_w2m"
      }
    },
    {
      "cell_type": "code",
      "source": [
        "# Respuesta\n",
        "\n",
        "df_superhost=airbnb[['price','host_is_superhost']]\n",
        "grouped_df = df_superhost.groupby('host_is_superhost')\n",
        "grouped_df.mean()\n",
        "boxplot = df_superhost.boxplot(column=['price'])  "
      ],
      "metadata": {
        "id": "iVxypLPB_wg6",
        "colab": {
          "base_uri": "https://localhost:8080/",
          "height": 268
        },
        "outputId": "ae160f67-a9fd-493a-8ce0-561c3bde1ee7"
      },
      "execution_count": null,
      "outputs": [
        {
          "output_type": "display_data",
          "data": {
            "text/plain": [
              "<Figure size 432x288 with 1 Axes>"
            ],
            "image/png": "[encoded data removed]"
          },
          "metadata": {}
        }
      ]
    },
    {
      "cell_type": "markdown",
      "source": [
        "# **De acuerdo al gráfico no se ve una correlación entre superhost y el precio ya que los huespedes buscan precios de alrededor de 200 dólares por noche**\n"
      ],
      "metadata": {
        "id": "1ztDE1nmntnr"
      }
    },
    {
      "cell_type": "code",
      "source": [
        ""
      ],
      "metadata": {
        "id": "pTKesWtV0NYN"
      },
      "execution_count": null,
      "outputs": []
    },
    {
      "cell_type": "markdown",
      "source": [
        "### Ejercicio 10\n",
        "\n",
        "Para complementar el punto anterior, construya un boxplot para evaluar la siguiente pregunta. \n",
        "\n",
        "¿Existe alguna relación entre el precio y ser un *Superhost*? Justifique su respuesta."
      ],
      "metadata": {
        "id": "_AkNJCdroYQN"
      }
    },
    {
      "cell_type": "code",
      "source": [
        "# Respuesta\n",
        "df_superhost['host_is_superhost'] = df_superhost['host_is_superhost'].str.replace('t','1')\n",
        "df_superhost['host_is_superhost'] = df_superhost['host_is_superhost'].str.replace('f','0')\n",
        "df_superhost['host_is_superhost'] = pd.to_numeric(df_superhost['host_is_superhost'],errors='coerce')\n",
        "\n",
        "\n",
        "\n",
        "\n",
        "\n"
      ],
      "metadata": {
        "colab": {
          "base_uri": "https://localhost:8080/"
        },
        "id": "kWShIQZxol85",
        "outputId": "407e30fe-3879-401b-a310-3ded1c43257e"
      },
      "execution_count": null,
      "outputs": [
        {
          "output_type": "stream",
          "name": "stderr",
          "text": [
            "/usr/local/lib/python3.7/dist-packages/ipykernel_launcher.py:2: SettingWithCopyWarning: \n",
            "A value is trying to be set on a copy of a slice from a DataFrame.\n",
            "Try using .loc[row_indexer,col_indexer] = value instead\n",
            "\n",
            "See the caveats in the documentation: https://pandas.pydata.org/pandas-docs/stable/user_guide/indexing.html#returning-a-view-versus-a-copy\n",
            "  \n",
            "/usr/local/lib/python3.7/dist-packages/ipykernel_launcher.py:3: SettingWithCopyWarning: \n",
            "A value is trying to be set on a copy of a slice from a DataFrame.\n",
            "Try using .loc[row_indexer,col_indexer] = value instead\n",
            "\n",
            "See the caveats in the documentation: https://pandas.pydata.org/pandas-docs/stable/user_guide/indexing.html#returning-a-view-versus-a-copy\n",
            "  This is separate from the ipykernel package so we can avoid doing imports until\n",
            "/usr/local/lib/python3.7/dist-packages/ipykernel_launcher.py:4: SettingWithCopyWarning: \n",
            "A value is trying to be set on a copy of a slice from a DataFrame.\n",
            "Try using .loc[row_indexer,col_indexer] = value instead\n",
            "\n",
            "See the caveats in the documentation: https://pandas.pydata.org/pandas-docs/stable/user_guide/indexing.html#returning-a-view-versus-a-copy\n",
            "  after removing the cwd from sys.path.\n"
          ]
        }
      ]
    },
    {
      "cell_type": "code",
      "source": [
        "df_superhost.corr()"
      ],
      "metadata": {
        "colab": {
          "base_uri": "https://localhost:8080/",
          "height": 112
        },
        "id": "EHoqRB42DuZ_",
        "outputId": "d11b92bd-8edf-4735-a596-1eb119ebe064"
      },
      "execution_count": null,
      "outputs": [
        {
          "output_type": "execute_result",
          "data": {
            "text/plain": [
              "                      price  host_is_superhost\n",
              "price              1.000000          -0.092131\n",
              "host_is_superhost -0.092131           1.000000"
            ],
            "text/html": [
              "\n",
              "  <div id=\"df-c7f07e48-7d99-4728-9349-ac748cac0992\">\n",
              "    <div class=\"colab-df-container\">\n",
              "      <div>\n",
              "<style scoped>\n",
              "    .dataframe tbody tr th:only-of-type {\n",
              "        vertical-align: middle;\n",
              "    }\n",
              "\n",
              "    .dataframe tbody tr th {\n",
              "        vertical-align: top;\n",
              "    }\n",
              "\n",
              "    .dataframe thead th {\n",
              "        text-align: right;\n",
              "    }\n",
              "</style>\n",
              "<table border=\"1\" class=\"dataframe\">\n",
              "  <thead>\n",
              "    <tr style=\"text-align: right;\">\n",
              "      <th></th>\n",
              "      <th>price</th>\n",
              "      <th>host_is_superhost</th>\n",
              "    </tr>\n",
              "  </thead>\n",
              "  <tbody>\n",
              "    <tr>\n",
              "      <th>price</th>\n",
              "      <td>1.000000</td>\n",
              "      <td>-0.092131</td>\n",
              "    </tr>\n",
              "    <tr>\n",
              "      <th>host_is_superhost</th>\n",
              "      <td>-0.092131</td>\n",
              "      <td>1.000000</td>\n",
              "    </tr>\n",
              "  </tbody>\n",
              "</table>\n",
              "</div>\n",
              "      <button class=\"colab-df-convert\" onclick=\"convertToInteractive('df-c7f07e48-7d99-4728-9349-ac748cac0992')\"\n",
              "              title=\"Convert this dataframe to an interactive table.\"\n",
              "              style=\"display:none;\">\n",
              "        \n",
              "  <svg xmlns=\"http://www.w3.org/2000/svg\" height=\"24px\"viewBox=\"0 0 24 24\"\n",
              "       width=\"24px\">\n",
              "    <path d=\"M0 0h24v24H0V0z\" fill=\"none\"/>\n",
              "    <path d=\"M18.56 5.44l.94 2.06.94-2.06 2.06-.94-2.06-.94-.94-2.06-.94 2.06-2.06.94zm-11 1L8.5 8.5l.94-2.06 2.06-.94-2.06-.94L8.5 2.5l-.94 2.06-2.06.94zm10 10l.94 2.06.94-2.06 2.06-.94-2.06-.94-.94-2.06-.94 2.06-2.06.94z\"/><path d=\"M17.41 7.96l-1.37-1.37c-.4-.4-.92-.59-1.43-.59-.52 0-1.04.2-1.43.59L10.3 9.45l-7.72 7.72c-.78.78-.78 2.05 0 2.83L4 21.41c.39.39.9.59 1.41.59.51 0 1.02-.2 1.41-.59l7.78-7.78 2.81-2.81c.8-.78.8-2.07 0-2.86zM5.41 20L4 18.59l7.72-7.72 1.47 1.35L5.41 20z\"/>\n",
              "  </svg>\n",
              "      </button>\n",
              "      \n",
              "  <style>\n",
              "    .colab-df-container {\n",
              "      display:flex;\n",
              "      flex-wrap:wrap;\n",
              "      gap: 12px;\n",
              "    }\n",
              "\n",
              "    .colab-df-convert {\n",
              "      background-color: #E8F0FE;\n",
              "      border: none;\n",
              "      border-radius: 50%;\n",
              "      cursor: pointer;\n",
              "      display: none;\n",
              "      fill: #1967D2;\n",
              "      height: 32px;\n",
              "      padding: 0 0 0 0;\n",
              "      width: 32px;\n",
              "    }\n",
              "\n",
              "    .colab-df-convert:hover {\n",
              "      background-color: #E2EBFA;\n",
              "      box-shadow: 0px 1px 2px rgba(60, 64, 67, 0.3), 0px 1px 3px 1px rgba(60, 64, 67, 0.15);\n",
              "      fill: #174EA6;\n",
              "    }\n",
              "\n",
              "    [theme=dark] .colab-df-convert {\n",
              "      background-color: #3B4455;\n",
              "      fill: #D2E3FC;\n",
              "    }\n",
              "\n",
              "    [theme=dark] .colab-df-convert:hover {\n",
              "      background-color: #434B5C;\n",
              "      box-shadow: 0px 1px 3px 1px rgba(0, 0, 0, 0.15);\n",
              "      filter: drop-shadow(0px 1px 2px rgba(0, 0, 0, 0.3));\n",
              "      fill: #FFFFFF;\n",
              "    }\n",
              "  </style>\n",
              "\n",
              "      <script>\n",
              "        const buttonEl =\n",
              "          document.querySelector('#df-c7f07e48-7d99-4728-9349-ac748cac0992 button.colab-df-convert');\n",
              "        buttonEl.style.display =\n",
              "          google.colab.kernel.accessAllowed ? 'block' : 'none';\n",
              "\n",
              "        async function convertToInteractive(key) {\n",
              "          const element = document.querySelector('#df-c7f07e48-7d99-4728-9349-ac748cac0992');\n",
              "          const dataTable =\n",
              "            await google.colab.kernel.invokeFunction('convertToInteractive',\n",
              "                                                     [key], {});\n",
              "          if (!dataTable) return;\n",
              "\n",
              "          const docLinkHtml = 'Like what you see? Visit the ' +\n",
              "            '<a target=\"_blank\" href=https://colab.research.google.com/notebooks/data_table.ipynb>data table notebook</a>'\n",
              "            + ' to learn more about interactive tables.';\n",
              "          element.innerHTML = '';\n",
              "          dataTable['output_type'] = 'display_data';\n",
              "          await google.colab.output.renderOutput(dataTable, element);\n",
              "          const docLink = document.createElement('div');\n",
              "          docLink.innerHTML = docLinkHtml;\n",
              "          element.appendChild(docLink);\n",
              "        }\n",
              "      </script>\n",
              "    </div>\n",
              "  </div>\n",
              "  "
            ]
          },
          "metadata": {},
          "execution_count": 352
        }
      ]
    },
    {
      "cell_type": "markdown",
      "source": [
        "# **A menudo nos interesa observar y medir la relación entre 2 variables numéricas mediante el *análisis* de correlación. Se trata de una de las técnicas más habituales en análisis de datos y el primer paso necesario antes de construir cualquier modelo explicativo o predictivo más complejo, se realizón en base al dataframe este análisis haciendo que la variable categórica donde se identifica si es superhost se transforme a numérica es decir que si es superhost sea 1 y 0 de no serlo, se determino por el Coeficiente de Pearson que no tienen correlación ya que nos da un valor absoluto cercano a 0 (-0.092131) **bold text**"
      ],
      "metadata": {
        "id": "FPzLd-zeoDX-"
      }
    },
    {
      "cell_type": "code",
      "source": [
        "\n",
        "boxplot = df_superhost.boxplot(column=['price'])  "
      ],
      "metadata": {
        "colab": {
          "base_uri": "https://localhost:8080/",
          "height": 268
        },
        "id": "H8motnKG7Oab",
        "outputId": "c9f7b0d1-fdbe-400e-e1b5-7f2df3b58f8f"
      },
      "execution_count": null,
      "outputs": [
        {
          "output_type": "display_data",
          "data": {
            "text/plain": [
              "<Figure size 432x288 with 1 Axes>"
            ],
            "image/png": "[encoded data removed]"
          },
          "metadata": {}
        }
      ]
    },
    {
      "cell_type": "markdown",
      "source": [
        "## Ejemplo 1: Análisis del precio en función del tipo de propiedad"
      ],
      "metadata": {
        "id": "fH0ipaJs0eoe"
      }
    },
    {
      "cell_type": "markdown",
      "source": [
        "Analicemos ahora la relación entre el tipo de propiedad y el precio usando un boxplot.\n"
      ],
      "metadata": {
        "id": "e8_HOFwmWXoV"
      }
    },
    {
      "cell_type": "code",
      "source": [
        "# Para darle orden a la gráfica vamos a organizar los tipos de propiedades de menor mayor mediana\n",
        "\n",
        "median_order = (airbnb.groupby('property_type') # agrupar por tipo de propiedad\n",
        "['price'].                                      # filtrar el precio en cada grupo\n",
        "median().                                       # calcular la mediana\n",
        "sort_values().                 # organizar \n",
        "index)\n",
        "\n",
        "median_order"
      ],
      "metadata": {
        "colab": {
          "base_uri": "https://localhost:8080/"
        },
        "id": "VuLV_oulxJPt",
        "outputId": "9dfa388f-74b9-4189-f2bb-83675c72c18e"
      },
      "execution_count": null,
      "outputs": [
        {
          "output_type": "execute_result",
          "data": {
            "text/plain": [
              "Index(['Shared room in rental unit', 'Private room in home', 'Barn',\n",
              "       'Private room in farm stay', 'Private room in bungalow',\n",
              "       'Private room in townhouse', 'Private room in rental unit',\n",
              "       'Private room in guesthouse', 'Private room in condo',\n",
              "       'Private room in villa', 'Tiny home', 'Room in boutique hotel',\n",
              "       'Private room in guest suite', 'Entire guesthouse',\n",
              "       'Room in bed and breakfast', 'Entire guest suite', 'Room in hotel',\n",
              "       'Private room in houseboat', 'Private room in loft',\n",
              "       'Private room in boat', 'Private room in bed and breakfast',\n",
              "       'Private room in tiny home', 'Entire rental unit', 'Entire condo',\n",
              "       'Entire home', 'Entire townhouse', 'Entire cabin', 'Room in aparthotel',\n",
              "       'Entire cottage', 'Entire loft', 'Houseboat', 'Entire place', 'Boat',\n",
              "       'Farm stay', 'Entire villa'],\n",
              "      dtype='object', name='property_type')"
            ]
          },
          "metadata": {},
          "execution_count": 354
        }
      ]
    },
    {
      "cell_type": "code",
      "source": [
        "fig = plt.figure(figsize = (12,12) ) # se crea la figura y se determina el tamaño\n",
        "\n",
        "sns.boxplot(data = airbnb, \n",
        "            y = 'property_type', \n",
        "            x = 'price',\n",
        "            order = median_order ) # ordenamiento de mayor a menor frecuencia\n",
        "\n",
        "plt.xlabel('Precio en dólares')\n",
        "plt.ylabel('Tipo de propiedad')\n",
        "plt.title('Precio del hospedaje en función del tipo de propiedad')"
      ],
      "metadata": {
        "id": "d5Yviv4PoyGu",
        "colab": {
          "base_uri": "https://localhost:8080/",
          "height": 753
        },
        "outputId": "3dce7d00-2e8f-4514-df2f-18b9449297aa"
      },
      "execution_count": null,
      "outputs": [
        {
          "output_type": "execute_result",
          "data": {
            "text/plain": [
              "Text(0.5, 1.0, 'Precio del hospedaje en función del tipo de propiedad')"
            ]
          },
          "metadata": {},
          "execution_count": 355
        },
        {
          "output_type": "display_data",
          "data": {
            "text/plain": [
              "<Figure size 864x864 with 1 Axes>"
            ],
            "image/png": "[encoded data removed]"
          },
          "metadata": {}
        }
      ]
    },
    {
      "cell_type": "markdown",
      "source": [
        "Debido a la cantidad tan grande de tipos de propiedad, la gráfica anterior carece de valor y es demasiado compleja. Vamos a crear un subconjunto de datos solamente con los 5 tipos de propiedades que tienen mayor frecuencia. En el proceso no perderemos demasiados datos, ya que, el 96% de los hospedajes pertenecen a estas 5 categorías.\n"
      ],
      "metadata": {
        "id": "Z2BwUehYoxb4"
      }
    },
    {
      "cell_type": "code",
      "source": [
        "# Primero, encontramos cuales son los 5 tipos de propiedades más comunes\n",
        "\n",
        "airbnb['property_type'].value_counts(normalize = True).head(5)*100"
      ],
      "metadata": {
        "id": "6DbD_D8YpRFr",
        "colab": {
          "base_uri": "https://localhost:8080/"
        },
        "outputId": "d780513b-1068-4cd2-dcfa-81ea9c655cc5"
      },
      "execution_count": null,
      "outputs": [
        {
          "output_type": "execute_result",
          "data": {
            "text/plain": [
              "Entire rental unit                   47.771836\n",
              "Private room in rental unit          10.071301\n",
              "Entire home                           6.595365\n",
              "Private room in bed and breakfast     4.812834\n",
              "Entire condo                          4.010695\n",
              "Name: property_type, dtype: float64"
            ]
          },
          "metadata": {},
          "execution_count": 356
        }
      ]
    },
    {
      "cell_type": "code",
      "source": [
        "# Extraemos el índice que contiene el nombre de las categorías de interés\n",
        "\n",
        "top5_properties = (airbnb['property_type'].value_counts(normalize = True).head(5)*100).index\n",
        "top5_properties"
      ],
      "metadata": {
        "id": "BxHpGGYtqlZb",
        "colab": {
          "base_uri": "https://localhost:8080/"
        },
        "outputId": "3a9f06d1-5fae-448b-9234-25f4f5b039c1"
      },
      "execution_count": null,
      "outputs": [
        {
          "output_type": "execute_result",
          "data": {
            "text/plain": [
              "Index(['Entire rental unit', 'Private room in rental unit', 'Entire home',\n",
              "       'Private room in bed and breakfast', 'Entire condo'],\n",
              "      dtype='object')"
            ]
          },
          "metadata": {},
          "execution_count": 357
        }
      ]
    },
    {
      "cell_type": "code",
      "source": [
        "top5_properties.to_frame()"
      ],
      "metadata": {
        "colab": {
          "base_uri": "https://localhost:8080/",
          "height": 206
        },
        "id": "-iuFJVKIQmLa",
        "outputId": "43a4bd7c-940c-44f8-9df7-f8bc1a2a06ad"
      },
      "execution_count": null,
      "outputs": [
        {
          "output_type": "execute_result",
          "data": {
            "text/plain": [
              "                                                                   0\n",
              "Entire rental unit                                Entire rental unit\n",
              "Private room in rental unit              Private room in rental unit\n",
              "Entire home                                              Entire home\n",
              "Private room in bed and breakfast  Private room in bed and breakfast\n",
              "Entire condo                                            Entire condo"
            ],
            "text/html": [
              "\n",
              "  <div id=\"df-f67bcbd6-6c11-4c97-9f8e-23b83fbcf7e5\">\n",
              "    <div class=\"colab-df-container\">\n",
              "      <div>\n",
              "<style scoped>\n",
              "    .dataframe tbody tr th:only-of-type {\n",
              "        vertical-align: middle;\n",
              "    }\n",
              "\n",
              "    .dataframe tbody tr th {\n",
              "        vertical-align: top;\n",
              "    }\n",
              "\n",
              "    .dataframe thead th {\n",
              "        text-align: right;\n",
              "    }\n",
              "</style>\n",
              "<table border=\"1\" class=\"dataframe\">\n",
              "  <thead>\n",
              "    <tr style=\"text-align: right;\">\n",
              "      <th></th>\n",
              "      <th>0</th>\n",
              "    </tr>\n",
              "  </thead>\n",
              "  <tbody>\n",
              "    <tr>\n",
              "      <th>Entire rental unit</th>\n",
              "      <td>Entire rental unit</td>\n",
              "    </tr>\n",
              "    <tr>\n",
              "      <th>Private room in rental unit</th>\n",
              "      <td>Private room in rental unit</td>\n",
              "    </tr>\n",
              "    <tr>\n",
              "      <th>Entire home</th>\n",
              "      <td>Entire home</td>\n",
              "    </tr>\n",
              "    <tr>\n",
              "      <th>Private room in bed and breakfast</th>\n",
              "      <td>Private room in bed and breakfast</td>\n",
              "    </tr>\n",
              "    <tr>\n",
              "      <th>Entire condo</th>\n",
              "      <td>Entire condo</td>\n",
              "    </tr>\n",
              "  </tbody>\n",
              "</table>\n",
              "</div>\n",
              "      <button class=\"colab-df-convert\" onclick=\"convertToInteractive('df-f67bcbd6-6c11-4c97-9f8e-23b83fbcf7e5')\"\n",
              "              title=\"Convert this dataframe to an interactive table.\"\n",
              "              style=\"display:none;\">\n",
              "        \n",
              "  <svg xmlns=\"http://www.w3.org/2000/svg\" height=\"24px\"viewBox=\"0 0 24 24\"\n",
              "       width=\"24px\">\n",
              "    <path d=\"M0 0h24v24H0V0z\" fill=\"none\"/>\n",
              "    <path d=\"M18.56 5.44l.94 2.06.94-2.06 2.06-.94-2.06-.94-.94-2.06-.94 2.06-2.06.94zm-11 1L8.5 8.5l.94-2.06 2.06-.94-2.06-.94L8.5 2.5l-.94 2.06-2.06.94zm10 10l.94 2.06.94-2.06 2.06-.94-2.06-.94-.94-2.06-.94 2.06-2.06.94z\"/><path d=\"M17.41 7.96l-1.37-1.37c-.4-.4-.92-.59-1.43-.59-.52 0-1.04.2-1.43.59L10.3 9.45l-7.72 7.72c-.78.78-.78 2.05 0 2.83L4 21.41c.39.39.9.59 1.41.59.51 0 1.02-.2 1.41-.59l7.78-7.78 2.81-2.81c.8-.78.8-2.07 0-2.86zM5.41 20L4 18.59l7.72-7.72 1.47 1.35L5.41 20z\"/>\n",
              "  </svg>\n",
              "      </button>\n",
              "      \n",
              "  <style>\n",
              "    .colab-df-container {\n",
              "      display:flex;\n",
              "      flex-wrap:wrap;\n",
              "      gap: 12px;\n",
              "    }\n",
              "\n",
              "    .colab-df-convert {\n",
              "      background-color: #E8F0FE;\n",
              "      border: none;\n",
              "      border-radius: 50%;\n",
              "      cursor: pointer;\n",
              "      display: none;\n",
              "      fill: #1967D2;\n",
              "      height: 32px;\n",
              "      padding: 0 0 0 0;\n",
              "      width: 32px;\n",
              "    }\n",
              "\n",
              "    .colab-df-convert:hover {\n",
              "      background-color: #E2EBFA;\n",
              "      box-shadow: 0px 1px 2px rgba(60, 64, 67, 0.3), 0px 1px 3px 1px rgba(60, 64, 67, 0.15);\n",
              "      fill: #174EA6;\n",
              "    }\n",
              "\n",
              "    [theme=dark] .colab-df-convert {\n",
              "      background-color: #3B4455;\n",
              "      fill: #D2E3FC;\n",
              "    }\n",
              "\n",
              "    [theme=dark] .colab-df-convert:hover {\n",
              "      background-color: #434B5C;\n",
              "      box-shadow: 0px 1px 3px 1px rgba(0, 0, 0, 0.15);\n",
              "      filter: drop-shadow(0px 1px 2px rgba(0, 0, 0, 0.3));\n",
              "      fill: #FFFFFF;\n",
              "    }\n",
              "  </style>\n",
              "\n",
              "      <script>\n",
              "        const buttonEl =\n",
              "          document.querySelector('#df-f67bcbd6-6c11-4c97-9f8e-23b83fbcf7e5 button.colab-df-convert');\n",
              "        buttonEl.style.display =\n",
              "          google.colab.kernel.accessAllowed ? 'block' : 'none';\n",
              "\n",
              "        async function convertToInteractive(key) {\n",
              "          const element = document.querySelector('#df-f67bcbd6-6c11-4c97-9f8e-23b83fbcf7e5');\n",
              "          const dataTable =\n",
              "            await google.colab.kernel.invokeFunction('convertToInteractive',\n",
              "                                                     [key], {});\n",
              "          if (!dataTable) return;\n",
              "\n",
              "          const docLinkHtml = 'Like what you see? Visit the ' +\n",
              "            '<a target=\"_blank\" href=https://colab.research.google.com/notebooks/data_table.ipynb>data table notebook</a>'\n",
              "            + ' to learn more about interactive tables.';\n",
              "          element.innerHTML = '';\n",
              "          dataTable['output_type'] = 'display_data';\n",
              "          await google.colab.output.renderOutput(dataTable, element);\n",
              "          const docLink = document.createElement('div');\n",
              "          docLink.innerHTML = docLinkHtml;\n",
              "          element.appendChild(docLink);\n",
              "        }\n",
              "      </script>\n",
              "    </div>\n",
              "  </div>\n",
              "  "
            ]
          },
          "metadata": {},
          "execution_count": 358
        }
      ]
    },
    {
      "cell_type": "markdown",
      "source": [
        "`.isin()` nos permite encontrar todas las coincidencias existentes sobre una lista u objeto iterable. En este caso nos permite encontrar todos los hospedajes que pertenezcan a nuestro top 5 de tipos de propiedades. Para más información sobre este método consulte [aquí](https://pandas.pydata.org/docs/reference/api/pandas.DataFrame.isin.html).\n",
        "\n"
      ],
      "metadata": {
        "id": "SLRPmTverKpd"
      }
    },
    {
      "cell_type": "code",
      "source": [
        "# Creamos un filtro con el método isin()\n",
        "\n",
        "top = airbnb.loc[airbnb['property_type'].isin (top5_properties)]\n",
        "top.head(2)"
      ],
      "metadata": {
        "id": "MGRp9Nwcq1ST",
        "colab": {
          "base_uri": "https://localhost:8080/",
          "height": 333
        },
        "outputId": "5fe627a6-5bfe-4c74-cc75-94c36edfff3e"
      },
      "execution_count": null,
      "outputs": [
        {
          "output_type": "execute_result",
          "data": {
            "text/plain": [
              "           id                            listing_url     scrape_id  \\\n",
              "4  18801518.0  https://www.airbnb.com/rooms/18801518  2.022061e+13   \n",
              "5   2973384.0   https://www.airbnb.com/rooms/2973384  2.022061e+13   \n",
              "\n",
              "  last_scraped                                               name  \\\n",
              "4   2022-06-05  Coronaproof studio 20 min to A'dam Centre 2-4 ...   \n",
              "5   2022-06-05                    House on Amstel River Amsterdam   \n",
              "\n",
              "                                         description  \\\n",
              "4  We have a CORONAPROOF studio for 4 people (2 s...   \n",
              "5  Our house is in the country side \"Amstel River...   \n",
              "\n",
              "                               neighborhood_overview  \\\n",
              "4  Within a 50-100 meter radius of Studio Randje ...   \n",
              "5                                                 --   \n",
              "\n",
              "                                         picture_url     host_id  \\\n",
              "4  https://a0.muscache.com/pictures/2cdc1fbf-efbc...  75979829.0   \n",
              "5  https://a0.muscache.com/pictures/7913ec9d-3081...  15166925.0   \n",
              "\n",
              "                                     host_url         host_name  host_since  \\\n",
              "4  https://www.airbnb.com/users/show/75979829  Randje Amsterdam  2016-06-05   \n",
              "5  https://www.airbnb.com/users/show/15166925              Gijs  2014-05-06   \n",
              "\n",
              "                        host_location  \\\n",
              "4  Diemen, North Holland, Netherlands   \n",
              "5  Amsterdam, Ouderkerk aan de Amstel   \n",
              "\n",
              "                                          host_about host_response_time  \\\n",
              "4                                                 --     within an hour   \n",
              "5  Gijs and Eline, we have a son Jacob. Working i...       within a day   \n",
              "\n",
              "  host_response_rate host_acceptance_rate host_is_superhost  \\\n",
              "4                90%                  62%                 f   \n",
              "5               100%                  38%                 f   \n",
              "\n",
              "                                  host_thumbnail_url  \\\n",
              "4  https://a0.muscache.com/im/pictures/user/02c65...   \n",
              "5  https://a0.muscache.com/im/pictures/user/4cbe0...   \n",
              "\n",
              "                                    host_picture_url host_neighbourhood  \\\n",
              "4  https://a0.muscache.com/im/pictures/user/02c65...                 --   \n",
              "5  https://a0.muscache.com/im/pictures/user/4cbe0...                 --   \n",
              "\n",
              "   host_listings_count  host_total_listings_count  \\\n",
              "4                  1.0                        1.0   \n",
              "5                  1.0                        1.0   \n",
              "\n",
              "                 host_verifications host_has_profile_pic  \\\n",
              "4  ['email', 'phone', 'work_email']                    t   \n",
              "5                ['email', 'phone']                    t   \n",
              "\n",
              "  host_identity_verified                       neighbourhood  \\\n",
              "4                      t  Diemen, Noord-Holland, Netherlands   \n",
              "5                      f                                  --   \n",
              "\n",
              "  neighbourhood_cleansed neighbourhood_group_cleansed  latitude  longitude  \\\n",
              "4        Watergraafsmeer                           --  52.33828    4.96443   \n",
              "5        Watergraafsmeer                           --  52.30989    4.90528   \n",
              "\n",
              "                 property_type        room_type  accommodates  bathrooms  \\\n",
              "4  Private room in rental unit     Private room           4.0        3.0   \n",
              "5                  Entire home  Entire home/apt           5.0        4.0   \n",
              "\n",
              "   bathrooms_text  bedrooms  beds  \\\n",
              "4  1 private bath       2.0   3.0   \n",
              "5       1.5 baths       3.0   3.0   \n",
              "\n",
              "                                           amenities  price  minimum_nights  \\\n",
              "4  [\"Essentials\", \"Cooking basics\", \"Private fenc...  140.0             2.0   \n",
              "5  [\"Boat slip\", \"Dishwasher\", \"Bathtub\", \"Microw...  185.0             6.0   \n",
              "\n",
              "   maximum_nights  minimum_minimum_nights  maximum_minimum_nights  \\\n",
              "4          1125.0                     2.0                     2.0   \n",
              "5            21.0                     6.0                     6.0   \n",
              "\n",
              "   minimum_maximum_nights  maximum_maximum_nights  minimum_nights_avg_ntm  \\\n",
              "4                  1125.0                  1125.0                     2.0   \n",
              "5                    21.0                    21.0                     6.0   \n",
              "\n",
              "   maximum_nights_avg_ntm calendar_updated has_availability  availability_30  \\\n",
              "4                  1125.0               --                t              0.0   \n",
              "5                    21.0               --                t              0.0   \n",
              "\n",
              "   availability_60  availability_90  availability_365 calendar_last_scraped  \\\n",
              "4              8.0             14.0             234.0            2022-06-05   \n",
              "5              0.0              5.0              13.0            2022-06-05   \n",
              "\n",
              "   number_of_reviews  number_of_reviews_ltm  number_of_reviews_l30d  \\\n",
              "4               85.0                    5.0                     0.0   \n",
              "5                7.0                    2.0                     0.0   \n",
              "\n",
              "  first_review last_review  review_scores_rating  review_scores_accuracy  \\\n",
              "4   2017-07-12  2022-04-17                  4.66                    4.83   \n",
              "5   2018-08-19  2022-01-06                  4.83                    5.00   \n",
              "\n",
              "   review_scores_cleanliness  review_scores_checkin  \\\n",
              "4                       4.90                   4.93   \n",
              "5                       4.67                   5.00   \n",
              "\n",
              "   review_scores_communication  review_scores_location  review_scores_value  \\\n",
              "4                         4.81                    4.46                 4.59   \n",
              "5                         5.00                    5.00                 4.67   \n",
              "\n",
              "                license instant_bookable  calculated_host_listings_count  \\\n",
              "4  038429E48399CA3E3903                f                             1.0   \n",
              "5                    --                f                             1.0   \n",
              "\n",
              "   calculated_host_listings_count_entire_homes  \\\n",
              "4                                          0.0   \n",
              "5                                          1.0   \n",
              "\n",
              "   calculated_host_listings_count_private_rooms  \\\n",
              "4                                           1.0   \n",
              "5                                           0.0   \n",
              "\n",
              "   calculated_host_listings_count_shared_rooms  reviews_per_month  \n",
              "4                                          0.0               1.42  \n",
              "5                                          0.0               0.15  "
            ],
            "text/html": [
              "\n",
              "  <div id=\"df-4cd22c9c-5b0f-4d9e-870d-d9716217700b\">\n",
              "    <div class=\"colab-df-container\">\n",
              "      <div>\n",
              "<style scoped>\n",
              "    .dataframe tbody tr th:only-of-type {\n",
              "        vertical-align: middle;\n",
              "    }\n",
              "\n",
              "    .dataframe tbody tr th {\n",
              "        vertical-align: top;\n",
              "    }\n",
              "\n",
              "    .dataframe thead th {\n",
              "        text-align: right;\n",
              "    }\n",
              "</style>\n",
              "<table border=\"1\" class=\"dataframe\">\n",
              "  <thead>\n",
              "    <tr style=\"text-align: right;\">\n",
              "      <th></th>\n",
              "      <th>id</th>\n",
              "      <th>listing_url</th>\n",
              "      <th>scrape_id</th>\n",
              "      <th>last_scraped</th>\n",
              "      <th>name</th>\n",
              "      <th>description</th>\n",
              "      <th>neighborhood_overview</th>\n",
              "      <th>picture_url</th>\n",
              "      <th>host_id</th>\n",
              "      <th>host_url</th>\n",
              "      <th>host_name</th>\n",
              "      <th>host_since</th>\n",
              "      <th>host_location</th>\n",
              "      <th>host_about</th>\n",
              "      <th>host_response_time</th>\n",
              "      <th>host_response_rate</th>\n",
              "      <th>host_acceptance_rate</th>\n",
              "      <th>host_is_superhost</th>\n",
              "      <th>host_thumbnail_url</th>\n",
              "      <th>host_picture_url</th>\n",
              "      <th>host_neighbourhood</th>\n",
              "      <th>host_listings_count</th>\n",
              "      <th>host_total_listings_count</th>\n",
              "      <th>host_verifications</th>\n",
              "      <th>host_has_profile_pic</th>\n",
              "      <th>host_identity_verified</th>\n",
              "      <th>neighbourhood</th>\n",
              "      <th>neighbourhood_cleansed</th>\n",
              "      <th>neighbourhood_group_cleansed</th>\n",
              "      <th>latitude</th>\n",
              "      <th>longitude</th>\n",
              "      <th>property_type</th>\n",
              "      <th>room_type</th>\n",
              "      <th>accommodates</th>\n",
              "      <th>bathrooms</th>\n",
              "      <th>bathrooms_text</th>\n",
              "      <th>bedrooms</th>\n",
              "      <th>beds</th>\n",
              "      <th>amenities</th>\n",
              "      <th>price</th>\n",
              "      <th>minimum_nights</th>\n",
              "      <th>maximum_nights</th>\n",
              "      <th>minimum_minimum_nights</th>\n",
              "      <th>maximum_minimum_nights</th>\n",
              "      <th>minimum_maximum_nights</th>\n",
              "      <th>maximum_maximum_nights</th>\n",
              "      <th>minimum_nights_avg_ntm</th>\n",
              "      <th>maximum_nights_avg_ntm</th>\n",
              "      <th>calendar_updated</th>\n",
              "      <th>has_availability</th>\n",
              "      <th>availability_30</th>\n",
              "      <th>availability_60</th>\n",
              "      <th>availability_90</th>\n",
              "      <th>availability_365</th>\n",
              "      <th>calendar_last_scraped</th>\n",
              "      <th>number_of_reviews</th>\n",
              "      <th>number_of_reviews_ltm</th>\n",
              "      <th>number_of_reviews_l30d</th>\n",
              "      <th>first_review</th>\n",
              "      <th>last_review</th>\n",
              "      <th>review_scores_rating</th>\n",
              "      <th>review_scores_accuracy</th>\n",
              "      <th>review_scores_cleanliness</th>\n",
              "      <th>review_scores_checkin</th>\n",
              "      <th>review_scores_communication</th>\n",
              "      <th>review_scores_location</th>\n",
              "      <th>review_scores_value</th>\n",
              "      <th>license</th>\n",
              "      <th>instant_bookable</th>\n",
              "      <th>calculated_host_listings_count</th>\n",
              "      <th>calculated_host_listings_count_entire_homes</th>\n",
              "      <th>calculated_host_listings_count_private_rooms</th>\n",
              "      <th>calculated_host_listings_count_shared_rooms</th>\n",
              "      <th>reviews_per_month</th>\n",
              "    </tr>\n",
              "  </thead>\n",
              "  <tbody>\n",
              "    <tr>\n",
              "      <th>4</th>\n",
              "      <td>18801518.0</td>\n",
              "      <td>https://www.airbnb.com/rooms/18801518</td>\n",
              "      <td>2.022061e+13</td>\n",
              "      <td>2022-06-05</td>\n",
              "      <td>Coronaproof studio 20 min to A'dam Centre 2-4 ...</td>\n",
              "      <td>We have a CORONAPROOF studio for 4 people (2 s...</td>\n",
              "      <td>Within a 50-100 meter radius of Studio Randje ...</td>\n",
              "      <td>https://a0.muscache.com/pictures/2cdc1fbf-efbc...</td>\n",
              "      <td>75979829.0</td>\n",
              "      <td>https://www.airbnb.com/users/show/75979829</td>\n",
              "      <td>Randje Amsterdam</td>\n",
              "      <td>2016-06-05</td>\n",
              "      <td>Diemen, North Holland, Netherlands</td>\n",
              "      <td>--</td>\n",
              "      <td>within an hour</td>\n",
              "      <td>90%</td>\n",
              "      <td>62%</td>\n",
              "      <td>f</td>\n",
              "      <td>https://a0.muscache.com/im/pictures/user/02c65...</td>\n",
              "      <td>https://a0.muscache.com/im/pictures/user/02c65...</td>\n",
              "      <td>--</td>\n",
              "      <td>1.0</td>\n",
              "      <td>1.0</td>\n",
              "      <td>['email', 'phone', 'work_email']</td>\n",
              "      <td>t</td>\n",
              "      <td>t</td>\n",
              "      <td>Diemen, Noord-Holland, Netherlands</td>\n",
              "      <td>Watergraafsmeer</td>\n",
              "      <td>--</td>\n",
              "      <td>52.33828</td>\n",
              "      <td>4.96443</td>\n",
              "      <td>Private room in rental unit</td>\n",
              "      <td>Private room</td>\n",
              "      <td>4.0</td>\n",
              "      <td>3.0</td>\n",
              "      <td>1 private bath</td>\n",
              "      <td>2.0</td>\n",
              "      <td>3.0</td>\n",
              "      <td>[\"Essentials\", \"Cooking basics\", \"Private fenc...</td>\n",
              "      <td>140.0</td>\n",
              "      <td>2.0</td>\n",
              "      <td>1125.0</td>\n",
              "      <td>2.0</td>\n",
              "      <td>2.0</td>\n",
              "      <td>1125.0</td>\n",
              "      <td>1125.0</td>\n",
              "      <td>2.0</td>\n",
              "      <td>1125.0</td>\n",
              "      <td>--</td>\n",
              "      <td>t</td>\n",
              "      <td>0.0</td>\n",
              "      <td>8.0</td>\n",
              "      <td>14.0</td>\n",
              "      <td>234.0</td>\n",
              "      <td>2022-06-05</td>\n",
              "      <td>85.0</td>\n",
              "      <td>5.0</td>\n",
              "      <td>0.0</td>\n",
              "      <td>2017-07-12</td>\n",
              "      <td>2022-04-17</td>\n",
              "      <td>4.66</td>\n",
              "      <td>4.83</td>\n",
              "      <td>4.90</td>\n",
              "      <td>4.93</td>\n",
              "      <td>4.81</td>\n",
              "      <td>4.46</td>\n",
              "      <td>4.59</td>\n",
              "      <td>038429E48399CA3E3903</td>\n",
              "      <td>f</td>\n",
              "      <td>1.0</td>\n",
              "      <td>0.0</td>\n",
              "      <td>1.0</td>\n",
              "      <td>0.0</td>\n",
              "      <td>1.42</td>\n",
              "    </tr>\n",
              "    <tr>\n",
              "      <th>5</th>\n",
              "      <td>2973384.0</td>\n",
              "      <td>https://www.airbnb.com/rooms/2973384</td>\n",
              "      <td>2.022061e+13</td>\n",
              "      <td>2022-06-05</td>\n",
              "      <td>House on Amstel River Amsterdam</td>\n",
              "      <td>Our house is in the country side \"Amstel River...</td>\n",
              "      <td>--</td>\n",
              "      <td>https://a0.muscache.com/pictures/7913ec9d-3081...</td>\n",
              "      <td>15166925.0</td>\n",
              "      <td>https://www.airbnb.com/users/show/15166925</td>\n",
              "      <td>Gijs</td>\n",
              "      <td>2014-05-06</td>\n",
              "      <td>Amsterdam, Ouderkerk aan de Amstel</td>\n",
              "      <td>Gijs and Eline, we have a son Jacob. Working i...</td>\n",
              "      <td>within a day</td>\n",
              "      <td>100%</td>\n",
              "      <td>38%</td>\n",
              "      <td>f</td>\n",
              "      <td>https://a0.muscache.com/im/pictures/user/4cbe0...</td>\n",
              "      <td>https://a0.muscache.com/im/pictures/user/4cbe0...</td>\n",
              "      <td>--</td>\n",
              "      <td>1.0</td>\n",
              "      <td>1.0</td>\n",
              "      <td>['email', 'phone']</td>\n",
              "      <td>t</td>\n",
              "      <td>f</td>\n",
              "      <td>--</td>\n",
              "      <td>Watergraafsmeer</td>\n",
              "      <td>--</td>\n",
              "      <td>52.30989</td>\n",
              "      <td>4.90528</td>\n",
              "      <td>Entire home</td>\n",
              "      <td>Entire home/apt</td>\n",
              "      <td>5.0</td>\n",
              "      <td>4.0</td>\n",
              "      <td>1.5 baths</td>\n",
              "      <td>3.0</td>\n",
              "      <td>3.0</td>\n",
              "      <td>[\"Boat slip\", \"Dishwasher\", \"Bathtub\", \"Microw...</td>\n",
              "      <td>185.0</td>\n",
              "      <td>6.0</td>\n",
              "      <td>21.0</td>\n",
              "      <td>6.0</td>\n",
              "      <td>6.0</td>\n",
              "      <td>21.0</td>\n",
              "      <td>21.0</td>\n",
              "      <td>6.0</td>\n",
              "      <td>21.0</td>\n",
              "      <td>--</td>\n",
              "      <td>t</td>\n",
              "      <td>0.0</td>\n",
              "      <td>0.0</td>\n",
              "      <td>5.0</td>\n",
              "      <td>13.0</td>\n",
              "      <td>2022-06-05</td>\n",
              "      <td>7.0</td>\n",
              "      <td>2.0</td>\n",
              "      <td>0.0</td>\n",
              "      <td>2018-08-19</td>\n",
              "      <td>2022-01-06</td>\n",
              "      <td>4.83</td>\n",
              "      <td>5.00</td>\n",
              "      <td>4.67</td>\n",
              "      <td>5.00</td>\n",
              "      <td>5.00</td>\n",
              "      <td>5.00</td>\n",
              "      <td>4.67</td>\n",
              "      <td>--</td>\n",
              "      <td>f</td>\n",
              "      <td>1.0</td>\n",
              "      <td>1.0</td>\n",
              "      <td>0.0</td>\n",
              "      <td>0.0</td>\n",
              "      <td>0.15</td>\n",
              "    </tr>\n",
              "  </tbody>\n",
              "</table>\n",
              "</div>\n",
              "      <button class=\"colab-df-convert\" onclick=\"convertToInteractive('df-4cd22c9c-5b0f-4d9e-870d-d9716217700b')\"\n",
              "              title=\"Convert this dataframe to an interactive table.\"\n",
              "              style=\"display:none;\">\n",
              "        \n",
              "  <svg xmlns=\"http://www.w3.org/2000/svg\" height=\"24px\"viewBox=\"0 0 24 24\"\n",
              "       width=\"24px\">\n",
              "    <path d=\"M0 0h24v24H0V0z\" fill=\"none\"/>\n",
              "    <path d=\"M18.56 5.44l.94 2.06.94-2.06 2.06-.94-2.06-.94-.94-2.06-.94 2.06-2.06.94zm-11 1L8.5 8.5l.94-2.06 2.06-.94-2.06-.94L8.5 2.5l-.94 2.06-2.06.94zm10 10l.94 2.06.94-2.06 2.06-.94-2.06-.94-.94-2.06-.94 2.06-2.06.94z\"/><path d=\"M17.41 7.96l-1.37-1.37c-.4-.4-.92-.59-1.43-.59-.52 0-1.04.2-1.43.59L10.3 9.45l-7.72 7.72c-.78.78-.78 2.05 0 2.83L4 21.41c.39.39.9.59 1.41.59.51 0 1.02-.2 1.41-.59l7.78-7.78 2.81-2.81c.8-.78.8-2.07 0-2.86zM5.41 20L4 18.59l7.72-7.72 1.47 1.35L5.41 20z\"/>\n",
              "  </svg>\n",
              "      </button>\n",
              "      \n",
              "  <style>\n",
              "    .colab-df-container {\n",
              "      display:flex;\n",
              "      flex-wrap:wrap;\n",
              "      gap: 12px;\n",
              "    }\n",
              "\n",
              "    .colab-df-convert {\n",
              "      background-color: #E8F0FE;\n",
              "      border: none;\n",
              "      border-radius: 50%;\n",
              "      cursor: pointer;\n",
              "      display: none;\n",
              "      fill: #1967D2;\n",
              "      height: 32px;\n",
              "      padding: 0 0 0 0;\n",
              "      width: 32px;\n",
              "    }\n",
              "\n",
              "    .colab-df-convert:hover {\n",
              "      background-color: #E2EBFA;\n",
              "      box-shadow: 0px 1px 2px rgba(60, 64, 67, 0.3), 0px 1px 3px 1px rgba(60, 64, 67, 0.15);\n",
              "      fill: #174EA6;\n",
              "    }\n",
              "\n",
              "    [theme=dark] .colab-df-convert {\n",
              "      background-color: #3B4455;\n",
              "      fill: #D2E3FC;\n",
              "    }\n",
              "\n",
              "    [theme=dark] .colab-df-convert:hover {\n",
              "      background-color: #434B5C;\n",
              "      box-shadow: 0px 1px 3px 1px rgba(0, 0, 0, 0.15);\n",
              "      filter: drop-shadow(0px 1px 2px rgba(0, 0, 0, 0.3));\n",
              "      fill: #FFFFFF;\n",
              "    }\n",
              "  </style>\n",
              "\n",
              "      <script>\n",
              "        const buttonEl =\n",
              "          document.querySelector('#df-4cd22c9c-5b0f-4d9e-870d-d9716217700b button.colab-df-convert');\n",
              "        buttonEl.style.display =\n",
              "          google.colab.kernel.accessAllowed ? 'block' : 'none';\n",
              "\n",
              "        async function convertToInteractive(key) {\n",
              "          const element = document.querySelector('#df-4cd22c9c-5b0f-4d9e-870d-d9716217700b');\n",
              "          const dataTable =\n",
              "            await google.colab.kernel.invokeFunction('convertToInteractive',\n",
              "                                                     [key], {});\n",
              "          if (!dataTable) return;\n",
              "\n",
              "          const docLinkHtml = 'Like what you see? Visit the ' +\n",
              "            '<a target=\"_blank\" href=https://colab.research.google.com/notebooks/data_table.ipynb>data table notebook</a>'\n",
              "            + ' to learn more about interactive tables.';\n",
              "          element.innerHTML = '';\n",
              "          dataTable['output_type'] = 'display_data';\n",
              "          await google.colab.output.renderOutput(dataTable, element);\n",
              "          const docLink = document.createElement('div');\n",
              "          docLink.innerHTML = docLinkHtml;\n",
              "          element.appendChild(docLink);\n",
              "        }\n",
              "      </script>\n",
              "    </div>\n",
              "  </div>\n",
              "  "
            ]
          },
          "metadata": {},
          "execution_count": 359
        }
      ]
    },
    {
      "cell_type": "code",
      "source": [
        "# Creamos una lista con las 5 propiedades ordenadas de mayor a menor mediana\n",
        "\n",
        "median_order_top = (top.groupby('property_type')\n",
        "['price']\n",
        ".median()\n",
        ".sort_values(ascending= False)\n",
        ".index)\n",
        "\n",
        "median_order_top"
      ],
      "metadata": {
        "id": "_mn19JUGwUXa",
        "colab": {
          "base_uri": "https://localhost:8080/"
        },
        "outputId": "ad41d246-c4ae-4708-c3a7-fbafaa5baa7f"
      },
      "execution_count": null,
      "outputs": [
        {
          "output_type": "execute_result",
          "data": {
            "text/plain": [
              "Index(['Entire home', 'Entire condo', 'Entire rental unit',\n",
              "       'Private room in bed and breakfast', 'Private room in rental unit'],\n",
              "      dtype='object', name='property_type')"
            ]
          },
          "metadata": {},
          "execution_count": 360
        }
      ]
    },
    {
      "cell_type": "code",
      "source": [
        "# Finalmente construimos la gráfica solicitada con el nuevo subconjunto top\n",
        "\n",
        "sns.boxplot(data = top, \n",
        "            y = 'property_type', \n",
        "            x = 'price',\n",
        "            order = median_order_top) # las organizamos de acuerdo al top 5 obtenido anteriormente\n",
        "\n",
        "plt.xlabel('Precio en dólares')\n",
        "plt.ylabel('Tipo de propiedad')\n",
        "plt.title('Precio del hospedaje en función del tipo de propiedad')"
      ],
      "metadata": {
        "id": "MsjfW-hqXIJG",
        "colab": {
          "base_uri": "https://localhost:8080/",
          "height": 318
        },
        "outputId": "98cbe597-9774-4489-b788-a58f2c2cb96f"
      },
      "execution_count": null,
      "outputs": [
        {
          "output_type": "execute_result",
          "data": {
            "text/plain": [
              "Text(0.5, 1.0, 'Precio del hospedaje en función del tipo de propiedad')"
            ]
          },
          "metadata": {},
          "execution_count": 361
        },
        {
          "output_type": "display_data",
          "data": {
            "text/plain": [
              "<Figure size 432x288 with 1 Axes>"
            ],
            "image/png": "[encoded data removed]"
          },
          "metadata": {}
        }
      ]
    },
    {
      "cell_type": "markdown",
      "source": [
        "En la anterior visualización podemos observar una alta dispersión para  todas las categorías. Todas las distribuciones son asimétricas hacía la derecha, la asimetría es ocasionada por propiedades con precios mayores a la media en cada caso. Comparando las medianas podemos observar que en general los condominios son los tipos de propiedad más costosos seguido por los lofts y los apartamentos. \n",
        "\n",
        "**Conclusión: Se observa una distribución de precios ligeramente diferente para cada tipo de propiedad. Los precios sí se ven afectados por el tipo de propiedad, sin embargo, solamente esta variable no permite explicar el comportamiento del precio.**\n",
        "\n",
        "Nota: Observe que en la gráfica general hay tipos de propiedades con mayor precio promedio que los condominios y menor precio que las casas, discuta al respecto."
      ],
      "metadata": {
        "id": "unlWLJvDr5xh"
      }
    },
    {
      "cell_type": "markdown",
      "source": [
        "### Ejercicio 11  (Díficil)\n",
        "\n",
        "Repita el análisis que acabamos de hacer en el ejemplo anterior con el tipo de propiedad y su relación con el precio, pero ahora responda: **¿Existe una relación entre el barrio y el precio por noche del Airbnb?**"
      ],
      "metadata": {
        "id": "Wx7cMLaAziPe"
      }
    },
    {
      "cell_type": "code",
      "source": [
        "# Respuesta\n",
        "\n",
        "median_order = (airbnb.groupby('neighbourhood') # agrupar por tipo de propiedad\n",
        "['price'].                                      # filtrar el precio en cada grupo\n",
        "median().                                       # calcular la mediana\n",
        "sort_values().                 # organizar \n",
        "index)\n",
        "\n",
        "median_order"
      ],
      "metadata": {
        "id": "nqfTelCNWyoA",
        "colab": {
          "base_uri": "https://localhost:8080/"
        },
        "outputId": "728f0c49-0e35-4452-fd6a-806e8fb26b33"
      },
      "execution_count": null,
      "outputs": [
        {
          "output_type": "execute_result",
          "data": {
            "text/plain": [
              "Index(['Jordaan, North Holland, Netherlands',\n",
              "       'Amsterdam-Zuidoost, North Holland, Netherlands',\n",
              "       'Amsterdam-Zuidoost, Noord-Holland, Netherlands',\n",
              "       'Amsterdam , Noord-Holland, Netherlands',\n",
              "       'Abcoude, Utrecht, Netherlands',\n",
              "       'Watergang, Noord-Holland, Netherlands',\n",
              "       'Amsterdam Zuid-Oost, Noord-Holland, Netherlands',\n",
              "       'Amsterdam, Noord Holland, Netherlands',\n",
              "       'Amsterdam, Haarlemmerbuurt, Netherlands',\n",
              "       'Amsterdam, North-Holland, Netherlands', 'Amsterdam, SN, Netherlands',\n",
              "       'Zuiderwoude, Noord-Holland, Netherlands',\n",
              "       'Diemen, Noord-Holland, Netherlands',\n",
              "       'Zeeburg, North Holland, Netherlands',\n",
              "       'Amsterdam, North Holland, Netherlands', '--',\n",
              "       'Landsmeer, Noord-Holland, Netherlands',\n",
              "       'Weesp, Noord-Holland, Netherlands',\n",
              "       'Amsterdam, Noord-Holland, Netherlands', 'Amsterdam, NH, Netherlands',\n",
              "       'De Pijp, North Holland, Netherlands',\n",
              "       'Amsterdam , 2 de Egelantiersdwarsstraat 13 III, Netherlands',\n",
              "       'Amsterdam, Noord- Holland, Netherlands', 'Amsterdam, Netherlands',\n",
              "       'Amsterdam, GD, Netherlands', 'Amsterdam, Netherlands, Netherlands'],\n",
              "      dtype='object', name='neighbourhood')"
            ]
          },
          "metadata": {},
          "execution_count": 362
        }
      ]
    },
    {
      "cell_type": "code",
      "source": [
        "fig = plt.figure(figsize = (12,12) ) # se crea la figura y se determina el tamaño\n",
        "\n",
        "sns.boxplot(data = airbnb, \n",
        "            y = 'neighbourhood', \n",
        "            x = 'price',\n",
        "            order = median_order ) # ordenamiento de mayor a menor frecuencia\n",
        "\n",
        "plt.xlabel('Precio en dólares')\n",
        "plt.ylabel('Barrio')\n",
        "plt.title('Precio del hospedaje en función del Barrio')"
      ],
      "metadata": {
        "colab": {
          "base_uri": "https://localhost:8080/",
          "height": 753
        },
        "id": "lMzSbz0dSRzy",
        "outputId": "c4249c30-4cd2-4e48-8afe-c67cb0cd2fde"
      },
      "execution_count": null,
      "outputs": [
        {
          "output_type": "execute_result",
          "data": {
            "text/plain": [
              "Text(0.5, 1.0, 'Precio del hospedaje en función del Barrio')"
            ]
          },
          "metadata": {},
          "execution_count": 363
        },
        {
          "output_type": "display_data",
          "data": {
            "text/plain": [
              "<Figure size 864x864 with 1 Axes>"
            ],
            "image/png": "[encoded data removed]"
          },
          "metadata": {}
        }
      ]
    },
    {
      "cell_type": "code",
      "source": [
        "# Primero, encontramos cuales son los 5 tipos de propiedades más comunes\n",
        "\n",
        "airbnb['neighbourhood'].value_counts(normalize = True).head(5)*100"
      ],
      "metadata": {
        "colab": {
          "base_uri": "https://localhost:8080/"
        },
        "id": "8o7_pmvVSpYM",
        "outputId": "774be6dd-2f63-4fd8-dff6-726910bcbaf7"
      },
      "execution_count": null,
      "outputs": [
        {
          "output_type": "execute_result",
          "data": {
            "text/plain": [
              "Amsterdam, Noord-Holland, Netherlands             47.415330\n",
              "--                                                24.242424\n",
              "Amsterdam, North Holland, Netherlands             21.122995\n",
              "Amsterdam, NH, Netherlands                         4.367201\n",
              "Amsterdam-Zuidoost, North Holland, Netherlands     0.445633\n",
              "Name: neighbourhood, dtype: float64"
            ]
          },
          "metadata": {},
          "execution_count": 364
        }
      ]
    },
    {
      "cell_type": "code",
      "source": [
        "# Extraemos el índice que contiene el nombre de las categorías de interés\n",
        "\n",
        "top5_properties = (airbnb['neighbourhood'].value_counts(normalize = True).head(5)*100).index\n",
        "top5_properties"
      ],
      "metadata": {
        "colab": {
          "base_uri": "https://localhost:8080/"
        },
        "id": "QnV9P-3MS5Dr",
        "outputId": "366c573a-02dd-4a37-dd21-1984ed8cf888"
      },
      "execution_count": null,
      "outputs": [
        {
          "output_type": "execute_result",
          "data": {
            "text/plain": [
              "Index(['Amsterdam, Noord-Holland, Netherlands', '--',\n",
              "       'Amsterdam, North Holland, Netherlands', 'Amsterdam, NH, Netherlands',\n",
              "       'Amsterdam-Zuidoost, North Holland, Netherlands'],\n",
              "      dtype='object')"
            ]
          },
          "metadata": {},
          "execution_count": 365
        }
      ]
    },
    {
      "cell_type": "code",
      "source": [
        "top5_properties.to_frame()"
      ],
      "metadata": {
        "colab": {
          "base_uri": "https://localhost:8080/",
          "height": 206
        },
        "id": "TKEfuMOBTSML",
        "outputId": "d8c16bab-3b4a-44a4-fc7c-a839f353a8b6"
      },
      "execution_count": null,
      "outputs": [
        {
          "output_type": "execute_result",
          "data": {
            "text/plain": [
              "                                                                                             0\n",
              "Amsterdam, Noord-Holland, Netherlands                    Amsterdam, Noord-Holland, Netherlands\n",
              "--                                                                                          --\n",
              "Amsterdam, North Holland, Netherlands                    Amsterdam, North Holland, Netherlands\n",
              "Amsterdam, NH, Netherlands                                          Amsterdam, NH, Netherlands\n",
              "Amsterdam-Zuidoost, North Holland, Netherlands  Amsterdam-Zuidoost, North Holland, Netherlands"
            ],
            "text/html": [
              "\n",
              "  <div id=\"df-ba9f60a9-3817-4164-ac80-c41e0b2fb5ab\">\n",
              "    <div class=\"colab-df-container\">\n",
              "      <div>\n",
              "<style scoped>\n",
              "    .dataframe tbody tr th:only-of-type {\n",
              "        vertical-align: middle;\n",
              "    }\n",
              "\n",
              "    .dataframe tbody tr th {\n",
              "        vertical-align: top;\n",
              "    }\n",
              "\n",
              "    .dataframe thead th {\n",
              "        text-align: right;\n",
              "    }\n",
              "</style>\n",
              "<table border=\"1\" class=\"dataframe\">\n",
              "  <thead>\n",
              "    <tr style=\"text-align: right;\">\n",
              "      <th></th>\n",
              "      <th>0</th>\n",
              "    </tr>\n",
              "  </thead>\n",
              "  <tbody>\n",
              "    <tr>\n",
              "      <th>Amsterdam, Noord-Holland, Netherlands</th>\n",
              "      <td>Amsterdam, Noord-Holland, Netherlands</td>\n",
              "    </tr>\n",
              "    <tr>\n",
              "      <th>--</th>\n",
              "      <td>--</td>\n",
              "    </tr>\n",
              "    <tr>\n",
              "      <th>Amsterdam, North Holland, Netherlands</th>\n",
              "      <td>Amsterdam, North Holland, Netherlands</td>\n",
              "    </tr>\n",
              "    <tr>\n",
              "      <th>Amsterdam, NH, Netherlands</th>\n",
              "      <td>Amsterdam, NH, Netherlands</td>\n",
              "    </tr>\n",
              "    <tr>\n",
              "      <th>Amsterdam-Zuidoost, North Holland, Netherlands</th>\n",
              "      <td>Amsterdam-Zuidoost, North Holland, Netherlands</td>\n",
              "    </tr>\n",
              "  </tbody>\n",
              "</table>\n",
              "</div>\n",
              "      <button class=\"colab-df-convert\" onclick=\"convertToInteractive('df-ba9f60a9-3817-4164-ac80-c41e0b2fb5ab')\"\n",
              "              title=\"Convert this dataframe to an interactive table.\"\n",
              "              style=\"display:none;\">\n",
              "        \n",
              "  <svg xmlns=\"http://www.w3.org/2000/svg\" height=\"24px\"viewBox=\"0 0 24 24\"\n",
              "       width=\"24px\">\n",
              "    <path d=\"M0 0h24v24H0V0z\" fill=\"none\"/>\n",
              "    <path d=\"M18.56 5.44l.94 2.06.94-2.06 2.06-.94-2.06-.94-.94-2.06-.94 2.06-2.06.94zm-11 1L8.5 8.5l.94-2.06 2.06-.94-2.06-.94L8.5 2.5l-.94 2.06-2.06.94zm10 10l.94 2.06.94-2.06 2.06-.94-2.06-.94-.94-2.06-.94 2.06-2.06.94z\"/><path d=\"M17.41 7.96l-1.37-1.37c-.4-.4-.92-.59-1.43-.59-.52 0-1.04.2-1.43.59L10.3 9.45l-7.72 7.72c-.78.78-.78 2.05 0 2.83L4 21.41c.39.39.9.59 1.41.59.51 0 1.02-.2 1.41-.59l7.78-7.78 2.81-2.81c.8-.78.8-2.07 0-2.86zM5.41 20L4 18.59l7.72-7.72 1.47 1.35L5.41 20z\"/>\n",
              "  </svg>\n",
              "      </button>\n",
              "      \n",
              "  <style>\n",
              "    .colab-df-container {\n",
              "      display:flex;\n",
              "      flex-wrap:wrap;\n",
              "      gap: 12px;\n",
              "    }\n",
              "\n",
              "    .colab-df-convert {\n",
              "      background-color: #E8F0FE;\n",
              "      border: none;\n",
              "      border-radius: 50%;\n",
              "      cursor: pointer;\n",
              "      display: none;\n",
              "      fill: #1967D2;\n",
              "      height: 32px;\n",
              "      padding: 0 0 0 0;\n",
              "      width: 32px;\n",
              "    }\n",
              "\n",
              "    .colab-df-convert:hover {\n",
              "      background-color: #E2EBFA;\n",
              "      box-shadow: 0px 1px 2px rgba(60, 64, 67, 0.3), 0px 1px 3px 1px rgba(60, 64, 67, 0.15);\n",
              "      fill: #174EA6;\n",
              "    }\n",
              "\n",
              "    [theme=dark] .colab-df-convert {\n",
              "      background-color: #3B4455;\n",
              "      fill: #D2E3FC;\n",
              "    }\n",
              "\n",
              "    [theme=dark] .colab-df-convert:hover {\n",
              "      background-color: #434B5C;\n",
              "      box-shadow: 0px 1px 3px 1px rgba(0, 0, 0, 0.15);\n",
              "      filter: drop-shadow(0px 1px 2px rgba(0, 0, 0, 0.3));\n",
              "      fill: #FFFFFF;\n",
              "    }\n",
              "  </style>\n",
              "\n",
              "      <script>\n",
              "        const buttonEl =\n",
              "          document.querySelector('#df-ba9f60a9-3817-4164-ac80-c41e0b2fb5ab button.colab-df-convert');\n",
              "        buttonEl.style.display =\n",
              "          google.colab.kernel.accessAllowed ? 'block' : 'none';\n",
              "\n",
              "        async function convertToInteractive(key) {\n",
              "          const element = document.querySelector('#df-ba9f60a9-3817-4164-ac80-c41e0b2fb5ab');\n",
              "          const dataTable =\n",
              "            await google.colab.kernel.invokeFunction('convertToInteractive',\n",
              "                                                     [key], {});\n",
              "          if (!dataTable) return;\n",
              "\n",
              "          const docLinkHtml = 'Like what you see? Visit the ' +\n",
              "            '<a target=\"_blank\" href=https://colab.research.google.com/notebooks/data_table.ipynb>data table notebook</a>'\n",
              "            + ' to learn more about interactive tables.';\n",
              "          element.innerHTML = '';\n",
              "          dataTable['output_type'] = 'display_data';\n",
              "          await google.colab.output.renderOutput(dataTable, element);\n",
              "          const docLink = document.createElement('div');\n",
              "          docLink.innerHTML = docLinkHtml;\n",
              "          element.appendChild(docLink);\n",
              "        }\n",
              "      </script>\n",
              "    </div>\n",
              "  </div>\n",
              "  "
            ]
          },
          "metadata": {},
          "execution_count": 366
        }
      ]
    },
    {
      "cell_type": "code",
      "source": [
        "# Creamos un filtro con el método isin()\n",
        "\n",
        "top = airbnb.loc[airbnb['neighbourhood'].isin (top5_properties)]\n",
        "top.head(2)\n"
      ],
      "metadata": {
        "colab": {
          "base_uri": "https://localhost:8080/",
          "height": 315
        },
        "id": "7NA6iieKTWHK",
        "outputId": "61e362c8-265d-45f9-ba4a-e46d581116a4"
      },
      "execution_count": null,
      "outputs": [
        {
          "output_type": "execute_result",
          "data": {
            "text/plain": [
              "             id                                      listing_url  \\\n",
              "5  2.973384e+06             https://www.airbnb.com/rooms/2973384   \n",
              "7  6.208214e+17  https://www.airbnb.com/rooms/620821365404674198   \n",
              "\n",
              "      scrape_id last_scraped                                             name  \\\n",
              "5  2.022061e+13   2022-06-05                  House on Amstel River Amsterdam   \n",
              "7  2.022061e+13   2022-06-05  Homestay, 10 minutes away from the city center.   \n",
              "\n",
              "                                         description neighborhood_overview  \\\n",
              "5  Our house is in the country side \"Amstel River...                    --   \n",
              "7  Homestay is just 10 minutes from the city cent...                    --   \n",
              "\n",
              "                                         picture_url      host_id  \\\n",
              "5  https://a0.muscache.com/pictures/7913ec9d-3081...   15166925.0   \n",
              "7  https://a0.muscache.com/pictures/e2069438-7276...  405567985.0   \n",
              "\n",
              "                                      host_url           host_name  \\\n",
              "5   https://www.airbnb.com/users/show/15166925                Gijs   \n",
              "7  https://www.airbnb.com/users/show/405567985  Homestay Amsterdam   \n",
              "\n",
              "   host_since                             host_location  \\\n",
              "5  2014-05-06        Amsterdam, Ouderkerk aan de Amstel   \n",
              "7  2021-06-06  Duivendrecht, Noord-Holland, Netherlands   \n",
              "\n",
              "                                          host_about host_response_time  \\\n",
              "5  Gijs and Eline, we have a son Jacob. Working i...       within a day   \n",
              "7                                                 --     within an hour   \n",
              "\n",
              "  host_response_rate host_acceptance_rate host_is_superhost  \\\n",
              "5               100%                  38%                 f   \n",
              "7               100%                 100%                 f   \n",
              "\n",
              "                                  host_thumbnail_url  \\\n",
              "5  https://a0.muscache.com/im/pictures/user/4cbe0...   \n",
              "7  https://a0.muscache.com/im/pictures/user/a8e95...   \n",
              "\n",
              "                                    host_picture_url host_neighbourhood  \\\n",
              "5  https://a0.muscache.com/im/pictures/user/4cbe0...                 --   \n",
              "7  https://a0.muscache.com/im/pictures/user/a8e95...                 --   \n",
              "\n",
              "   host_listings_count  host_total_listings_count  host_verifications  \\\n",
              "5                  1.0                        1.0  ['email', 'phone']   \n",
              "7                  0.0                        0.0  ['email', 'phone']   \n",
              "\n",
              "  host_has_profile_pic host_identity_verified neighbourhood  \\\n",
              "5                    t                      f            --   \n",
              "7                    t                      f            --   \n",
              "\n",
              "  neighbourhood_cleansed neighbourhood_group_cleansed   latitude  longitude  \\\n",
              "5        Watergraafsmeer                           --  52.309890   4.905280   \n",
              "7        Bijlmer-Centrum                           --  52.329773   4.937512   \n",
              "\n",
              "          property_type        room_type  accommodates  bathrooms  \\\n",
              "5           Entire home  Entire home/apt           5.0        4.0   \n",
              "7  Private room in home     Private room           2.0        4.0   \n",
              "\n",
              "   bathrooms_text  bedrooms  beds  \\\n",
              "5       1.5 baths       3.0   3.0   \n",
              "7  1 private bath       1.0   2.0   \n",
              "\n",
              "                                           amenities  price  minimum_nights  \\\n",
              "5  [\"Boat slip\", \"Dishwasher\", \"Bathtub\", \"Microw...  185.0             6.0   \n",
              "7  [\"Free parking on premises\", \"First aid kit\", ...  120.0             1.0   \n",
              "\n",
              "   maximum_nights  minimum_minimum_nights  maximum_minimum_nights  \\\n",
              "5            21.0                     6.0                     6.0   \n",
              "7           365.0                     1.0                     1.0   \n",
              "\n",
              "   minimum_maximum_nights  maximum_maximum_nights  minimum_nights_avg_ntm  \\\n",
              "5                    21.0                    21.0                     6.0   \n",
              "7                   365.0                   365.0                     1.0   \n",
              "\n",
              "   maximum_nights_avg_ntm calendar_updated has_availability  availability_30  \\\n",
              "5                    21.0               --                t              0.0   \n",
              "7                   365.0               --                t             17.0   \n",
              "\n",
              "   availability_60  availability_90  availability_365 calendar_last_scraped  \\\n",
              "5              0.0              5.0              13.0            2022-06-05   \n",
              "7             41.0             70.0             343.0            2022-06-05   \n",
              "\n",
              "   number_of_reviews  number_of_reviews_ltm  number_of_reviews_l30d  \\\n",
              "5                7.0                    2.0                     0.0   \n",
              "7                3.0                    3.0                     3.0   \n",
              "\n",
              "  first_review last_review  review_scores_rating  review_scores_accuracy  \\\n",
              "5   2018-08-19  2022-01-06                  4.83                    5.00   \n",
              "7   2022-05-15  2022-05-30                  4.33                    4.67   \n",
              "\n",
              "   review_scores_cleanliness  review_scores_checkin  \\\n",
              "5                       4.67                    5.0   \n",
              "7                       4.67                    5.0   \n",
              "\n",
              "   review_scores_communication  review_scores_location  review_scores_value  \\\n",
              "5                          5.0                    5.00                 4.67   \n",
              "7                          5.0                    4.33                 4.33   \n",
              "\n",
              "  license instant_bookable  calculated_host_listings_count  \\\n",
              "5      --                f                             1.0   \n",
              "7      --                t                             1.0   \n",
              "\n",
              "   calculated_host_listings_count_entire_homes  \\\n",
              "5                                          1.0   \n",
              "7                                          0.0   \n",
              "\n",
              "   calculated_host_listings_count_private_rooms  \\\n",
              "5                                           0.0   \n",
              "7                                           1.0   \n",
              "\n",
              "   calculated_host_listings_count_shared_rooms  reviews_per_month  \n",
              "5                                          0.0               0.15  \n",
              "7                                          0.0               3.00  "
            ],
            "text/html": [
              "\n",
              "  <div id=\"df-8e90c0bf-440d-4a91-a387-269e93459e11\">\n",
              "    <div class=\"colab-df-container\">\n",
              "      <div>\n",
              "<style scoped>\n",
              "    .dataframe tbody tr th:only-of-type {\n",
              "        vertical-align: middle;\n",
              "    }\n",
              "\n",
              "    .dataframe tbody tr th {\n",
              "        vertical-align: top;\n",
              "    }\n",
              "\n",
              "    .dataframe thead th {\n",
              "        text-align: right;\n",
              "    }\n",
              "</style>\n",
              "<table border=\"1\" class=\"dataframe\">\n",
              "  <thead>\n",
              "    <tr style=\"text-align: right;\">\n",
              "      <th></th>\n",
              "      <th>id</th>\n",
              "      <th>listing_url</th>\n",
              "      <th>scrape_id</th>\n",
              "      <th>last_scraped</th>\n",
              "      <th>name</th>\n",
              "      <th>description</th>\n",
              "      <th>neighborhood_overview</th>\n",
              "      <th>picture_url</th>\n",
              "      <th>host_id</th>\n",
              "      <th>host_url</th>\n",
              "      <th>host_name</th>\n",
              "      <th>host_since</th>\n",
              "      <th>host_location</th>\n",
              "      <th>host_about</th>\n",
              "      <th>host_response_time</th>\n",
              "      <th>host_response_rate</th>\n",
              "      <th>host_acceptance_rate</th>\n",
              "      <th>host_is_superhost</th>\n",
              "      <th>host_thumbnail_url</th>\n",
              "      <th>host_picture_url</th>\n",
              "      <th>host_neighbourhood</th>\n",
              "      <th>host_listings_count</th>\n",
              "      <th>host_total_listings_count</th>\n",
              "      <th>host_verifications</th>\n",
              "      <th>host_has_profile_pic</th>\n",
              "      <th>host_identity_verified</th>\n",
              "      <th>neighbourhood</th>\n",
              "      <th>neighbourhood_cleansed</th>\n",
              "      <th>neighbourhood_group_cleansed</th>\n",
              "      <th>latitude</th>\n",
              "      <th>longitude</th>\n",
              "      <th>property_type</th>\n",
              "      <th>room_type</th>\n",
              "      <th>accommodates</th>\n",
              "      <th>bathrooms</th>\n",
              "      <th>bathrooms_text</th>\n",
              "      <th>bedrooms</th>\n",
              "      <th>beds</th>\n",
              "      <th>amenities</th>\n",
              "      <th>price</th>\n",
              "      <th>minimum_nights</th>\n",
              "      <th>maximum_nights</th>\n",
              "      <th>minimum_minimum_nights</th>\n",
              "      <th>maximum_minimum_nights</th>\n",
              "      <th>minimum_maximum_nights</th>\n",
              "      <th>maximum_maximum_nights</th>\n",
              "      <th>minimum_nights_avg_ntm</th>\n",
              "      <th>maximum_nights_avg_ntm</th>\n",
              "      <th>calendar_updated</th>\n",
              "      <th>has_availability</th>\n",
              "      <th>availability_30</th>\n",
              "      <th>availability_60</th>\n",
              "      <th>availability_90</th>\n",
              "      <th>availability_365</th>\n",
              "      <th>calendar_last_scraped</th>\n",
              "      <th>number_of_reviews</th>\n",
              "      <th>number_of_reviews_ltm</th>\n",
              "      <th>number_of_reviews_l30d</th>\n",
              "      <th>first_review</th>\n",
              "      <th>last_review</th>\n",
              "      <th>review_scores_rating</th>\n",
              "      <th>review_scores_accuracy</th>\n",
              "      <th>review_scores_cleanliness</th>\n",
              "      <th>review_scores_checkin</th>\n",
              "      <th>review_scores_communication</th>\n",
              "      <th>review_scores_location</th>\n",
              "      <th>review_scores_value</th>\n",
              "      <th>license</th>\n",
              "      <th>instant_bookable</th>\n",
              "      <th>calculated_host_listings_count</th>\n",
              "      <th>calculated_host_listings_count_entire_homes</th>\n",
              "      <th>calculated_host_listings_count_private_rooms</th>\n",
              "      <th>calculated_host_listings_count_shared_rooms</th>\n",
              "      <th>reviews_per_month</th>\n",
              "    </tr>\n",
              "  </thead>\n",
              "  <tbody>\n",
              "    <tr>\n",
              "      <th>5</th>\n",
              "      <td>2.973384e+06</td>\n",
              "      <td>https://www.airbnb.com/rooms/2973384</td>\n",
              "      <td>2.022061e+13</td>\n",
              "      <td>2022-06-05</td>\n",
              "      <td>House on Amstel River Amsterdam</td>\n",
              "      <td>Our house is in the country side \"Amstel River...</td>\n",
              "      <td>--</td>\n",
              "      <td>https://a0.muscache.com/pictures/7913ec9d-3081...</td>\n",
              "      <td>15166925.0</td>\n",
              "      <td>https://www.airbnb.com/users/show/15166925</td>\n",
              "      <td>Gijs</td>\n",
              "      <td>2014-05-06</td>\n",
              "      <td>Amsterdam, Ouderkerk aan de Amstel</td>\n",
              "      <td>Gijs and Eline, we have a son Jacob. Working i...</td>\n",
              "      <td>within a day</td>\n",
              "      <td>100%</td>\n",
              "      <td>38%</td>\n",
              "      <td>f</td>\n",
              "      <td>https://a0.muscache.com/im/pictures/user/4cbe0...</td>\n",
              "      <td>https://a0.muscache.com/im/pictures/user/4cbe0...</td>\n",
              "      <td>--</td>\n",
              "      <td>1.0</td>\n",
              "      <td>1.0</td>\n",
              "      <td>['email', 'phone']</td>\n",
              "      <td>t</td>\n",
              "      <td>f</td>\n",
              "      <td>--</td>\n",
              "      <td>Watergraafsmeer</td>\n",
              "      <td>--</td>\n",
              "      <td>52.309890</td>\n",
              "      <td>4.905280</td>\n",
              "      <td>Entire home</td>\n",
              "      <td>Entire home/apt</td>\n",
              "      <td>5.0</td>\n",
              "      <td>4.0</td>\n",
              "      <td>1.5 baths</td>\n",
              "      <td>3.0</td>\n",
              "      <td>3.0</td>\n",
              "      <td>[\"Boat slip\", \"Dishwasher\", \"Bathtub\", \"Microw...</td>\n",
              "      <td>185.0</td>\n",
              "      <td>6.0</td>\n",
              "      <td>21.0</td>\n",
              "      <td>6.0</td>\n",
              "      <td>6.0</td>\n",
              "      <td>21.0</td>\n",
              "      <td>21.0</td>\n",
              "      <td>6.0</td>\n",
              "      <td>21.0</td>\n",
              "      <td>--</td>\n",
              "      <td>t</td>\n",
              "      <td>0.0</td>\n",
              "      <td>0.0</td>\n",
              "      <td>5.0</td>\n",
              "      <td>13.0</td>\n",
              "      <td>2022-06-05</td>\n",
              "      <td>7.0</td>\n",
              "      <td>2.0</td>\n",
              "      <td>0.0</td>\n",
              "      <td>2018-08-19</td>\n",
              "      <td>2022-01-06</td>\n",
              "      <td>4.83</td>\n",
              "      <td>5.00</td>\n",
              "      <td>4.67</td>\n",
              "      <td>5.0</td>\n",
              "      <td>5.0</td>\n",
              "      <td>5.00</td>\n",
              "      <td>4.67</td>\n",
              "      <td>--</td>\n",
              "      <td>f</td>\n",
              "      <td>1.0</td>\n",
              "      <td>1.0</td>\n",
              "      <td>0.0</td>\n",
              "      <td>0.0</td>\n",
              "      <td>0.15</td>\n",
              "    </tr>\n",
              "    <tr>\n",
              "      <th>7</th>\n",
              "      <td>6.208214e+17</td>\n",
              "      <td>https://www.airbnb.com/rooms/620821365404674198</td>\n",
              "      <td>2.022061e+13</td>\n",
              "      <td>2022-06-05</td>\n",
              "      <td>Homestay, 10 minutes away from the city center.</td>\n",
              "      <td>Homestay is just 10 minutes from the city cent...</td>\n",
              "      <td>--</td>\n",
              "      <td>https://a0.muscache.com/pictures/e2069438-7276...</td>\n",
              "      <td>405567985.0</td>\n",
              "      <td>https://www.airbnb.com/users/show/405567985</td>\n",
              "      <td>Homestay Amsterdam</td>\n",
              "      <td>2021-06-06</td>\n",
              "      <td>Duivendrecht, Noord-Holland, Netherlands</td>\n",
              "      <td>--</td>\n",
              "      <td>within an hour</td>\n",
              "      <td>100%</td>\n",
              "      <td>100%</td>\n",
              "      <td>f</td>\n",
              "      <td>https://a0.muscache.com/im/pictures/user/a8e95...</td>\n",
              "      <td>https://a0.muscache.com/im/pictures/user/a8e95...</td>\n",
              "      <td>--</td>\n",
              "      <td>0.0</td>\n",
              "      <td>0.0</td>\n",
              "      <td>['email', 'phone']</td>\n",
              "      <td>t</td>\n",
              "      <td>f</td>\n",
              "      <td>--</td>\n",
              "      <td>Bijlmer-Centrum</td>\n",
              "      <td>--</td>\n",
              "      <td>52.329773</td>\n",
              "      <td>4.937512</td>\n",
              "      <td>Private room in home</td>\n",
              "      <td>Private room</td>\n",
              "      <td>2.0</td>\n",
              "      <td>4.0</td>\n",
              "      <td>1 private bath</td>\n",
              "      <td>1.0</td>\n",
              "      <td>2.0</td>\n",
              "      <td>[\"Free parking on premises\", \"First aid kit\", ...</td>\n",
              "      <td>120.0</td>\n",
              "      <td>1.0</td>\n",
              "      <td>365.0</td>\n",
              "      <td>1.0</td>\n",
              "      <td>1.0</td>\n",
              "      <td>365.0</td>\n",
              "      <td>365.0</td>\n",
              "      <td>1.0</td>\n",
              "      <td>365.0</td>\n",
              "      <td>--</td>\n",
              "      <td>t</td>\n",
              "      <td>17.0</td>\n",
              "      <td>41.0</td>\n",
              "      <td>70.0</td>\n",
              "      <td>343.0</td>\n",
              "      <td>2022-06-05</td>\n",
              "      <td>3.0</td>\n",
              "      <td>3.0</td>\n",
              "      <td>3.0</td>\n",
              "      <td>2022-05-15</td>\n",
              "      <td>2022-05-30</td>\n",
              "      <td>4.33</td>\n",
              "      <td>4.67</td>\n",
              "      <td>4.67</td>\n",
              "      <td>5.0</td>\n",
              "      <td>5.0</td>\n",
              "      <td>4.33</td>\n",
              "      <td>4.33</td>\n",
              "      <td>--</td>\n",
              "      <td>t</td>\n",
              "      <td>1.0</td>\n",
              "      <td>0.0</td>\n",
              "      <td>1.0</td>\n",
              "      <td>0.0</td>\n",
              "      <td>3.00</td>\n",
              "    </tr>\n",
              "  </tbody>\n",
              "</table>\n",
              "</div>\n",
              "      <button class=\"colab-df-convert\" onclick=\"convertToInteractive('df-8e90c0bf-440d-4a91-a387-269e93459e11')\"\n",
              "              title=\"Convert this dataframe to an interactive table.\"\n",
              "              style=\"display:none;\">\n",
              "        \n",
              "  <svg xmlns=\"http://www.w3.org/2000/svg\" height=\"24px\"viewBox=\"0 0 24 24\"\n",
              "       width=\"24px\">\n",
              "    <path d=\"M0 0h24v24H0V0z\" fill=\"none\"/>\n",
              "    <path d=\"M18.56 5.44l.94 2.06.94-2.06 2.06-.94-2.06-.94-.94-2.06-.94 2.06-2.06.94zm-11 1L8.5 8.5l.94-2.06 2.06-.94-2.06-.94L8.5 2.5l-.94 2.06-2.06.94zm10 10l.94 2.06.94-2.06 2.06-.94-2.06-.94-.94-2.06-.94 2.06-2.06.94z\"/><path d=\"M17.41 7.96l-1.37-1.37c-.4-.4-.92-.59-1.43-.59-.52 0-1.04.2-1.43.59L10.3 9.45l-7.72 7.72c-.78.78-.78 2.05 0 2.83L4 21.41c.39.39.9.59 1.41.59.51 0 1.02-.2 1.41-.59l7.78-7.78 2.81-2.81c.8-.78.8-2.07 0-2.86zM5.41 20L4 18.59l7.72-7.72 1.47 1.35L5.41 20z\"/>\n",
              "  </svg>\n",
              "      </button>\n",
              "      \n",
              "  <style>\n",
              "    .colab-df-container {\n",
              "      display:flex;\n",
              "      flex-wrap:wrap;\n",
              "      gap: 12px;\n",
              "    }\n",
              "\n",
              "    .colab-df-convert {\n",
              "      background-color: #E8F0FE;\n",
              "      border: none;\n",
              "      border-radius: 50%;\n",
              "      cursor: pointer;\n",
              "      display: none;\n",
              "      fill: #1967D2;\n",
              "      height: 32px;\n",
              "      padding: 0 0 0 0;\n",
              "      width: 32px;\n",
              "    }\n",
              "\n",
              "    .colab-df-convert:hover {\n",
              "      background-color: #E2EBFA;\n",
              "      box-shadow: 0px 1px 2px rgba(60, 64, 67, 0.3), 0px 1px 3px 1px rgba(60, 64, 67, 0.15);\n",
              "      fill: #174EA6;\n",
              "    }\n",
              "\n",
              "    [theme=dark] .colab-df-convert {\n",
              "      background-color: #3B4455;\n",
              "      fill: #D2E3FC;\n",
              "    }\n",
              "\n",
              "    [theme=dark] .colab-df-convert:hover {\n",
              "      background-color: #434B5C;\n",
              "      box-shadow: 0px 1px 3px 1px rgba(0, 0, 0, 0.15);\n",
              "      filter: drop-shadow(0px 1px 2px rgba(0, 0, 0, 0.3));\n",
              "      fill: #FFFFFF;\n",
              "    }\n",
              "  </style>\n",
              "\n",
              "      <script>\n",
              "        const buttonEl =\n",
              "          document.querySelector('#df-8e90c0bf-440d-4a91-a387-269e93459e11 button.colab-df-convert');\n",
              "        buttonEl.style.display =\n",
              "          google.colab.kernel.accessAllowed ? 'block' : 'none';\n",
              "\n",
              "        async function convertToInteractive(key) {\n",
              "          const element = document.querySelector('#df-8e90c0bf-440d-4a91-a387-269e93459e11');\n",
              "          const dataTable =\n",
              "            await google.colab.kernel.invokeFunction('convertToInteractive',\n",
              "                                                     [key], {});\n",
              "          if (!dataTable) return;\n",
              "\n",
              "          const docLinkHtml = 'Like what you see? Visit the ' +\n",
              "            '<a target=\"_blank\" href=https://colab.research.google.com/notebooks/data_table.ipynb>data table notebook</a>'\n",
              "            + ' to learn more about interactive tables.';\n",
              "          element.innerHTML = '';\n",
              "          dataTable['output_type'] = 'display_data';\n",
              "          await google.colab.output.renderOutput(dataTable, element);\n",
              "          const docLink = document.createElement('div');\n",
              "          docLink.innerHTML = docLinkHtml;\n",
              "          element.appendChild(docLink);\n",
              "        }\n",
              "      </script>\n",
              "    </div>\n",
              "  </div>\n",
              "  "
            ]
          },
          "metadata": {},
          "execution_count": 367
        }
      ]
    },
    {
      "cell_type": "code",
      "source": [
        "# Creamos una lista con las 5 propiedades ordenadas de mayor a menor mediana\n",
        "\n",
        "median_order_top = (top.groupby('neighbourhood')\n",
        "['price']\n",
        ".median()\n",
        ".sort_values(ascending= False)\n",
        ".index)\n",
        "\n",
        "median_order_top\n"
      ],
      "metadata": {
        "colab": {
          "base_uri": "https://localhost:8080/"
        },
        "id": "FMeOY_Q6Tcmz",
        "outputId": "964d6cba-910e-459e-a58b-3e1e58b5fc20"
      },
      "execution_count": null,
      "outputs": [
        {
          "output_type": "execute_result",
          "data": {
            "text/plain": [
              "Index(['Amsterdam, NH, Netherlands', 'Amsterdam, Noord-Holland, Netherlands',\n",
              "       '--', 'Amsterdam, North Holland, Netherlands',\n",
              "       'Amsterdam-Zuidoost, North Holland, Netherlands'],\n",
              "      dtype='object', name='neighbourhood')"
            ]
          },
          "metadata": {},
          "execution_count": 368
        }
      ]
    },
    {
      "cell_type": "code",
      "source": [
        "# Finalmente construimos la gráfica solicitada con el nuevo subconjunto top\n",
        "\n",
        "sns.boxplot(data = top, \n",
        "            y = 'neighbourhood', \n",
        "            x = 'price',\n",
        "            order = median_order_top) # las organizamos de acuerdo al top 5 obtenido anteriormente\n",
        "\n",
        "plt.xlabel('Precio en dólares')\n",
        "plt.ylabel('Barrio')\n",
        "plt.title('Precio del hospedaje en función del Barrio')"
      ],
      "metadata": {
        "colab": {
          "base_uri": "https://localhost:8080/",
          "height": 318
        },
        "id": "r4mqNi45TgS6",
        "outputId": "9eff20b0-0d0c-4c17-bf6a-8f72dcd970eb"
      },
      "execution_count": null,
      "outputs": [
        {
          "output_type": "execute_result",
          "data": {
            "text/plain": [
              "Text(0.5, 1.0, 'Precio del hospedaje en función del Barrio')"
            ]
          },
          "metadata": {},
          "execution_count": 369
        },
        {
          "output_type": "display_data",
          "data": {
            "text/plain": [
              "<Figure size 432x288 with 1 Axes>"
            ],
            "image/png": "[encoded data removed]"
          },
          "metadata": {}
        }
      ]
    },
    {
      "cell_type": "markdown",
      "source": [
        "Conocida como la ciudad de las bicicletas y de los canales, la capital de los Países Bajos es uno de los mejores destinos turísticos de toda Europa en el que podrás pasar unos divertidos e interesantes días gracias a su interminable oferta de ocio y cultura.\n",
        "En el Dataset se puede observar que los datos están muy dispersos entre barrios, es decir no se podría deternimar una correlación directa entre estos"
      ],
      "metadata": {
        "id": "wxhpafDJpHpi"
      }
    },
    {
      "cell_type": "markdown",
      "source": [
        "### Ejercicio 12\n",
        "\n",
        "Construya un boxplot entre la variable parqueadero y precio.\n",
        "\n",
        "¿Existe alguna relación entre si un Airbnb tiene parqueadero y su precio?"
      ],
      "metadata": {
        "id": "VTupqFQh2TUM"
      }
    },
    {
      "cell_type": "markdown",
      "source": [
        "# En el archivo no existe el campo de parking por ello no se puede realizar este ejercicio"
      ],
      "metadata": {
        "id": "N7QGwuzxVlzz"
      }
    },
    {
      "cell_type": "markdown",
      "source": [
        "### Ejercicio 13\n",
        "\n",
        "Construya una gráfica de dispersión de longitud y latitud. Longitud debe ir en el eje horizontal y latitud en el eje vertical. Para más información consulte [aquí](https://upload.wikimedia.org/wikipedia/commons/thumb/5/58/Latitud_y_Longitud_en_la_Tierra.svg/1920px-Latitud_y_Longitud_en_la_Tierra.svg.png).\n",
        "\n",
        "\n",
        "¿Encuentra algunos patrones? ¿Los hospedajes se distribuyen de forma homogénea en la ciudad de Nueva York?"
      ],
      "metadata": {
        "id": "9c5OEgUNxuxA"
      }
    },
    {
      "cell_type": "code",
      "source": [
        "# Respuesta\n",
        "x=airbnb['longitude']\n",
        "y=airbnb['latitude']\n",
        "\n",
        "df= airbnb[['longitude','latitude' ]]\n"
      ],
      "metadata": {
        "id": "vM7frab66iBN"
      },
      "execution_count": null,
      "outputs": []
    },
    {
      "cell_type": "code",
      "source": [
        "ax = df.plot.scatter(x='longitude', y='latitude' ,   c='longitude')"
      ],
      "metadata": {
        "colab": {
          "base_uri": "https://localhost:8080/",
          "height": 248
        },
        "id": "gghMGBN5WYh1",
        "outputId": "6cc3bfad-48e4-4257-f397-a387fd18b85e"
      },
      "execution_count": null,
      "outputs": [
        {
          "output_type": "display_data",
          "data": {
            "text/plain": [
              "<Figure size 432x288 with 2 Axes>"
            ],
            "image/png": "[encoded data removed]"
          },
          "metadata": {}
        }
      ]
    },
    {
      "cell_type": "markdown",
      "source": [
        "## Ejemplo 2: Uso de jointplot para evaluar puntos con alta concentración de hospedajes"
      ],
      "metadata": {
        "id": "YEaoqwB6-Lks"
      }
    },
    {
      "cell_type": "markdown",
      "source": [
        "En la visualización anterior pudimos observar algunos patrones de distribución de los hospedajes, sin embargo, por la gran cantidad de puntos no es posible analizar qué zonas tienen mayor cantidad de hospedajes. Vamos a ver un nuevo tipo de visualización que nos ayudará en ese análisis. La visualización jointplot nos va permitir visualizar al tiempo la distribución de cada variable por separado y adicionalmente veremos dónde hay mayor concentración de puntos usando un mapa de calor.\n",
        "\n",
        "Para más información de este tipo de visualización consulte [aquí](https://seaborn.pydata.org/generated/seaborn.jointplot.html)."
      ],
      "metadata": {
        "id": "WOvaf5zb5ztH"
      }
    },
    {
      "cell_type": "code",
      "source": [
        "sns.jointplot(data = airbnb,\n",
        "              x='longitude', \n",
        "              y='latitude', \n",
        "              kind=\"hex\", # define la forma de las zonas que vamos a construir\n",
        "              color = 'red')\n",
        "\n",
        "plt.xlabel('Longitud')\n",
        "plt.ylabel('Latitud')\n",
        "plt.title('Hospedajes en función de la ubicación')\n",
        "plt.tight_layout() # Evita el sobrelapamiento de elementos"
      ],
      "metadata": {
        "id": "GqgnlpqF3KES",
        "colab": {
          "base_uri": "https://localhost:8080/",
          "height": 437
        },
        "outputId": "c1953995-5419-406d-f6aa-64178bfca6bc"
      },
      "execution_count": null,
      "outputs": [
        {
          "output_type": "display_data",
          "data": {
            "text/plain": [
              "<Figure size 432x432 with 3 Axes>"
            ],
            "image/png": "[encoded data removed]"
          },
          "metadata": {}
        }
      ]
    },
    {
      "cell_type": "markdown",
      "source": [
        "# Los Hospedajes se concentran entre la latitud 4.90 y longitud 52.36, lo que evidencia que la mayoría de turistan prefieren este sector donde esta el barrio Amsterdam, North Holland, Netherlands"
      ],
      "metadata": {
        "id": "Y_GpggP0qFep"
      }
    },
    {
      "cell_type": "markdown",
      "source": [
        "### Ejercicio 14\n",
        "\n",
        "Utilice un jointplot para analizar la relación entre el número de reseñas (reviews) y el precio.\n",
        "¿Existe una relación entre el precio y el número de reseñas?"
      ],
      "metadata": {
        "id": "yHOxcae633p_"
      }
    },
    {
      "cell_type": "code",
      "source": [
        "# Respuesta"
      ],
      "metadata": {
        "id": "pzyR98u43839"
      },
      "execution_count": null,
      "outputs": []
    },
    {
      "cell_type": "markdown",
      "source": [
        "### Ejercicio 15\n",
        "\n",
        "¿Existe alguna relación entre los Superhosts y el número de reseñas?\n",
        "\n",
        "Puede emplear un diagrama de barras o un boxplot para responder esta pregunta. No olvide discutir el resultado."
      ],
      "metadata": {
        "id": "BQ48DS4448P9"
      }
    },
    {
      "cell_type": "code",
      "source": [
        "# Respuesta\n",
        "\n",
        "sns.jointplot(data = airbnb,\n",
        "              x='review_scores_value', \n",
        "              y='price', \n",
        "              kind=\"hex\", # define la forma de las zonas que vamos a construir\n",
        "              color = 'blue')\n",
        "\n",
        "plt.xlabel('reviews')\n",
        "plt.ylabel('price')\n",
        "plt.title('Precio en función de las reviews')\n",
        "plt.tight_layout() # Evita el sobrelapamiento de elementos"
      ],
      "metadata": {
        "id": "robzlblO475q",
        "colab": {
          "base_uri": "https://localhost:8080/",
          "height": 437
        },
        "outputId": "eaa4c60b-a172-494c-cef6-d0b824e31b28"
      },
      "execution_count": null,
      "outputs": [
        {
          "output_type": "display_data",
          "data": {
            "text/plain": [
              "<Figure size 432x432 with 3 Axes>"
            ],
            "image/png": "[encoded data removed]"
          },
          "metadata": {}
        }
      ]
    },
    {
      "cell_type": "markdown",
      "source": [
        "# LA puntuación del sitio en donde se concentra la mayor parte de turistas es 4.5 para precios entre 180 y 200 dólares"
      ],
      "metadata": {
        "id": "zqqBgOMIqiTe"
      }
    },
    {
      "cell_type": "markdown",
      "source": [
        "## Ejemplo 3: Creación de un geoheatmap con Folium"
      ],
      "metadata": {
        "id": "ksbST6WR-Pk6"
      }
    },
    {
      "cell_type": "markdown",
      "source": [
        "Vamos a trabajar con una herramientas de visualización de mapas interactivos. La librería se se llama folium. Instalamos la librería usando el gestor de paquetes pip. También importamos los módulos necesarios para crear nuestra visualización. Para más información de la librería folium consulte la [Documentación](https://python-visualization.github.io/folium/)."
      ],
      "metadata": {
        "id": "D0u-2TkHH7Wr"
      }
    },
    {
      "cell_type": "code",
      "source": [
        "!pip install -U folium==0.2.1"
      ],
      "metadata": {
        "id": "KdXatUy1LTUe",
        "colab": {
          "base_uri": "https://localhost:8080/"
        },
        "outputId": "303bce07-ea2e-4552-9906-9d1e04669634"
      },
      "execution_count": null,
      "outputs": [
        {
          "output_type": "stream",
          "name": "stdout",
          "text": [
            "Looking in indexes: https://pypi.org/simple, https://us-python.pkg.dev/colab-wheels/public/simple/\n",
            "Requirement already satisfied: folium==0.2.1 in /usr/local/lib/python3.7/dist-packages (0.2.1)\n",
            "Requirement already satisfied: Jinja2 in /usr/local/lib/python3.7/dist-packages (from folium==0.2.1) (2.11.3)\n",
            "Requirement already satisfied: MarkupSafe>=0.23 in /usr/local/lib/python3.7/dist-packages (from Jinja2->folium==0.2.1) (2.0.1)\n"
          ]
        }
      ]
    },
    {
      "cell_type": "code",
      "source": [
        "import folium \n",
        "from folium.plugins import HeatMap"
      ],
      "metadata": {
        "id": "lKaj_RmsLSXI"
      },
      "execution_count": null,
      "outputs": []
    },
    {
      "cell_type": "code",
      "source": [
        "map = folium.Map()\n",
        "map"
      ],
      "metadata": {
        "id": "QB_n-KwfBcmL",
        "colab": {
          "base_uri": "https://localhost:8080/",
          "height": 968
        },
        "outputId": "7287484c-23a8-40ee-9679-3e3fec4c63ea"
      },
      "execution_count": null,
      "outputs": [
        {
          "output_type": "execute_result",
          "data": {
            "text/plain": [
              "<folium.folium.Map at 0x7fe419f4f190>"
            ],
            "text/html": [
              "<div style=\"width:100%;\"><div style=\"position:relative;width:100%;height:0;padding-bottom:60%;\"><span style=\"color:#565656\">Make this Notebook Trusted to load map: File -> Trust Notebook</span><iframe srcdoc=\"&lt;!DOCTYPE html&gt;\n",
              "&lt;head&gt;    \n",
              "    &lt;meta http-equiv=&quot;content-type&quot; content=&quot;text/html; charset=UTF-8&quot; /&gt;\n",
              "    \n",
              "        &lt;script&gt;\n",
              "            L_NO_TOUCH = false;\n",
              "            L_DISABLE_3D = false;\n",
              "        &lt;/script&gt;\n",
              "    \n",
              "    &lt;style&gt;html, body {width: 100%;height: 100%;margin: 0;padding: 0;}&lt;/style&gt;\n",
              "    &lt;style&gt;#map {position:absolute;top:0;bottom:0;right:0;left:0;}&lt;/style&gt;\n",
              "    &lt;script src=&quot;https://cdn.jsdelivr.net/npm/leaflet@1.6.0/dist/leaflet.js&quot;&gt;&lt;/script&gt;\n",
              "    &lt;script src=&quot;https://code.jquery.com/jquery-1.12.4.min.js&quot;&gt;&lt;/script&gt;\n",
              "    &lt;script src=&quot;https://maxcdn.bootstrapcdn.com/bootstrap/3.2.0/js/bootstrap.min.js&quot;&gt;&lt;/script&gt;\n",
              "    &lt;script src=&quot;https://cdnjs.cloudflare.com/ajax/libs/Leaflet.awesome-markers/2.0.2/leaflet.awesome-markers.js&quot;&gt;&lt;/script&gt;\n",
              "    &lt;link rel=&quot;stylesheet&quot; href=&quot;https://cdn.jsdelivr.net/npm/leaflet@1.6.0/dist/leaflet.css&quot;/&gt;\n",
              "    &lt;link rel=&quot;stylesheet&quot; href=&quot;https://maxcdn.bootstrapcdn.com/bootstrap/3.2.0/css/bootstrap.min.css&quot;/&gt;\n",
              "    &lt;link rel=&quot;stylesheet&quot; href=&quot;https://maxcdn.bootstrapcdn.com/bootstrap/3.2.0/css/bootstrap-theme.min.css&quot;/&gt;\n",
              "    &lt;link rel=&quot;stylesheet&quot; href=&quot;https://maxcdn.bootstrapcdn.com/font-awesome/4.6.3/css/font-awesome.min.css&quot;/&gt;\n",
              "    &lt;link rel=&quot;stylesheet&quot; href=&quot;https://cdnjs.cloudflare.com/ajax/libs/Leaflet.awesome-markers/2.0.2/leaflet.awesome-markers.css&quot;/&gt;\n",
              "    &lt;link rel=&quot;stylesheet&quot; href=&quot;https://cdn.jsdelivr.net/gh/python-visualization/folium/folium/templates/leaflet.awesome.rotate.min.css&quot;/&gt;\n",
              "    \n",
              "            &lt;meta name=&quot;viewport&quot; content=&quot;width=device-width,\n",
              "                initial-scale=1.0, maximum-scale=1.0, user-scalable=no&quot; /&gt;\n",
              "            &lt;style&gt;\n",
              "                #map_d50907bfafb01036988babe666c42ecd {\n",
              "                    position: relative;\n",
              "                    width: 100.0%;\n",
              "                    height: 100.0%;\n",
              "                    left: 0.0%;\n",
              "                    top: 0.0%;\n",
              "                }\n",
              "            &lt;/style&gt;\n",
              "        \n",
              "&lt;/head&gt;\n",
              "&lt;body&gt;    \n",
              "    \n",
              "            &lt;div class=&quot;folium-map&quot; id=&quot;map_d50907bfafb01036988babe666c42ecd&quot; &gt;&lt;/div&gt;\n",
              "        \n",
              "&lt;/body&gt;\n",
              "&lt;script&gt;    \n",
              "    \n",
              "            var map_d50907bfafb01036988babe666c42ecd = L.map(\n",
              "                &quot;map_d50907bfafb01036988babe666c42ecd&quot;,\n",
              "                {\n",
              "                    center: [0, 0],\n",
              "                    crs: L.CRS.EPSG3857,\n",
              "                    zoom: 1,\n",
              "                    zoomControl: true,\n",
              "                    preferCanvas: false,\n",
              "                }\n",
              "            );\n",
              "\n",
              "            \n",
              "\n",
              "        \n",
              "    \n",
              "            var tile_layer_31f433c554f7c8129394666b78d34905 = L.tileLayer(\n",
              "                &quot;https://{s}.tile.openstreetmap.org/{z}/{x}/{y}.png&quot;,\n",
              "                {&quot;attribution&quot;: &quot;Data by \\u003ca href=\\&quot;http://openstreetmap.org\\&quot;\\u003eOpenStreetMap\\u003c/a\\u003e, under \\u003ca href=\\&quot;http://www.openstreetmap.org/copyright\\&quot;\\u003eODbL\\u003c/a\\u003e.&quot;, &quot;detectRetina&quot;: false, &quot;maxNativeZoom&quot;: 18, &quot;maxZoom&quot;: 18, &quot;minZoom&quot;: 0, &quot;noWrap&quot;: false, &quot;opacity&quot;: 1, &quot;subdomains&quot;: &quot;abc&quot;, &quot;tms&quot;: false}\n",
              "            ).addTo(map_d50907bfafb01036988babe666c42ecd);\n",
              "        \n",
              "&lt;/script&gt;\" style=\"position:absolute;width:100%;height:100%;left:0;top:0;border:none !important;\" allowfullscreen webkitallowfullscreen mozallowfullscreen></iframe></div></div>"
            ]
          },
          "metadata": {},
          "execution_count": 377
        }
      ]
    },
    {
      "cell_type": "markdown",
      "source": [
        "Podemos ubicar el mapa donde queramos, solo necesitamos las coordenadas del lugar. Por ejemplo, situemos nuestro mapa en la Plaza de Bolívar en Bogotá. Las coordenadas fueron obtenidas usando Google Maps. \n",
        "La estructura de las coordenadas es la siguiente:\n",
        "```\n",
        "[Latitud, Longitud]\n",
        "```\n",
        "\n"
      ],
      "metadata": {
        "id": "neSimouHPxlQ"
      }
    },
    {
      "cell_type": "code",
      "source": [
        "plaza_bolivar = [4.598464,-74.076184] # Coordenas de la plaza de Bolívar\n",
        "\n",
        "map = folium.Map(location = plaza_bolivar,\n",
        "                 zoom_start= 20, # Zoom inicial, valor más grande, mayo zoom\n",
        "                 tiles=\"OpenStreetMap\")\n",
        "map"
      ],
      "metadata": {
        "id": "MR4j_JWxBmxl",
        "colab": {
          "base_uri": "https://localhost:8080/",
          "height": 968
        },
        "outputId": "ce72ea10-7203-496e-e5b1-dcd7e8d9a448"
      },
      "execution_count": null,
      "outputs": [
        {
          "output_type": "execute_result",
          "data": {
            "text/plain": [
              "<folium.folium.Map at 0x7fe41a0a8290>"
            ],
            "text/html": [
              "<div style=\"width:100%;\"><div style=\"position:relative;width:100%;height:0;padding-bottom:60%;\"><span style=\"color:#565656\">Make this Notebook Trusted to load map: File -> Trust Notebook</span><iframe srcdoc=\"&lt;!DOCTYPE html&gt;\n",
              "&lt;head&gt;    \n",
              "    &lt;meta http-equiv=&quot;content-type&quot; content=&quot;text/html; charset=UTF-8&quot; /&gt;\n",
              "    \n",
              "        &lt;script&gt;\n",
              "            L_NO_TOUCH = false;\n",
              "            L_DISABLE_3D = false;\n",
              "        &lt;/script&gt;\n",
              "    \n",
              "    &lt;style&gt;html, body {width: 100%;height: 100%;margin: 0;padding: 0;}&lt;/style&gt;\n",
              "    &lt;style&gt;#map {position:absolute;top:0;bottom:0;right:0;left:0;}&lt;/style&gt;\n",
              "    &lt;script src=&quot;https://cdn.jsdelivr.net/npm/leaflet@1.6.0/dist/leaflet.js&quot;&gt;&lt;/script&gt;\n",
              "    &lt;script src=&quot;https://code.jquery.com/jquery-1.12.4.min.js&quot;&gt;&lt;/script&gt;\n",
              "    &lt;script src=&quot;https://maxcdn.bootstrapcdn.com/bootstrap/3.2.0/js/bootstrap.min.js&quot;&gt;&lt;/script&gt;\n",
              "    &lt;script src=&quot;https://cdnjs.cloudflare.com/ajax/libs/Leaflet.awesome-markers/2.0.2/leaflet.awesome-markers.js&quot;&gt;&lt;/script&gt;\n",
              "    &lt;link rel=&quot;stylesheet&quot; href=&quot;https://cdn.jsdelivr.net/npm/leaflet@1.6.0/dist/leaflet.css&quot;/&gt;\n",
              "    &lt;link rel=&quot;stylesheet&quot; href=&quot;https://maxcdn.bootstrapcdn.com/bootstrap/3.2.0/css/bootstrap.min.css&quot;/&gt;\n",
              "    &lt;link rel=&quot;stylesheet&quot; href=&quot;https://maxcdn.bootstrapcdn.com/bootstrap/3.2.0/css/bootstrap-theme.min.css&quot;/&gt;\n",
              "    &lt;link rel=&quot;stylesheet&quot; href=&quot;https://maxcdn.bootstrapcdn.com/font-awesome/4.6.3/css/font-awesome.min.css&quot;/&gt;\n",
              "    &lt;link rel=&quot;stylesheet&quot; href=&quot;https://cdnjs.cloudflare.com/ajax/libs/Leaflet.awesome-markers/2.0.2/leaflet.awesome-markers.css&quot;/&gt;\n",
              "    &lt;link rel=&quot;stylesheet&quot; href=&quot;https://cdn.jsdelivr.net/gh/python-visualization/folium/folium/templates/leaflet.awesome.rotate.min.css&quot;/&gt;\n",
              "    \n",
              "            &lt;meta name=&quot;viewport&quot; content=&quot;width=device-width,\n",
              "                initial-scale=1.0, maximum-scale=1.0, user-scalable=no&quot; /&gt;\n",
              "            &lt;style&gt;\n",
              "                #map_4f9b6f7ae95a8887d514c27ce644a6a9 {\n",
              "                    position: relative;\n",
              "                    width: 100.0%;\n",
              "                    height: 100.0%;\n",
              "                    left: 0.0%;\n",
              "                    top: 0.0%;\n",
              "                }\n",
              "            &lt;/style&gt;\n",
              "        \n",
              "&lt;/head&gt;\n",
              "&lt;body&gt;    \n",
              "    \n",
              "            &lt;div class=&quot;folium-map&quot; id=&quot;map_4f9b6f7ae95a8887d514c27ce644a6a9&quot; &gt;&lt;/div&gt;\n",
              "        \n",
              "&lt;/body&gt;\n",
              "&lt;script&gt;    \n",
              "    \n",
              "            var map_4f9b6f7ae95a8887d514c27ce644a6a9 = L.map(\n",
              "                &quot;map_4f9b6f7ae95a8887d514c27ce644a6a9&quot;,\n",
              "                {\n",
              "                    center: [4.598464, -74.076184],\n",
              "                    crs: L.CRS.EPSG3857,\n",
              "                    zoom: 20,\n",
              "                    zoomControl: true,\n",
              "                    preferCanvas: false,\n",
              "                }\n",
              "            );\n",
              "\n",
              "            \n",
              "\n",
              "        \n",
              "    \n",
              "            var tile_layer_4faf6a833a2ead8fcce73a1443291d4e = L.tileLayer(\n",
              "                &quot;https://{s}.tile.openstreetmap.org/{z}/{x}/{y}.png&quot;,\n",
              "                {&quot;attribution&quot;: &quot;Data by \\u003ca href=\\&quot;http://openstreetmap.org\\&quot;\\u003eOpenStreetMap\\u003c/a\\u003e, under \\u003ca href=\\&quot;http://www.openstreetmap.org/copyright\\&quot;\\u003eODbL\\u003c/a\\u003e.&quot;, &quot;detectRetina&quot;: false, &quot;maxNativeZoom&quot;: 18, &quot;maxZoom&quot;: 18, &quot;minZoom&quot;: 0, &quot;noWrap&quot;: false, &quot;opacity&quot;: 1, &quot;subdomains&quot;: &quot;abc&quot;, &quot;tms&quot;: false}\n",
              "            ).addTo(map_4f9b6f7ae95a8887d514c27ce644a6a9);\n",
              "        \n",
              "&lt;/script&gt;\" style=\"position:absolute;width:100%;height:100%;left:0;top:0;border:none !important;\" allowfullscreen webkitallowfullscreen mozallowfullscreen></iframe></div></div>"
            ]
          },
          "metadata": {},
          "execution_count": 378
        }
      ]
    },
    {
      "cell_type": "markdown",
      "source": [
        "Luego de esa prueba interesante, ahora sí, construyamos el mapa de Nueva York con las coordenadas respectivas, vamos a centrar el mapa en Central Park."
      ],
      "metadata": {
        "id": "3Q6dY2XtQUd6"
      }
    },
    {
      "cell_type": "code",
      "source": [
        "nueva_york = [40.781027,-73.965726]\n",
        "map1 = folium.Map(location = nueva_york, zoom_start= 10,tiles=\"OpenStreetMap\")\n",
        "map1"
      ],
      "metadata": {
        "id": "a_vH7-1958UQ",
        "colab": {
          "base_uri": "https://localhost:8080/",
          "height": 968
        },
        "outputId": "6b688a0a-7965-4745-befb-8430e928844c"
      },
      "execution_count": null,
      "outputs": [
        {
          "output_type": "execute_result",
          "data": {
            "text/plain": [
              "<folium.folium.Map at 0x7fe41b7f2fd0>"
            ],
            "text/html": [
              "<div style=\"width:100%;\"><div style=\"position:relative;width:100%;height:0;padding-bottom:60%;\"><span style=\"color:#565656\">Make this Notebook Trusted to load map: File -> Trust Notebook</span><iframe srcdoc=\"&lt;!DOCTYPE html&gt;\n",
              "&lt;head&gt;    \n",
              "    &lt;meta http-equiv=&quot;content-type&quot; content=&quot;text/html; charset=UTF-8&quot; /&gt;\n",
              "    \n",
              "        &lt;script&gt;\n",
              "            L_NO_TOUCH = false;\n",
              "            L_DISABLE_3D = false;\n",
              "        &lt;/script&gt;\n",
              "    \n",
              "    &lt;style&gt;html, body {width: 100%;height: 100%;margin: 0;padding: 0;}&lt;/style&gt;\n",
              "    &lt;style&gt;#map {position:absolute;top:0;bottom:0;right:0;left:0;}&lt;/style&gt;\n",
              "    &lt;script src=&quot;https://cdn.jsdelivr.net/npm/leaflet@1.6.0/dist/leaflet.js&quot;&gt;&lt;/script&gt;\n",
              "    &lt;script src=&quot;https://code.jquery.com/jquery-1.12.4.min.js&quot;&gt;&lt;/script&gt;\n",
              "    &lt;script src=&quot;https://maxcdn.bootstrapcdn.com/bootstrap/3.2.0/js/bootstrap.min.js&quot;&gt;&lt;/script&gt;\n",
              "    &lt;script src=&quot;https://cdnjs.cloudflare.com/ajax/libs/Leaflet.awesome-markers/2.0.2/leaflet.awesome-markers.js&quot;&gt;&lt;/script&gt;\n",
              "    &lt;link rel=&quot;stylesheet&quot; href=&quot;https://cdn.jsdelivr.net/npm/leaflet@1.6.0/dist/leaflet.css&quot;/&gt;\n",
              "    &lt;link rel=&quot;stylesheet&quot; href=&quot;https://maxcdn.bootstrapcdn.com/bootstrap/3.2.0/css/bootstrap.min.css&quot;/&gt;\n",
              "    &lt;link rel=&quot;stylesheet&quot; href=&quot;https://maxcdn.bootstrapcdn.com/bootstrap/3.2.0/css/bootstrap-theme.min.css&quot;/&gt;\n",
              "    &lt;link rel=&quot;stylesheet&quot; href=&quot;https://maxcdn.bootstrapcdn.com/font-awesome/4.6.3/css/font-awesome.min.css&quot;/&gt;\n",
              "    &lt;link rel=&quot;stylesheet&quot; href=&quot;https://cdnjs.cloudflare.com/ajax/libs/Leaflet.awesome-markers/2.0.2/leaflet.awesome-markers.css&quot;/&gt;\n",
              "    &lt;link rel=&quot;stylesheet&quot; href=&quot;https://cdn.jsdelivr.net/gh/python-visualization/folium/folium/templates/leaflet.awesome.rotate.min.css&quot;/&gt;\n",
              "    \n",
              "            &lt;meta name=&quot;viewport&quot; content=&quot;width=device-width,\n",
              "                initial-scale=1.0, maximum-scale=1.0, user-scalable=no&quot; /&gt;\n",
              "            &lt;style&gt;\n",
              "                #map_7d1ab2de84c1328bd2442cdf2293f8ab {\n",
              "                    position: relative;\n",
              "                    width: 100.0%;\n",
              "                    height: 100.0%;\n",
              "                    left: 0.0%;\n",
              "                    top: 0.0%;\n",
              "                }\n",
              "            &lt;/style&gt;\n",
              "        \n",
              "&lt;/head&gt;\n",
              "&lt;body&gt;    \n",
              "    \n",
              "            &lt;div class=&quot;folium-map&quot; id=&quot;map_7d1ab2de84c1328bd2442cdf2293f8ab&quot; &gt;&lt;/div&gt;\n",
              "        \n",
              "&lt;/body&gt;\n",
              "&lt;script&gt;    \n",
              "    \n",
              "            var map_7d1ab2de84c1328bd2442cdf2293f8ab = L.map(\n",
              "                &quot;map_7d1ab2de84c1328bd2442cdf2293f8ab&quot;,\n",
              "                {\n",
              "                    center: [40.781027, -73.965726],\n",
              "                    crs: L.CRS.EPSG3857,\n",
              "                    zoom: 10,\n",
              "                    zoomControl: true,\n",
              "                    preferCanvas: false,\n",
              "                }\n",
              "            );\n",
              "\n",
              "            \n",
              "\n",
              "        \n",
              "    \n",
              "            var tile_layer_89aabaecb6096dfa906243e8fe3c8242 = L.tileLayer(\n",
              "                &quot;https://{s}.tile.openstreetmap.org/{z}/{x}/{y}.png&quot;,\n",
              "                {&quot;attribution&quot;: &quot;Data by \\u003ca href=\\&quot;http://openstreetmap.org\\&quot;\\u003eOpenStreetMap\\u003c/a\\u003e, under \\u003ca href=\\&quot;http://www.openstreetmap.org/copyright\\&quot;\\u003eODbL\\u003c/a\\u003e.&quot;, &quot;detectRetina&quot;: false, &quot;maxNativeZoom&quot;: 18, &quot;maxZoom&quot;: 18, &quot;minZoom&quot;: 0, &quot;noWrap&quot;: false, &quot;opacity&quot;: 1, &quot;subdomains&quot;: &quot;abc&quot;, &quot;tms&quot;: false}\n",
              "            ).addTo(map_7d1ab2de84c1328bd2442cdf2293f8ab);\n",
              "        \n",
              "&lt;/script&gt;\" style=\"position:absolute;width:100%;height:100%;left:0;top:0;border:none !important;\" allowfullscreen webkitallowfullscreen mozallowfullscreen></iframe></div></div>"
            ]
          },
          "metadata": {},
          "execution_count": 379
        }
      ]
    },
    {
      "cell_type": "markdown",
      "source": [
        "Ahora necesitamos entregarle a Folium un contenedor de los datos de latitud y longitud. Para eso usamos la función zip que convierte dos objetos iterables y une los elementos en tuplas. Para más información consulte [aquí](https://ellibrodepython.com/zip-python)."
      ],
      "metadata": {
        "id": "I4aClr-rRn_C"
      }
    },
    {
      "cell_type": "code",
      "source": [
        "data = list(zip(airbnb['latitude'], \n",
        "                airbnb['longitude']))\n",
        "\n",
        "data[0:10]"
      ],
      "metadata": {
        "id": "fzJQVQRBDk02",
        "colab": {
          "base_uri": "https://localhost:8080/"
        },
        "outputId": "ce354659-38bd-4a28-8202-298bed41e1ef"
      },
      "execution_count": null,
      "outputs": [
        {
          "output_type": "execute_result",
          "data": {
            "text/plain": [
              "[(52.34916, 4.97879),\n",
              " (52.42419, 4.95689),\n",
              " (52.43237, 4.91821),\n",
              " (52.31475, 5.0303),\n",
              " (52.33828, 4.96443),\n",
              " (52.30989, 4.90528),\n",
              " (52.42831, 5.042191),\n",
              " (52.329773435800476, 4.937511981512809),\n",
              " (52.29591, 5.01325),\n",
              " (52.33851, 4.99961)]"
            ]
          },
          "metadata": {},
          "execution_count": 380
        }
      ]
    },
    {
      "cell_type": "markdown",
      "source": [
        "Ahora vamos a crear la capa del mapa de calor usando un plugin de Folium llamada HeatMap. A este le pasamos los datos y algunos parámetros para ajustar el color. Es importante que la librería Folium esté actualizada para que el mapa sea reproducible. "
      ],
      "metadata": {
        "id": "LiyPy_f3TC7J"
      }
    },
    {
      "cell_type": "code",
      "source": [
        "hm_loc = HeatMap(data,\n",
        "              min_opacity = 0.2,\n",
        "              radius = 8,\n",
        "              blur = 6)"
      ],
      "metadata": {
        "id": "6YvEjjmgD41V"
      },
      "execution_count": null,
      "outputs": []
    },
    {
      "cell_type": "code",
      "source": [
        "# Ahora añadimos la capa al mapa que ya habíamos creado\n",
        "\n",
        "map1.add_child(hm_loc)\n",
        "map1"
      ],
      "metadata": {
        "id": "B62X3PbND6i4",
        "colab": {
          "base_uri": "https://localhost:8080/",
          "height": 968
        },
        "outputId": "c41a67e7-dec6-437b-8bb0-a0b06f4924e4"
      },
      "execution_count": null,
      "outputs": [
        {
          "output_type": "execute_result",
          "data": {
            "text/plain": [
              "<folium.folium.Map at 0x7fe41b7f2fd0>"
            ],
            "text/html": [
              "<div style=\"width:100%;\"><div style=\"position:relative;width:100%;height:0;padding-bottom:60%;\"><span style=\"color:#565656\">Make this Notebook Trusted to load map: File -> Trust Notebook</span><iframe srcdoc=\"&lt;!DOCTYPE html&gt;\n",
              "&lt;head&gt;    \n",
              "    &lt;meta http-equiv=&quot;content-type&quot; content=&quot;text/html; charset=UTF-8&quot; /&gt;\n",
              "    \n",
              "        &lt;script&gt;\n",
              "            L_NO_TOUCH = false;\n",
              "            L_DISABLE_3D = false;\n",
              "        &lt;/script&gt;\n",
              "    \n",
              "    &lt;style&gt;html, body {width: 100%;height: 100%;margin: 0;padding: 0;}&lt;/style&gt;\n",
              "    &lt;style&gt;#map {position:absolute;top:0;bottom:0;right:0;left:0;}&lt;/style&gt;\n",
              "    &lt;script src=&quot;https://cdn.jsdelivr.net/npm/leaflet@1.6.0/dist/leaflet.js&quot;&gt;&lt;/script&gt;\n",
              "    &lt;script src=&quot;https://code.jquery.com/jquery-1.12.4.min.js&quot;&gt;&lt;/script&gt;\n",
              "    &lt;script src=&quot;https://maxcdn.bootstrapcdn.com/bootstrap/3.2.0/js/bootstrap.min.js&quot;&gt;&lt;/script&gt;\n",
              "    &lt;script src=&quot;https://cdnjs.cloudflare.com/ajax/libs/Leaflet.awesome-markers/2.0.2/leaflet.awesome-markers.js&quot;&gt;&lt;/script&gt;\n",
              "    &lt;link rel=&quot;stylesheet&quot; href=&quot;https://cdn.jsdelivr.net/npm/leaflet@1.6.0/dist/leaflet.css&quot;/&gt;\n",
              "    &lt;link rel=&quot;stylesheet&quot; href=&quot;https://maxcdn.bootstrapcdn.com/bootstrap/3.2.0/css/bootstrap.min.css&quot;/&gt;\n",
              "    &lt;link rel=&quot;stylesheet&quot; href=&quot;https://maxcdn.bootstrapcdn.com/bootstrap/3.2.0/css/bootstrap-theme.min.css&quot;/&gt;\n",
              "    &lt;link rel=&quot;stylesheet&quot; href=&quot;https://maxcdn.bootstrapcdn.com/font-awesome/4.6.3/css/font-awesome.min.css&quot;/&gt;\n",
              "    &lt;link rel=&quot;stylesheet&quot; href=&quot;https://cdnjs.cloudflare.com/ajax/libs/Leaflet.awesome-markers/2.0.2/leaflet.awesome-markers.css&quot;/&gt;\n",
              "    &lt;link rel=&quot;stylesheet&quot; href=&quot;https://cdn.jsdelivr.net/gh/python-visualization/folium/folium/templates/leaflet.awesome.rotate.min.css&quot;/&gt;\n",
              "    \n",
              "            &lt;meta name=&quot;viewport&quot; content=&quot;width=device-width,\n",
              "                initial-scale=1.0, maximum-scale=1.0, user-scalable=no&quot; /&gt;\n",
              "            &lt;style&gt;\n",
              "                #map_7d1ab2de84c1328bd2442cdf2293f8ab {\n",
              "                    position: relative;\n",
              "                    width: 100.0%;\n",
              "                    height: 100.0%;\n",
              "                    left: 0.0%;\n",
              "                    top: 0.0%;\n",
              "                }\n",
              "            &lt;/style&gt;\n",
              "        \n",
              "    &lt;script src=&quot;https://cdn.jsdelivr.net/gh/python-visualization/folium@master/folium/templates/leaflet_heat.min.js&quot;&gt;&lt;/script&gt;\n",
              "&lt;/head&gt;\n",
              "&lt;body&gt;    \n",
              "    \n",
              "            &lt;div class=&quot;folium-map&quot; id=&quot;map_7d1ab2de84c1328bd2442cdf2293f8ab&quot; &gt;&lt;/div&gt;\n",
              "        \n",
              "&lt;/body&gt;\n",
              "&lt;script&gt;    \n",
              "    \n",
              "            var map_7d1ab2de84c1328bd2442cdf2293f8ab = L.map(\n",
              "                &quot;map_7d1ab2de84c1328bd2442cdf2293f8ab&quot;,\n",
              "                {\n",
              "                    center: [40.781027, -73.965726],\n",
              "                    crs: L.CRS.EPSG3857,\n",
              "                    zoom: 10,\n",
              "                    zoomControl: true,\n",
              "                    preferCanvas: false,\n",
              "                }\n",
              "            );\n",
              "\n",
              "            \n",
              "\n",
              "        \n",
              "    \n",
              "            var tile_layer_89aabaecb6096dfa906243e8fe3c8242 = L.tileLayer(\n",
              "                &quot;https://{s}.tile.openstreetmap.org/{z}/{x}/{y}.png&quot;,\n",
              "                {&quot;attribution&quot;: &quot;Data by \\u003ca href=\\&quot;http://openstreetmap.org\\&quot;\\u003eOpenStreetMap\\u003c/a\\u003e, under \\u003ca href=\\&quot;http://www.openstreetmap.org/copyright\\&quot;\\u003eODbL\\u003c/a\\u003e.&quot;, &quot;detectRetina&quot;: false, &quot;maxNativeZoom&quot;: 18, &quot;maxZoom&quot;: 18, &quot;minZoom&quot;: 0, &quot;noWrap&quot;: false, &quot;opacity&quot;: 1, &quot;subdomains&quot;: &quot;abc&quot;, &quot;tms&quot;: false}\n",
              "            ).addTo(map_7d1ab2de84c1328bd2442cdf2293f8ab);\n",
              "        \n",
              "    \n",
              "            var heat_map_3d5db70e0a036ba91b1f4e90f1f88093 = L.heatLayer(\n",
              "                [[52.34916, 4.97879], [52.42419, 4.95689], [52.43237, 4.91821], [52.31475, 5.0303], [52.33828, 4.96443], [52.30989, 4.90528], [52.42831, 5.042191], [52.329773435800476, 4.937511981512809], [52.29591, 5.01325], [52.33851, 4.99961], [52.34197, 4.95708], [52.330476805177724, 4.935151987399042], [52.39589, 4.87612], [52.36407, 4.89393], [52.38761, 4.89188], [52.37168, 4.91471], [52.358112, 4.897637], [52.36431, 4.93122], [52.37828, 4.8944], [52.36968, 4.88122], [52.34801, 4.83639], [52.35178, 4.90699], [52.38104, 4.88306], [52.36768, 4.86646], [52.3683, 4.85446], [52.37548, 4.89398], [52.36707, 4.87348], [52.34416, 4.88709], [52.35695, 4.85234], [52.37977, 4.85574], [52.37725, 4.83307], [52.37561, 4.9], [52.37561, 4.9], [52.37239, 4.89657], [52.3623, 4.92028], [52.35931, 4.89844], [52.36733, 4.92055], [52.35871, 4.89616], [52.37104, 4.87713], [52.35669, 4.90187], [52.35625, 4.89323], [52.3606, 4.85739], [52.36129, 4.98845], [52.36738, 4.89671], [52.37824, 4.88532], [52.35338, 4.93407], [52.35043, 4.84676], [52.36905, 4.93528], [52.35503, 4.90516], [52.36116, 4.86608], [52.37281, 4.94303], [52.37001, 4.85646], [52.37006, 4.90081], [52.3739, 4.89263], [52.39134, 4.89067], [52.36812, 4.85422], [52.3543, 4.87701], [52.36412, 4.88757], [52.37694, 4.88003], [52.37166, 4.82951], [52.39675, 4.99603], [52.37126, 4.86241], [52.38444, 4.86916], [52.33558, 4.86878], [52.36112, 4.89462], [52.39144, 4.88436], [52.39442, 4.91478], [52.36918, 4.91316], [52.36809, 4.85436], [52.37621, 4.87075], [52.41016, 4.96369], [52.36368, 4.9794], [52.381996, 4.888583], [52.35094, 4.88552], [52.37098, 4.89434], [52.3551, 4.93262], [52.41878, 4.89397], [52.36716, 4.90462], [52.38296, 4.83786], [52.374, 4.89902], [52.37449, 4.84762], [52.35537, 4.89477], [52.36462, 4.86824], [52.38284, 4.89007], [52.36112, 4.89632], [52.35344, 4.8954], [52.3731, 4.86859], [52.37098, 4.9227], [52.36866, 4.92071], [52.35659, 4.90827], [52.36131, 4.8519], [52.37266, 4.90456], [52.36754, 4.88733], [52.40164, 4.95106], [52.37824, 4.86826], [52.37641, 4.88303], [52.34985, 4.83578], [52.36856, 4.89896], [52.37048, 4.90385], [52.36884, 4.86127], [52.36476, 4.90925], [52.34725, 4.89341], [52.36123, 4.89619], [52.37272, 4.90418], [52.36899, 4.91607], [52.34025, 4.8466], [52.35327, 4.88703], [52.37262, 4.87342], [52.35584, 4.87401], [52.35262, 4.89968], [52.42379, 4.88851], [52.35894, 4.91171], [52.36049, 4.88982], [52.35637, 4.85373], [52.38875, 4.87835], [52.36897, 4.85561], [52.33229, 4.87431], [52.40666, 4.90344], [52.38772, 4.88147], [52.35448, 4.93366], [52.3395, 4.84898], [52.3709, 4.85301], [52.356197, 4.991435], [52.4016, 4.89785], [52.3624, 4.86575], [52.32019, 4.95501], [52.36561, 4.88492], [52.35531, 4.90333], [52.34176, 4.84782], [52.37225, 4.86262], [52.381615, 4.877059], [52.36369, 4.83861], [52.35166, 4.83893], [52.38355, 4.90951], [52.3543, 4.88103], [52.36051, 4.86451], [52.34746, 4.87559], [52.36324, 4.8679], [52.36064, 4.97643], [52.36256, 4.89809], [52.36688, 4.87684], [52.35696, 4.92971], [52.35339, 4.94237], [52.30573, 5.01471], [52.35174, 4.89701], [52.37784086721657, 4.861779064281085], [52.39054, 4.88886], [52.3537, 4.88632], [52.31774, 4.94647], [52.38231, 4.84866], [52.38295, 4.88854], [52.36042, 4.86161], [52.35823, 4.92035], [52.35043, 4.90079], [52.367088, 4.863511], [52.35936, 4.86001], [52.36646, 4.88235], [52.36647, 4.85138], [52.36689, 4.91809], [52.37537, 4.86019], [52.42397, 4.88864], [52.38123, 4.88619], [52.3815, 4.88538], [52.3814, 4.88553], [52.37639, 4.87637], [52.36871, 4.87207], [52.35719, 4.92193], [52.37141, 4.90353], [52.38295, 4.9152], [52.36104, 4.85778], [52.36101, 4.89042], [52.36482231096632, 4.9332502266687], [52.36541, 4.92481], [52.38598, 4.89164], [52.37591, 4.8479], [52.35229, 4.89105], [52.37563, 4.85014], [52.37993, 4.8683], [52.35102, 4.89063], [52.3603, 4.86692], [52.361286, 4.893265], [52.37004, 4.88501], [52.38399, 4.83583], [52.37016, 4.885], [52.3798, 4.88726], [52.3552, 4.89161], [52.36333, 4.93846], [52.34933, 4.91314], [52.34292, 4.89445], [52.36566, 4.87717], [52.37074, 4.95286], [52.36063, 4.89241], [52.36307, 4.89709], [52.35811, 4.85707], [52.37976, 4.88293], [52.34174, 4.90396], [52.40793, 4.90264], [52.33917, 4.89633], [52.36262, 4.86174], [52.35345, 4.89037], [52.37318, 4.88886], [52.3643, 4.88867], [52.37087, 4.91014], [52.35928, 4.83608], [52.38778, 4.88848], [52.34825, 4.93682], [52.37595, 4.87697], [52.37381, 4.87296], [52.38324, 4.85573], [52.35977, 4.90936], [52.36095, 4.92986], [52.371, 4.88731], [52.36373, 4.93306], [52.36676, 4.86285], [52.35593, 4.89208], [52.38393, 4.84977], [52.37923, 4.88388], [52.36407, 4.94169], [52.36603, 4.86898], [52.37705, 4.94046], [52.37567, 4.85533], [52.35539, 4.88758], [52.35808, 4.89101], [52.37125, 4.90529], [52.35042, 4.8922], [52.35327, 4.84733], [52.3522, 4.91484], [52.35151, 4.88881], [52.36136, 4.92817], [52.40325, 4.91954], [52.39145, 4.929], [52.41278, 4.91917], [52.37429, 4.86268], [52.38995, 4.8726], [52.35469, 4.85663], [52.38968, 4.88799], [52.35198, 4.90531], [52.35639, 4.91596], [52.39333, 4.91358], [52.37156, 4.9438], [52.35489, 4.89739], [52.38428, 4.88636], [52.38351, 4.88368], [52.36693, 4.88522], [52.35646, 4.83178], [52.380775, 4.888254], [52.37369, 4.90379], [52.35363, 4.91644], [52.35772, 4.88034], [52.34965, 4.89403], [52.37515, 4.94627], [52.38414, 4.85433], [52.3695, 4.83711], [52.34201, 4.895274], [52.37617, 4.87724], [52.36807, 4.87636], [52.31182, 5.00063], [52.35216, 4.92835], [52.31217, 4.99983], [52.36955, 4.88113], [52.37935, 4.85477], [52.35612, 4.88026], [52.39519, 4.91041], [52.36409, 4.84923], [52.39567, 5.0052], [52.37514, 4.88916], [52.36124, 4.89053], [52.40613, 4.92436], [52.363968, 4.885711], [52.35748, 4.85038], [52.35035, 4.91362], [52.36491, 4.86102], [52.37292, 4.8203], [52.35326, 4.90668], [52.37486, 4.87437], [52.35593, 4.90072], [52.36091, 4.97497], [52.39984, 4.92056], [52.37615, 4.89001], [52.36623, 4.85891], [52.36568, 4.85883], [52.36324, 4.93476], [52.37749, 4.97868], [52.3705, 4.86328], [52.36695, 4.87465], [52.364777, 4.908362], [52.35227, 5.00066], [52.36737, 4.86018], [52.36998, 4.87264], [52.41016, 4.96369], [52.36029, 4.90464], [52.36182, 4.90581], [52.37746, 4.83598], [52.37113, 4.91338], [52.3661, 4.94138], [52.38169, 4.88362], [52.3867, 4.91677], [52.35127, 4.89384], [52.38468, 4.81532], [52.37544, 4.87394], [52.34238, 4.79699], [52.3757, 4.85931], [52.36145, 4.88552], [52.36901, 4.86852], [52.34718, 4.88952], [52.35206, 4.89746], [52.37418, 4.86866], [52.3745, 4.83894], [52.35629, 4.94228], [52.35542, 4.9981], [52.37296, 4.90789], [52.36604, 4.86711], [52.3331, 4.903], [52.35853, 4.91675], [52.39097, 4.8777], [52.35138, 4.85136], [52.41704, 4.8996], [52.37497, 4.85833], [52.36342, 4.88956], [52.38371, 4.89072], [52.3619, 4.86415], [52.3726, 4.87291], [52.376488, 4.876391], [52.36202, 4.86377], [52.3532, 4.88882], [52.37385, 4.88359], [52.35601, 4.90013], [52.36112, 4.86083], [52.38789, 4.88825], [52.35554, 4.90439], [52.37171, 4.93199], [52.3773, 4.89475], [52.37838, 4.86084], [52.32487, 4.85825], [52.3641, 4.88634], [52.35986, 4.86332], [52.35242, 4.92652], [52.34998, 4.89492], [52.38364, 4.88563], [52.3778, 4.88626], [52.35963, 4.94314], [52.34361, 4.89763], [52.36706, 4.92487], [52.36204, 4.92375], [52.35396, 4.93526], [52.37313, 4.89652], [52.38182, 4.84981], [52.36357, 4.83057], [52.36957, 4.88305], [52.36732, 4.86448], [52.34315, 4.86275], [52.3676, 4.92472], [52.41119, 4.8931], [52.37579, 4.93414], [52.37713, 4.8821], [52.40679, 4.91361], [52.3624, 4.8935], [52.35496, 4.91249], [52.37135, 4.8958], [52.35471, 4.85546], [52.35398, 4.90484], [52.37087, 4.8551], [52.35382, 4.82938], [52.36487, 4.93429], [52.34097, 4.9036], [52.34703, 4.93908], [52.354, 4.90514], [52.37294, 4.95167], [52.36441, 4.88599], [52.34446, 4.95261], [52.37664, 4.8521], [52.35706, 4.89405], [52.35289, 4.90646], [52.35391, 4.90603], [52.36616, 4.87324], [52.36792, 4.87486], [52.36715, 4.87546], [52.35331, 4.86986], [52.37338, 4.86333], [52.36986, 4.92258], [52.37597, 4.8843], [52.36724, 4.87198], [52.36508, 4.92442], [52.351, 4.85453], [52.37065, 4.94039], [52.36678, 4.87437], [52.36121, 4.85911], [52.34984, 4.89251], [52.36825, 4.93031], [52.34838, 4.78878], [52.35568, 4.88501], [52.36196, 4.91747], [52.36945, 4.92002], [52.3523, 4.84698], [52.36529, 4.85138], [52.35362, 4.90053], [52.35997, 4.91293], [52.37942, 4.88423], [52.36181, 4.89755], [52.3687, 4.88595], [52.38952, 4.88661], [52.3775, 4.94526], [52.38402, 4.88491], [52.35695, 4.91912], [52.42185, 4.90293], [52.34666, 4.88879], [52.34087, 4.90034], [52.37106, 4.84848], [52.29122, 4.97366], [52.38055, 4.87595], [52.37377, 4.88827], [52.38468, 4.91291], [52.34703, 4.87727], [52.3695, 4.86229], [52.36924, 4.86025], [52.36793, 4.90726], [52.37414, 4.88209], [52.35324, 4.93751], [52.40405, 4.94165], [52.38405, 4.90738], [52.35852, 4.90919], [52.38231, 4.87233], [52.34961, 4.85097], [52.37807, 4.88392], [52.35663, 4.98739], [52.3698, 4.91396], [52.38069, 4.88447], [52.35393, 4.99436], [52.35544, 4.90446], [52.37164, 4.92134], [52.36317, 4.98578], [52.36715, 4.87044], [52.37489, 4.90546], [52.39049, 4.8829], [52.3632, 4.92567], [52.34559, 4.79503], [52.35876, 4.85966], [52.35432, 4.90506], [52.35882, 4.9341], [52.36319, 4.87663], [52.36794, 4.87251], [52.36788, 4.91004], [52.35123, 4.86009], [52.3784, 4.85215], [52.3822, 4.87139], [52.37173, 4.87109], [52.38991, 4.87708], [52.36008, 4.91091], [52.34269, 4.87192], [52.37709, 4.87519], [52.39314, 4.92327], [52.37047, 4.87464], [52.38753, 4.88432], [52.3728, 4.87608], [52.36049, 4.86079], [52.36287, 4.97491], [52.34075, 4.94755], [52.38035, 4.85353], [52.35254, 4.89458], [52.38563, 4.91785], [52.37088, 4.86814], [52.33837, 4.8464], [52.4147, 5.02643], [52.36186, 4.89185], [52.36939, 4.85912], [52.36923, 4.86838], [52.3754, 4.86312], [52.38651, 4.91652], [52.35382, 4.94032], [52.41811, 4.90178], [52.36324, 4.89884], [52.42204, 4.9558], [52.36887, 4.8663], [52.35744, 4.93739], [52.36842, 4.92438], [52.36591, 4.90712], [52.37464, 4.8782], [52.38577, 4.87007], [52.38139, 4.86866], [52.35173, 4.91328], [52.30023, 4.99987], [52.35613, 4.88863], [52.3606, 4.85591], [52.36222, 4.90081], [52.36894, 4.88657], [52.38345, 4.87251], [52.36495, 4.87867], [52.37093, 4.8563], [52.38071, 4.85738], [52.3681, 4.89934], [52.36846, 4.87389], [52.35053, 4.85961], [52.39976, 4.90331], [52.37298, 4.85418], [52.35556, 4.91198], [52.36846, 4.86632], [52.38971, 4.88485], [52.36786, 4.87836], [52.3794, 4.96613], [52.37167, 4.85471], [52.35736, 4.90468], [52.37089, 4.87258], [52.35128, 4.88991], [52.37384, 4.88185], [52.35032, 4.88748], [52.404045, 4.901576], [52.36115, 4.896], [52.40481, 4.9004], [52.36207, 4.97713], [52.42512, 4.88842], [52.38728, 4.88526], [52.35481, 4.90078], [52.36282, 4.86005], [52.36382, 4.94345], [52.37712, 4.91568], [52.36881, 4.91573], [52.35668, 4.89999], [52.37056, 4.86855], [52.35458, 4.99522], [52.36495, 4.85858], [52.36398, 4.93364], [52.35913, 4.85134], [52.37928, 4.85735], [52.37543, 4.84768], [52.36415, 4.98588], [52.38735, 4.91605], [52.3633, 4.91135], [52.37239, 4.87172], [52.35251, 4.79768], [52.35697, 4.90516], [52.35661, 4.8567], [52.38234, 4.86861], [52.36398, 4.85847], [52.34373, 4.86065], [52.35475, 4.89229], [52.38024, 4.86973], [52.36978, 4.86029], [52.351913, 4.904634], [52.35501, 4.89247], [52.36834, 4.87735], [52.35238, 4.89341], [52.36935, 4.86748], [52.35758, 4.89656], [52.3766, 4.86164], [52.394720363652404, 4.914163767003143], [52.37128, 4.84862], [52.3748, 4.83992], [52.38232, 4.87028], [52.38013, 4.8802], [52.35869, 4.94166], [52.36323, 4.89223], [52.37632, 4.89396], [52.35654, 4.89015], [52.36375, 4.86606], [52.34281, 4.86046], [52.3567, 4.89895], [52.34933, 4.90981], [52.3741, 4.93609], [52.36213, 4.89372], [52.3678, 4.8669], [52.38432, 4.87742], [52.37532, 4.94194], [52.34761, 4.89937], [52.3472, 4.85836], [52.37787, 4.89132], [52.34408, 4.91061], [52.35221, 4.90685], [52.35624, 4.8524], [52.37218, 4.90604], [52.39655, 4.90783], [52.35215, 4.91222], [52.35918, 4.92166], [52.38042, 4.88346], [52.35578, 4.89791], [52.38657, 4.84589], [52.36865, 4.87174], [52.35443, 4.91673], [52.37643, 4.85673], [52.35158, 4.91975], [52.37559, 4.90682], [52.37445, 4.90541], [52.35333, 4.92403], [52.36431, 4.89932], [52.36417, 4.85599], [52.36779, 4.87177], [52.39134, 4.87707], [52.34139, 4.92011], [52.35065, 4.8878], [52.35278, 4.91919], [52.396805, 4.915318], [52.35727, 4.87465], [52.37864, 4.87505], [52.35116532597855, 4.895432936794861], [52.34847, 4.87634], [52.37239, 4.87172], [52.36641, 4.85251], [52.34948, 4.89065], [52.37226, 4.85366], [52.37036, 4.85414], [52.36773, 4.84358], [52.37085, 4.84896], [52.36366, 4.86006], [52.37821, 4.89264], [52.34375, 4.85807], [52.35068, 4.8894], [52.34623, 4.89944], [52.37655, 4.89249], [52.36033, 4.86398], [52.36964, 4.84843], [52.36252, 4.93286], [52.3502, 4.88583], [52.37825, 4.84685], [52.341003, 4.903122], [52.37987, 4.86003], [52.34865, 5.01056], [52.34274, 4.79123], [52.36919, 4.89745], [52.34131, 4.84542], [52.38443, 4.87415], [52.38189, 4.90418], [52.39661, 4.91648], [52.32791, 4.85852], [52.37948, 4.88791], [52.37936, 4.87703], [52.36923, 4.86632], [52.33878, 4.84729], [52.34364, 4.7908], [52.36051, 4.89089], [52.36652, 4.88573], [52.37085, 4.88212], [52.35617, 4.89302], [52.36288, 4.85843], [52.35767, 4.91409], [52.39831, 4.89381], [52.34334, 4.84603], [52.35503, 4.99792], [52.37725, 4.88098], [52.35421, 4.9434], [52.36223, 4.90543], [52.3741, 4.87786], [52.34411, 4.86253], [52.35436, 4.89204], [52.35852, 4.93452], [52.3684, 4.94415], [52.34292, 4.84409], [52.36711, 4.8931], [52.37418, 4.89823], [52.37046, 4.91945], [52.35683, 4.90997], [52.37625, 4.83782], [52.36603, 4.89189], [52.42236, 4.89511], [52.36705, 4.87881], [52.35155, 4.9929], [52.3666, 4.93424], [52.3499, 4.85738], [52.35974, 4.85972], [52.37412, 4.88836], [52.35335, 4.91934], [52.38012, 4.88689], [52.38283, 4.83621], [52.35752, 4.93545], [52.413898, 4.908188], [52.37232, 4.86289], [52.357433, 4.857956], [52.35196, 4.91291], [52.39528, 4.91893], [52.35277, 4.90114], [52.40745, 4.90396], [52.34346, 4.89507], [52.37247, 4.90561], [52.35628, 4.99844], [52.36688, 4.95835], [52.37102, 4.87885], [52.3532, 4.87888], [52.36947, 4.88491], [52.35764, 4.87692], [52.38272, 4.8731], [52.36399, 4.88232], [52.36418, 4.88261], [52.34167, 4.89479], [52.35597, 4.88887], [52.37718, 4.85593], [52.34449, 4.89515], [52.34392, 4.89207], [52.34199, 4.92514], [52.39022, 4.87878], [52.3625, 4.92492], [52.36547, 4.90232], [52.34335, 4.89481], [52.36665, 4.86482], [52.35092, 5.00225], [52.36321, 4.91804], [52.35808, 4.88892], [52.35437, 4.88829], [52.38199, 4.87227], [52.36293, 4.85629], [52.38508, 4.90925], [52.35264, 4.8476], [52.36027, 4.85725], [52.3821, 4.88626], [52.34558, 4.86048], [52.34993, 4.87882], [52.37592177748709, 4.880416832196918], [52.35518, 4.881], [52.34476, 4.89201], [52.38224, 4.86862], [52.35866, 4.93397], [52.347, 4.85955], [52.38963600206565, 4.950881317589221], [52.35166, 4.85767], [52.4237, 4.89228], [52.37376, 4.92702], [52.36199, 4.92669], [52.36814, 4.86832], [52.38001, 4.88794], [52.34403, 4.89232], [52.37599, 4.86413], [52.40583, 4.93275], [52.38016, 4.88577], [52.36475, 4.90731], [52.38835, 4.8876], [52.36318, 4.86531], [52.37017, 4.86125], [52.36362, 4.87453], [52.35663, 4.91654], [52.35418, 4.89798], [52.36544, 4.92655], [52.37426, 4.89926], [52.35537, 4.9362], [52.36357, 4.87979], [52.36388, 4.90994], [52.36727, 4.88024], [52.36564, 4.87855], [52.38416, 4.87143], [52.36989, 4.84952], [52.36465, 4.91104], [52.37002, 4.85226], [52.38124, 4.88842], [52.35481, 4.88744], [52.36116, 4.87542], [52.3616, 4.86119], [52.41339, 4.89372], [52.35351, 4.88529], [52.37426, 4.89926], [52.35623, 4.90367], [52.37426, 4.89926], [52.3652, 4.93744], [52.37824, 4.88181], [52.35784, 4.90919], [52.38277, 4.87446], [52.36306, 4.9083], [52.37732, 4.86135], [52.37824, 4.87087], [52.40662, 4.92246], [52.3698, 4.91043], [52.37788, 4.8029], [52.34389, 4.86687], [52.37426, 4.89926], [52.37426, 4.89926], [52.34108, 4.89566], [52.36245, 4.904], [52.37252, 4.85834], [52.36272, 4.90898], [52.39487, 4.93111], [52.35015, 4.9135], [52.35079, 4.85205], [52.37304, 4.89355], [52.35323, 4.93898], [52.35422, 4.84966], [52.34299, 4.95102], [52.381, 4.83538], [52.36861, 4.88607], [52.37017, 4.94396], [52.36397, 4.90768], [52.36361, 4.93796], [52.37178, 4.88017], [52.37763, 4.86895], [52.3779, 4.86199], [52.37178, 4.85301], [52.36278, 4.8528], [52.35336, 4.99456], [52.35643, 4.88806], [52.34789, 4.89176], [52.35634, 4.90442], [52.38621, 4.91678], [52.37468, 4.94674], [52.37643, 4.88233], [52.363, 4.86578], [52.37032, 4.89104], [52.37019, 4.93074], [52.35544, 4.90776], [52.37426, 4.89926], [52.34119, 4.89622], [52.34437, 4.90637], [52.3838, 4.83647], [52.36174, 4.93661], [52.35557, 4.9016], [52.36747, 4.85643], [52.37981, 4.87418], [52.33872, 4.79454], [52.35698, 4.93415], [52.36633, 4.88552], [52.3447, 4.87048], [52.35916, 4.91665], [52.37948, 4.87532], [52.35599, 4.85235], [52.38298, 4.87758], [52.37265, 4.85066], [52.36131, 4.79003], [52.35732, 4.9197], [52.39301, 4.87294], [52.38106, 4.88669], [52.3837, 4.87297], [52.34906, 4.87094], [52.36111, 4.93493], [52.35452, 4.9283], [52.38727, 4.95789], [52.38231, 4.87142], [52.3852, 4.85133], [52.36877, 4.85404], [52.37113, 4.86086], [52.3785, 4.85893], [52.29165, 4.99316], [52.3576, 4.90596], [52.35328, 4.83378], [52.37862, 4.8865], [52.36938, 4.86266], [52.38147, 4.85489], [52.37998, 4.89086], [52.37966, 4.88974], [52.35129, 4.85118], [52.39551, 4.90906], [52.34516, 4.86432], [52.38007, 4.87164], [52.3721, 4.94389], [52.37337, 4.945], [52.37851, 4.84993], [52.35982, 4.86042], [52.36554, 4.90685], [52.3586, 4.86061], [52.37003, 4.87997], [52.37047, 4.84998], [52.3567, 4.85713], [52.36485, 4.87546], [52.35589, 4.90957], [52.38434, 4.87099], [52.37301, 4.88198], [52.35197, 5.00199], [52.3532, 4.92505], [52.34391, 4.90139], [52.38308, 4.87218], [52.37599, 4.94638], [52.38669, 4.91925], [52.33957, 4.91788], [52.34705, 4.79025], [52.3498, 4.83105], [52.37981, 4.87418], [52.3792, 4.87433], [52.37991, 4.86757], [52.3718, 4.86743], [52.36914, 4.87526], [52.36505, 4.87606], [52.38253, 4.85304], [52.35942, 4.85676], [52.32027, 4.96463], [52.3639, 4.93747], [52.374493, 4.948655], [52.34012, 4.91929], [52.3855, 4.888], [52.37028, 4.89022], [52.36839, 4.85363], [52.36412, 4.86165], [52.36161, 4.89083], [52.38219, 4.84777], [52.36608, 4.8764], [52.38265, 4.89196], [52.36472, 4.87417], [52.37165, 4.93705], [52.3807, 4.85693], [52.38724, 4.88051], [52.35297, 4.86058], [52.35687, 4.91875], [52.3575, 4.91379], [52.35257, 4.90049], [52.35412, 4.89504], [52.37145, 4.90164], [52.37634, 4.86033], [52.36428, 4.93597], [52.34332, 4.92333], [52.4013, 4.90201], [52.37932, 4.87903], [52.38891, 4.95377], [52.36849, 4.9149], [52.36578, 4.88349], [52.36262, 4.93145], [52.3666, 4.93003], [52.34927, 4.83232], [52.37466, 4.83443], [52.394, 4.87882], [52.35564, 4.88898], [52.3603, 4.97647], [52.34835, 4.88619], [52.35472, 4.85072], [52.3733, 4.85328], [52.37819, 4.89259], [52.38091, 4.88837], [52.37333, 4.86027], [52.3578, 4.78678], [52.34833, 5.00428], [52.39982, 4.90408], [52.375, 4.86429], [52.37944, 4.8944], [52.38366, 4.87186], [52.36759, 4.89894], [52.35601, 4.91086], [52.3628, 4.90854], [52.37534, 4.88118], [52.34582, 4.81618], [52.36096, 4.87733], [52.38234, 4.88296], [52.36814, 4.86646], [52.38307, 4.88036], [52.3605, 4.86495], [52.35647, 4.91453], [52.3612, 4.87751], [52.35723, 4.85696], [52.38414, 4.87603], [52.37972, 4.88069], [52.34156, 4.90765], [52.36804, 4.89098], [52.39147, 4.88794], [52.35358, 5.00485], [52.35319, 5.00614], [52.35364, 5.00649], [52.35104, 4.90813], [52.37546, 4.87656], [52.37587, 4.83867], [52.36468, 4.88678], [52.36968, 4.8917], [52.35378, 4.88702], [52.36379, 4.94369], [52.36883, 4.89309], [52.35332, 4.85664], [52.36641, 4.85167], [52.38122, 4.87973], [52.38351, 4.88487], [52.38005, 4.8919], [52.35508, 4.94035], [52.35416, 4.87901], [52.37677, 4.86097], [52.37756, 4.8496], [52.37779, 4.87329], [52.37597, 4.94647], [52.37901, 4.87583], [52.36851, 4.87315], [52.36873, 4.85616], [52.40872, 4.90547], [52.35537, 4.9075], [52.36053, 4.86473], [52.36747, 4.85006], [52.37933, 4.84745], [52.35042, 4.91603], [52.38865, 4.88074], [52.37437, 4.84651], [52.35934, 4.84995], [52.3777, 4.94521], [52.36553, 4.87133], [52.3788, 4.88539], [52.38989, 4.88278], [52.35355, 4.91367], [52.35011, 4.89958], [52.36177, 4.82744], [52.3464, 4.89778], [52.37242, 4.92064], [52.36242, 4.93798], [52.37696, 4.85515], [52.35645, 4.89497], [52.3726, 4.90846], [52.3681, 4.86398], [52.36944, 4.86961], [52.3675, 4.86676], [52.36791, 4.87181], [52.36927, 4.84917], [52.36229, 4.89544], [52.36501, 4.98203], [52.38374, 4.88524], [52.374886, 4.821786], [52.40635, 4.99133], [52.37677, 4.85017], [52.37815, 4.88604], [52.36666, 4.86571], [52.37517, 4.84677], [52.36464, 4.87741], [52.38589, 4.91001], [52.35274, 4.8787], [52.36258, 4.87522], [52.36479, 4.87741], [52.36804, 4.87644], [52.37062, 4.88043], [52.3569, 4.88915], [52.36155, 4.89603], [52.361, 4.98202], [52.38318, 4.87295], [52.381691, 4.879816], [52.37973, 4.89378], [52.42395, 4.88681], [52.35645, 4.90875], [52.3567, 4.85639], [52.36969, 4.86052], [52.33797, 4.86804], [52.2975, 4.99169], [52.35291, 4.91482], [52.36626, 4.8658], [52.38479, 4.87723], [52.35565, 4.99339], [52.37003, 4.89923], [52.34649, 4.8608], [52.381031, 4.886838], [52.37012, 4.8806], [52.35227, 4.91636], [52.37916, 4.89514], [52.37323, 4.90794], [52.35011, 4.90639], [52.35871, 4.8619], [52.34776, 4.77631], [52.39698, 4.93907], [52.39898, 4.90643], [52.34406428889873, 4.891506801263434], [52.35717, 4.89633], [52.39159, 4.90806], [52.35009, 4.88875], [52.36602, 4.93165], [52.35814, 4.99973], [52.36874, 4.93106], [52.30515, 4.97914], [52.36351, 4.86178], [52.39591, 4.93914], [52.3545, 4.89119], [52.36944, 4.8634], [52.37169, 4.85677], [52.36283, 4.90966], [52.375281951990225, 4.9235083032063045], [52.36952, 4.88557], [52.41868, 4.90114], [52.3585, 4.8551], [52.3758, 4.85221], [52.35503, 4.93193], [52.41928, 4.90233], [52.35432, 4.87868], [52.35458, 5.00228], [52.36678, 4.87336], [52.38304, 4.88376], [52.34697, 4.89606], [52.36014, 4.91373], [52.3838, 4.88539], [52.3493, 4.90741], [52.38962, 4.87773], [52.39034, 4.88392], [52.35419, 4.90036], [52.37355, 4.87773], [52.35957, 4.93327], [52.37745, 4.86003], [52.37893, 4.85438], [52.36165, 4.85896], [52.36775, 4.87403], [52.36775, 4.87403], [52.35459, 4.89837], [52.3583, 4.91761], [52.3666, 4.89824], [52.35179, 4.8513], [52.37243, 4.86486], [52.3594, 4.9065], [52.35234, 4.8843], [52.37622, 4.88068], [52.35445, 4.89711], [52.35682, 4.89633], [52.38909, 4.87677], [52.3532, 5.00861], [52.38588, 4.91381], [52.38436, 4.83226], [52.37109, 4.85758], [52.3484, 4.84806], [52.35293, 4.85016], [52.34548, 4.9486], [52.38209, 4.83672], [52.38348, 4.8267], [52.35896, 4.85967], [52.37731, 4.88397], [52.39146, 4.88747], [52.35244, 4.85007], [52.36147, 4.85086], [52.37227, 4.94747], [52.35823, 4.85741], [52.363, 4.86704], [52.36557, 4.88776], [52.37449, 4.88778], [52.35301, 4.8847], [52.37909, 4.8923], [52.38864, 4.90941], [52.35124, 4.85873], [52.36413, 4.85514], [52.36465, 4.89798], [52.37156, 4.88617], [52.37258, 4.90196], [52.39071, 4.87792], [52.34982, 4.89306], [52.36271, 4.87224], [52.35463, 4.91157], [52.38061, 4.87428], [52.37819, 4.89192], [52.30057, 4.98696], [52.34875, 5.00692], [52.3646, 4.86956], [52.39271, 4.94406], [52.36539, 4.87511], [52.34669, 4.89401], [52.36118, 4.92798], [52.35917, 4.87933], [52.36665, 4.88254], [52.38408, 4.84556], [52.32781, 4.9808]],\n",
              "                {&quot;blur&quot;: 6, &quot;maxZoom&quot;: 18, &quot;minOpacity&quot;: 0.2, &quot;radius&quot;: 8}\n",
              "            ).addTo(map_7d1ab2de84c1328bd2442cdf2293f8ab);\n",
              "        \n",
              "&lt;/script&gt;\" style=\"position:absolute;width:100%;height:100%;left:0;top:0;border:none !important;\" allowfullscreen webkitallowfullscreen mozallowfullscreen></iframe></div></div>"
            ]
          },
          "metadata": {},
          "execution_count": 382
        }
      ]
    },
    {
      "cell_type": "markdown",
      "source": [
        "El mapa de calor anterior nos está mostrando en que zonas de la ciudad hay una mayor densidad de hospedajes."
      ],
      "metadata": {
        "id": "oY8Sgi6PT_Qg"
      }
    },
    {
      "cell_type": "code",
      "source": [
        "# Podemos guardar el mapa como un archivo html interactivo\n",
        "\n",
        "map1.save(\"heat_map_density.html\")"
      ],
      "metadata": {
        "id": "CrOSiglr-txK"
      },
      "execution_count": null,
      "outputs": []
    },
    {
      "cell_type": "markdown",
      "source": [
        "### Ejercicio 16\n",
        "\n",
        "Discuta y analice lo que observa en el mapa de calor que acabamos de crear."
      ],
      "metadata": {
        "id": "xfQnM8qJUG-7"
      }
    },
    {
      "cell_type": "markdown",
      "source": [
        "Respuesta"
      ],
      "metadata": {
        "id": "TynpjOlYUM24"
      }
    },
    {
      "cell_type": "markdown",
      "source": [
        "## Ejemplo 3: Creación de un geoheatmap con Folium"
      ],
      "metadata": {
        "id": "AL157ykMUabn"
      }
    },
    {
      "cell_type": "markdown",
      "source": [
        "Ahora vamos a crear un mapa de calor que nos muestre en que zonas de la ciudad están los hospedajes más costosos."
      ],
      "metadata": {
        "id": "HOwfEHsVUW48"
      }
    },
    {
      "cell_type": "markdown",
      "source": [
        "### Ejercicio 17\n",
        "\n",
        "Haga un análisis del mapa que acabamos de crear."
      ],
      "metadata": {
        "id": "avC8Uv10Ve1a"
      }
    },
    {
      "cell_type": "code",
      "source": [
        "data = list(zip(airbnb['latitude'], \n",
        "                airbnb['longitude']))"
      ],
      "metadata": {
        "id": "B-JgEdFTftOk"
      },
      "execution_count": null,
      "outputs": []
    },
    {
      "cell_type": "code",
      "source": [
        "hm_loc = HeatMap(data,\n",
        "              min_opacity = 0.2,\n",
        "              radius = 8,\n",
        "              blur = 6)\n",
        "map"
      ],
      "metadata": {
        "colab": {
          "base_uri": "https://localhost:8080/",
          "height": 968
        },
        "id": "9QkV9yOLfwul",
        "outputId": "38a1dc72-1d52-4bce-e857-ac4db4a9ac7e"
      },
      "execution_count": null,
      "outputs": [
        {
          "output_type": "execute_result",
          "data": {
            "text/plain": [
              "<folium.folium.Map at 0x7fe41a0a8290>"
            ],
            "text/html": [
              "<div style=\"width:100%;\"><div style=\"position:relative;width:100%;height:0;padding-bottom:60%;\"><span style=\"color:#565656\">Make this Notebook Trusted to load map: File -> Trust Notebook</span><iframe srcdoc=\"&lt;!DOCTYPE html&gt;\n",
              "&lt;head&gt;    \n",
              "    &lt;meta http-equiv=&quot;content-type&quot; content=&quot;text/html; charset=UTF-8&quot; /&gt;\n",
              "    \n",
              "        &lt;script&gt;\n",
              "            L_NO_TOUCH = false;\n",
              "            L_DISABLE_3D = false;\n",
              "        &lt;/script&gt;\n",
              "    \n",
              "    &lt;style&gt;html, body {width: 100%;height: 100%;margin: 0;padding: 0;}&lt;/style&gt;\n",
              "    &lt;style&gt;#map {position:absolute;top:0;bottom:0;right:0;left:0;}&lt;/style&gt;\n",
              "    &lt;script src=&quot;https://cdn.jsdelivr.net/npm/leaflet@1.6.0/dist/leaflet.js&quot;&gt;&lt;/script&gt;\n",
              "    &lt;script src=&quot;https://code.jquery.com/jquery-1.12.4.min.js&quot;&gt;&lt;/script&gt;\n",
              "    &lt;script src=&quot;https://maxcdn.bootstrapcdn.com/bootstrap/3.2.0/js/bootstrap.min.js&quot;&gt;&lt;/script&gt;\n",
              "    &lt;script src=&quot;https://cdnjs.cloudflare.com/ajax/libs/Leaflet.awesome-markers/2.0.2/leaflet.awesome-markers.js&quot;&gt;&lt;/script&gt;\n",
              "    &lt;link rel=&quot;stylesheet&quot; href=&quot;https://cdn.jsdelivr.net/npm/leaflet@1.6.0/dist/leaflet.css&quot;/&gt;\n",
              "    &lt;link rel=&quot;stylesheet&quot; href=&quot;https://maxcdn.bootstrapcdn.com/bootstrap/3.2.0/css/bootstrap.min.css&quot;/&gt;\n",
              "    &lt;link rel=&quot;stylesheet&quot; href=&quot;https://maxcdn.bootstrapcdn.com/bootstrap/3.2.0/css/bootstrap-theme.min.css&quot;/&gt;\n",
              "    &lt;link rel=&quot;stylesheet&quot; href=&quot;https://maxcdn.bootstrapcdn.com/font-awesome/4.6.3/css/font-awesome.min.css&quot;/&gt;\n",
              "    &lt;link rel=&quot;stylesheet&quot; href=&quot;https://cdnjs.cloudflare.com/ajax/libs/Leaflet.awesome-markers/2.0.2/leaflet.awesome-markers.css&quot;/&gt;\n",
              "    &lt;link rel=&quot;stylesheet&quot; href=&quot;https://cdn.jsdelivr.net/gh/python-visualization/folium/folium/templates/leaflet.awesome.rotate.min.css&quot;/&gt;\n",
              "    \n",
              "            &lt;meta name=&quot;viewport&quot; content=&quot;width=device-width,\n",
              "                initial-scale=1.0, maximum-scale=1.0, user-scalable=no&quot; /&gt;\n",
              "            &lt;style&gt;\n",
              "                #map_4f9b6f7ae95a8887d514c27ce644a6a9 {\n",
              "                    position: relative;\n",
              "                    width: 100.0%;\n",
              "                    height: 100.0%;\n",
              "                    left: 0.0%;\n",
              "                    top: 0.0%;\n",
              "                }\n",
              "            &lt;/style&gt;\n",
              "        \n",
              "&lt;/head&gt;\n",
              "&lt;body&gt;    \n",
              "    \n",
              "            &lt;div class=&quot;folium-map&quot; id=&quot;map_4f9b6f7ae95a8887d514c27ce644a6a9&quot; &gt;&lt;/div&gt;\n",
              "        \n",
              "&lt;/body&gt;\n",
              "&lt;script&gt;    \n",
              "    \n",
              "            var map_4f9b6f7ae95a8887d514c27ce644a6a9 = L.map(\n",
              "                &quot;map_4f9b6f7ae95a8887d514c27ce644a6a9&quot;,\n",
              "                {\n",
              "                    center: [4.598464, -74.076184],\n",
              "                    crs: L.CRS.EPSG3857,\n",
              "                    zoom: 20,\n",
              "                    zoomControl: true,\n",
              "                    preferCanvas: false,\n",
              "                }\n",
              "            );\n",
              "\n",
              "            \n",
              "\n",
              "        \n",
              "    \n",
              "            var tile_layer_4faf6a833a2ead8fcce73a1443291d4e = L.tileLayer(\n",
              "                &quot;https://{s}.tile.openstreetmap.org/{z}/{x}/{y}.png&quot;,\n",
              "                {&quot;attribution&quot;: &quot;Data by \\u003ca href=\\&quot;http://openstreetmap.org\\&quot;\\u003eOpenStreetMap\\u003c/a\\u003e, under \\u003ca href=\\&quot;http://www.openstreetmap.org/copyright\\&quot;\\u003eODbL\\u003c/a\\u003e.&quot;, &quot;detectRetina&quot;: false, &quot;maxNativeZoom&quot;: 18, &quot;maxZoom&quot;: 18, &quot;minZoom&quot;: 0, &quot;noWrap&quot;: false, &quot;opacity&quot;: 1, &quot;subdomains&quot;: &quot;abc&quot;, &quot;tms&quot;: false}\n",
              "            ).addTo(map_4f9b6f7ae95a8887d514c27ce644a6a9);\n",
              "        \n",
              "&lt;/script&gt;\" style=\"position:absolute;width:100%;height:100%;left:0;top:0;border:none !important;\" allowfullscreen webkitallowfullscreen mozallowfullscreen></iframe></div></div>"
            ]
          },
          "metadata": {},
          "execution_count": 385
        }
      ]
    },
    {
      "cell_type": "markdown",
      "source": [
        "# Esta vista muy interesente de la ciudad de Amsterdam nos muestra los pundos de concentración de los hospedajes y permite visualizar los lugares y barrios donde los visitantes prefiren visitar"
      ],
      "metadata": {
        "id": "UI60j9uiq3dW"
      }
    },
    {
      "cell_type": "markdown",
      "source": [
        "### Ejercicio 18\n",
        "\n",
        "Escriba sus conclusiones del análisis de datos realizado. Recuerde que las conclusiones deben ser números, estadísticos, información que sale del análisis, no es un resumen de lo aprendido, ni una observación personal acerca del trabajo realizado, ¿qué comportamiento muestran los datos? ¿cuales fueron las respuestas a las preguntas de negocio? ¿cuales considera hasta ahora las variables más importantes respecto a su relación con el precio?\n",
        "¿Encontró errores en los datos, atípicos? **Las conclusiones son parte fundamental de un informe y/o trabajo investigativo.**"
      ],
      "metadata": {
        "id": "0PJ3hv1xX9ZU"
      }
    },
    {
      "cell_type": "markdown",
      "source": [
        "# El análisis exploratorio de datos implica el uso de gráficos y visualizaciones para explorar y analizar un conjunto de datos. El objetivo es explorar, investigar y aprender, no confirmar hipótesis estadísticas. \n",
        "# New Section\n",
        "# El proceso de utilizar resúmenes numéricos y visualizaciones para explorar sus datos e identificar posibles relaciones entre variables se denomina análisis exploratorio de datos.\n",
        "\n",
        "# Se ha llegado a las conclusiones siguientes:\n",
        "\n",
        "\n",
        "\n",
        "# *   Existe poca relación entre el precio de un hospedaje con respecto a si su hospedador es superhost o nó\n",
        "# *   La mayoria de personas que se hospedan necesitan habitaciones de entre 160 y 200 dólares por noche.\n",
        "# *   Los mapas de calor combinados con los scater plor ayudan a identificar los puntos de latitud y longitud donde las personas prefieren hospedarse\n",
        "# *   Se determinó que los tres sitios preferidos para hospedarse en Amsterdan son: Amsterdam, Noord-Holland, Netherlands,Abcoude, Utrecht, Netherlands,Amsterdam , 2 de Egelantiersdwarsstraat 13 III, Netherlands\n",
        "\n",
        "\n",
        "\n",
        "\n"
      ],
      "metadata": {
        "id": "oYCma5eFYwKL"
      }
    },
    {
      "cell_type": "markdown",
      "source": [
        "## **Créditos**\n",
        "---\n",
        "\n",
        "**Profesor:** Harry Vargas Rodríguez\n",
        "\n",
        "**Corporación Universitaria de Cataluña** - *Diplomado en Big Data y Data Science*"
      ],
      "metadata": {
        "id": "LgyxZ1SDV_nU"
      }
    }
  ]
}