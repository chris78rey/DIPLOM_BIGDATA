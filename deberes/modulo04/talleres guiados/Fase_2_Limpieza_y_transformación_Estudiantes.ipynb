{
  "cells": [
    {
      "cell_type": "markdown",
      "metadata": {
        "id": "Qn9KhQOz9tm4"
      },
      "source": [
        "<img src = \"https://github.com/HarryVargas96/UdeCataluna/blob/main/logo_uc_grande.png?raw=true\" alt = \"Encabezado\" width = \"100%\">  </img>\n",
        "\n"
      ]
    },
    {
      "cell_type": "markdown",
      "metadata": {
        "id": "dS7TNLMohllL"
      },
      "source": [
        "Cree una copia de este Notebook en su Drive y desarrolle el taller sobre ese documento copia. Para crear la copia debe dar click en el botón **Copiar en Drive** ubicado en el panel superior, se abrirá un nuevo notebook que podrá manipular a su antojo y que se almacenará en su Drive dentro de la Carpeta *Colab Notebooks*."
      ]
    },
    {
      "cell_type": "markdown",
      "metadata": {
        "id": "Mz2E7fl9h7L_"
      },
      "source": [
        "# **Predicción del precio de hospedajes en Airbnb para la ciudad de Nueva York**"
      ]
    },
    {
      "cell_type": "markdown",
      "metadata": {
        "id": "4DWyiWV6V7bW"
      },
      "source": [
        "**Contexto:** Airbnb es una empresa que ofrece una plataforma de software dedicada a la oferta de alojamientos particulares y turísticos mediante la cual los anfitriones pueden publicitar y contratar el arriendo de sus propiedades con sus huéspedes; anfitriones y huéspedes pueden valorarse mutuamente, como referencia para futuros usuarios. Muchos nuevos anfitriones no cuentan con información global de tendencias del mercado por lo que sus precios no son óptimos. Airbnb gana una comisión por cada arrendamiento, por lo tanto, está interesado en que sus anfitriones cobren una tarifa óptima de acuerdo a las características del hospedaje. Si los anfitriones ganan más… Airbnb también.\n",
        "\n",
        "**Problema de Negocio:** La empresa Airbnb lo ha contratado para desarrollar un análisis descriptivo y exploratorio que permita responder la siguiente pregunta: ¿Cuál es la variable o característica más relevante para determinar el precio de un hospedaje en Airbnb?\n",
        "\n",
        "**Sistema de información:** El conjunto de datos objetivo posee información acerca de 30.000 hospedajes de la plataforma Airbnb en la ciudad de Nueva York. Los datos a usar son datos públicos creados por Inside Airbnb, para más información puede consultar [aquí]( http://insideairbnb.com/get-the-data/).\n"
      ]
    },
    {
      "cell_type": "markdown",
      "metadata": {
        "id": "HBaTjU1MZoUG"
      },
      "source": [
        "## Indicaciones para resolver el Taller"
      ]
    },
    {
      "cell_type": "markdown",
      "metadata": {
        "id": "efhkBeo-U9_o"
      },
      "source": [
        "El objetivo de este taller es que usted pueda desarrollar algunas tareas de limpieza para asegurar la calidad del análisis. Para ello tendrá que programar, investigar y analizar todos los resultados que vaya obteniendo. Tenga en cuenta las siguientes indicaciones:\n",
        "\n",
        "* Añada comentarios al código para que documente sus soluciones. \n",
        "* Coloque su análisis en una celda de Texto luego de cada resultado.\n",
        "* Para resolver un ejercicio puede usar tantas celdas de Código o Texto como requiera.\n",
        "\n",
        "Si se le presenta un error de código o duda. Siga los siguientes pasos:\n",
        "1. Lea y entienda el error, para ello puede buscar en la documentación de la librería o googlearlo\n",
        "2. Intente resolverlo\n",
        "3. Comuníquese con el expero temático usando el Foro, recuerde enviar un pantallazo del error y mencionar que Ejercicio está solucionando. **Abstengase de compartir el link de su Notebook en el Foro.**\n",
        "\n",
        "\n",
        "\n",
        "A continuación, se listan algunos recursos que pueden ser valiosos para su análisis.\n",
        "* En esta página puede encontrar las gráficas que se pueden construir dependiendo de las variables disponibles, una breve explicación de cada gráfica y código para construir cada visualización. https://www.data-to-viz.com/\n",
        "* Documentación de Pandas. https://pandas.pydata.org/docs/index.html\n",
        "* Documentación de Seaborn. https://seaborn.pydata.org/index.html\n"
      ]
    },
    {
      "cell_type": "markdown",
      "metadata": {
        "id": "Y6VyUG5tXJVk"
      },
      "source": [
        "## Instalar, actualizar y cargar las librerías necesarias"
      ]
    },
    {
      "cell_type": "markdown",
      "metadata": {
        "id": "TaTMauXVNsyt"
      },
      "source": [
        "A continuación vamos a cargar las librerías necesarias para el desarrollo de este caso."
      ]
    },
    {
      "cell_type": "code",
      "execution_count": 32,
      "metadata": {
        "id": "T1gKWD8P7ywa"
      },
      "outputs": [],
      "source": [
        "import numpy as np\n",
        "import pandas as pd\n",
        "import matplotlib as mpl\n",
        "import matplotlib.pyplot as plt\n",
        "import seaborn as sns\n",
        "%matplotlib inline\n",
        "sns.set()"
      ]
    },
    {
      "cell_type": "code",
      "execution_count": 33,
      "metadata": {
        "colab": {
          "base_uri": "https://localhost:8080/"
        },
        "id": "-6WQYSOHLCz1",
        "outputId": "c7f3f10e-e50f-43cc-b495-56b97f901b0e"
      },
      "outputs": [
        {
          "name": "stdout",
          "output_type": "stream",
          "text": [
            "Python 3.8.5\n",
            "NumPy 1.23.0\n",
            "Pandas 1.4.3\n",
            "Matplotlib 3.5.2\n",
            "Seaborn 0.11.2\n"
          ]
        }
      ],
      "source": [
        "!python --version\n",
        "print('NumPy', np.__version__)\n",
        "print('Pandas', pd.__version__)\n",
        "print('Matplotlib', mpl.__version__)\n",
        "print('Seaborn',sns.__version__)"
      ]
    },
    {
      "cell_type": "markdown",
      "metadata": {
        "id": "vVOT-Bea8HOG"
      },
      "source": [
        "Este caso fue creado con las siguientes versiones:\n",
        "\n",
        "```\n",
        "Python 3.7.13\n",
        "NumPy 1.21.6\n",
        "Pandas 1.3.5\n",
        "Matplotlib 3.2.2\n",
        "Seaborn 0.11.2\n",
        "```"
      ]
    },
    {
      "cell_type": "markdown",
      "metadata": {
        "id": "o5kPM6IKYOs9"
      },
      "source": [
        "## Cargar el dataset de trabajo"
      ]
    },
    {
      "cell_type": "code",
      "execution_count": 34,
      "metadata": {
        "colab": {
          "base_uri": "https://localhost:8080/",
          "height": 450
        },
        "id": "63YgHaHeiG6m",
        "outputId": "ca4eb184-9453-48eb-affa-16839e816d56"
      },
      "outputs": [
        {
          "data": {
            "text/html": [
              "<div>\n",
              "<style scoped>\n",
              "    .dataframe tbody tr th:only-of-type {\n",
              "        vertical-align: middle;\n",
              "    }\n",
              "\n",
              "    .dataframe tbody tr th {\n",
              "        vertical-align: top;\n",
              "    }\n",
              "\n",
              "    .dataframe thead th {\n",
              "        text-align: right;\n",
              "    }\n",
              "</style>\n",
              "<table border=\"1\" class=\"dataframe\">\n",
              "  <thead>\n",
              "    <tr style=\"text-align: right;\">\n",
              "      <th></th>\n",
              "      <th>id</th>\n",
              "      <th>listing_url</th>\n",
              "      <th>scrape_id</th>\n",
              "      <th>last_scraped</th>\n",
              "      <th>name</th>\n",
              "      <th>description</th>\n",
              "      <th>neighborhood_overview</th>\n",
              "      <th>picture_url</th>\n",
              "      <th>host_id</th>\n",
              "      <th>host_url</th>\n",
              "      <th>host_name</th>\n",
              "      <th>host_since</th>\n",
              "      <th>host_location</th>\n",
              "      <th>host_about</th>\n",
              "      <th>host_response_time</th>\n",
              "      <th>host_response_rate</th>\n",
              "      <th>host_acceptance_rate</th>\n",
              "      <th>host_is_superhost</th>\n",
              "      <th>host_thumbnail_url</th>\n",
              "      <th>host_picture_url</th>\n",
              "      <th>host_neighbourhood</th>\n",
              "      <th>host_listings_count</th>\n",
              "      <th>host_total_listings_count</th>\n",
              "      <th>host_verifications</th>\n",
              "      <th>host_has_profile_pic</th>\n",
              "      <th>host_identity_verified</th>\n",
              "      <th>neighbourhood</th>\n",
              "      <th>neighbourhood_cleansed</th>\n",
              "      <th>neighbourhood_group_cleansed</th>\n",
              "      <th>latitude</th>\n",
              "      <th>longitude</th>\n",
              "      <th>property_type</th>\n",
              "      <th>room_type</th>\n",
              "      <th>accommodates</th>\n",
              "      <th>bathrooms</th>\n",
              "      <th>bathrooms_text</th>\n",
              "      <th>bedrooms</th>\n",
              "      <th>beds</th>\n",
              "      <th>amenities</th>\n",
              "      <th>price</th>\n",
              "      <th>minimum_nights</th>\n",
              "      <th>maximum_nights</th>\n",
              "      <th>minimum_minimum_nights</th>\n",
              "      <th>maximum_minimum_nights</th>\n",
              "      <th>minimum_maximum_nights</th>\n",
              "      <th>maximum_maximum_nights</th>\n",
              "      <th>minimum_nights_avg_ntm</th>\n",
              "      <th>maximum_nights_avg_ntm</th>\n",
              "      <th>calendar_updated</th>\n",
              "      <th>has_availability</th>\n",
              "      <th>availability_30</th>\n",
              "      <th>availability_60</th>\n",
              "      <th>availability_90</th>\n",
              "      <th>availability_365</th>\n",
              "      <th>calendar_last_scraped</th>\n",
              "      <th>number_of_reviews</th>\n",
              "      <th>number_of_reviews_ltm</th>\n",
              "      <th>number_of_reviews_l30d</th>\n",
              "      <th>first_review</th>\n",
              "      <th>last_review</th>\n",
              "      <th>review_scores_rating</th>\n",
              "      <th>review_scores_accuracy</th>\n",
              "      <th>review_scores_cleanliness</th>\n",
              "      <th>review_scores_checkin</th>\n",
              "      <th>review_scores_communication</th>\n",
              "      <th>review_scores_location</th>\n",
              "      <th>review_scores_value</th>\n",
              "      <th>license</th>\n",
              "      <th>instant_bookable</th>\n",
              "      <th>calculated_host_listings_count</th>\n",
              "      <th>calculated_host_listings_count_entire_homes</th>\n",
              "      <th>calculated_host_listings_count_private_rooms</th>\n",
              "      <th>calculated_host_listings_count_shared_rooms</th>\n",
              "      <th>reviews_per_month</th>\n",
              "    </tr>\n",
              "  </thead>\n",
              "  <tbody>\n",
              "    <tr>\n",
              "      <th>0</th>\n",
              "      <td>23726706</td>\n",
              "      <td>https://www.airbnb.com/rooms/23726706</td>\n",
              "      <td>20220605131734</td>\n",
              "      <td>2022-06-05</td>\n",
              "      <td>Private room 20 minutes from Amsterdam + Break...</td>\n",
              "      <td>Cousy  private room 20 min. from Amsterdam. Sh...</td>\n",
              "      <td>We live in a nice Cousy and clean house with e...</td>\n",
              "      <td>https://a0.muscache.com/pictures/eb6d6636-02d6...</td>\n",
              "      <td>122619127</td>\n",
              "      <td>https://www.airbnb.com/users/show/122619127</td>\n",
              "      <td>Patricia</td>\n",
              "      <td>2017-03-26</td>\n",
              "      <td>Diemen, North Holland, Netherlands</td>\n",
              "      <td>Hi, Welcome. we are so glade we are able to op...</td>\n",
              "      <td>within an hour</td>\n",
              "      <td>100%</td>\n",
              "      <td>95%</td>\n",
              "      <td>f</td>\n",
              "      <td>https://a0.muscache.com/im/pictures/user/52706...</td>\n",
              "      <td>https://a0.muscache.com/im/pictures/user/52706...</td>\n",
              "      <td>--</td>\n",
              "      <td>1</td>\n",
              "      <td>1</td>\n",
              "      <td>['email', 'phone', 'work_email']</td>\n",
              "      <td>t</td>\n",
              "      <td>t</td>\n",
              "      <td>Diemen, Noord-Holland, Netherlands</td>\n",
              "      <td>IJburg - Zeeburgereiland</td>\n",
              "      <td>--</td>\n",
              "      <td>52.34916</td>\n",
              "      <td>4.97879</td>\n",
              "      <td>Private room in home</td>\n",
              "      <td>Private room</td>\n",
              "      <td>2</td>\n",
              "      <td>3</td>\n",
              "      <td>1 shared bath</td>\n",
              "      <td>1</td>\n",
              "      <td>1</td>\n",
              "      <td>[\"Carbon monoxide alarm\", \"Dishes and silverwa...</td>\n",
              "      <td>88.0</td>\n",
              "      <td>2</td>\n",
              "      <td>14</td>\n",
              "      <td>2</td>\n",
              "      <td>2</td>\n",
              "      <td>1125</td>\n",
              "      <td>1125</td>\n",
              "      <td>2.0</td>\n",
              "      <td>1125.0</td>\n",
              "      <td>--</td>\n",
              "      <td>t</td>\n",
              "      <td>0</td>\n",
              "      <td>6</td>\n",
              "      <td>20</td>\n",
              "      <td>66</td>\n",
              "      <td>2022-06-05</td>\n",
              "      <td>78</td>\n",
              "      <td>11</td>\n",
              "      <td>3</td>\n",
              "      <td>2018-03-26</td>\n",
              "      <td>2022-05-29</td>\n",
              "      <td>4.99</td>\n",
              "      <td>4.96</td>\n",
              "      <td>4.97</td>\n",
              "      <td>4.95</td>\n",
              "      <td>4.97</td>\n",
              "      <td>4.73</td>\n",
              "      <td>4.87</td>\n",
              "      <td>038469D9AA6BDF1142CE</td>\n",
              "      <td>t</td>\n",
              "      <td>1</td>\n",
              "      <td>0</td>\n",
              "      <td>1</td>\n",
              "      <td>0</td>\n",
              "      <td>1.53</td>\n",
              "    </tr>\n",
              "    <tr>\n",
              "      <th>1</th>\n",
              "      <td>35815036</td>\n",
              "      <td>https://www.airbnb.com/rooms/35815036</td>\n",
              "      <td>20220605131734</td>\n",
              "      <td>2022-06-05</td>\n",
              "      <td>Vrijstaand vakantiehuis, privÃ© tuin aan het w...</td>\n",
              "      <td>Bij het pittoreske dorpje Watergang ligt ons p...</td>\n",
              "      <td>U heeft hier diverse mogelijkheden. Zo kunt u ...</td>\n",
              "      <td>https://a0.muscache.com/pictures/e309d415-78de...</td>\n",
              "      <td>269425139</td>\n",
              "      <td>https://www.airbnb.com/users/show/269425139</td>\n",
              "      <td>Lydia</td>\n",
              "      <td>2019-06-18</td>\n",
              "      <td>Watergang, North Holland, Netherlands</td>\n",
              "      <td>--</td>\n",
              "      <td>within an hour</td>\n",
              "      <td>100%</td>\n",
              "      <td>99%</td>\n",
              "      <td>t</td>\n",
              "      <td>https://a0.muscache.com/im/pictures/user/af417...</td>\n",
              "      <td>https://a0.muscache.com/im/pictures/user/af417...</td>\n",
              "      <td>--</td>\n",
              "      <td>1</td>\n",
              "      <td>1</td>\n",
              "      <td>['email', 'phone']</td>\n",
              "      <td>t</td>\n",
              "      <td>t</td>\n",
              "      <td>Watergang, Noord-Holland, Netherlands</td>\n",
              "      <td>Noord-Oost</td>\n",
              "      <td>--</td>\n",
              "      <td>52.42419</td>\n",
              "      <td>4.95689</td>\n",
              "      <td>Tiny home</td>\n",
              "      <td>Entire home/apt</td>\n",
              "      <td>2</td>\n",
              "      <td>4</td>\n",
              "      <td>1.5 baths</td>\n",
              "      <td>1</td>\n",
              "      <td>1</td>\n",
              "      <td>[\"Carbon monoxide alarm\", \"Dishes and silverwa...</td>\n",
              "      <td>105.0</td>\n",
              "      <td>3</td>\n",
              "      <td>100</td>\n",
              "      <td>1</td>\n",
              "      <td>3</td>\n",
              "      <td>1125</td>\n",
              "      <td>1125</td>\n",
              "      <td>3.0</td>\n",
              "      <td>1125.0</td>\n",
              "      <td>--</td>\n",
              "      <td>t</td>\n",
              "      <td>4</td>\n",
              "      <td>6</td>\n",
              "      <td>12</td>\n",
              "      <td>243</td>\n",
              "      <td>2022-06-05</td>\n",
              "      <td>95</td>\n",
              "      <td>36</td>\n",
              "      <td>6</td>\n",
              "      <td>2019-06-26</td>\n",
              "      <td>2022-06-02</td>\n",
              "      <td>4.96</td>\n",
              "      <td>4.94</td>\n",
              "      <td>5.00</td>\n",
              "      <td>4.98</td>\n",
              "      <td>4.98</td>\n",
              "      <td>4.81</td>\n",
              "      <td>4.83</td>\n",
              "      <td>--</td>\n",
              "      <td>f</td>\n",
              "      <td>1</td>\n",
              "      <td>1</td>\n",
              "      <td>0</td>\n",
              "      <td>0</td>\n",
              "      <td>2.65</td>\n",
              "    </tr>\n",
              "    <tr>\n",
              "      <th>2</th>\n",
              "      <td>31553121</td>\n",
              "      <td>https://www.airbnb.com/rooms/31553121</td>\n",
              "      <td>20220605131734</td>\n",
              "      <td>2022-06-05</td>\n",
              "      <td>Quiet Guesthouse near Amsterdam</td>\n",
              "      <td>Welcome to the countryside north of Amsterdam ...</td>\n",
              "      <td>Within 6 kilometers of the city center you'll ...</td>\n",
              "      <td>https://a0.muscache.com/pictures/64edc273-3b2b...</td>\n",
              "      <td>76806621</td>\n",
              "      <td>https://www.airbnb.com/users/show/76806621</td>\n",
              "      <td>Ralf</td>\n",
              "      <td>2016-06-09</td>\n",
              "      <td>Landsmeer, North Holland, Netherlands</td>\n",
              "      <td>--</td>\n",
              "      <td>within an hour</td>\n",
              "      <td>100%</td>\n",
              "      <td>100%</td>\n",
              "      <td>f</td>\n",
              "      <td>https://a0.muscache.com/im/pictures/user/1df22...</td>\n",
              "      <td>https://a0.muscache.com/im/pictures/user/1df22...</td>\n",
              "      <td>--</td>\n",
              "      <td>1</td>\n",
              "      <td>1</td>\n",
              "      <td>['email', 'phone']</td>\n",
              "      <td>t</td>\n",
              "      <td>t</td>\n",
              "      <td>Landsmeer, Noord-Holland, Netherlands</td>\n",
              "      <td>Noord-West</td>\n",
              "      <td>--</td>\n",
              "      <td>52.43237</td>\n",
              "      <td>4.91821</td>\n",
              "      <td>Entire guesthouse</td>\n",
              "      <td>Entire home/apt</td>\n",
              "      <td>4</td>\n",
              "      <td>2</td>\n",
              "      <td>1 bath</td>\n",
              "      <td>1</td>\n",
              "      <td>3</td>\n",
              "      <td>[\"Dishwasher\", \"Carbon monoxide alarm\", \"Ether...</td>\n",
              "      <td>152.0</td>\n",
              "      <td>2</td>\n",
              "      <td>60</td>\n",
              "      <td>2</td>\n",
              "      <td>2</td>\n",
              "      <td>1125</td>\n",
              "      <td>1125</td>\n",
              "      <td>2.0</td>\n",
              "      <td>1125.0</td>\n",
              "      <td>--</td>\n",
              "      <td>t</td>\n",
              "      <td>0</td>\n",
              "      <td>3</td>\n",
              "      <td>3</td>\n",
              "      <td>3</td>\n",
              "      <td>2022-06-05</td>\n",
              "      <td>82</td>\n",
              "      <td>26</td>\n",
              "      <td>1</td>\n",
              "      <td>2019-02-04</td>\n",
              "      <td>2022-05-29</td>\n",
              "      <td>4.74</td>\n",
              "      <td>4.85</td>\n",
              "      <td>4.84</td>\n",
              "      <td>4.98</td>\n",
              "      <td>4.95</td>\n",
              "      <td>4.62</td>\n",
              "      <td>4.59</td>\n",
              "      <td>--</td>\n",
              "      <td>f</td>\n",
              "      <td>1</td>\n",
              "      <td>1</td>\n",
              "      <td>0</td>\n",
              "      <td>0</td>\n",
              "      <td>2.02</td>\n",
              "    </tr>\n",
              "  </tbody>\n",
              "</table>\n",
              "</div>"
            ],
            "text/plain": [
              "         id                            listing_url       scrape_id  \\\n",
              "0  23726706  https://www.airbnb.com/rooms/23726706  20220605131734   \n",
              "1  35815036  https://www.airbnb.com/rooms/35815036  20220605131734   \n",
              "2  31553121  https://www.airbnb.com/rooms/31553121  20220605131734   \n",
              "\n",
              "  last_scraped                                               name  \\\n",
              "0   2022-06-05  Private room 20 minutes from Amsterdam + Break...   \n",
              "1   2022-06-05  Vrijstaand vakantiehuis, privÃ© tuin aan het w...   \n",
              "2   2022-06-05                    Quiet Guesthouse near Amsterdam   \n",
              "\n",
              "                                         description  \\\n",
              "0  Cousy  private room 20 min. from Amsterdam. Sh...   \n",
              "1  Bij het pittoreske dorpje Watergang ligt ons p...   \n",
              "2  Welcome to the countryside north of Amsterdam ...   \n",
              "\n",
              "                               neighborhood_overview  \\\n",
              "0  We live in a nice Cousy and clean house with e...   \n",
              "1  U heeft hier diverse mogelijkheden. Zo kunt u ...   \n",
              "2  Within 6 kilometers of the city center you'll ...   \n",
              "\n",
              "                                         picture_url    host_id  \\\n",
              "0  https://a0.muscache.com/pictures/eb6d6636-02d6...  122619127   \n",
              "1  https://a0.muscache.com/pictures/e309d415-78de...  269425139   \n",
              "2  https://a0.muscache.com/pictures/64edc273-3b2b...   76806621   \n",
              "\n",
              "                                      host_url host_name  host_since  \\\n",
              "0  https://www.airbnb.com/users/show/122619127  Patricia  2017-03-26   \n",
              "1  https://www.airbnb.com/users/show/269425139     Lydia  2019-06-18   \n",
              "2   https://www.airbnb.com/users/show/76806621      Ralf  2016-06-09   \n",
              "\n",
              "                           host_location  \\\n",
              "0     Diemen, North Holland, Netherlands   \n",
              "1  Watergang, North Holland, Netherlands   \n",
              "2  Landsmeer, North Holland, Netherlands   \n",
              "\n",
              "                                          host_about host_response_time  \\\n",
              "0  Hi, Welcome. we are so glade we are able to op...     within an hour   \n",
              "1                                                 --     within an hour   \n",
              "2                                                 --     within an hour   \n",
              "\n",
              "  host_response_rate host_acceptance_rate host_is_superhost  \\\n",
              "0               100%                  95%                 f   \n",
              "1               100%                  99%                 t   \n",
              "2               100%                 100%                 f   \n",
              "\n",
              "                                  host_thumbnail_url  \\\n",
              "0  https://a0.muscache.com/im/pictures/user/52706...   \n",
              "1  https://a0.muscache.com/im/pictures/user/af417...   \n",
              "2  https://a0.muscache.com/im/pictures/user/1df22...   \n",
              "\n",
              "                                    host_picture_url host_neighbourhood  \\\n",
              "0  https://a0.muscache.com/im/pictures/user/52706...                 --   \n",
              "1  https://a0.muscache.com/im/pictures/user/af417...                 --   \n",
              "2  https://a0.muscache.com/im/pictures/user/1df22...                 --   \n",
              "\n",
              "   host_listings_count  host_total_listings_count  \\\n",
              "0                    1                          1   \n",
              "1                    1                          1   \n",
              "2                    1                          1   \n",
              "\n",
              "                 host_verifications host_has_profile_pic  \\\n",
              "0  ['email', 'phone', 'work_email']                    t   \n",
              "1                ['email', 'phone']                    t   \n",
              "2                ['email', 'phone']                    t   \n",
              "\n",
              "  host_identity_verified                          neighbourhood  \\\n",
              "0                      t     Diemen, Noord-Holland, Netherlands   \n",
              "1                      t  Watergang, Noord-Holland, Netherlands   \n",
              "2                      t  Landsmeer, Noord-Holland, Netherlands   \n",
              "\n",
              "     neighbourhood_cleansed neighbourhood_group_cleansed  latitude  longitude  \\\n",
              "0  IJburg - Zeeburgereiland                           --  52.34916    4.97879   \n",
              "1                Noord-Oost                           --  52.42419    4.95689   \n",
              "2                Noord-West                           --  52.43237    4.91821   \n",
              "\n",
              "          property_type        room_type  accommodates  bathrooms  \\\n",
              "0  Private room in home     Private room             2          3   \n",
              "1             Tiny home  Entire home/apt             2          4   \n",
              "2     Entire guesthouse  Entire home/apt             4          2   \n",
              "\n",
              "  bathrooms_text  bedrooms  beds  \\\n",
              "0  1 shared bath         1     1   \n",
              "1      1.5 baths         1     1   \n",
              "2         1 bath         1     3   \n",
              "\n",
              "                                           amenities  price  minimum_nights  \\\n",
              "0  [\"Carbon monoxide alarm\", \"Dishes and silverwa...   88.0               2   \n",
              "1  [\"Carbon monoxide alarm\", \"Dishes and silverwa...  105.0               3   \n",
              "2  [\"Dishwasher\", \"Carbon monoxide alarm\", \"Ether...  152.0               2   \n",
              "\n",
              "   maximum_nights  minimum_minimum_nights  maximum_minimum_nights  \\\n",
              "0              14                       2                       2   \n",
              "1             100                       1                       3   \n",
              "2              60                       2                       2   \n",
              "\n",
              "   minimum_maximum_nights  maximum_maximum_nights  minimum_nights_avg_ntm  \\\n",
              "0                    1125                    1125                     2.0   \n",
              "1                    1125                    1125                     3.0   \n",
              "2                    1125                    1125                     2.0   \n",
              "\n",
              "   maximum_nights_avg_ntm calendar_updated has_availability  availability_30  \\\n",
              "0                  1125.0               --                t                0   \n",
              "1                  1125.0               --                t                4   \n",
              "2                  1125.0               --                t                0   \n",
              "\n",
              "   availability_60  availability_90  availability_365 calendar_last_scraped  \\\n",
              "0                6               20                66            2022-06-05   \n",
              "1                6               12               243            2022-06-05   \n",
              "2                3                3                 3            2022-06-05   \n",
              "\n",
              "   number_of_reviews  number_of_reviews_ltm  number_of_reviews_l30d  \\\n",
              "0                 78                     11                       3   \n",
              "1                 95                     36                       6   \n",
              "2                 82                     26                       1   \n",
              "\n",
              "  first_review last_review  review_scores_rating  review_scores_accuracy  \\\n",
              "0   2018-03-26  2022-05-29                  4.99                    4.96   \n",
              "1   2019-06-26  2022-06-02                  4.96                    4.94   \n",
              "2   2019-02-04  2022-05-29                  4.74                    4.85   \n",
              "\n",
              "   review_scores_cleanliness  review_scores_checkin  \\\n",
              "0                       4.97                   4.95   \n",
              "1                       5.00                   4.98   \n",
              "2                       4.84                   4.98   \n",
              "\n",
              "   review_scores_communication  review_scores_location  review_scores_value  \\\n",
              "0                         4.97                    4.73                 4.87   \n",
              "1                         4.98                    4.81                 4.83   \n",
              "2                         4.95                    4.62                 4.59   \n",
              "\n",
              "                license instant_bookable  calculated_host_listings_count  \\\n",
              "0  038469D9AA6BDF1142CE                t                               1   \n",
              "1                    --                f                               1   \n",
              "2                    --                f                               1   \n",
              "\n",
              "   calculated_host_listings_count_entire_homes  \\\n",
              "0                                            0   \n",
              "1                                            1   \n",
              "2                                            1   \n",
              "\n",
              "   calculated_host_listings_count_private_rooms  \\\n",
              "0                                             1   \n",
              "1                                             0   \n",
              "2                                             0   \n",
              "\n",
              "   calculated_host_listings_count_shared_rooms  reviews_per_month  \n",
              "0                                            0               1.53  \n",
              "1                                            0               2.65  \n",
              "2                                            0               2.02  "
            ]
          },
          "execution_count": 34,
          "metadata": {},
          "output_type": "execute_result"
        }
      ],
      "source": [
        "pd.options.display.max_columns = 100 # Permite visualizar todas las columnas del dataframe\n",
        "\n",
        "airbnb = pd.read_excel('https://github.com/chris78rey/DIPLOM_BIGDATA/blob/main/amsterdam_airbnb.xlsx?raw=true')\n",
        "airbnb.head(3)"
      ]
    },
    {
      "cell_type": "code",
      "execution_count": 41,
      "metadata": {},
      "outputs": [
        {
          "data": {
            "text/plain": [
              "0      88.0\n",
              "1     105.0\n",
              "2     152.0\n",
              "3     160.0\n",
              "4     140.0\n",
              "5     185.0\n",
              "6     135.0\n",
              "7     120.0\n",
              "8      89.0\n",
              "9     350.0\n",
              "10    150.0\n",
              "11    640.0\n",
              "12    210.0\n",
              "13    106.0\n",
              "14    126.0\n",
              "15    240.0\n",
              "16    151.0\n",
              "17    120.0\n",
              "18     82.0\n",
              "19    109.0\n",
              "20     64.0\n",
              "21    265.0\n",
              "22    195.0\n",
              "23    120.0\n",
              "24    111.0\n",
              "Name: price, dtype: float64"
            ]
          },
          "execution_count": 41,
          "metadata": {},
          "output_type": "execute_result"
        }
      ],
      "source": [
        "airbnb.price.head(25)"
      ]
    },
    {
      "cell_type": "code",
      "execution_count": 4,
      "metadata": {
        "colab": {
          "base_uri": "https://localhost:8080/"
        },
        "id": "iZf8Jq1TbyDM",
        "outputId": "c27c99fe-c5fe-408a-9d1e-3c265e710a0e"
      },
      "outputs": [
        {
          "data": {
            "text/plain": [
              "(1122, 74)"
            ]
          },
          "execution_count": 4,
          "metadata": {},
          "output_type": "execute_result"
        }
      ],
      "source": [
        "# Dimensiones del dataframe\n",
        "airbnb.shape"
      ]
    },
    {
      "cell_type": "code",
      "execution_count": 5,
      "metadata": {
        "colab": {
          "base_uri": "https://localhost:8080/"
        },
        "id": "eDmHmLfe6FOG",
        "outputId": "c28425e8-5303-4f9c-ba56-0cafc4dc6989"
      },
      "outputs": [
        {
          "name": "stdout",
          "output_type": "stream",
          "text": [
            "<class 'pandas.core.frame.DataFrame'>\n",
            "RangeIndex: 1122 entries, 0 to 1121\n",
            "Data columns (total 74 columns):\n",
            " #   Column                                        Non-Null Count  Dtype  \n",
            "---  ------                                        --------------  -----  \n",
            " 0   id                                            1122 non-null   int64  \n",
            " 1   listing_url                                   1122 non-null   object \n",
            " 2   scrape_id                                     1122 non-null   int64  \n",
            " 3   last_scraped                                  1122 non-null   object \n",
            " 4   name                                          1122 non-null   object \n",
            " 5   description                                   1122 non-null   object \n",
            " 6   neighborhood_overview                         1122 non-null   object \n",
            " 7   picture_url                                   1122 non-null   object \n",
            " 8   host_id                                       1122 non-null   int64  \n",
            " 9   host_url                                      1122 non-null   object \n",
            " 10  host_name                                     1122 non-null   object \n",
            " 11  host_since                                    1122 non-null   object \n",
            " 12  host_location                                 1122 non-null   object \n",
            " 13  host_about                                    1122 non-null   object \n",
            " 14  host_response_time                            794 non-null    object \n",
            " 15  host_response_rate                            794 non-null    object \n",
            " 16  host_acceptance_rate                          916 non-null    object \n",
            " 17  host_is_superhost                             1122 non-null   object \n",
            " 18  host_thumbnail_url                            1122 non-null   object \n",
            " 19  host_picture_url                              1122 non-null   object \n",
            " 20  host_neighbourhood                            1122 non-null   object \n",
            " 21  host_listings_count                           1122 non-null   int64  \n",
            " 22  host_total_listings_count                     1122 non-null   int64  \n",
            " 23  host_verifications                            1122 non-null   object \n",
            " 24  host_has_profile_pic                          1122 non-null   object \n",
            " 25  host_identity_verified                        1122 non-null   object \n",
            " 26  neighbourhood                                 1122 non-null   object \n",
            " 27  neighbourhood_cleansed                        1122 non-null   object \n",
            " 28  neighbourhood_group_cleansed                  1122 non-null   object \n",
            " 29  latitude                                      1122 non-null   float64\n",
            " 30  longitude                                     1122 non-null   float64\n",
            " 31  property_type                                 1122 non-null   object \n",
            " 32  room_type                                     1122 non-null   object \n",
            " 33  accommodates                                  1122 non-null   int64  \n",
            " 34  bathrooms                                     1122 non-null   int64  \n",
            " 35  bathrooms_text                                1122 non-null   object \n",
            " 36  bedrooms                                      1122 non-null   int64  \n",
            " 37  beds                                          1122 non-null   int64  \n",
            " 38  amenities                                     1122 non-null   object \n",
            " 39  price                                         1121 non-null   float64\n",
            " 40  minimum_nights                                1122 non-null   int64  \n",
            " 41  maximum_nights                                1122 non-null   int64  \n",
            " 42  minimum_minimum_nights                        1122 non-null   int64  \n",
            " 43  maximum_minimum_nights                        1122 non-null   int64  \n",
            " 44  minimum_maximum_nights                        1122 non-null   int64  \n",
            " 45  maximum_maximum_nights                        1122 non-null   int64  \n",
            " 46  minimum_nights_avg_ntm                        1122 non-null   float64\n",
            " 47  maximum_nights_avg_ntm                        1122 non-null   float64\n",
            " 48  calendar_updated                              1122 non-null   object \n",
            " 49  has_availability                              1122 non-null   object \n",
            " 50  availability_30                               1122 non-null   int64  \n",
            " 51  availability_60                               1122 non-null   int64  \n",
            " 52  availability_90                               1122 non-null   int64  \n",
            " 53  availability_365                              1122 non-null   int64  \n",
            " 54  calendar_last_scraped                         1122 non-null   object \n",
            " 55  number_of_reviews                             1122 non-null   int64  \n",
            " 56  number_of_reviews_ltm                         1122 non-null   int64  \n",
            " 57  number_of_reviews_l30d                        1122 non-null   int64  \n",
            " 58  first_review                                  1122 non-null   object \n",
            " 59  last_review                                   1122 non-null   object \n",
            " 60  review_scores_rating                          1122 non-null   float64\n",
            " 61  review_scores_accuracy                        1122 non-null   float64\n",
            " 62  review_scores_cleanliness                     1122 non-null   float64\n",
            " 63  review_scores_checkin                         1122 non-null   float64\n",
            " 64  review_scores_communication                   1122 non-null   float64\n",
            " 65  review_scores_location                        1122 non-null   float64\n",
            " 66  review_scores_value                           1122 non-null   float64\n",
            " 67  license                                       1122 non-null   object \n",
            " 68  instant_bookable                              1122 non-null   object \n",
            " 69  calculated_host_listings_count                1122 non-null   int64  \n",
            " 70  calculated_host_listings_count_entire_homes   1122 non-null   int64  \n",
            " 71  calculated_host_listings_count_private_rooms  1122 non-null   int64  \n",
            " 72  calculated_host_listings_count_shared_rooms   1122 non-null   int64  \n",
            " 73  reviews_per_month                             1122 non-null   float64\n",
            "dtypes: float64(13), int64(26), object(35)\n",
            "memory usage: 648.8+ KB\n"
          ]
        }
      ],
      "source": [
        "# Resumen de las variables del dataframe\n",
        "airbnb.info()"
      ]
    },
    {
      "cell_type": "markdown",
      "metadata": {
        "id": "LnjpuOoQPAWO"
      },
      "source": [
        "## **Errores y datos atípicos**"
      ]
    },
    {
      "cell_type": "markdown",
      "metadata": {
        "id": "xE_w0tSCoP8m"
      },
      "source": [
        "En la fase de exploración previa identificamos algunas incongruencias en las variables price y bathrooms. Para la variable price encontramos hospedajes con precios desde 0 dólares, y a su vez tenemos algunos atípicos muy lejos del cuartil 75 y el bígote superior. Vea el boxplot para el precio.\n",
        "\n",
        "Por otro lado, la variable bathrooms presenta valores decimales, 0.5 y 7.5 que podemos ver en el resumen estadístico. Si bien es extraño pensar en cantidad de baños como un valor decimal es muy común encontrar la notación 0.5 en estos escenarios. 0.5 representa un baño que solo tiene cisterna y lavamanos, pero que no tiene ducha. 1.0 representa un baño con ducha, cisterna y lavamanos."
      ]
    },
    {
      "cell_type": "markdown",
      "metadata": {},
      "source": [
        "### **Acá se procede a completar los valores que esten con campos NaN con la mediana**"
      ]
    },
    {
      "cell_type": "code",
      "execution_count": 6,
      "metadata": {},
      "outputs": [
        {
          "data": {
            "text/plain": [
              "0       3\n",
              "1       4\n",
              "2       2\n",
              "3       2\n",
              "4       3\n",
              "       ..\n",
              "1117    1\n",
              "1118    4\n",
              "1119    3\n",
              "1120    1\n",
              "1121    3\n",
              "Name: bathrooms, Length: 1122, dtype: int64"
            ]
          },
          "execution_count": 6,
          "metadata": {},
          "output_type": "execute_result"
        }
      ],
      "source": [
        "precio_mediana=airbnb['price'].median()\n",
        "airbnb['price'].fillna(precio_mediana)\n",
        "\n",
        "bathrooms_mediana=airbnb['bathrooms'].median()\n",
        "airbnb['bathrooms'].fillna(bathrooms_mediana)"
      ]
    },
    {
      "cell_type": "code",
      "execution_count": 7,
      "metadata": {
        "colab": {
          "base_uri": "https://localhost:8080/",
          "height": 300
        },
        "id": "bb7iDrG5Aa6_",
        "outputId": "fe1fff9f-a53d-402e-ae33-ac9f2ba6fd26"
      },
      "outputs": [
        {
          "data": {
            "text/html": [
              "<div>\n",
              "<style scoped>\n",
              "    .dataframe tbody tr th:only-of-type {\n",
              "        vertical-align: middle;\n",
              "    }\n",
              "\n",
              "    .dataframe tbody tr th {\n",
              "        vertical-align: top;\n",
              "    }\n",
              "\n",
              "    .dataframe thead th {\n",
              "        text-align: right;\n",
              "    }\n",
              "</style>\n",
              "<table border=\"1\" class=\"dataframe\">\n",
              "  <thead>\n",
              "    <tr style=\"text-align: right;\">\n",
              "      <th></th>\n",
              "      <th>price</th>\n",
              "      <th>bathrooms</th>\n",
              "    </tr>\n",
              "  </thead>\n",
              "  <tbody>\n",
              "    <tr>\n",
              "      <th>count</th>\n",
              "      <td>1121.000000</td>\n",
              "      <td>1122.000000</td>\n",
              "    </tr>\n",
              "    <tr>\n",
              "      <th>mean</th>\n",
              "      <td>181.939340</td>\n",
              "      <td>2.552585</td>\n",
              "    </tr>\n",
              "    <tr>\n",
              "      <th>std</th>\n",
              "      <td>110.144288</td>\n",
              "      <td>1.311922</td>\n",
              "    </tr>\n",
              "    <tr>\n",
              "      <th>min</th>\n",
              "      <td>28.000000</td>\n",
              "      <td>1.000000</td>\n",
              "    </tr>\n",
              "    <tr>\n",
              "      <th>25%</th>\n",
              "      <td>110.000000</td>\n",
              "      <td>2.000000</td>\n",
              "    </tr>\n",
              "    <tr>\n",
              "      <th>50%</th>\n",
              "      <td>150.000000</td>\n",
              "      <td>2.000000</td>\n",
              "    </tr>\n",
              "    <tr>\n",
              "      <th>75%</th>\n",
              "      <td>225.000000</td>\n",
              "      <td>3.000000</td>\n",
              "    </tr>\n",
              "    <tr>\n",
              "      <th>max</th>\n",
              "      <td>911.000000</td>\n",
              "      <td>25.000000</td>\n",
              "    </tr>\n",
              "  </tbody>\n",
              "</table>\n",
              "</div>"
            ],
            "text/plain": [
              "             price    bathrooms\n",
              "count  1121.000000  1122.000000\n",
              "mean    181.939340     2.552585\n",
              "std     110.144288     1.311922\n",
              "min      28.000000     1.000000\n",
              "25%     110.000000     2.000000\n",
              "50%     150.000000     2.000000\n",
              "75%     225.000000     3.000000\n",
              "max     911.000000    25.000000"
            ]
          },
          "execution_count": 7,
          "metadata": {},
          "output_type": "execute_result"
        }
      ],
      "source": [
        "airbnb[['price','bathrooms']].describe()"
      ]
    },
    {
      "cell_type": "code",
      "execution_count": 8,
      "metadata": {
        "colab": {
          "base_uri": "https://localhost:8080/",
          "height": 356
        },
        "id": "8DxZWc_TqAEy",
        "outputId": "2c192dfe-f77d-4991-e176-d2438d815cb3"
      },
      "outputs": [
        {
          "data": {
            "text/plain": [
              "<AxesSubplot:xlabel='price'>"
            ]
          },
          "execution_count": 8,
          "metadata": {},
          "output_type": "execute_result"
        },
        {
          "data": {
            "image/png": "[encoded data removed]",
            "text/plain": [
              "<Figure size 720x360 with 2 Axes>"
            ]
          },
          "metadata": {},
          "output_type": "display_data"
        }
      ],
      "source": [
        "\n",
        "fig, ax = plt.subplots(1,2, figsize = (10,5))\n",
        "sns.histplot(data = airbnb, x='price', ax = ax[0])\n",
        "sns.boxplot(data = airbnb, x='price', ax = ax[1])"
      ]
    },
    {
      "cell_type": "markdown",
      "metadata": {
        "id": "mRzbLpLrsYfN"
      },
      "source": [
        "### Ejercicio 1\n",
        "\n",
        "Cree un subconjunto con el nombre `atipicos_precio` que contenga las observaciones consideradas atípicos severos de acuerdo al boxplot del precio. "
      ]
    },
    {
      "cell_type": "markdown",
      "metadata": {
        "id": "WV-IvntGtTut"
      },
      "source": [
        "<details>    \n",
        "<summary>\n",
        "    <font size=\"3\" color=\"darkblue\"><b>Pistas</b></font>\n",
        "</summary>\n",
        "\n",
        "* Use un filtro para seleccionar las observaciones que cumplan el criterio (en el taller guiado de Pandas puede encontrar información útil- selección de variables).\n",
        "* Los atípicos severos son las observaciones que quedan por fuera de los bígotes.\n",
        "* Los bígotes pueden tener una longitud máxima de 1.5*IQ, donde IQ es el rango intercuartílico. [Aquí](https://www.data-to-viz.com/caveat/boxplot.html) puede encontrar más información.\n",
        "* `atipicos_precio` debe tener dimensiones (1430, 76).\n",
        "\n"
      ]
    },
    {
      "cell_type": "code",
      "execution_count": 9,
      "metadata": {
        "colab": {
          "base_uri": "https://localhost:8080/"
        },
        "id": "YcOK3mN5uwcR",
        "outputId": "5dea5500-48d0-49a2-8ce1-19f2d9736671"
      },
      "outputs": [
        {
          "data": {
            "text/plain": [
              "<AxesSubplot:ylabel='Frequency'>"
            ]
          },
          "execution_count": 9,
          "metadata": {},
          "output_type": "execute_result"
        },
        {
          "data": {
            "image/png": "[encoded data removed]",
            "text/plain": [
              "<Figure size 432x288 with 1 Axes>"
            ]
          },
          "metadata": {},
          "output_type": "display_data"
        }
      ],
      "source": [
        "# Respuesta\n",
        "df_price=airbnb[['price']]\n",
        "df_price.plot.hist()"
      ]
    },
    {
      "cell_type": "code",
      "execution_count": 10,
      "metadata": {},
      "outputs": [
        {
          "data": {
            "text/plain": [
              "<AxesSubplot:xlabel='bathrooms'>"
            ]
          },
          "execution_count": 10,
          "metadata": {},
          "output_type": "execute_result"
        },
        {
          "data": {
            "image/png": "[encoded data removed]",
            "text/plain": [
              "<Figure size 720x360 with 2 Axes>"
            ]
          },
          "metadata": {},
          "output_type": "display_data"
        }
      ],
      "source": [
        "fig, ax = plt.subplots(1,2, figsize = (10,5))\n",
        "sns.boxplot(data = airbnb, x='bedrooms', ax = ax[0], color = 'yellow')\n",
        "sns.boxplot(data = airbnb, x='bathrooms', ax = ax[1] , color = 'green')"
      ]
    },
    {
      "cell_type": "markdown",
      "metadata": {
        "id": "D60tHesiuuLT"
      },
      "source": [
        "### Ejercicio 2 (difícil)\n",
        "Analicemos el subconjunto `atipicos_precio`.\n",
        "* ¿Cuántos hospedajes hay en el subconjunto?\n",
        "* Construya un histograma para la variable precio. Describa la distribución.\n",
        "* Haga un análisis de las variables bedrooms, bathrooms. En comparación con la distribución general ¿aprecia alguna diferencia?\n",
        "* Analice la ubicación de los lugares y compare con la distribución general que analizamos en la primera fase. ¿Observa algún patrón?\n",
        "\n",
        "Si tuvo problemas con el Ejercicio 1, no se preocupe, a continuación se carga el dataset producto del primer ejercicio.\n",
        "\n"
      ]
    },
    {
      "cell_type": "markdown",
      "metadata": {
        "id": "UsOUKhTkRuWg"
      },
      "source": [
        "<details>    \n",
        "<summary>\n",
        "    <font size=\"3\" color=\"darkblue\"><b>Pistas</b></font>\n",
        "</summary>\n",
        "\n",
        "* Compare las distribuciones de los baños y habitaciones en el conjunto general `airbnb` y en el subconjunto `atipicos_precio`.\n",
        "* Haga un jointplot para comparar la distribución de la variable ubicación en el subconjunto `atipicos_precio` con respecto a la visualización obtenida en la fase 1."
      ]
    },
    {
      "cell_type": "code",
      "execution_count": 11,
      "metadata": {
        "colab": {
          "base_uri": "https://localhost:8080/"
        },
        "id": "DKypu8oNjxxl",
        "outputId": "42bb2917-fff5-49ef-ef81-056937df80d1"
      },
      "outputs": [
        {
          "name": "stdout",
          "output_type": "stream",
          "text": [
            "Las dimensiones de atipicos_precio son: (43, 74)\n"
          ]
        }
      ],
      "source": [
        "atipicos_precio = airbnb[airbnb['price'] > 400]\n",
        "print('Las dimensiones de atipicos_precio son: {}'.format(atipicos_precio.shape))"
      ]
    },
    {
      "cell_type": "code",
      "execution_count": 12,
      "metadata": {
        "colab": {
          "base_uri": "https://localhost:8080/",
          "height": 302
        },
        "id": "8PwyGX_49Ofc",
        "outputId": "146a004e-2caf-4c58-a32e-3b333110a676"
      },
      "outputs": [
        {
          "data": {
            "text/plain": [
              "<AxesSubplot:ylabel='Frequency'>"
            ]
          },
          "execution_count": 12,
          "metadata": {},
          "output_type": "execute_result"
        },
        {
          "data": {
            "image/png": "[encoded data removed]",
            "text/plain": [
              "<Figure size 432x288 with 1 Axes>"
            ]
          },
          "metadata": {},
          "output_type": "display_data"
        }
      ],
      "source": [
        "# Respuesta\n",
        "df_price=airbnb[['price']]\n",
        "df_price.plot.hist()"
      ]
    },
    {
      "cell_type": "code",
      "execution_count": 13,
      "metadata": {},
      "outputs": [
        {
          "data": {
            "text/plain": [
              "<AxesSubplot:xlabel='bathrooms'>"
            ]
          },
          "execution_count": 13,
          "metadata": {},
          "output_type": "execute_result"
        },
        {
          "data": {
            "image/png": "[encoded data removed]",
            "text/plain": [
              "<Figure size 720x360 with 2 Axes>"
            ]
          },
          "metadata": {},
          "output_type": "display_data"
        }
      ],
      "source": [
        "fig, ax = plt.subplots(1,2, figsize = (10,5))\n",
        "sns.boxplot(data = airbnb, x='bedrooms', ax = ax[0])\n",
        "sns.boxplot(data = airbnb, x='bathrooms', ax = ax[1])"
      ]
    },
    {
      "cell_type": "code",
      "execution_count": 14,
      "metadata": {
        "colab": {
          "base_uri": "https://localhost:8080/",
          "height": 509
        },
        "id": "YhGR1BSO2qUq",
        "outputId": "a5b52e7f-0ed7-46e2-a6b6-4a23e93b5b76"
      },
      "outputs": [
        {
          "data": {
            "text/html": [
              "<div>\n",
              "<style scoped>\n",
              "    .dataframe tbody tr th:only-of-type {\n",
              "        vertical-align: middle;\n",
              "    }\n",
              "\n",
              "    .dataframe tbody tr th {\n",
              "        vertical-align: top;\n",
              "    }\n",
              "\n",
              "    .dataframe thead th {\n",
              "        text-align: right;\n",
              "    }\n",
              "</style>\n",
              "<table border=\"1\" class=\"dataframe\">\n",
              "  <thead>\n",
              "    <tr style=\"text-align: right;\">\n",
              "      <th></th>\n",
              "      <th>bedrooms</th>\n",
              "    </tr>\n",
              "  </thead>\n",
              "  <tbody>\n",
              "    <tr>\n",
              "      <th>5</th>\n",
              "      <td>3</td>\n",
              "    </tr>\n",
              "    <tr>\n",
              "      <th>10</th>\n",
              "      <td>4</td>\n",
              "    </tr>\n",
              "    <tr>\n",
              "      <th>11</th>\n",
              "      <td>4</td>\n",
              "    </tr>\n",
              "    <tr>\n",
              "      <th>21</th>\n",
              "      <td>4</td>\n",
              "    </tr>\n",
              "    <tr>\n",
              "      <th>36</th>\n",
              "      <td>10</td>\n",
              "    </tr>\n",
              "    <tr>\n",
              "      <th>...</th>\n",
              "      <td>...</td>\n",
              "    </tr>\n",
              "    <tr>\n",
              "      <th>1112</th>\n",
              "      <td>3</td>\n",
              "    </tr>\n",
              "    <tr>\n",
              "      <th>1116</th>\n",
              "      <td>3</td>\n",
              "    </tr>\n",
              "    <tr>\n",
              "      <th>1117</th>\n",
              "      <td>4</td>\n",
              "    </tr>\n",
              "    <tr>\n",
              "      <th>1118</th>\n",
              "      <td>3</td>\n",
              "    </tr>\n",
              "    <tr>\n",
              "      <th>1121</th>\n",
              "      <td>3</td>\n",
              "    </tr>\n",
              "  </tbody>\n",
              "</table>\n",
              "<p>183 rows × 1 columns</p>\n",
              "</div>"
            ],
            "text/plain": [
              "      bedrooms\n",
              "5            3\n",
              "10           4\n",
              "11           4\n",
              "21           4\n",
              "36          10\n",
              "...        ...\n",
              "1112         3\n",
              "1116         3\n",
              "1117         4\n",
              "1118         3\n",
              "1121         3\n",
              "\n",
              "[183 rows x 1 columns]"
            ]
          },
          "execution_count": 14,
          "metadata": {},
          "output_type": "execute_result"
        }
      ],
      "source": [
        "# Respuesta\n",
        "atipicos_bedrooms =airbnb.loc[airbnb['bedrooms']> 2.5,['bedrooms']]\n",
        "atipicos_bedrooms[['bedrooms']] "
      ]
    },
    {
      "cell_type": "code",
      "execution_count": 15,
      "metadata": {},
      "outputs": [
        {
          "data": {
            "text/html": [
              "<div>\n",
              "<style scoped>\n",
              "    .dataframe tbody tr th:only-of-type {\n",
              "        vertical-align: middle;\n",
              "    }\n",
              "\n",
              "    .dataframe tbody tr th {\n",
              "        vertical-align: top;\n",
              "    }\n",
              "\n",
              "    .dataframe thead th {\n",
              "        text-align: right;\n",
              "    }\n",
              "</style>\n",
              "<table border=\"1\" class=\"dataframe\">\n",
              "  <thead>\n",
              "    <tr style=\"text-align: right;\">\n",
              "      <th></th>\n",
              "      <th>bathrooms</th>\n",
              "    </tr>\n",
              "  </thead>\n",
              "  <tbody>\n",
              "    <tr>\n",
              "      <th>121</th>\n",
              "      <td>8</td>\n",
              "    </tr>\n",
              "    <tr>\n",
              "      <th>122</th>\n",
              "      <td>7</td>\n",
              "    </tr>\n",
              "    <tr>\n",
              "      <th>123</th>\n",
              "      <td>6</td>\n",
              "    </tr>\n",
              "    <tr>\n",
              "      <th>127</th>\n",
              "      <td>11</td>\n",
              "    </tr>\n",
              "    <tr>\n",
              "      <th>147</th>\n",
              "      <td>25</td>\n",
              "    </tr>\n",
              "    <tr>\n",
              "      <th>163</th>\n",
              "      <td>14</td>\n",
              "    </tr>\n",
              "    <tr>\n",
              "      <th>184</th>\n",
              "      <td>13</td>\n",
              "    </tr>\n",
              "    <tr>\n",
              "      <th>194</th>\n",
              "      <td>7</td>\n",
              "    </tr>\n",
              "  </tbody>\n",
              "</table>\n",
              "</div>"
            ],
            "text/plain": [
              "     bathrooms\n",
              "121          8\n",
              "122          7\n",
              "123          6\n",
              "127         11\n",
              "147         25\n",
              "163         14\n",
              "184         13\n",
              "194          7"
            ]
          },
          "execution_count": 15,
          "metadata": {},
          "output_type": "execute_result"
        }
      ],
      "source": [
        "atipicos_bathrooms =airbnb.loc[airbnb['bathrooms']> 4,['bathrooms']]\n",
        "atipicos_bathrooms[['bathrooms']] "
      ]
    },
    {
      "cell_type": "code",
      "execution_count": 16,
      "metadata": {},
      "outputs": [
        {
          "data": {
            "text/plain": [
              "<AxesSubplot:xlabel='bathrooms', ylabel='Count'>"
            ]
          },
          "execution_count": 16,
          "metadata": {},
          "output_type": "execute_result"
        },
        {
          "data": {
            "image/png": "[encoded data removed]",
            "text/plain": [
              "<Figure size 720x360 with 4 Axes>"
            ]
          },
          "metadata": {},
          "output_type": "display_data"
        }
      ],
      "source": [
        "\n",
        "\n",
        "fig, ax = plt.subplots(2,2, figsize = (10,5))\n",
        "sns.histplot(data = airbnb, x='bedrooms', ax = ax[0,0])\n",
        "sns.histplot(data = atipicos_bedrooms, x='bedrooms', ax = ax[0,1])\n",
        "sns.histplot(data = airbnb, x='bathrooms', ax = ax[1,0])\n",
        "sns.histplot(data = atipicos_bathrooms, x='bathrooms', ax = ax[1,1])\n"
      ]
    },
    {
      "cell_type": "code",
      "execution_count": 17,
      "metadata": {},
      "outputs": [
        {
          "data": {
            "image/png": "[encoded data removed]",
            "text/plain": [
              "<Figure size 432x432 with 3 Axes>"
            ]
          },
          "metadata": {},
          "output_type": "display_data"
        }
      ],
      "source": [
        "sns.jointplot(data = airbnb,\n",
        "              x='longitude', \n",
        "              y='latitude', \n",
        "              kind=\"hex\", # define la forma de las zonas que vamos a construir\n",
        "              color = 'red')\n",
        "\n",
        "plt.xlabel('Longitud')\n",
        "plt.ylabel('Latitud')\n",
        "plt.title('Hospedajes en función de la ubicación')\n",
        "plt.tight_layout() # Evita el sobrelapamiento de elementos"
      ]
    },
    {
      "cell_type": "markdown",
      "metadata": {
        "id": "stJ83TapQHK5"
      },
      "source": [
        "### Ejercicio 3\n",
        "\n",
        "A partir del análisis del ejercicio anterior concluya. ¿Considera que los datos del subconjunto `atipicos_precio` son errores y deben ser eliminados? ¿Cuál considera una razón importante para el aumento significativo de los precios?"
      ]
    },
    {
      "cell_type": "markdown",
      "metadata": {
        "id": "mSq_4VzSSf2a"
      },
      "source": [
        "Respuesta"
      ]
    },
    {
      "cell_type": "markdown",
      "metadata": {},
      "source": [
        "Considero que los valores atípicos no deben ser reemplazados con valores como la média."
      ]
    },
    {
      "cell_type": "markdown",
      "metadata": {},
      "source": [
        "En cuanto a la razón de incremento de los precios debe ser generalmente porque son nuesvos host y no están relacionados con los precios del mercado, por ello entiendo que los precios se van regulando posteriormente cuando los hospedadores trabajen algún tiempo con AIRBNB."
      ]
    },
    {
      "cell_type": "markdown",
      "metadata": {
        "id": "PLXRXulVUxQy"
      },
      "source": [
        "### Ejercicio 4\n",
        "\n",
        "Partiendo del dataset general `airbnb` cree un subconjunto con los hospedajes con precio menor o igual a 10 dólares/noche. ¿Cuántos hospedajes tiene el nuevo subconjunto? ¿Cuántos hospedajes tienen un precio de 0 dólares/noche?\n",
        "¿Cuántos hospedajes tienen un precio de 10 dólares/noche? \n",
        "\n",
        "Basado en la exploración anterior responda: \n",
        "* ¿Cuál es el precio mínimo de un hospedaje en la ciudad de Nueva York? \n",
        "* Sugiera alternativas para lidiar con los hospedajes con precio 0.\n"
      ]
    },
    {
      "cell_type": "code",
      "execution_count": 18,
      "metadata": {
        "colab": {
          "base_uri": "https://localhost:8080/"
        },
        "id": "zCHleZyrWICY",
        "outputId": "1409bc9f-cb73-456b-f4fd-8b1d26cb8fb6"
      },
      "outputs": [
        {
          "data": {
            "text/html": [
              "<div>\n",
              "<style scoped>\n",
              "    .dataframe tbody tr th:only-of-type {\n",
              "        vertical-align: middle;\n",
              "    }\n",
              "\n",
              "    .dataframe tbody tr th {\n",
              "        vertical-align: top;\n",
              "    }\n",
              "\n",
              "    .dataframe thead th {\n",
              "        text-align: right;\n",
              "    }\n",
              "</style>\n",
              "<table border=\"1\" class=\"dataframe\">\n",
              "  <thead>\n",
              "    <tr style=\"text-align: right;\">\n",
              "      <th></th>\n",
              "      <th>id</th>\n",
              "      <th>listing_url</th>\n",
              "      <th>scrape_id</th>\n",
              "      <th>last_scraped</th>\n",
              "      <th>name</th>\n",
              "      <th>description</th>\n",
              "      <th>neighborhood_overview</th>\n",
              "      <th>picture_url</th>\n",
              "      <th>host_id</th>\n",
              "      <th>host_url</th>\n",
              "      <th>host_name</th>\n",
              "      <th>host_since</th>\n",
              "      <th>host_location</th>\n",
              "      <th>host_about</th>\n",
              "      <th>host_response_time</th>\n",
              "      <th>host_response_rate</th>\n",
              "      <th>host_acceptance_rate</th>\n",
              "      <th>host_is_superhost</th>\n",
              "      <th>host_thumbnail_url</th>\n",
              "      <th>host_picture_url</th>\n",
              "      <th>host_neighbourhood</th>\n",
              "      <th>host_listings_count</th>\n",
              "      <th>host_total_listings_count</th>\n",
              "      <th>host_verifications</th>\n",
              "      <th>host_has_profile_pic</th>\n",
              "      <th>host_identity_verified</th>\n",
              "      <th>neighbourhood</th>\n",
              "      <th>neighbourhood_cleansed</th>\n",
              "      <th>neighbourhood_group_cleansed</th>\n",
              "      <th>latitude</th>\n",
              "      <th>longitude</th>\n",
              "      <th>property_type</th>\n",
              "      <th>room_type</th>\n",
              "      <th>accommodates</th>\n",
              "      <th>bathrooms</th>\n",
              "      <th>bathrooms_text</th>\n",
              "      <th>bedrooms</th>\n",
              "      <th>beds</th>\n",
              "      <th>amenities</th>\n",
              "      <th>price</th>\n",
              "      <th>minimum_nights</th>\n",
              "      <th>maximum_nights</th>\n",
              "      <th>minimum_minimum_nights</th>\n",
              "      <th>maximum_minimum_nights</th>\n",
              "      <th>minimum_maximum_nights</th>\n",
              "      <th>maximum_maximum_nights</th>\n",
              "      <th>minimum_nights_avg_ntm</th>\n",
              "      <th>maximum_nights_avg_ntm</th>\n",
              "      <th>calendar_updated</th>\n",
              "      <th>has_availability</th>\n",
              "      <th>availability_30</th>\n",
              "      <th>availability_60</th>\n",
              "      <th>availability_90</th>\n",
              "      <th>availability_365</th>\n",
              "      <th>calendar_last_scraped</th>\n",
              "      <th>number_of_reviews</th>\n",
              "      <th>number_of_reviews_ltm</th>\n",
              "      <th>number_of_reviews_l30d</th>\n",
              "      <th>first_review</th>\n",
              "      <th>last_review</th>\n",
              "      <th>review_scores_rating</th>\n",
              "      <th>review_scores_accuracy</th>\n",
              "      <th>review_scores_cleanliness</th>\n",
              "      <th>review_scores_checkin</th>\n",
              "      <th>review_scores_communication</th>\n",
              "      <th>review_scores_location</th>\n",
              "      <th>review_scores_value</th>\n",
              "      <th>license</th>\n",
              "      <th>instant_bookable</th>\n",
              "      <th>calculated_host_listings_count</th>\n",
              "      <th>calculated_host_listings_count_entire_homes</th>\n",
              "      <th>calculated_host_listings_count_private_rooms</th>\n",
              "      <th>calculated_host_listings_count_shared_rooms</th>\n",
              "      <th>reviews_per_month</th>\n",
              "    </tr>\n",
              "  </thead>\n",
              "  <tbody>\n",
              "  </tbody>\n",
              "</table>\n",
              "</div>"
            ],
            "text/plain": [
              "Empty DataFrame\n",
              "Columns: [id, listing_url, scrape_id, last_scraped, name, description, neighborhood_overview, picture_url, host_id, host_url, host_name, host_since, host_location, host_about, host_response_time, host_response_rate, host_acceptance_rate, host_is_superhost, host_thumbnail_url, host_picture_url, host_neighbourhood, host_listings_count, host_total_listings_count, host_verifications, host_has_profile_pic, host_identity_verified, neighbourhood, neighbourhood_cleansed, neighbourhood_group_cleansed, latitude, longitude, property_type, room_type, accommodates, bathrooms, bathrooms_text, bedrooms, beds, amenities, price, minimum_nights, maximum_nights, minimum_minimum_nights, maximum_minimum_nights, minimum_maximum_nights, maximum_maximum_nights, minimum_nights_avg_ntm, maximum_nights_avg_ntm, calendar_updated, has_availability, availability_30, availability_60, availability_90, availability_365, calendar_last_scraped, number_of_reviews, number_of_reviews_ltm, number_of_reviews_l30d, first_review, last_review, review_scores_rating, review_scores_accuracy, review_scores_cleanliness, review_scores_checkin, review_scores_communication, review_scores_location, review_scores_value, license, instant_bookable, calculated_host_listings_count, calculated_host_listings_count_entire_homes, calculated_host_listings_count_private_rooms, calculated_host_listings_count_shared_rooms, reviews_per_month]\n",
              "Index: []"
            ]
          },
          "execution_count": 18,
          "metadata": {},
          "output_type": "execute_result"
        }
      ],
      "source": [
        "# Respuesta\n",
        "airbnb.loc[airbnb['price']<=10,:]"
      ]
    },
    {
      "cell_type": "markdown",
      "metadata": {
        "id": "nQ_s7R0zbHXe"
      },
      "source": [
        "### Ejercicio 5\n",
        "\n",
        "Elimine los hospedajes con precio igual a cero. Cree un dataframe llamado `airbnb2` con esta modificación, deberá tener 30173 observaciones y las mismas 76 variables.\n",
        "\n"
      ]
    },
    {
      "cell_type": "markdown",
      "metadata": {
        "id": "JMF5wUICdqhQ"
      },
      "source": [
        "<details>    \n",
        "<summary>\n",
        "    <font size=\"3\" color=\"darkblue\"><b>Pistas</b></font>\n",
        "</summary>\n",
        "\n",
        "Existen diferentes formas para eliminar registros usando una condición.\n",
        "1. Haga un filtro que guarde los hospedajes con precio diferente de 0.\n",
        "2. Obtenga los índices de las observaciones con precio igual a cero y utilice el método `.drop` para eliminarlas."
      ]
    },
    {
      "cell_type": "code",
      "execution_count": 19,
      "metadata": {
        "colab": {
          "base_uri": "https://localhost:8080/"
        },
        "id": "_0VlXFVZbGko",
        "outputId": "d8145289-7d57-4ae0-e667-09227d276026"
      },
      "outputs": [],
      "source": [
        "# Respuesta\n"
      ]
    },
    {
      "cell_type": "markdown",
      "metadata": {
        "id": "J5VMkhB0e6cW"
      },
      "source": [
        "## **Valores nulos**"
      ]
    },
    {
      "cell_type": "markdown",
      "metadata": {
        "id": "7k-eLvJ5e_3H"
      },
      "source": [
        "Una de las tareas obligatorias en esta fase de limpieza es detectar y explorar los valores nulos. Haga esa inspección con el dataframe `airbnb2` que acabamos de crear ."
      ]
    },
    {
      "cell_type": "markdown",
      "metadata": {
        "id": "cQnmDCmOBW-O"
      },
      "source": [
        "### Ejercicio 6\n",
        "\n",
        "Obtenga una tabla de frecuencia con las 20 variables con mayor cantidad de valores nulos. Calcule el porcentaje de valores nulos para cada variable.\n",
        "Responda las siguientes preguntas:\n",
        "* Proponga soluciones para el problema de las variables con más de 25% de valores nulos.\n",
        "* Considere la variable neighbourhood, en la fase pasada encontramos que es una variable determinante en el precio, plantee soluciones para hacer el relleno de valores faltantes presentes en esta variable.\n",
        "\n",
        "Recuerde justificar su propuesta usando los recursos vistos en clase.\n"
      ]
    },
    {
      "cell_type": "markdown",
      "metadata": {
        "id": "xA8h4yppOtIY"
      },
      "source": [
        "<details>    \n",
        "<summary>\n",
        "    <font size=\"3\" color=\"darkblue\"><b>Pistas</b></font>\n",
        "</summary>\n",
        "\n",
        "* Utilice el método `.isnull()` este dará como resultado un booleano para cada valor dentro del DataFrame `airbnb2`.\n",
        "* Otros métodos útiles: `.sum()`, `sort_values()`\n",
        "\n",
        "\n",
        "\n"
      ]
    },
    {
      "cell_type": "code",
      "execution_count": 20,
      "metadata": {
        "colab": {
          "base_uri": "https://localhost:8080/"
        },
        "id": "sQITfE1O8ndV",
        "outputId": "3b931f3b-540b-4bb8-99ea-830806d6eff4"
      },
      "outputs": [],
      "source": [
        "# Respuesta\n"
      ]
    },
    {
      "cell_type": "markdown",
      "metadata": {
        "id": "atpSg0OePqMn"
      },
      "source": [
        "### Ejercicio 7\n",
        "\n",
        "Basado en su propuesta del ejercicio 6, ejecute las soluciones que estén dentro de su alcance técnico. Al menos una de ellas.\n"
      ]
    },
    {
      "cell_type": "code",
      "execution_count": 21,
      "metadata": {
        "id": "5KWjKF2fRWW4"
      },
      "outputs": [],
      "source": [
        "# Respuesta\n"
      ]
    },
    {
      "cell_type": "markdown",
      "metadata": {
        "id": "os8O6gJ7QNpn"
      },
      "source": [
        "## **Transformación de variables**\n",
        "\n",
        "Ya hemos lidiado con datos atípicos y valores faltantes. Ahora procedamos a transformar nuestras características según las necesidades de cada variable. Vamos a seleccionar 11 variables para crear nuestro modelo basados en los análisis exploratorios realizados previamente. Recuerde, la variable objetivo es el precio. En la fase 3 construiremos un modelo que nos permita predecir el precio a partir de 10 variables predictoras. Vamos a preparar nuestros datos con ese propósito.\n",
        "\n",
        "Para garantizar que todos trabajemos con los mismos datos, a continuación se entrega un dataset filtrado sin datos nulos y sin atípicos severos."
      ]
    },
    {
      "cell_type": "code",
      "execution_count": 22,
      "metadata": {
        "colab": {
          "base_uri": "https://localhost:8080/",
          "height": 357
        },
        "id": "05m4oR8TgRgK",
        "outputId": "a804e88b-86c4-4f3f-a3dc-c771834d88c7"
      },
      "outputs": [
        {
          "data": {
            "text/html": [
              "<div>\n",
              "<style scoped>\n",
              "    .dataframe tbody tr th:only-of-type {\n",
              "        vertical-align: middle;\n",
              "    }\n",
              "\n",
              "    .dataframe tbody tr th {\n",
              "        vertical-align: top;\n",
              "    }\n",
              "\n",
              "    .dataframe thead th {\n",
              "        text-align: right;\n",
              "    }\n",
              "</style>\n",
              "<table border=\"1\" class=\"dataframe\">\n",
              "  <thead>\n",
              "    <tr style=\"text-align: right;\">\n",
              "      <th></th>\n",
              "      <th>price</th>\n",
              "      <th>neighbourhood</th>\n",
              "      <th>latitude</th>\n",
              "      <th>longitude</th>\n",
              "      <th>property_type</th>\n",
              "      <th>room_type</th>\n",
              "      <th>bathrooms</th>\n",
              "      <th>bedrooms</th>\n",
              "      <th>beds</th>\n",
              "      <th>host_is_superhost</th>\n",
              "      <th>parking</th>\n",
              "    </tr>\n",
              "  </thead>\n",
              "  <tbody>\n",
              "    <tr>\n",
              "      <th>0</th>\n",
              "      <td>149</td>\n",
              "      <td>Brooklyn</td>\n",
              "      <td>40.64749</td>\n",
              "      <td>-73.97237</td>\n",
              "      <td>Apartment</td>\n",
              "      <td>Private room</td>\n",
              "      <td>1.0</td>\n",
              "      <td>1</td>\n",
              "      <td>1</td>\n",
              "      <td>0.0</td>\n",
              "      <td>1</td>\n",
              "    </tr>\n",
              "    <tr>\n",
              "      <th>1</th>\n",
              "      <td>150</td>\n",
              "      <td>Harlem</td>\n",
              "      <td>40.80902</td>\n",
              "      <td>-73.94190</td>\n",
              "      <td>Apartment</td>\n",
              "      <td>Private room</td>\n",
              "      <td>1.0</td>\n",
              "      <td>1</td>\n",
              "      <td>1</td>\n",
              "      <td>0.0</td>\n",
              "      <td>-1</td>\n",
              "    </tr>\n",
              "    <tr>\n",
              "      <th>2</th>\n",
              "      <td>190</td>\n",
              "      <td>Harlem</td>\n",
              "      <td>40.79685</td>\n",
              "      <td>-73.94872</td>\n",
              "      <td>Apartment</td>\n",
              "      <td>Entire home/apt</td>\n",
              "      <td>1.0</td>\n",
              "      <td>2</td>\n",
              "      <td>2</td>\n",
              "      <td>0.0</td>\n",
              "      <td>-1</td>\n",
              "    </tr>\n",
              "    <tr>\n",
              "      <th>3</th>\n",
              "      <td>60</td>\n",
              "      <td>Brooklyn</td>\n",
              "      <td>40.65599</td>\n",
              "      <td>-73.97519</td>\n",
              "      <td>Condominium</td>\n",
              "      <td>Private room</td>\n",
              "      <td>1.0</td>\n",
              "      <td>1</td>\n",
              "      <td>1</td>\n",
              "      <td>1.0</td>\n",
              "      <td>1</td>\n",
              "    </tr>\n",
              "    <tr>\n",
              "      <th>4</th>\n",
              "      <td>80</td>\n",
              "      <td>Manhattan</td>\n",
              "      <td>40.86754</td>\n",
              "      <td>-73.92639</td>\n",
              "      <td>Apartment</td>\n",
              "      <td>Private room</td>\n",
              "      <td>1.0</td>\n",
              "      <td>1</td>\n",
              "      <td>1</td>\n",
              "      <td>0.0</td>\n",
              "      <td>1</td>\n",
              "    </tr>\n",
              "  </tbody>\n",
              "</table>\n",
              "</div>"
            ],
            "text/plain": [
              "   price neighbourhood  latitude  longitude property_type        room_type  \\\n",
              "0    149      Brooklyn  40.64749  -73.97237     Apartment     Private room   \n",
              "1    150        Harlem  40.80902  -73.94190     Apartment     Private room   \n",
              "2    190        Harlem  40.79685  -73.94872     Apartment  Entire home/apt   \n",
              "3     60      Brooklyn  40.65599  -73.97519   Condominium     Private room   \n",
              "4     80     Manhattan  40.86754  -73.92639     Apartment     Private room   \n",
              "\n",
              "   bathrooms  bedrooms  beds  host_is_superhost  parking  \n",
              "0        1.0         1     1                0.0        1  \n",
              "1        1.0         1     1                0.0       -1  \n",
              "2        1.0         2     2                0.0       -1  \n",
              "3        1.0         1     1                1.0        1  \n",
              "4        1.0         1     1                0.0        1  "
            ]
          },
          "execution_count": 22,
          "metadata": {},
          "output_type": "execute_result"
        }
      ],
      "source": [
        "clean = pd.read_csv('https://github.com/HarryVargas96/UdeCataluna/blob/main/data/clean_airbnb.csv?raw=true')\n",
        "clean.head()"
      ]
    },
    {
      "cell_type": "code",
      "execution_count": 23,
      "metadata": {
        "colab": {
          "base_uri": "https://localhost:8080/"
        },
        "id": "gFDej8xAg3PK",
        "outputId": "b6d6f525-53f2-4d29-87ec-aadfde8270a1"
      },
      "outputs": [
        {
          "name": "stdout",
          "output_type": "stream",
          "text": [
            "<class 'pandas.core.frame.DataFrame'>\n",
            "RangeIndex: 30173 entries, 0 to 30172\n",
            "Data columns (total 11 columns):\n",
            " #   Column             Non-Null Count  Dtype  \n",
            "---  ------             --------------  -----  \n",
            " 0   price              30173 non-null  int64  \n",
            " 1   neighbourhood      30173 non-null  object \n",
            " 2   latitude           30173 non-null  float64\n",
            " 3   longitude          30173 non-null  float64\n",
            " 4   property_type      30173 non-null  object \n",
            " 5   room_type          30173 non-null  object \n",
            " 6   bathrooms          30173 non-null  float64\n",
            " 7   bedrooms           30173 non-null  int64  \n",
            " 8   beds               30173 non-null  int64  \n",
            " 9   host_is_superhost  30173 non-null  float64\n",
            " 10  parking            30173 non-null  int64  \n",
            "dtypes: float64(4), int64(4), object(3)\n",
            "memory usage: 2.5+ MB\n"
          ]
        }
      ],
      "source": [
        "clean.info()"
      ]
    },
    {
      "cell_type": "markdown",
      "metadata": {
        "id": "tG3Yd8M_mq7G"
      },
      "source": [
        "### Ejercicio 8\n",
        "\n",
        "Examine cada una de las variables seleccionadas. Su tipología computacional (int, float, object) y su tipología estadística (ordinal, nominal, continúa, discreta). Seleccione la transformación más apropiada para cada variable, asegúrese de incluir todas las variables en alguna lista. Solo debe escribir el nombre de la variable dentro de la lista, por ejemplo:\n",
        "\n",
        "```\n",
        "lista = ['price', 'bedrooms']\n",
        "```\n",
        "\n"
      ]
    },
    {
      "cell_type": "code",
      "execution_count": 24,
      "metadata": {
        "id": "uaqAMja_o6jr"
      },
      "outputs": [],
      "source": [
        "# Respuesta\n",
        "\n",
        "sin_transformacion = []\n",
        "dummy_var = []\n",
        "ordinal_encoding = []\n",
        "normalizacion = []\n",
        "estandarizacion = []"
      ]
    },
    {
      "cell_type": "markdown",
      "metadata": {
        "id": "XaIwyVuTptiU"
      },
      "source": [
        "## Variables categóricas"
      ]
    },
    {
      "cell_type": "markdown",
      "metadata": {
        "id": "qJwtigULpxnq"
      },
      "source": [
        "Recuerde que la transformación de variables categóricas o tipo object es obligatoria a la hora de construir modelos, los algoritmos de Machine Learning NO entienden los strings como `'condominio' 'Brooklyn' 'Manhattan'`. Es por eso que debemos numerizar estas variables.\n",
        "\n",
        "\n",
        "\n"
      ]
    },
    {
      "cell_type": "code",
      "execution_count": 25,
      "metadata": {
        "colab": {
          "base_uri": "https://localhost:8080/",
          "height": 206
        },
        "id": "ZtjQ1sRRqIt5",
        "outputId": "8c8458a7-18fb-4282-bb1b-d1f87ecf7b55"
      },
      "outputs": [
        {
          "data": {
            "text/html": [
              "<div>\n",
              "<style scoped>\n",
              "    .dataframe tbody tr th:only-of-type {\n",
              "        vertical-align: middle;\n",
              "    }\n",
              "\n",
              "    .dataframe tbody tr th {\n",
              "        vertical-align: top;\n",
              "    }\n",
              "\n",
              "    .dataframe thead th {\n",
              "        text-align: right;\n",
              "    }\n",
              "</style>\n",
              "<table border=\"1\" class=\"dataframe\">\n",
              "  <thead>\n",
              "    <tr style=\"text-align: right;\">\n",
              "      <th></th>\n",
              "      <th>neighbourhood</th>\n",
              "      <th>property_type</th>\n",
              "      <th>room_type</th>\n",
              "    </tr>\n",
              "  </thead>\n",
              "  <tbody>\n",
              "    <tr>\n",
              "      <th>0</th>\n",
              "      <td>Brooklyn</td>\n",
              "      <td>Apartment</td>\n",
              "      <td>Private room</td>\n",
              "    </tr>\n",
              "    <tr>\n",
              "      <th>1</th>\n",
              "      <td>Harlem</td>\n",
              "      <td>Apartment</td>\n",
              "      <td>Private room</td>\n",
              "    </tr>\n",
              "    <tr>\n",
              "      <th>2</th>\n",
              "      <td>Harlem</td>\n",
              "      <td>Apartment</td>\n",
              "      <td>Entire home/apt</td>\n",
              "    </tr>\n",
              "    <tr>\n",
              "      <th>3</th>\n",
              "      <td>Brooklyn</td>\n",
              "      <td>Condominium</td>\n",
              "      <td>Private room</td>\n",
              "    </tr>\n",
              "    <tr>\n",
              "      <th>4</th>\n",
              "      <td>Manhattan</td>\n",
              "      <td>Apartment</td>\n",
              "      <td>Private room</td>\n",
              "    </tr>\n",
              "  </tbody>\n",
              "</table>\n",
              "</div>"
            ],
            "text/plain": [
              "  neighbourhood property_type        room_type\n",
              "0      Brooklyn     Apartment     Private room\n",
              "1        Harlem     Apartment     Private room\n",
              "2        Harlem     Apartment  Entire home/apt\n",
              "3      Brooklyn   Condominium     Private room\n",
              "4     Manhattan     Apartment     Private room"
            ]
          },
          "execution_count": 25,
          "metadata": {},
          "output_type": "execute_result"
        }
      ],
      "source": [
        "# Filtremos las variables tipo object\n",
        "\n",
        "clean_object = clean.select_dtypes(include = 'object')\n",
        "clean_object.head()"
      ]
    },
    {
      "cell_type": "markdown",
      "metadata": {
        "id": "Y0aSnk5Qqo-u"
      },
      "source": [
        "Consideremos ahora los niveles que pueden tomar cada una de las variables."
      ]
    },
    {
      "cell_type": "code",
      "execution_count": 26,
      "metadata": {
        "colab": {
          "base_uri": "https://localhost:8080/"
        },
        "id": "-QP6Vbiqqv2W",
        "outputId": "01858f96-e901-4693-b095-9f029ddb553c"
      },
      "outputs": [
        {
          "name": "stdout",
          "output_type": "stream",
          "text": [
            "La variable neighbourhood, tiene 186 niveles.\n",
            "La variable property_type, tiene 33 niveles.\n",
            "La variable room_type, tiene 3 niveles.\n"
          ]
        }
      ],
      "source": [
        "for variable in clean_object.columns:\n",
        "  niveles = clean_object[variable].nunique()\n",
        "  print('La variable {}, tiene {} niveles.'.format(variable,niveles))"
      ]
    },
    {
      "cell_type": "markdown",
      "metadata": {
        "id": "BgH1Wi6crpvI"
      },
      "source": [
        "Las 3 variables son cualitativas ordinales, por lo que una transformación tipo dummy sería lo más apropiado, sin embargo, sí hacemos esto crearíamos un dataframe con 222 variables adicionales, esto puede entorpecer el trabajo con el dataframe. Por lo cual haremos lo siguiente:\n",
        "1. Aplicar la transformación dummy a la variable room_type.\n",
        "2. Aplicar ordinal encoding a las variables neighbourhood y property_type."
      ]
    },
    {
      "cell_type": "markdown",
      "metadata": {
        "id": "L7blLnQGse9m"
      },
      "source": [
        "### Ejercicio 9"
      ]
    },
    {
      "cell_type": "markdown",
      "metadata": {
        "id": "a0VOANjmsiDy"
      },
      "source": [
        "Aplique la transformación dummy sobre el dataframe `clean` solamente para la variable room_type. "
      ]
    },
    {
      "cell_type": "markdown",
      "metadata": {
        "id": "7j_izmEGtK_i"
      },
      "source": [
        "<details>    \n",
        "<summary>\n",
        "    <font size=\"3\" color=\"darkblue\"><b>Pistas</b></font>\n",
        "</summary>\n",
        "\n",
        "* Utilice la función de pandas `pd.get_dummies()`.\n",
        "* Use el parámetro `column` para indicar cual columna debe ser transformada. Para más información consulte [aquí](https://pandas.pydata.org/docs/reference/api/pandas.get_dummies.html)\n"
      ]
    },
    {
      "cell_type": "code",
      "execution_count": 27,
      "metadata": {
        "colab": {
          "base_uri": "https://localhost:8080/",
          "height": 522
        },
        "id": "7jMQ5lN2shuK",
        "outputId": "6dd5a386-3924-42a3-b43f-93eac4f409b6"
      },
      "outputs": [],
      "source": [
        "# Respuesta\n"
      ]
    },
    {
      "cell_type": "markdown",
      "metadata": {
        "id": "1014j5gIu6_0"
      },
      "source": [
        "### Ejercicio 10\n",
        "\n",
        "Aplique la transformación ordinal sobre las variables neighbourhood y property_type. Nombre su tranformador ordinal como `encoder`. Guarde el resultado en un objeto llamado `ord_vars`.\n",
        "\n",
        "\n"
      ]
    },
    {
      "cell_type": "code",
      "execution_count": 28,
      "metadata": {
        "colab": {
          "base_uri": "https://localhost:8080/"
        },
        "id": "QwlL8ofovjQq",
        "outputId": "d6e8a168-9191-4479-d930-4e9c33ac6198"
      },
      "outputs": [],
      "source": [
        "from sklearn.preprocessing import OrdinalEncoder\n",
        "\n",
        "# Respuesta\n"
      ]
    },
    {
      "cell_type": "markdown",
      "metadata": {
        "id": "V_3QN3kByb_s"
      },
      "source": [
        "### Ejemplo 1\n",
        "\n",
        "Más información acerca de los codificadores Ordinales, solo ejecute el resto de este código cuando haya obtenido la respuesta de arriba.\n",
        "\n",
        "El método Ordinal Encoder de scikitlearn organiza las categorías en orden alfabético. A continuación se muestra el objeto que contiene la información sobre la codificación."
      ]
    },
    {
      "cell_type": "code",
      "execution_count": 29,
      "metadata": {
        "colab": {
          "base_uri": "https://localhost:8080/"
        },
        "id": "KH9zJe_RycXy",
        "outputId": "1ae91374-c7d5-4266-9db8-4c6a4423ceb7"
      },
      "outputs": [
        {
          "ename": "NameError",
          "evalue": "name 'encoder' is not defined",
          "output_type": "error",
          "traceback": [
            "\u001b[1;31m---------------------------------------------------------------------------\u001b[0m",
            "\u001b[1;31mNameError\u001b[0m                                 Traceback (most recent call last)",
            "\u001b[1;32mc:\\Users\\crrb\\Documents\\GitHub\\DIPLOM_BIGDATA\\deberes\\modulo04\\talleres guiados\\Fase_2_Limpieza_y_transformación_Estudiantes.ipynb Celda 69\u001b[0m in \u001b[0;36m<cell line: 1>\u001b[1;34m()\u001b[0m\n\u001b[1;32m----> <a href='vscode-notebook-cell:/c%3A/Users/crrb/Documents/GitHub/DIPLOM_BIGDATA/deberes/modulo04/talleres%20guiados/Fase_2_Limpieza_y_transformaci%C3%B3n_Estudiantes.ipynb#Y125sZmlsZQ%3D%3D?line=0'>1</a>\u001b[0m encoder\u001b[39m.\u001b[39mcategories_\n",
            "\u001b[1;31mNameError\u001b[0m: name 'encoder' is not defined"
          ]
        }
      ],
      "source": [
        "encoder.categories_\n",
        "\n",
        "# Retorna dos listas con dos arreglos de numpy\n",
        "# Cada arreglo contiene las categorías de cada variable transformada"
      ]
    },
    {
      "cell_type": "markdown",
      "metadata": {
        "id": "QEHMScoS1JIr"
      },
      "source": [
        "Creemos diccionarios en formato csv con la codificación de ambas variables. El proceso de documentación es clave en el proyecto."
      ]
    },
    {
      "cell_type": "code",
      "execution_count": null,
      "metadata": {
        "colab": {
          "base_uri": "https://localhost:8080/",
          "height": 206
        },
        "id": "8vJF0kIc1HxT",
        "outputId": "aac3f034-b2f6-4d2c-ffc1-0dc2589e6805"
      },
      "outputs": [
        {
          "data": {
            "text/html": [
              "\n",
              "  <div id=\"df-ad17d627-e56b-421e-ab86-94909673fae9\">\n",
              "    <div class=\"colab-df-container\">\n",
              "      <div>\n",
              "<style scoped>\n",
              "    .dataframe tbody tr th:only-of-type {\n",
              "        vertical-align: middle;\n",
              "    }\n",
              "\n",
              "    .dataframe tbody tr th {\n",
              "        vertical-align: top;\n",
              "    }\n",
              "\n",
              "    .dataframe thead th {\n",
              "        text-align: right;\n",
              "    }\n",
              "</style>\n",
              "<table border=\"1\" class=\"dataframe\">\n",
              "  <thead>\n",
              "    <tr style=\"text-align: right;\">\n",
              "      <th></th>\n",
              "      <th>codigo</th>\n",
              "      <th>barrio</th>\n",
              "    </tr>\n",
              "  </thead>\n",
              "  <tbody>\n",
              "    <tr>\n",
              "      <th>0</th>\n",
              "      <td>0</td>\n",
              "      <td>Allerton</td>\n",
              "    </tr>\n",
              "    <tr>\n",
              "      <th>1</th>\n",
              "      <td>1</td>\n",
              "      <td>Alphabet City</td>\n",
              "    </tr>\n",
              "    <tr>\n",
              "      <th>2</th>\n",
              "      <td>2</td>\n",
              "      <td>Annadale</td>\n",
              "    </tr>\n",
              "    <tr>\n",
              "      <th>3</th>\n",
              "      <td>3</td>\n",
              "      <td>Astoria</td>\n",
              "    </tr>\n",
              "    <tr>\n",
              "      <th>4</th>\n",
              "      <td>4</td>\n",
              "      <td>Bath Beach</td>\n",
              "    </tr>\n",
              "  </tbody>\n",
              "</table>\n",
              "</div>\n",
              "      <button class=\"colab-df-convert\" onclick=\"convertToInteractive('df-ad17d627-e56b-421e-ab86-94909673fae9')\"\n",
              "              title=\"Convert this dataframe to an interactive table.\"\n",
              "              style=\"display:none;\">\n",
              "        \n",
              "  <svg xmlns=\"http://www.w3.org/2000/svg\" height=\"24px\"viewBox=\"0 0 24 24\"\n",
              "       width=\"24px\">\n",
              "    <path d=\"M0 0h24v24H0V0z\" fill=\"none\"/>\n",
              "    <path d=\"M18.56 5.44l.94 2.06.94-2.06 2.06-.94-2.06-.94-.94-2.06-.94 2.06-2.06.94zm-11 1L8.5 8.5l.94-2.06 2.06-.94-2.06-.94L8.5 2.5l-.94 2.06-2.06.94zm10 10l.94 2.06.94-2.06 2.06-.94-2.06-.94-.94-2.06-.94 2.06-2.06.94z\"/><path d=\"M17.41 7.96l-1.37-1.37c-.4-.4-.92-.59-1.43-.59-.52 0-1.04.2-1.43.59L10.3 9.45l-7.72 7.72c-.78.78-.78 2.05 0 2.83L4 21.41c.39.39.9.59 1.41.59.51 0 1.02-.2 1.41-.59l7.78-7.78 2.81-2.81c.8-.78.8-2.07 0-2.86zM5.41 20L4 18.59l7.72-7.72 1.47 1.35L5.41 20z\"/>\n",
              "  </svg>\n",
              "      </button>\n",
              "      \n",
              "  <style>\n",
              "    .colab-df-container {\n",
              "      display:flex;\n",
              "      flex-wrap:wrap;\n",
              "      gap: 12px;\n",
              "    }\n",
              "\n",
              "    .colab-df-convert {\n",
              "      background-color: #E8F0FE;\n",
              "      border: none;\n",
              "      border-radius: 50%;\n",
              "      cursor: pointer;\n",
              "      display: none;\n",
              "      fill: #1967D2;\n",
              "      height: 32px;\n",
              "      padding: 0 0 0 0;\n",
              "      width: 32px;\n",
              "    }\n",
              "\n",
              "    .colab-df-convert:hover {\n",
              "      background-color: #E2EBFA;\n",
              "      box-shadow: 0px 1px 2px rgba(60, 64, 67, 0.3), 0px 1px 3px 1px rgba(60, 64, 67, 0.15);\n",
              "      fill: #174EA6;\n",
              "    }\n",
              "\n",
              "    [theme=dark] .colab-df-convert {\n",
              "      background-color: #3B4455;\n",
              "      fill: #D2E3FC;\n",
              "    }\n",
              "\n",
              "    [theme=dark] .colab-df-convert:hover {\n",
              "      background-color: #434B5C;\n",
              "      box-shadow: 0px 1px 3px 1px rgba(0, 0, 0, 0.15);\n",
              "      filter: drop-shadow(0px 1px 2px rgba(0, 0, 0, 0.3));\n",
              "      fill: #FFFFFF;\n",
              "    }\n",
              "  </style>\n",
              "\n",
              "      <script>\n",
              "        const buttonEl =\n",
              "          document.querySelector('#df-ad17d627-e56b-421e-ab86-94909673fae9 button.colab-df-convert');\n",
              "        buttonEl.style.display =\n",
              "          google.colab.kernel.accessAllowed ? 'block' : 'none';\n",
              "\n",
              "        async function convertToInteractive(key) {\n",
              "          const element = document.querySelector('#df-ad17d627-e56b-421e-ab86-94909673fae9');\n",
              "          const dataTable =\n",
              "            await google.colab.kernel.invokeFunction('convertToInteractive',\n",
              "                                                     [key], {});\n",
              "          if (!dataTable) return;\n",
              "\n",
              "          const docLinkHtml = 'Like what you see? Visit the ' +\n",
              "            '<a target=\"_blank\" href=https://colab.research.google.com/notebooks/data_table.ipynb>data table notebook</a>'\n",
              "            + ' to learn more about interactive tables.';\n",
              "          element.innerHTML = '';\n",
              "          dataTable['output_type'] = 'display_data';\n",
              "          await google.colab.output.renderOutput(dataTable, element);\n",
              "          const docLink = document.createElement('div');\n",
              "          docLink.innerHTML = docLinkHtml;\n",
              "          element.appendChild(docLink);\n",
              "        }\n",
              "      </script>\n",
              "    </div>\n",
              "  </div>\n",
              "  "
            ],
            "text/plain": [
              "   codigo         barrio\n",
              "0       0       Allerton\n",
              "1       1  Alphabet City\n",
              "2       2       Annadale\n",
              "3       3        Astoria\n",
              "4       4     Bath Beach"
            ]
          },
          "execution_count": 227,
          "metadata": {},
          "output_type": "execute_result"
        }
      ],
      "source": [
        "# Extraemos el arreglo relacionado con los barrios\n",
        "\n",
        "categories_neigh = encoder.categories_[0]\n",
        "\n",
        "# Creamos una lista con números igual a la longitud del arreglo de los barrios\n",
        "\n",
        "neigh_codes = [i for i in range(len(categories_neigh))]\n",
        "\n",
        "# Creamos un dataframe con los barrios y códigos\n",
        "\n",
        "barrios = pd.DataFrame({'codigo': neigh_codes,\n",
        "                        'barrio': categories_neigh})\n",
        "\n",
        "# Creamos un archivo csv para la documentación del proceso\n",
        "\n",
        "barrios.to_csv('Diccionario barrios airbnb.csv')\n",
        "\n",
        "barrios.head()\n"
      ]
    },
    {
      "cell_type": "code",
      "execution_count": null,
      "metadata": {
        "colab": {
          "base_uri": "https://localhost:8080/",
          "height": 206
        },
        "id": "Pz8iD3s-8WQ_",
        "outputId": "0498bc4b-d5fb-4747-d37f-68fa9a401227"
      },
      "outputs": [
        {
          "data": {
            "text/html": [
              "\n",
              "  <div id=\"df-47ce17ca-dc53-49bb-bac0-5d21b39aef04\">\n",
              "    <div class=\"colab-df-container\">\n",
              "      <div>\n",
              "<style scoped>\n",
              "    .dataframe tbody tr th:only-of-type {\n",
              "        vertical-align: middle;\n",
              "    }\n",
              "\n",
              "    .dataframe tbody tr th {\n",
              "        vertical-align: top;\n",
              "    }\n",
              "\n",
              "    .dataframe thead th {\n",
              "        text-align: right;\n",
              "    }\n",
              "</style>\n",
              "<table border=\"1\" class=\"dataframe\">\n",
              "  <thead>\n",
              "    <tr style=\"text-align: right;\">\n",
              "      <th></th>\n",
              "      <th>codigo</th>\n",
              "      <th>barrio</th>\n",
              "    </tr>\n",
              "  </thead>\n",
              "  <tbody>\n",
              "    <tr>\n",
              "      <th>0</th>\n",
              "      <td>0</td>\n",
              "      <td>Aparthotel</td>\n",
              "    </tr>\n",
              "    <tr>\n",
              "      <th>1</th>\n",
              "      <td>1</td>\n",
              "      <td>Apartment</td>\n",
              "    </tr>\n",
              "    <tr>\n",
              "      <th>2</th>\n",
              "      <td>2</td>\n",
              "      <td>Barn</td>\n",
              "    </tr>\n",
              "    <tr>\n",
              "      <th>3</th>\n",
              "      <td>3</td>\n",
              "      <td>Bed and breakfast</td>\n",
              "    </tr>\n",
              "    <tr>\n",
              "      <th>4</th>\n",
              "      <td>4</td>\n",
              "      <td>Boat</td>\n",
              "    </tr>\n",
              "  </tbody>\n",
              "</table>\n",
              "</div>\n",
              "      <button class=\"colab-df-convert\" onclick=\"convertToInteractive('df-47ce17ca-dc53-49bb-bac0-5d21b39aef04')\"\n",
              "              title=\"Convert this dataframe to an interactive table.\"\n",
              "              style=\"display:none;\">\n",
              "        \n",
              "  <svg xmlns=\"http://www.w3.org/2000/svg\" height=\"24px\"viewBox=\"0 0 24 24\"\n",
              "       width=\"24px\">\n",
              "    <path d=\"M0 0h24v24H0V0z\" fill=\"none\"/>\n",
              "    <path d=\"M18.56 5.44l.94 2.06.94-2.06 2.06-.94-2.06-.94-.94-2.06-.94 2.06-2.06.94zm-11 1L8.5 8.5l.94-2.06 2.06-.94-2.06-.94L8.5 2.5l-.94 2.06-2.06.94zm10 10l.94 2.06.94-2.06 2.06-.94-2.06-.94-.94-2.06-.94 2.06-2.06.94z\"/><path d=\"M17.41 7.96l-1.37-1.37c-.4-.4-.92-.59-1.43-.59-.52 0-1.04.2-1.43.59L10.3 9.45l-7.72 7.72c-.78.78-.78 2.05 0 2.83L4 21.41c.39.39.9.59 1.41.59.51 0 1.02-.2 1.41-.59l7.78-7.78 2.81-2.81c.8-.78.8-2.07 0-2.86zM5.41 20L4 18.59l7.72-7.72 1.47 1.35L5.41 20z\"/>\n",
              "  </svg>\n",
              "      </button>\n",
              "      \n",
              "  <style>\n",
              "    .colab-df-container {\n",
              "      display:flex;\n",
              "      flex-wrap:wrap;\n",
              "      gap: 12px;\n",
              "    }\n",
              "\n",
              "    .colab-df-convert {\n",
              "      background-color: #E8F0FE;\n",
              "      border: none;\n",
              "      border-radius: 50%;\n",
              "      cursor: pointer;\n",
              "      display: none;\n",
              "      fill: #1967D2;\n",
              "      height: 32px;\n",
              "      padding: 0 0 0 0;\n",
              "      width: 32px;\n",
              "    }\n",
              "\n",
              "    .colab-df-convert:hover {\n",
              "      background-color: #E2EBFA;\n",
              "      box-shadow: 0px 1px 2px rgba(60, 64, 67, 0.3), 0px 1px 3px 1px rgba(60, 64, 67, 0.15);\n",
              "      fill: #174EA6;\n",
              "    }\n",
              "\n",
              "    [theme=dark] .colab-df-convert {\n",
              "      background-color: #3B4455;\n",
              "      fill: #D2E3FC;\n",
              "    }\n",
              "\n",
              "    [theme=dark] .colab-df-convert:hover {\n",
              "      background-color: #434B5C;\n",
              "      box-shadow: 0px 1px 3px 1px rgba(0, 0, 0, 0.15);\n",
              "      filter: drop-shadow(0px 1px 2px rgba(0, 0, 0, 0.3));\n",
              "      fill: #FFFFFF;\n",
              "    }\n",
              "  </style>\n",
              "\n",
              "      <script>\n",
              "        const buttonEl =\n",
              "          document.querySelector('#df-47ce17ca-dc53-49bb-bac0-5d21b39aef04 button.colab-df-convert');\n",
              "        buttonEl.style.display =\n",
              "          google.colab.kernel.accessAllowed ? 'block' : 'none';\n",
              "\n",
              "        async function convertToInteractive(key) {\n",
              "          const element = document.querySelector('#df-47ce17ca-dc53-49bb-bac0-5d21b39aef04');\n",
              "          const dataTable =\n",
              "            await google.colab.kernel.invokeFunction('convertToInteractive',\n",
              "                                                     [key], {});\n",
              "          if (!dataTable) return;\n",
              "\n",
              "          const docLinkHtml = 'Like what you see? Visit the ' +\n",
              "            '<a target=\"_blank\" href=https://colab.research.google.com/notebooks/data_table.ipynb>data table notebook</a>'\n",
              "            + ' to learn more about interactive tables.';\n",
              "          element.innerHTML = '';\n",
              "          dataTable['output_type'] = 'display_data';\n",
              "          await google.colab.output.renderOutput(dataTable, element);\n",
              "          const docLink = document.createElement('div');\n",
              "          docLink.innerHTML = docLinkHtml;\n",
              "          element.appendChild(docLink);\n",
              "        }\n",
              "      </script>\n",
              "    </div>\n",
              "  </div>\n",
              "  "
            ],
            "text/plain": [
              "   codigo             barrio\n",
              "0       0         Aparthotel\n",
              "1       1          Apartment\n",
              "2       2               Barn\n",
              "3       3  Bed and breakfast\n",
              "4       4               Boat"
            ]
          },
          "execution_count": 228,
          "metadata": {},
          "output_type": "execute_result"
        }
      ],
      "source": [
        "\n",
        "# Extraemos el arreglo relacionado con el tipo de propiedad\n",
        "\n",
        "categories_property = encoder.categories_[1]\n",
        "\n",
        "# Creamos una lista con números igual a la longitud del arreglo de los tipos de propiedad\n",
        "\n",
        "property_codes = [i for i in range(len(categories_property))]\n",
        "\n",
        "# Creamos un dataframe con los tipos de propiedad y códigos\n",
        "\n",
        "propiedades = pd.DataFrame({'codigo': property_codes,\n",
        "                        'barrio': categories_property})\n",
        "\n",
        "# Creamos un archivo csv para la documentación del proceso\n",
        "\n",
        "propiedades.to_csv('Diccionario tipos de propiedad airbnb.csv')\n",
        "propiedades.head()\n",
        "\n"
      ]
    },
    {
      "cell_type": "markdown",
      "metadata": {
        "id": "Zic3lUAOxqq1"
      },
      "source": [
        "Para finalizar, reemplazamos las variables transformadas en nuestro dataframe original. Y damos un vistazo a nuestro dataframe con todas las variables codificadas como númericas."
      ]
    },
    {
      "cell_type": "code",
      "execution_count": null,
      "metadata": {
        "colab": {
          "base_uri": "https://localhost:8080/",
          "height": 206
        },
        "id": "EvxXhCKp4Hv4",
        "outputId": "c03274a7-c2cd-4015-b05e-832fa101ba9e"
      },
      "outputs": [
        {
          "data": {
            "text/html": [
              "\n",
              "  <div id=\"df-42744b4b-349f-47b5-b946-1c5ae753e704\">\n",
              "    <div class=\"colab-df-container\">\n",
              "      <div>\n",
              "<style scoped>\n",
              "    .dataframe tbody tr th:only-of-type {\n",
              "        vertical-align: middle;\n",
              "    }\n",
              "\n",
              "    .dataframe tbody tr th {\n",
              "        vertical-align: top;\n",
              "    }\n",
              "\n",
              "    .dataframe thead th {\n",
              "        text-align: right;\n",
              "    }\n",
              "</style>\n",
              "<table border=\"1\" class=\"dataframe\">\n",
              "  <thead>\n",
              "    <tr style=\"text-align: right;\">\n",
              "      <th></th>\n",
              "      <th>neighbourhood</th>\n",
              "      <th>property_type</th>\n",
              "    </tr>\n",
              "  </thead>\n",
              "  <tbody>\n",
              "    <tr>\n",
              "      <th>0</th>\n",
              "      <td>18.0</td>\n",
              "      <td>1.0</td>\n",
              "    </tr>\n",
              "    <tr>\n",
              "      <th>1</th>\n",
              "      <td>80.0</td>\n",
              "      <td>1.0</td>\n",
              "    </tr>\n",
              "    <tr>\n",
              "      <th>2</th>\n",
              "      <td>80.0</td>\n",
              "      <td>1.0</td>\n",
              "    </tr>\n",
              "    <tr>\n",
              "      <th>3</th>\n",
              "      <td>18.0</td>\n",
              "      <td>12.0</td>\n",
              "    </tr>\n",
              "    <tr>\n",
              "      <th>4</th>\n",
              "      <td>101.0</td>\n",
              "      <td>1.0</td>\n",
              "    </tr>\n",
              "  </tbody>\n",
              "</table>\n",
              "</div>\n",
              "      <button class=\"colab-df-convert\" onclick=\"convertToInteractive('df-42744b4b-349f-47b5-b946-1c5ae753e704')\"\n",
              "              title=\"Convert this dataframe to an interactive table.\"\n",
              "              style=\"display:none;\">\n",
              "        \n",
              "  <svg xmlns=\"http://www.w3.org/2000/svg\" height=\"24px\"viewBox=\"0 0 24 24\"\n",
              "       width=\"24px\">\n",
              "    <path d=\"M0 0h24v24H0V0z\" fill=\"none\"/>\n",
              "    <path d=\"M18.56 5.44l.94 2.06.94-2.06 2.06-.94-2.06-.94-.94-2.06-.94 2.06-2.06.94zm-11 1L8.5 8.5l.94-2.06 2.06-.94-2.06-.94L8.5 2.5l-.94 2.06-2.06.94zm10 10l.94 2.06.94-2.06 2.06-.94-2.06-.94-.94-2.06-.94 2.06-2.06.94z\"/><path d=\"M17.41 7.96l-1.37-1.37c-.4-.4-.92-.59-1.43-.59-.52 0-1.04.2-1.43.59L10.3 9.45l-7.72 7.72c-.78.78-.78 2.05 0 2.83L4 21.41c.39.39.9.59 1.41.59.51 0 1.02-.2 1.41-.59l7.78-7.78 2.81-2.81c.8-.78.8-2.07 0-2.86zM5.41 20L4 18.59l7.72-7.72 1.47 1.35L5.41 20z\"/>\n",
              "  </svg>\n",
              "      </button>\n",
              "      \n",
              "  <style>\n",
              "    .colab-df-container {\n",
              "      display:flex;\n",
              "      flex-wrap:wrap;\n",
              "      gap: 12px;\n",
              "    }\n",
              "\n",
              "    .colab-df-convert {\n",
              "      background-color: #E8F0FE;\n",
              "      border: none;\n",
              "      border-radius: 50%;\n",
              "      cursor: pointer;\n",
              "      display: none;\n",
              "      fill: #1967D2;\n",
              "      height: 32px;\n",
              "      padding: 0 0 0 0;\n",
              "      width: 32px;\n",
              "    }\n",
              "\n",
              "    .colab-df-convert:hover {\n",
              "      background-color: #E2EBFA;\n",
              "      box-shadow: 0px 1px 2px rgba(60, 64, 67, 0.3), 0px 1px 3px 1px rgba(60, 64, 67, 0.15);\n",
              "      fill: #174EA6;\n",
              "    }\n",
              "\n",
              "    [theme=dark] .colab-df-convert {\n",
              "      background-color: #3B4455;\n",
              "      fill: #D2E3FC;\n",
              "    }\n",
              "\n",
              "    [theme=dark] .colab-df-convert:hover {\n",
              "      background-color: #434B5C;\n",
              "      box-shadow: 0px 1px 3px 1px rgba(0, 0, 0, 0.15);\n",
              "      filter: drop-shadow(0px 1px 2px rgba(0, 0, 0, 0.3));\n",
              "      fill: #FFFFFF;\n",
              "    }\n",
              "  </style>\n",
              "\n",
              "      <script>\n",
              "        const buttonEl =\n",
              "          document.querySelector('#df-42744b4b-349f-47b5-b946-1c5ae753e704 button.colab-df-convert');\n",
              "        buttonEl.style.display =\n",
              "          google.colab.kernel.accessAllowed ? 'block' : 'none';\n",
              "\n",
              "        async function convertToInteractive(key) {\n",
              "          const element = document.querySelector('#df-42744b4b-349f-47b5-b946-1c5ae753e704');\n",
              "          const dataTable =\n",
              "            await google.colab.kernel.invokeFunction('convertToInteractive',\n",
              "                                                     [key], {});\n",
              "          if (!dataTable) return;\n",
              "\n",
              "          const docLinkHtml = 'Like what you see? Visit the ' +\n",
              "            '<a target=\"_blank\" href=https://colab.research.google.com/notebooks/data_table.ipynb>data table notebook</a>'\n",
              "            + ' to learn more about interactive tables.';\n",
              "          element.innerHTML = '';\n",
              "          dataTable['output_type'] = 'display_data';\n",
              "          await google.colab.output.renderOutput(dataTable, element);\n",
              "          const docLink = document.createElement('div');\n",
              "          docLink.innerHTML = docLinkHtml;\n",
              "          element.appendChild(docLink);\n",
              "        }\n",
              "      </script>\n",
              "    </div>\n",
              "  </div>\n",
              "  "
            ],
            "text/plain": [
              "   neighbourhood  property_type\n",
              "0           18.0            1.0\n",
              "1           80.0            1.0\n",
              "2           80.0            1.0\n",
              "3           18.0           12.0\n",
              "4          101.0            1.0"
            ]
          },
          "execution_count": 229,
          "metadata": {},
          "output_type": "execute_result"
        }
      ],
      "source": [
        "# Convertimos el arreglo de numpy en un dataframe\n",
        "\n",
        "ord_vars = pd.DataFrame(ord_vars,columns = ['neighbourhood','property_type'])\n",
        "ord_vars.head()"
      ]
    },
    {
      "cell_type": "code",
      "execution_count": null,
      "metadata": {
        "colab": {
          "base_uri": "https://localhost:8080/",
          "height": 288
        },
        "id": "oVg-FlXtxo9E",
        "outputId": "4fcbc910-1d59-45ab-c79b-6beb759c510b"
      },
      "outputs": [
        {
          "data": {
            "text/html": [
              "\n",
              "  <div id=\"df-3d7b484b-2d0b-49ef-889b-1984efc4bcae\">\n",
              "    <div class=\"colab-df-container\">\n",
              "      <div>\n",
              "<style scoped>\n",
              "    .dataframe tbody tr th:only-of-type {\n",
              "        vertical-align: middle;\n",
              "    }\n",
              "\n",
              "    .dataframe tbody tr th {\n",
              "        vertical-align: top;\n",
              "    }\n",
              "\n",
              "    .dataframe thead th {\n",
              "        text-align: right;\n",
              "    }\n",
              "</style>\n",
              "<table border=\"1\" class=\"dataframe\">\n",
              "  <thead>\n",
              "    <tr style=\"text-align: right;\">\n",
              "      <th></th>\n",
              "      <th>price</th>\n",
              "      <th>neighbourhood</th>\n",
              "      <th>latitude</th>\n",
              "      <th>longitude</th>\n",
              "      <th>property_type</th>\n",
              "      <th>bathrooms</th>\n",
              "      <th>bedrooms</th>\n",
              "      <th>beds</th>\n",
              "      <th>host_is_superhost</th>\n",
              "      <th>parking</th>\n",
              "      <th>room_type_Entire home/apt</th>\n",
              "      <th>room_type_Private room</th>\n",
              "      <th>room_type_Shared room</th>\n",
              "    </tr>\n",
              "  </thead>\n",
              "  <tbody>\n",
              "    <tr>\n",
              "      <th>0</th>\n",
              "      <td>149</td>\n",
              "      <td>18.0</td>\n",
              "      <td>40.64749</td>\n",
              "      <td>-73.97237</td>\n",
              "      <td>1.0</td>\n",
              "      <td>1.0</td>\n",
              "      <td>1</td>\n",
              "      <td>1</td>\n",
              "      <td>0.0</td>\n",
              "      <td>1</td>\n",
              "      <td>0</td>\n",
              "      <td>1</td>\n",
              "      <td>0</td>\n",
              "    </tr>\n",
              "    <tr>\n",
              "      <th>1</th>\n",
              "      <td>150</td>\n",
              "      <td>80.0</td>\n",
              "      <td>40.80902</td>\n",
              "      <td>-73.94190</td>\n",
              "      <td>1.0</td>\n",
              "      <td>1.0</td>\n",
              "      <td>1</td>\n",
              "      <td>1</td>\n",
              "      <td>0.0</td>\n",
              "      <td>-1</td>\n",
              "      <td>0</td>\n",
              "      <td>1</td>\n",
              "      <td>0</td>\n",
              "    </tr>\n",
              "    <tr>\n",
              "      <th>2</th>\n",
              "      <td>190</td>\n",
              "      <td>80.0</td>\n",
              "      <td>40.79685</td>\n",
              "      <td>-73.94872</td>\n",
              "      <td>1.0</td>\n",
              "      <td>1.0</td>\n",
              "      <td>2</td>\n",
              "      <td>2</td>\n",
              "      <td>0.0</td>\n",
              "      <td>-1</td>\n",
              "      <td>1</td>\n",
              "      <td>0</td>\n",
              "      <td>0</td>\n",
              "    </tr>\n",
              "    <tr>\n",
              "      <th>3</th>\n",
              "      <td>60</td>\n",
              "      <td>18.0</td>\n",
              "      <td>40.65599</td>\n",
              "      <td>-73.97519</td>\n",
              "      <td>12.0</td>\n",
              "      <td>1.0</td>\n",
              "      <td>1</td>\n",
              "      <td>1</td>\n",
              "      <td>1.0</td>\n",
              "      <td>1</td>\n",
              "      <td>0</td>\n",
              "      <td>1</td>\n",
              "      <td>0</td>\n",
              "    </tr>\n",
              "    <tr>\n",
              "      <th>4</th>\n",
              "      <td>80</td>\n",
              "      <td>101.0</td>\n",
              "      <td>40.86754</td>\n",
              "      <td>-73.92639</td>\n",
              "      <td>1.0</td>\n",
              "      <td>1.0</td>\n",
              "      <td>1</td>\n",
              "      <td>1</td>\n",
              "      <td>0.0</td>\n",
              "      <td>1</td>\n",
              "      <td>0</td>\n",
              "      <td>1</td>\n",
              "      <td>0</td>\n",
              "    </tr>\n",
              "  </tbody>\n",
              "</table>\n",
              "</div>\n",
              "      <button class=\"colab-df-convert\" onclick=\"convertToInteractive('df-3d7b484b-2d0b-49ef-889b-1984efc4bcae')\"\n",
              "              title=\"Convert this dataframe to an interactive table.\"\n",
              "              style=\"display:none;\">\n",
              "        \n",
              "  <svg xmlns=\"http://www.w3.org/2000/svg\" height=\"24px\"viewBox=\"0 0 24 24\"\n",
              "       width=\"24px\">\n",
              "    <path d=\"M0 0h24v24H0V0z\" fill=\"none\"/>\n",
              "    <path d=\"M18.56 5.44l.94 2.06.94-2.06 2.06-.94-2.06-.94-.94-2.06-.94 2.06-2.06.94zm-11 1L8.5 8.5l.94-2.06 2.06-.94-2.06-.94L8.5 2.5l-.94 2.06-2.06.94zm10 10l.94 2.06.94-2.06 2.06-.94-2.06-.94-.94-2.06-.94 2.06-2.06.94z\"/><path d=\"M17.41 7.96l-1.37-1.37c-.4-.4-.92-.59-1.43-.59-.52 0-1.04.2-1.43.59L10.3 9.45l-7.72 7.72c-.78.78-.78 2.05 0 2.83L4 21.41c.39.39.9.59 1.41.59.51 0 1.02-.2 1.41-.59l7.78-7.78 2.81-2.81c.8-.78.8-2.07 0-2.86zM5.41 20L4 18.59l7.72-7.72 1.47 1.35L5.41 20z\"/>\n",
              "  </svg>\n",
              "      </button>\n",
              "      \n",
              "  <style>\n",
              "    .colab-df-container {\n",
              "      display:flex;\n",
              "      flex-wrap:wrap;\n",
              "      gap: 12px;\n",
              "    }\n",
              "\n",
              "    .colab-df-convert {\n",
              "      background-color: #E8F0FE;\n",
              "      border: none;\n",
              "      border-radius: 50%;\n",
              "      cursor: pointer;\n",
              "      display: none;\n",
              "      fill: #1967D2;\n",
              "      height: 32px;\n",
              "      padding: 0 0 0 0;\n",
              "      width: 32px;\n",
              "    }\n",
              "\n",
              "    .colab-df-convert:hover {\n",
              "      background-color: #E2EBFA;\n",
              "      box-shadow: 0px 1px 2px rgba(60, 64, 67, 0.3), 0px 1px 3px 1px rgba(60, 64, 67, 0.15);\n",
              "      fill: #174EA6;\n",
              "    }\n",
              "\n",
              "    [theme=dark] .colab-df-convert {\n",
              "      background-color: #3B4455;\n",
              "      fill: #D2E3FC;\n",
              "    }\n",
              "\n",
              "    [theme=dark] .colab-df-convert:hover {\n",
              "      background-color: #434B5C;\n",
              "      box-shadow: 0px 1px 3px 1px rgba(0, 0, 0, 0.15);\n",
              "      filter: drop-shadow(0px 1px 2px rgba(0, 0, 0, 0.3));\n",
              "      fill: #FFFFFF;\n",
              "    }\n",
              "  </style>\n",
              "\n",
              "      <script>\n",
              "        const buttonEl =\n",
              "          document.querySelector('#df-3d7b484b-2d0b-49ef-889b-1984efc4bcae button.colab-df-convert');\n",
              "        buttonEl.style.display =\n",
              "          google.colab.kernel.accessAllowed ? 'block' : 'none';\n",
              "\n",
              "        async function convertToInteractive(key) {\n",
              "          const element = document.querySelector('#df-3d7b484b-2d0b-49ef-889b-1984efc4bcae');\n",
              "          const dataTable =\n",
              "            await google.colab.kernel.invokeFunction('convertToInteractive',\n",
              "                                                     [key], {});\n",
              "          if (!dataTable) return;\n",
              "\n",
              "          const docLinkHtml = 'Like what you see? Visit the ' +\n",
              "            '<a target=\"_blank\" href=https://colab.research.google.com/notebooks/data_table.ipynb>data table notebook</a>'\n",
              "            + ' to learn more about interactive tables.';\n",
              "          element.innerHTML = '';\n",
              "          dataTable['output_type'] = 'display_data';\n",
              "          await google.colab.output.renderOutput(dataTable, element);\n",
              "          const docLink = document.createElement('div');\n",
              "          docLink.innerHTML = docLinkHtml;\n",
              "          element.appendChild(docLink);\n",
              "        }\n",
              "      </script>\n",
              "    </div>\n",
              "  </div>\n",
              "  "
            ],
            "text/plain": [
              "   price  neighbourhood  latitude  longitude  property_type  bathrooms  \\\n",
              "0    149           18.0  40.64749  -73.97237            1.0        1.0   \n",
              "1    150           80.0  40.80902  -73.94190            1.0        1.0   \n",
              "2    190           80.0  40.79685  -73.94872            1.0        1.0   \n",
              "3     60           18.0  40.65599  -73.97519           12.0        1.0   \n",
              "4     80          101.0  40.86754  -73.92639            1.0        1.0   \n",
              "\n",
              "   bedrooms  beds  host_is_superhost  parking  room_type_Entire home/apt  \\\n",
              "0         1     1                0.0        1                          0   \n",
              "1         1     1                0.0       -1                          0   \n",
              "2         2     2                0.0       -1                          1   \n",
              "3         1     1                1.0        1                          0   \n",
              "4         1     1                0.0        1                          0   \n",
              "\n",
              "   room_type_Private room  room_type_Shared room  \n",
              "0                       1                      0  \n",
              "1                       1                      0  \n",
              "2                       0                      0  \n",
              "3                       1                      0  \n",
              "4                       1                      0  "
            ]
          },
          "execution_count": 230,
          "metadata": {},
          "output_type": "execute_result"
        }
      ],
      "source": [
        "# Reemplazamos en nuestro dataset original\n",
        "\n",
        "for variable in ord_vars.columns:\n",
        "  clean[variable] = ord_vars[variable]\n",
        "\n",
        "clean.head()"
      ]
    },
    {
      "cell_type": "markdown",
      "metadata": {
        "id": "MqzRJQwqKeNS"
      },
      "source": [
        "### Ejercicio 11\n",
        "\n",
        "Observe la variables parking y host_is_superhost son binarias. Solo toman valores de Falso (0) y Verdadero (1). Sin embargo, la variable parking tiene una codificación extraña con -1 como código de Falso, lo cual que puede ocasionar algunos inconvenientes. Encuentre todos los campos de la variable parking que contengan -1.0 y reemplacelos por 0.0. "
      ]
    },
    {
      "cell_type": "markdown",
      "metadata": {
        "id": "Mfy5EI8iLb-h"
      },
      "source": [
        "<details>    \n",
        "<summary>\n",
        "    <font size=\"3\" color=\"darkblue\"><b>Pistas</b></font>\n",
        "</summary>\n",
        "\n",
        "* Utilice el método de pandas `.map()`.\n",
        "* Para más información consulte [aquí](https://pandas.pydata.org/docs/reference/api/pandas.Series.map.html)."
      ]
    },
    {
      "cell_type": "code",
      "execution_count": null,
      "metadata": {
        "colab": {
          "base_uri": "https://localhost:8080/",
          "height": 288
        },
        "id": "aRkEFkP1LmaF",
        "outputId": "bae96d51-438b-49d3-f884-af08cc3dc632"
      },
      "outputs": [
        {
          "data": {
            "text/html": [
              "\n",
              "  <div id=\"df-83acf491-b87e-4acd-92b8-ef6319023931\">\n",
              "    <div class=\"colab-df-container\">\n",
              "      <div>\n",
              "<style scoped>\n",
              "    .dataframe tbody tr th:only-of-type {\n",
              "        vertical-align: middle;\n",
              "    }\n",
              "\n",
              "    .dataframe tbody tr th {\n",
              "        vertical-align: top;\n",
              "    }\n",
              "\n",
              "    .dataframe thead th {\n",
              "        text-align: right;\n",
              "    }\n",
              "</style>\n",
              "<table border=\"1\" class=\"dataframe\">\n",
              "  <thead>\n",
              "    <tr style=\"text-align: right;\">\n",
              "      <th></th>\n",
              "      <th>price</th>\n",
              "      <th>neighbourhood</th>\n",
              "      <th>latitude</th>\n",
              "      <th>longitude</th>\n",
              "      <th>property_type</th>\n",
              "      <th>bathrooms</th>\n",
              "      <th>bedrooms</th>\n",
              "      <th>beds</th>\n",
              "      <th>host_is_superhost</th>\n",
              "      <th>parking</th>\n",
              "      <th>room_type_Entire home/apt</th>\n",
              "      <th>room_type_Private room</th>\n",
              "      <th>room_type_Shared room</th>\n",
              "    </tr>\n",
              "  </thead>\n",
              "  <tbody>\n",
              "    <tr>\n",
              "      <th>0</th>\n",
              "      <td>149</td>\n",
              "      <td>18.0</td>\n",
              "      <td>40.64749</td>\n",
              "      <td>-73.97237</td>\n",
              "      <td>1.0</td>\n",
              "      <td>1.0</td>\n",
              "      <td>1</td>\n",
              "      <td>1</td>\n",
              "      <td>0.0</td>\n",
              "      <td>1.0</td>\n",
              "      <td>0</td>\n",
              "      <td>1</td>\n",
              "      <td>0</td>\n",
              "    </tr>\n",
              "    <tr>\n",
              "      <th>1</th>\n",
              "      <td>150</td>\n",
              "      <td>80.0</td>\n",
              "      <td>40.80902</td>\n",
              "      <td>-73.94190</td>\n",
              "      <td>1.0</td>\n",
              "      <td>1.0</td>\n",
              "      <td>1</td>\n",
              "      <td>1</td>\n",
              "      <td>0.0</td>\n",
              "      <td>0.0</td>\n",
              "      <td>0</td>\n",
              "      <td>1</td>\n",
              "      <td>0</td>\n",
              "    </tr>\n",
              "    <tr>\n",
              "      <th>2</th>\n",
              "      <td>190</td>\n",
              "      <td>80.0</td>\n",
              "      <td>40.79685</td>\n",
              "      <td>-73.94872</td>\n",
              "      <td>1.0</td>\n",
              "      <td>1.0</td>\n",
              "      <td>2</td>\n",
              "      <td>2</td>\n",
              "      <td>0.0</td>\n",
              "      <td>0.0</td>\n",
              "      <td>1</td>\n",
              "      <td>0</td>\n",
              "      <td>0</td>\n",
              "    </tr>\n",
              "    <tr>\n",
              "      <th>3</th>\n",
              "      <td>60</td>\n",
              "      <td>18.0</td>\n",
              "      <td>40.65599</td>\n",
              "      <td>-73.97519</td>\n",
              "      <td>12.0</td>\n",
              "      <td>1.0</td>\n",
              "      <td>1</td>\n",
              "      <td>1</td>\n",
              "      <td>1.0</td>\n",
              "      <td>1.0</td>\n",
              "      <td>0</td>\n",
              "      <td>1</td>\n",
              "      <td>0</td>\n",
              "    </tr>\n",
              "    <tr>\n",
              "      <th>4</th>\n",
              "      <td>80</td>\n",
              "      <td>101.0</td>\n",
              "      <td>40.86754</td>\n",
              "      <td>-73.92639</td>\n",
              "      <td>1.0</td>\n",
              "      <td>1.0</td>\n",
              "      <td>1</td>\n",
              "      <td>1</td>\n",
              "      <td>0.0</td>\n",
              "      <td>1.0</td>\n",
              "      <td>0</td>\n",
              "      <td>1</td>\n",
              "      <td>0</td>\n",
              "    </tr>\n",
              "  </tbody>\n",
              "</table>\n",
              "</div>\n",
              "      <button class=\"colab-df-convert\" onclick=\"convertToInteractive('df-83acf491-b87e-4acd-92b8-ef6319023931')\"\n",
              "              title=\"Convert this dataframe to an interactive table.\"\n",
              "              style=\"display:none;\">\n",
              "        \n",
              "  <svg xmlns=\"http://www.w3.org/2000/svg\" height=\"24px\"viewBox=\"0 0 24 24\"\n",
              "       width=\"24px\">\n",
              "    <path d=\"M0 0h24v24H0V0z\" fill=\"none\"/>\n",
              "    <path d=\"M18.56 5.44l.94 2.06.94-2.06 2.06-.94-2.06-.94-.94-2.06-.94 2.06-2.06.94zm-11 1L8.5 8.5l.94-2.06 2.06-.94-2.06-.94L8.5 2.5l-.94 2.06-2.06.94zm10 10l.94 2.06.94-2.06 2.06-.94-2.06-.94-.94-2.06-.94 2.06-2.06.94z\"/><path d=\"M17.41 7.96l-1.37-1.37c-.4-.4-.92-.59-1.43-.59-.52 0-1.04.2-1.43.59L10.3 9.45l-7.72 7.72c-.78.78-.78 2.05 0 2.83L4 21.41c.39.39.9.59 1.41.59.51 0 1.02-.2 1.41-.59l7.78-7.78 2.81-2.81c.8-.78.8-2.07 0-2.86zM5.41 20L4 18.59l7.72-7.72 1.47 1.35L5.41 20z\"/>\n",
              "  </svg>\n",
              "      </button>\n",
              "      \n",
              "  <style>\n",
              "    .colab-df-container {\n",
              "      display:flex;\n",
              "      flex-wrap:wrap;\n",
              "      gap: 12px;\n",
              "    }\n",
              "\n",
              "    .colab-df-convert {\n",
              "      background-color: #E8F0FE;\n",
              "      border: none;\n",
              "      border-radius: 50%;\n",
              "      cursor: pointer;\n",
              "      display: none;\n",
              "      fill: #1967D2;\n",
              "      height: 32px;\n",
              "      padding: 0 0 0 0;\n",
              "      width: 32px;\n",
              "    }\n",
              "\n",
              "    .colab-df-convert:hover {\n",
              "      background-color: #E2EBFA;\n",
              "      box-shadow: 0px 1px 2px rgba(60, 64, 67, 0.3), 0px 1px 3px 1px rgba(60, 64, 67, 0.15);\n",
              "      fill: #174EA6;\n",
              "    }\n",
              "\n",
              "    [theme=dark] .colab-df-convert {\n",
              "      background-color: #3B4455;\n",
              "      fill: #D2E3FC;\n",
              "    }\n",
              "\n",
              "    [theme=dark] .colab-df-convert:hover {\n",
              "      background-color: #434B5C;\n",
              "      box-shadow: 0px 1px 3px 1px rgba(0, 0, 0, 0.15);\n",
              "      filter: drop-shadow(0px 1px 2px rgba(0, 0, 0, 0.3));\n",
              "      fill: #FFFFFF;\n",
              "    }\n",
              "  </style>\n",
              "\n",
              "      <script>\n",
              "        const buttonEl =\n",
              "          document.querySelector('#df-83acf491-b87e-4acd-92b8-ef6319023931 button.colab-df-convert');\n",
              "        buttonEl.style.display =\n",
              "          google.colab.kernel.accessAllowed ? 'block' : 'none';\n",
              "\n",
              "        async function convertToInteractive(key) {\n",
              "          const element = document.querySelector('#df-83acf491-b87e-4acd-92b8-ef6319023931');\n",
              "          const dataTable =\n",
              "            await google.colab.kernel.invokeFunction('convertToInteractive',\n",
              "                                                     [key], {});\n",
              "          if (!dataTable) return;\n",
              "\n",
              "          const docLinkHtml = 'Like what you see? Visit the ' +\n",
              "            '<a target=\"_blank\" href=https://colab.research.google.com/notebooks/data_table.ipynb>data table notebook</a>'\n",
              "            + ' to learn more about interactive tables.';\n",
              "          element.innerHTML = '';\n",
              "          dataTable['output_type'] = 'display_data';\n",
              "          await google.colab.output.renderOutput(dataTable, element);\n",
              "          const docLink = document.createElement('div');\n",
              "          docLink.innerHTML = docLinkHtml;\n",
              "          element.appendChild(docLink);\n",
              "        }\n",
              "      </script>\n",
              "    </div>\n",
              "  </div>\n",
              "  "
            ],
            "text/plain": [
              "   price  neighbourhood  latitude  longitude  property_type  bathrooms  \\\n",
              "0    149           18.0  40.64749  -73.97237            1.0        1.0   \n",
              "1    150           80.0  40.80902  -73.94190            1.0        1.0   \n",
              "2    190           80.0  40.79685  -73.94872            1.0        1.0   \n",
              "3     60           18.0  40.65599  -73.97519           12.0        1.0   \n",
              "4     80          101.0  40.86754  -73.92639            1.0        1.0   \n",
              "\n",
              "   bedrooms  beds  host_is_superhost  parking  room_type_Entire home/apt  \\\n",
              "0         1     1                0.0      1.0                          0   \n",
              "1         1     1                0.0      0.0                          0   \n",
              "2         2     2                0.0      0.0                          1   \n",
              "3         1     1                1.0      1.0                          0   \n",
              "4         1     1                0.0      1.0                          0   \n",
              "\n",
              "   room_type_Private room  room_type_Shared room  \n",
              "0                       1                      0  \n",
              "1                       1                      0  \n",
              "2                       0                      0  \n",
              "3                       1                      0  \n",
              "4                       1                      0  "
            ]
          },
          "execution_count": 231,
          "metadata": {},
          "output_type": "execute_result"
        }
      ],
      "source": [
        "# Respuesta\n"
      ]
    },
    {
      "cell_type": "markdown",
      "metadata": {
        "id": "0PJ3hv1xX9ZU"
      },
      "source": [
        "### Ejercicio 12\n",
        "\n",
        "Para finalizar, escriba algunas conclusiones de sus hallazgos y haga una lista cronológica con todas las modificaciones que se hicieron hasta obtener el dataframe clean final. Si tiene ideas adicionales que no hayamos ejecutado en este análisis por favor incluyalas en forma de recomendación para la siguiente iteración del proceso. \n",
        "\n"
      ]
    },
    {
      "cell_type": "markdown",
      "metadata": {
        "id": "oYCma5eFYwKL"
      },
      "source": [
        "Respuesta"
      ]
    },
    {
      "cell_type": "markdown",
      "metadata": {
        "id": "iNhU3Wq1Xte_"
      },
      "source": [
        "**Aquí termina la segunda fase del proyecto, ya conocemos bastante nuestros datos y tenemos un conjunto limpio y preparado para la fase de modelamiento. En la siguiente fase vamos a utilizar dos algoritmos de Machine Learning para construir 2 modelos, haremos el proceso de experimentación para optimizar los errores y extraeremos información valiosa de nuestros modelos.**"
      ]
    },
    {
      "cell_type": "markdown",
      "metadata": {
        "id": "LgyxZ1SDV_nU"
      },
      "source": [
        "## **Créditos**\n",
        "---\n",
        "\n",
        "**Profesor:** Harry Vargas Rodríguez\n",
        "\n",
        "**Corporación Universitaria de Cataluña** - *Diplomado en Big Data y Data Science*"
      ]
    }
  ],
  "metadata": {
    "colab": {
      "collapsed_sections": [],
      "name": "Fase 2: Limpieza y transformación - Estudiantes.ipynb",
      "provenance": [],
      "toc_visible": true
    },
    "kernelspec": {
      "display_name": "Python 3.8.5 64-bit",
      "language": "python",
      "name": "python3"
    },
    "language_info": {
      "codemirror_mode": {
        "name": "ipython",
        "version": 3
      },
      "file_extension": ".py",
      "mimetype": "text/x-python",
      "name": "python",
      "nbconvert_exporter": "python",
      "pygments_lexer": "ipython3",
      "version": "3.8.5"
    },
    "vscode": {
      "interpreter": {
        "hash": "9650cb4e16cdd4a8e8e2d128bf38d875813998db22a3c986335f89e0cb4d7bb2"
      }
    }
  },
  "nbformat": 4,
  "nbformat_minor": 0
}
