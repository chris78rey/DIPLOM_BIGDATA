{
  "cells": [
    {
      "cell_type": "markdown",
      "metadata": {
        "id": "wCyFWfNtSdXP"
      },
      "source": [
        "<img src = \"https://github.com/HarryVargas96/UdeCataluna/blob/main/logo_uc_grande.png?raw=true\" alt = \"Encabezado\" width = \"100%\">  </img>"
      ]
    },
    {
      "cell_type": "markdown",
      "metadata": {
        "id": "h6HuYrc3S6Ys"
      },
      "source": [
        "Este taller guiado tiene como objetivo mostrar la implementación del algoritmo de Machine Learning Random Forest usando scikitlearn. Lo invito a interactuar y experimentar libremente con esta herramienta de aprendizaje. En el menú superior de click al botón copiar en Drive para crear una copia editable de este Notebook.\n",
        "\n",
        "En este taller guiado veremos como:\n",
        "\n",
        "* Entrenar y evaluar un modelo de regresión creado con Random Forest\n"
      ]
    },
    {
      "cell_type": "markdown",
      "metadata": {
        "id": "_JZ1l3JAWAWk"
      },
      "source": [
        "## **1. Importar librería sklearn**"
      ]
    },
    {
      "cell_type": "code",
      "execution_count": null,
      "metadata": {
        "colab": {
          "base_uri": "https://localhost:8080/"
        },
        "id": "t4KlnIU_NfLU",
        "outputId": "60c6a921-31bb-4454-ddb3-0738c00f46cf"
      },
      "outputs": [
        {
          "name": "stdout",
          "output_type": "stream",
          "text": [
            "Looking in indexes: https://pypi.org/simple, https://us-python.pkg.dev/colab-wheels/public/simple/\n",
            "Requirement already satisfied: scikit-learn in /usr/local/lib/python3.7/dist-packages (1.0.2)\n",
            "Requirement already satisfied: numpy>=1.14.6 in /usr/local/lib/python3.7/dist-packages (from scikit-learn) (1.21.6)\n",
            "Requirement already satisfied: threadpoolctl>=2.0.0 in /usr/local/lib/python3.7/dist-packages (from scikit-learn) (3.1.0)\n",
            "Requirement already satisfied: scipy>=1.1.0 in /usr/local/lib/python3.7/dist-packages (from scikit-learn) (1.4.1)\n",
            "Requirement already satisfied: joblib>=0.11 in /usr/local/lib/python3.7/dist-packages (from scikit-learn) (1.1.0)\n"
          ]
        }
      ],
      "source": [
        "!pip install -U scikit-learn"
      ]
    },
    {
      "cell_type": "code",
      "execution_count": null,
      "metadata": {
        "id": "KVKNKkpbWIEq"
      },
      "outputs": [],
      "source": [
        "# El nombre del módulo de Python es sklearn y no scikitlearn\n",
        "import sklearn\n",
        "import numpy as np\n",
        "import pandas as pd\n",
        "import matplotlib as mpl\n",
        "import matplotlib.pyplot as plt\n",
        "import seaborn as sns"
      ]
    },
    {
      "cell_type": "code",
      "execution_count": null,
      "metadata": {
        "colab": {
          "base_uri": "https://localhost:8080/"
        },
        "id": "ld6QcNcHXNf0",
        "outputId": "b9b736c0-2ea9-4780-8b4a-30b2c3007e6a"
      },
      "outputs": [
        {
          "name": "stdout",
          "output_type": "stream",
          "text": [
            "Python 3.7.13\n",
            "NumPy 1.21.6\n",
            "Pandas 1.3.5\n",
            "Matplotlib 3.2.2\n",
            "Scikit-learn 1.0.2\n"
          ]
        }
      ],
      "source": [
        "!python --version\n",
        "print('NumPy', np.__version__)\n",
        "print('Pandas', pd.__version__)\n",
        "print('Matplotlib', mpl.__version__)\n",
        "print('Scikit-learn', sklearn.__version__)"
      ]
    },
    {
      "cell_type": "markdown",
      "metadata": {
        "id": "nTgV5tz6Xr4L"
      },
      "source": [
        "Este taller guiado fue creado con las siguientes versiones:\n",
        "*  *Python*: 3.7.12\n",
        "*  *NumPy*:  1.19.5\n",
        "*  *Pandas*:  1.1.5\n",
        "*  *Matplotlib*:  3.2.2\n",
        "*  *Scikit-learn*: 1.0"
      ]
    },
    {
      "cell_type": "markdown",
      "metadata": {
        "id": "foWMkaGIX8fR"
      },
      "source": [
        "## **2. Cargar datos**"
      ]
    },
    {
      "cell_type": "code",
      "execution_count": null,
      "metadata": {
        "colab": {
          "base_uri": "https://localhost:8080/"
        },
        "id": "jY5vRWGsqTso",
        "outputId": "2476c964-4d89-4bb6-ce69-fd834850620d"
      },
      "outputs": [
        {
          "data": {
            "text/plain": [
              "(53940, 10)"
            ]
          },
          "execution_count": 4,
          "metadata": {},
          "output_type": "execute_result"
        }
      ],
      "source": [
        "# Carga de Diamonds desde seaborn\n",
        "# Se usará más adelante para la regresión lineal\n",
        "\n",
        "diamonds = sb.load_dataset(\"diamonds\")\n",
        "diamonds.shape"
      ]
    },
    {
      "cell_type": "markdown",
      "metadata": {
        "id": "2M--MfitWhAN"
      },
      "source": [
        "## **3. Exploración**"
      ]
    },
    {
      "cell_type": "markdown",
      "metadata": {
        "id": "nLmbodEWxAfq"
      },
      "source": [
        "El dataset diamond tiene 53940 observaciones y 10 variables. La variable objetivo es el precio del diamante. El dataset tiene 3 variables cualitativas ordinales: cut, color y clarity. Que se listan a continuación, para más información de click [aquí](https://www.kaggle.com/shivam2503/diamonds).\n",
        "\n",
        "<p align=\"center\">\n",
        "  <img src = \"https://raw.githubusercontent.com/HarryVargas96/UdeCataluna/main/diamond-depth-and-table.webp\" alt = \"Diamante\" width = \"50%\">  </img>\n",
        "\n",
        "| Variable | Descripción|\n",
        "| ----------- | ----------- |\n",
        "| carat | Peso en quilates |\n",
        "| cut | Calificación de la talla (Fair, Good, Very Good, Premium, Ideal)|\n",
        "| color | Escala de color desde D (mejor) a J (peor) |\n",
        "| clarity | Medida de la claridad del diamante  |\n",
        "|x|longitud en mm|\n",
        "|y|ancho en mm|\n",
        "|z|profundidad en mm|\n",
        "| depth| Porcentaje profundidad total |\n",
        "|table|Ancho de la parte más alta del diamante relativo al punto más ancho|\n",
        "|price|precio del diamante en dólares estadounidenses|\n",
        "\n",
        "**Notas**\n",
        "\n",
        "* Un quilate equivale a 0.2 gramos.\n",
        "\n",
        "* Los diamantes color D son los más traslucidos y raros.\n",
        "\n",
        "* La escala de claridad es la siguiente, mide la cantidad de inclusiones que afectan la claridad de los diamantes. La escala IF es para los diamantes con mejor claridad.\n",
        "\n",
        "> * IF: Internally Flawless\n",
        "* VVS: Very Very Sligthly Included\n",
        "* VS: Very Sligthly Included\n",
        "* SI: Sligthly Included\n",
        "* I: Included\n",
        "\n",
        "$$ depth_{porcentaje} = \\frac{z}{mean(x,y)} $$\n",
        "\n",
        "\n",
        "\n",
        "\n"
      ]
    },
    {
      "cell_type": "code",
      "execution_count": null,
      "metadata": {
        "colab": {
          "base_uri": "https://localhost:8080/",
          "height": 206
        },
        "id": "wxOcYDihxOzM",
        "outputId": "7d47f1dc-a4aa-49fc-8126-93aae4f5bf2f"
      },
      "outputs": [
        {
          "data": {
            "text/html": [
              "\n",
              "  <div id=\"df-2f3cccfd-0583-4bc4-9d23-3b2be88ffec6\">\n",
              "    <div class=\"colab-df-container\">\n",
              "      <div>\n",
              "<style scoped>\n",
              "    .dataframe tbody tr th:only-of-type {\n",
              "        vertical-align: middle;\n",
              "    }\n",
              "\n",
              "    .dataframe tbody tr th {\n",
              "        vertical-align: top;\n",
              "    }\n",
              "\n",
              "    .dataframe thead th {\n",
              "        text-align: right;\n",
              "    }\n",
              "</style>\n",
              "<table border=\"1\" class=\"dataframe\">\n",
              "  <thead>\n",
              "    <tr style=\"text-align: right;\">\n",
              "      <th></th>\n",
              "      <th>carat</th>\n",
              "      <th>cut</th>\n",
              "      <th>color</th>\n",
              "      <th>clarity</th>\n",
              "      <th>depth</th>\n",
              "      <th>table</th>\n",
              "      <th>price</th>\n",
              "      <th>x</th>\n",
              "      <th>y</th>\n",
              "      <th>z</th>\n",
              "    </tr>\n",
              "  </thead>\n",
              "  <tbody>\n",
              "    <tr>\n",
              "      <th>0</th>\n",
              "      <td>0.23</td>\n",
              "      <td>Ideal</td>\n",
              "      <td>E</td>\n",
              "      <td>SI2</td>\n",
              "      <td>61.5</td>\n",
              "      <td>55.0</td>\n",
              "      <td>326</td>\n",
              "      <td>3.95</td>\n",
              "      <td>3.98</td>\n",
              "      <td>2.43</td>\n",
              "    </tr>\n",
              "    <tr>\n",
              "      <th>1</th>\n",
              "      <td>0.21</td>\n",
              "      <td>Premium</td>\n",
              "      <td>E</td>\n",
              "      <td>SI1</td>\n",
              "      <td>59.8</td>\n",
              "      <td>61.0</td>\n",
              "      <td>326</td>\n",
              "      <td>3.89</td>\n",
              "      <td>3.84</td>\n",
              "      <td>2.31</td>\n",
              "    </tr>\n",
              "    <tr>\n",
              "      <th>2</th>\n",
              "      <td>0.23</td>\n",
              "      <td>Good</td>\n",
              "      <td>E</td>\n",
              "      <td>VS1</td>\n",
              "      <td>56.9</td>\n",
              "      <td>65.0</td>\n",
              "      <td>327</td>\n",
              "      <td>4.05</td>\n",
              "      <td>4.07</td>\n",
              "      <td>2.31</td>\n",
              "    </tr>\n",
              "    <tr>\n",
              "      <th>3</th>\n",
              "      <td>0.29</td>\n",
              "      <td>Premium</td>\n",
              "      <td>I</td>\n",
              "      <td>VS2</td>\n",
              "      <td>62.4</td>\n",
              "      <td>58.0</td>\n",
              "      <td>334</td>\n",
              "      <td>4.20</td>\n",
              "      <td>4.23</td>\n",
              "      <td>2.63</td>\n",
              "    </tr>\n",
              "    <tr>\n",
              "      <th>4</th>\n",
              "      <td>0.31</td>\n",
              "      <td>Good</td>\n",
              "      <td>J</td>\n",
              "      <td>SI2</td>\n",
              "      <td>63.3</td>\n",
              "      <td>58.0</td>\n",
              "      <td>335</td>\n",
              "      <td>4.34</td>\n",
              "      <td>4.35</td>\n",
              "      <td>2.75</td>\n",
              "    </tr>\n",
              "  </tbody>\n",
              "</table>\n",
              "</div>\n",
              "      <button class=\"colab-df-convert\" onclick=\"convertToInteractive('df-2f3cccfd-0583-4bc4-9d23-3b2be88ffec6')\"\n",
              "              title=\"Convert this dataframe to an interactive table.\"\n",
              "              style=\"display:none;\">\n",
              "        \n",
              "  <svg xmlns=\"http://www.w3.org/2000/svg\" height=\"24px\"viewBox=\"0 0 24 24\"\n",
              "       width=\"24px\">\n",
              "    <path d=\"M0 0h24v24H0V0z\" fill=\"none\"/>\n",
              "    <path d=\"M18.56 5.44l.94 2.06.94-2.06 2.06-.94-2.06-.94-.94-2.06-.94 2.06-2.06.94zm-11 1L8.5 8.5l.94-2.06 2.06-.94-2.06-.94L8.5 2.5l-.94 2.06-2.06.94zm10 10l.94 2.06.94-2.06 2.06-.94-2.06-.94-.94-2.06-.94 2.06-2.06.94z\"/><path d=\"M17.41 7.96l-1.37-1.37c-.4-.4-.92-.59-1.43-.59-.52 0-1.04.2-1.43.59L10.3 9.45l-7.72 7.72c-.78.78-.78 2.05 0 2.83L4 21.41c.39.39.9.59 1.41.59.51 0 1.02-.2 1.41-.59l7.78-7.78 2.81-2.81c.8-.78.8-2.07 0-2.86zM5.41 20L4 18.59l7.72-7.72 1.47 1.35L5.41 20z\"/>\n",
              "  </svg>\n",
              "      </button>\n",
              "      \n",
              "  <style>\n",
              "    .colab-df-container {\n",
              "      display:flex;\n",
              "      flex-wrap:wrap;\n",
              "      gap: 12px;\n",
              "    }\n",
              "\n",
              "    .colab-df-convert {\n",
              "      background-color: #E8F0FE;\n",
              "      border: none;\n",
              "      border-radius: 50%;\n",
              "      cursor: pointer;\n",
              "      display: none;\n",
              "      fill: #1967D2;\n",
              "      height: 32px;\n",
              "      padding: 0 0 0 0;\n",
              "      width: 32px;\n",
              "    }\n",
              "\n",
              "    .colab-df-convert:hover {\n",
              "      background-color: #E2EBFA;\n",
              "      box-shadow: 0px 1px 2px rgba(60, 64, 67, 0.3), 0px 1px 3px 1px rgba(60, 64, 67, 0.15);\n",
              "      fill: #174EA6;\n",
              "    }\n",
              "\n",
              "    [theme=dark] .colab-df-convert {\n",
              "      background-color: #3B4455;\n",
              "      fill: #D2E3FC;\n",
              "    }\n",
              "\n",
              "    [theme=dark] .colab-df-convert:hover {\n",
              "      background-color: #434B5C;\n",
              "      box-shadow: 0px 1px 3px 1px rgba(0, 0, 0, 0.15);\n",
              "      filter: drop-shadow(0px 1px 2px rgba(0, 0, 0, 0.3));\n",
              "      fill: #FFFFFF;\n",
              "    }\n",
              "  </style>\n",
              "\n",
              "      <script>\n",
              "        const buttonEl =\n",
              "          document.querySelector('#df-2f3cccfd-0583-4bc4-9d23-3b2be88ffec6 button.colab-df-convert');\n",
              "        buttonEl.style.display =\n",
              "          google.colab.kernel.accessAllowed ? 'block' : 'none';\n",
              "\n",
              "        async function convertToInteractive(key) {\n",
              "          const element = document.querySelector('#df-2f3cccfd-0583-4bc4-9d23-3b2be88ffec6');\n",
              "          const dataTable =\n",
              "            await google.colab.kernel.invokeFunction('convertToInteractive',\n",
              "                                                     [key], {});\n",
              "          if (!dataTable) return;\n",
              "\n",
              "          const docLinkHtml = 'Like what you see? Visit the ' +\n",
              "            '<a target=\"_blank\" href=https://colab.research.google.com/notebooks/data_table.ipynb>data table notebook</a>'\n",
              "            + ' to learn more about interactive tables.';\n",
              "          element.innerHTML = '';\n",
              "          dataTable['output_type'] = 'display_data';\n",
              "          await google.colab.output.renderOutput(dataTable, element);\n",
              "          const docLink = document.createElement('div');\n",
              "          docLink.innerHTML = docLinkHtml;\n",
              "          element.appendChild(docLink);\n",
              "        }\n",
              "      </script>\n",
              "    </div>\n",
              "  </div>\n",
              "  "
            ],
            "text/plain": [
              "   carat      cut color clarity  depth  table  price     x     y     z\n",
              "0   0.23    Ideal     E     SI2   61.5   55.0    326  3.95  3.98  2.43\n",
              "1   0.21  Premium     E     SI1   59.8   61.0    326  3.89  3.84  2.31\n",
              "2   0.23     Good     E     VS1   56.9   65.0    327  4.05  4.07  2.31\n",
              "3   0.29  Premium     I     VS2   62.4   58.0    334  4.20  4.23  2.63\n",
              "4   0.31     Good     J     SI2   63.3   58.0    335  4.34  4.35  2.75"
            ]
          },
          "execution_count": 5,
          "metadata": {},
          "output_type": "execute_result"
        }
      ],
      "source": [
        "diamonds.head()"
      ]
    },
    {
      "cell_type": "code",
      "execution_count": null,
      "metadata": {
        "colab": {
          "base_uri": "https://localhost:8080/"
        },
        "id": "atp6oA-pX7sz",
        "outputId": "927c1ae8-eab9-4608-d105-c9f348c4b9c5"
      },
      "outputs": [
        {
          "data": {
            "text/plain": [
              "carat      0\n",
              "cut        0\n",
              "color      0\n",
              "clarity    0\n",
              "depth      0\n",
              "table      0\n",
              "price      0\n",
              "x          0\n",
              "y          0\n",
              "z          0\n",
              "dtype: int64"
            ]
          },
          "execution_count": 6,
          "metadata": {},
          "output_type": "execute_result"
        }
      ],
      "source": [
        "#Revisión de valores nulos\n",
        "\n",
        "diamonds.isnull().sum()"
      ]
    },
    {
      "cell_type": "code",
      "execution_count": null,
      "metadata": {
        "colab": {
          "base_uri": "https://localhost:8080/",
          "height": 300
        },
        "id": "QUTzLtkIw5DI",
        "outputId": "a024c2e7-9348-4c9f-8727-531406977327"
      },
      "outputs": [
        {
          "data": {
            "text/html": [
              "\n",
              "  <div id=\"df-cc40dbcd-028c-4054-852e-23090f50d8f5\">\n",
              "    <div class=\"colab-df-container\">\n",
              "      <div>\n",
              "<style scoped>\n",
              "    .dataframe tbody tr th:only-of-type {\n",
              "        vertical-align: middle;\n",
              "    }\n",
              "\n",
              "    .dataframe tbody tr th {\n",
              "        vertical-align: top;\n",
              "    }\n",
              "\n",
              "    .dataframe thead th {\n",
              "        text-align: right;\n",
              "    }\n",
              "</style>\n",
              "<table border=\"1\" class=\"dataframe\">\n",
              "  <thead>\n",
              "    <tr style=\"text-align: right;\">\n",
              "      <th></th>\n",
              "      <th>carat</th>\n",
              "      <th>depth</th>\n",
              "      <th>table</th>\n",
              "      <th>price</th>\n",
              "      <th>x</th>\n",
              "      <th>y</th>\n",
              "      <th>z</th>\n",
              "    </tr>\n",
              "  </thead>\n",
              "  <tbody>\n",
              "    <tr>\n",
              "      <th>count</th>\n",
              "      <td>53940.000000</td>\n",
              "      <td>53940.000000</td>\n",
              "      <td>53940.000000</td>\n",
              "      <td>53940.000000</td>\n",
              "      <td>53940.000000</td>\n",
              "      <td>53940.000000</td>\n",
              "      <td>53940.000000</td>\n",
              "    </tr>\n",
              "    <tr>\n",
              "      <th>mean</th>\n",
              "      <td>0.797940</td>\n",
              "      <td>61.749405</td>\n",
              "      <td>57.457184</td>\n",
              "      <td>3932.799722</td>\n",
              "      <td>5.731157</td>\n",
              "      <td>5.734526</td>\n",
              "      <td>3.538734</td>\n",
              "    </tr>\n",
              "    <tr>\n",
              "      <th>std</th>\n",
              "      <td>0.474011</td>\n",
              "      <td>1.432621</td>\n",
              "      <td>2.234491</td>\n",
              "      <td>3989.439738</td>\n",
              "      <td>1.121761</td>\n",
              "      <td>1.142135</td>\n",
              "      <td>0.705699</td>\n",
              "    </tr>\n",
              "    <tr>\n",
              "      <th>min</th>\n",
              "      <td>0.200000</td>\n",
              "      <td>43.000000</td>\n",
              "      <td>43.000000</td>\n",
              "      <td>326.000000</td>\n",
              "      <td>0.000000</td>\n",
              "      <td>0.000000</td>\n",
              "      <td>0.000000</td>\n",
              "    </tr>\n",
              "    <tr>\n",
              "      <th>25%</th>\n",
              "      <td>0.400000</td>\n",
              "      <td>61.000000</td>\n",
              "      <td>56.000000</td>\n",
              "      <td>950.000000</td>\n",
              "      <td>4.710000</td>\n",
              "      <td>4.720000</td>\n",
              "      <td>2.910000</td>\n",
              "    </tr>\n",
              "    <tr>\n",
              "      <th>50%</th>\n",
              "      <td>0.700000</td>\n",
              "      <td>61.800000</td>\n",
              "      <td>57.000000</td>\n",
              "      <td>2401.000000</td>\n",
              "      <td>5.700000</td>\n",
              "      <td>5.710000</td>\n",
              "      <td>3.530000</td>\n",
              "    </tr>\n",
              "    <tr>\n",
              "      <th>75%</th>\n",
              "      <td>1.040000</td>\n",
              "      <td>62.500000</td>\n",
              "      <td>59.000000</td>\n",
              "      <td>5324.250000</td>\n",
              "      <td>6.540000</td>\n",
              "      <td>6.540000</td>\n",
              "      <td>4.040000</td>\n",
              "    </tr>\n",
              "    <tr>\n",
              "      <th>max</th>\n",
              "      <td>5.010000</td>\n",
              "      <td>79.000000</td>\n",
              "      <td>95.000000</td>\n",
              "      <td>18823.000000</td>\n",
              "      <td>10.740000</td>\n",
              "      <td>58.900000</td>\n",
              "      <td>31.800000</td>\n",
              "    </tr>\n",
              "  </tbody>\n",
              "</table>\n",
              "</div>\n",
              "      <button class=\"colab-df-convert\" onclick=\"convertToInteractive('df-cc40dbcd-028c-4054-852e-23090f50d8f5')\"\n",
              "              title=\"Convert this dataframe to an interactive table.\"\n",
              "              style=\"display:none;\">\n",
              "        \n",
              "  <svg xmlns=\"http://www.w3.org/2000/svg\" height=\"24px\"viewBox=\"0 0 24 24\"\n",
              "       width=\"24px\">\n",
              "    <path d=\"M0 0h24v24H0V0z\" fill=\"none\"/>\n",
              "    <path d=\"M18.56 5.44l.94 2.06.94-2.06 2.06-.94-2.06-.94-.94-2.06-.94 2.06-2.06.94zm-11 1L8.5 8.5l.94-2.06 2.06-.94-2.06-.94L8.5 2.5l-.94 2.06-2.06.94zm10 10l.94 2.06.94-2.06 2.06-.94-2.06-.94-.94-2.06-.94 2.06-2.06.94z\"/><path d=\"M17.41 7.96l-1.37-1.37c-.4-.4-.92-.59-1.43-.59-.52 0-1.04.2-1.43.59L10.3 9.45l-7.72 7.72c-.78.78-.78 2.05 0 2.83L4 21.41c.39.39.9.59 1.41.59.51 0 1.02-.2 1.41-.59l7.78-7.78 2.81-2.81c.8-.78.8-2.07 0-2.86zM5.41 20L4 18.59l7.72-7.72 1.47 1.35L5.41 20z\"/>\n",
              "  </svg>\n",
              "      </button>\n",
              "      \n",
              "  <style>\n",
              "    .colab-df-container {\n",
              "      display:flex;\n",
              "      flex-wrap:wrap;\n",
              "      gap: 12px;\n",
              "    }\n",
              "\n",
              "    .colab-df-convert {\n",
              "      background-color: #E8F0FE;\n",
              "      border: none;\n",
              "      border-radius: 50%;\n",
              "      cursor: pointer;\n",
              "      display: none;\n",
              "      fill: #1967D2;\n",
              "      height: 32px;\n",
              "      padding: 0 0 0 0;\n",
              "      width: 32px;\n",
              "    }\n",
              "\n",
              "    .colab-df-convert:hover {\n",
              "      background-color: #E2EBFA;\n",
              "      box-shadow: 0px 1px 2px rgba(60, 64, 67, 0.3), 0px 1px 3px 1px rgba(60, 64, 67, 0.15);\n",
              "      fill: #174EA6;\n",
              "    }\n",
              "\n",
              "    [theme=dark] .colab-df-convert {\n",
              "      background-color: #3B4455;\n",
              "      fill: #D2E3FC;\n",
              "    }\n",
              "\n",
              "    [theme=dark] .colab-df-convert:hover {\n",
              "      background-color: #434B5C;\n",
              "      box-shadow: 0px 1px 3px 1px rgba(0, 0, 0, 0.15);\n",
              "      filter: drop-shadow(0px 1px 2px rgba(0, 0, 0, 0.3));\n",
              "      fill: #FFFFFF;\n",
              "    }\n",
              "  </style>\n",
              "\n",
              "      <script>\n",
              "        const buttonEl =\n",
              "          document.querySelector('#df-cc40dbcd-028c-4054-852e-23090f50d8f5 button.colab-df-convert');\n",
              "        buttonEl.style.display =\n",
              "          google.colab.kernel.accessAllowed ? 'block' : 'none';\n",
              "\n",
              "        async function convertToInteractive(key) {\n",
              "          const element = document.querySelector('#df-cc40dbcd-028c-4054-852e-23090f50d8f5');\n",
              "          const dataTable =\n",
              "            await google.colab.kernel.invokeFunction('convertToInteractive',\n",
              "                                                     [key], {});\n",
              "          if (!dataTable) return;\n",
              "\n",
              "          const docLinkHtml = 'Like what you see? Visit the ' +\n",
              "            '<a target=\"_blank\" href=https://colab.research.google.com/notebooks/data_table.ipynb>data table notebook</a>'\n",
              "            + ' to learn more about interactive tables.';\n",
              "          element.innerHTML = '';\n",
              "          dataTable['output_type'] = 'display_data';\n",
              "          await google.colab.output.renderOutput(dataTable, element);\n",
              "          const docLink = document.createElement('div');\n",
              "          docLink.innerHTML = docLinkHtml;\n",
              "          element.appendChild(docLink);\n",
              "        }\n",
              "      </script>\n",
              "    </div>\n",
              "  </div>\n",
              "  "
            ],
            "text/plain": [
              "              carat         depth         table         price             x  \\\n",
              "count  53940.000000  53940.000000  53940.000000  53940.000000  53940.000000   \n",
              "mean       0.797940     61.749405     57.457184   3932.799722      5.731157   \n",
              "std        0.474011      1.432621      2.234491   3989.439738      1.121761   \n",
              "min        0.200000     43.000000     43.000000    326.000000      0.000000   \n",
              "25%        0.400000     61.000000     56.000000    950.000000      4.710000   \n",
              "50%        0.700000     61.800000     57.000000   2401.000000      5.700000   \n",
              "75%        1.040000     62.500000     59.000000   5324.250000      6.540000   \n",
              "max        5.010000     79.000000     95.000000  18823.000000     10.740000   \n",
              "\n",
              "                  y             z  \n",
              "count  53940.000000  53940.000000  \n",
              "mean       5.734526      3.538734  \n",
              "std        1.142135      0.705699  \n",
              "min        0.000000      0.000000  \n",
              "25%        4.720000      2.910000  \n",
              "50%        5.710000      3.530000  \n",
              "75%        6.540000      4.040000  \n",
              "max       58.900000     31.800000  "
            ]
          },
          "execution_count": 7,
          "metadata": {},
          "output_type": "execute_result"
        }
      ],
      "source": [
        "diamonds.describe() # Resumen estadístico de las variables numéricas, note que a partir de x,y y z se calcula el porcentaje depth"
      ]
    },
    {
      "cell_type": "code",
      "execution_count": null,
      "metadata": {
        "colab": {
          "base_uri": "https://localhost:8080/",
          "height": 369
        },
        "id": "aZTXPNMZ214Q",
        "outputId": "b5b6c5a4-69a4-4ec1-c957-2f1bc6a1eb8f"
      },
      "outputs": [
        {
          "data": {
            "image/png": "[encoded data removed]",
            "text/plain": [
              "<Figure size 720x360 with 2 Axes>"
            ]
          },
          "metadata": {
            "needs_background": "light"
          },
          "output_type": "display_data"
        }
      ],
      "source": [
        "#Distribución por calidad de talla\n",
        "fig, ax = plt.subplots(1,2, figsize = (10,5))\n",
        "\n",
        "diamonds['cut'].value_counts().plot(kind = 'bar', ax = ax[0])\n",
        "ax[0].set_xlabel('Calidad de la talla')\n",
        "ax[0].set_ylabel('Frecuencia')\n",
        "\n",
        "sns.boxplot(data = diamonds, x = 'cut', y = 'price', ax = ax[1])\n",
        "ax[1].set_xlabel('Calidad de la talla')\n",
        "ax[1].set_ylabel('Precio')\n",
        "\n",
        "plt.tight_layout()"
      ]
    },
    {
      "cell_type": "code",
      "execution_count": null,
      "metadata": {
        "colab": {
          "base_uri": "https://localhost:8080/",
          "height": 369
        },
        "id": "I2-LXFf0yv5T",
        "outputId": "bf2dba7d-13cb-4860-bccb-c216a60ada0e"
      },
      "outputs": [
        {
          "data": {
            "image/png": "[encoded data removed]",
            "text/plain": [
              "<Figure size 720x360 with 2 Axes>"
            ]
          },
          "metadata": {
            "needs_background": "light"
          },
          "output_type": "display_data"
        }
      ],
      "source": [
        "#Distribución por claridad\n",
        "\n",
        "fig, ax = plt.subplots(1,2, figsize = (10,5), sharex = True)\n",
        "\n",
        "diamonds['clarity'].value_counts().plot(kind = 'bar', ax = ax[0])\n",
        "ax[0].set_xlabel('Escala de claridad')\n",
        "ax[0].set_ylabel('Frecuencia')\n",
        "\n",
        "sns.boxplot(data = diamonds, x = 'clarity', y = 'price', ax = ax[1])\n",
        "ax[1].set_xlabel('Escala de claridad')\n",
        "ax[1].set_ylabel('Precio')\n",
        "plt.tight_layout()"
      ]
    },
    {
      "cell_type": "code",
      "execution_count": null,
      "metadata": {
        "colab": {
          "base_uri": "https://localhost:8080/",
          "height": 369
        },
        "id": "ByaAgS_sNJnP",
        "outputId": "cb815405-e894-417c-ce29-7a0b18f7330c"
      },
      "outputs": [
        {
          "data": {
            "image/png": "[encoded data removed]",
            "text/plain": [
              "<Figure size 720x360 with 2 Axes>"
            ]
          },
          "metadata": {
            "needs_background": "light"
          },
          "output_type": "display_data"
        }
      ],
      "source": [
        "#Distribución por color\n",
        "\n",
        "fig, ax = plt.subplots(1,2, figsize = (10,5), sharex = True)\n",
        "\n",
        "diamonds['color'].value_counts().plot(kind = 'bar', ax = ax[0])\n",
        "ax[0].set_xlabel('Escala de color')\n",
        "ax[0].set_ylabel('Frecuencia')\n",
        "\n",
        "sns.boxplot(data = diamonds, x = 'color', y = 'price', ax = ax[1])\n",
        "ax[1].set_xlabel('Escala de color')\n",
        "ax[1].set_ylabel('Precio')\n",
        "plt.tight_layout()"
      ]
    },
    {
      "cell_type": "code",
      "execution_count": null,
      "metadata": {
        "colab": {
          "base_uri": "https://localhost:8080/",
          "height": 369
        },
        "id": "aY-gWRUQo15R",
        "outputId": "87707b0a-dceb-466b-d982-4e675bfdb6a9"
      },
      "outputs": [
        {
          "data": {
            "image/png": "[encoded data removed]",
            "text/plain": [
              "<Figure size 720x360 with 2 Axes>"
            ]
          },
          "metadata": {
            "needs_background": "light"
          },
          "output_type": "display_data"
        }
      ],
      "source": [
        "fig, ax = plt.subplots(1,2, figsize = (10,5))\n",
        "\n",
        "sns.boxplot(data = diamonds, x = 'clarity', y = 'carat', ax = ax[0])\n",
        "ax[0].set_xlabel('Escala de claridad')\n",
        "ax[0].set_ylabel('Peso en quilates')\n",
        "plt.tight_layout()\n",
        "\n",
        "sns.boxplot(data = diamonds, x = 'color', y = 'carat', ax = ax[1])\n",
        "ax[1].set_xlabel('Escala de color')\n",
        "ax[1].set_ylabel('Peso en quilates')\n",
        "plt.tight_layout()"
      ]
    },
    {
      "cell_type": "code",
      "execution_count": null,
      "metadata": {
        "colab": {
          "base_uri": "https://localhost:8080/",
          "height": 458
        },
        "id": "hxhB0qRWpOjv",
        "outputId": "bde8a8f4-9abd-4dbc-9334-3e6c878e1dd6"
      },
      "outputs": [
        {
          "data": {
            "text/plain": [
              "<seaborn.axisgrid.JointGrid at 0x7fdd442c49d0>"
            ]
          },
          "execution_count": 30,
          "metadata": {},
          "output_type": "execute_result"
        },
        {
          "data": {
            "image/png": "[encoded data removed]",
            "text/plain": [
              "<Figure size 432x432 with 3 Axes>"
            ]
          },
          "metadata": {
            "needs_background": "light"
          },
          "output_type": "display_data"
        }
      ],
      "source": [
        "## \n",
        "\n",
        "sns.jointplot(data = diamonds, x = 'carat', y = 'price', kind = 'hex', color = 'red')"
      ]
    },
    {
      "cell_type": "markdown",
      "metadata": {
        "id": "tzjK_4crYYo3"
      },
      "source": [
        "## **4. Transformación de variables**"
      ]
    },
    {
      "cell_type": "markdown",
      "metadata": {
        "id": "r7Q2nb3qYfJX"
      },
      "source": [
        "Para el caso del dataset diamonds se deben transformar las variables categóricas a variables dummy. Recuerde que hay 3 variables categóricas en el dataset, color, clarity and cut."
      ]
    },
    {
      "cell_type": "code",
      "execution_count": null,
      "metadata": {
        "colab": {
          "base_uri": "https://localhost:8080/",
          "height": 317
        },
        "id": "ZQRbDwprYrC8",
        "outputId": "7eb2f1ac-c8f6-4a4f-b98f-fedee19142a2"
      },
      "outputs": [
        {
          "data": {
            "text/html": [
              "\n",
              "  <div id=\"df-1f60dd0d-dd97-454f-aabf-3a7ba85a0f4b\">\n",
              "    <div class=\"colab-df-container\">\n",
              "      <div>\n",
              "<style scoped>\n",
              "    .dataframe tbody tr th:only-of-type {\n",
              "        vertical-align: middle;\n",
              "    }\n",
              "\n",
              "    .dataframe tbody tr th {\n",
              "        vertical-align: top;\n",
              "    }\n",
              "\n",
              "    .dataframe thead th {\n",
              "        text-align: right;\n",
              "    }\n",
              "</style>\n",
              "<table border=\"1\" class=\"dataframe\">\n",
              "  <thead>\n",
              "    <tr style=\"text-align: right;\">\n",
              "      <th></th>\n",
              "      <th>carat</th>\n",
              "      <th>depth</th>\n",
              "      <th>table</th>\n",
              "      <th>price</th>\n",
              "      <th>cut_Ideal</th>\n",
              "      <th>cut_Premium</th>\n",
              "      <th>cut_Very Good</th>\n",
              "      <th>cut_Good</th>\n",
              "      <th>cut_Fair</th>\n",
              "      <th>color_D</th>\n",
              "      <th>...</th>\n",
              "      <th>color_I</th>\n",
              "      <th>color_J</th>\n",
              "      <th>clarity_IF</th>\n",
              "      <th>clarity_VVS1</th>\n",
              "      <th>clarity_VVS2</th>\n",
              "      <th>clarity_VS1</th>\n",
              "      <th>clarity_VS2</th>\n",
              "      <th>clarity_SI1</th>\n",
              "      <th>clarity_SI2</th>\n",
              "      <th>clarity_I1</th>\n",
              "    </tr>\n",
              "  </thead>\n",
              "  <tbody>\n",
              "    <tr>\n",
              "      <th>0</th>\n",
              "      <td>0.23</td>\n",
              "      <td>61.5</td>\n",
              "      <td>55.0</td>\n",
              "      <td>326</td>\n",
              "      <td>1</td>\n",
              "      <td>0</td>\n",
              "      <td>0</td>\n",
              "      <td>0</td>\n",
              "      <td>0</td>\n",
              "      <td>0</td>\n",
              "      <td>...</td>\n",
              "      <td>0</td>\n",
              "      <td>0</td>\n",
              "      <td>0</td>\n",
              "      <td>0</td>\n",
              "      <td>0</td>\n",
              "      <td>0</td>\n",
              "      <td>0</td>\n",
              "      <td>0</td>\n",
              "      <td>1</td>\n",
              "      <td>0</td>\n",
              "    </tr>\n",
              "    <tr>\n",
              "      <th>1</th>\n",
              "      <td>0.21</td>\n",
              "      <td>59.8</td>\n",
              "      <td>61.0</td>\n",
              "      <td>326</td>\n",
              "      <td>0</td>\n",
              "      <td>1</td>\n",
              "      <td>0</td>\n",
              "      <td>0</td>\n",
              "      <td>0</td>\n",
              "      <td>0</td>\n",
              "      <td>...</td>\n",
              "      <td>0</td>\n",
              "      <td>0</td>\n",
              "      <td>0</td>\n",
              "      <td>0</td>\n",
              "      <td>0</td>\n",
              "      <td>0</td>\n",
              "      <td>0</td>\n",
              "      <td>1</td>\n",
              "      <td>0</td>\n",
              "      <td>0</td>\n",
              "    </tr>\n",
              "    <tr>\n",
              "      <th>2</th>\n",
              "      <td>0.23</td>\n",
              "      <td>56.9</td>\n",
              "      <td>65.0</td>\n",
              "      <td>327</td>\n",
              "      <td>0</td>\n",
              "      <td>0</td>\n",
              "      <td>0</td>\n",
              "      <td>1</td>\n",
              "      <td>0</td>\n",
              "      <td>0</td>\n",
              "      <td>...</td>\n",
              "      <td>0</td>\n",
              "      <td>0</td>\n",
              "      <td>0</td>\n",
              "      <td>0</td>\n",
              "      <td>0</td>\n",
              "      <td>1</td>\n",
              "      <td>0</td>\n",
              "      <td>0</td>\n",
              "      <td>0</td>\n",
              "      <td>0</td>\n",
              "    </tr>\n",
              "    <tr>\n",
              "      <th>3</th>\n",
              "      <td>0.29</td>\n",
              "      <td>62.4</td>\n",
              "      <td>58.0</td>\n",
              "      <td>334</td>\n",
              "      <td>0</td>\n",
              "      <td>1</td>\n",
              "      <td>0</td>\n",
              "      <td>0</td>\n",
              "      <td>0</td>\n",
              "      <td>0</td>\n",
              "      <td>...</td>\n",
              "      <td>1</td>\n",
              "      <td>0</td>\n",
              "      <td>0</td>\n",
              "      <td>0</td>\n",
              "      <td>0</td>\n",
              "      <td>0</td>\n",
              "      <td>1</td>\n",
              "      <td>0</td>\n",
              "      <td>0</td>\n",
              "      <td>0</td>\n",
              "    </tr>\n",
              "    <tr>\n",
              "      <th>4</th>\n",
              "      <td>0.31</td>\n",
              "      <td>63.3</td>\n",
              "      <td>58.0</td>\n",
              "      <td>335</td>\n",
              "      <td>0</td>\n",
              "      <td>0</td>\n",
              "      <td>0</td>\n",
              "      <td>1</td>\n",
              "      <td>0</td>\n",
              "      <td>0</td>\n",
              "      <td>...</td>\n",
              "      <td>0</td>\n",
              "      <td>1</td>\n",
              "      <td>0</td>\n",
              "      <td>0</td>\n",
              "      <td>0</td>\n",
              "      <td>0</td>\n",
              "      <td>0</td>\n",
              "      <td>0</td>\n",
              "      <td>1</td>\n",
              "      <td>0</td>\n",
              "    </tr>\n",
              "  </tbody>\n",
              "</table>\n",
              "<p>5 rows × 24 columns</p>\n",
              "</div>\n",
              "      <button class=\"colab-df-convert\" onclick=\"convertToInteractive('df-1f60dd0d-dd97-454f-aabf-3a7ba85a0f4b')\"\n",
              "              title=\"Convert this dataframe to an interactive table.\"\n",
              "              style=\"display:none;\">\n",
              "        \n",
              "  <svg xmlns=\"http://www.w3.org/2000/svg\" height=\"24px\"viewBox=\"0 0 24 24\"\n",
              "       width=\"24px\">\n",
              "    <path d=\"M0 0h24v24H0V0z\" fill=\"none\"/>\n",
              "    <path d=\"M18.56 5.44l.94 2.06.94-2.06 2.06-.94-2.06-.94-.94-2.06-.94 2.06-2.06.94zm-11 1L8.5 8.5l.94-2.06 2.06-.94-2.06-.94L8.5 2.5l-.94 2.06-2.06.94zm10 10l.94 2.06.94-2.06 2.06-.94-2.06-.94-.94-2.06-.94 2.06-2.06.94z\"/><path d=\"M17.41 7.96l-1.37-1.37c-.4-.4-.92-.59-1.43-.59-.52 0-1.04.2-1.43.59L10.3 9.45l-7.72 7.72c-.78.78-.78 2.05 0 2.83L4 21.41c.39.39.9.59 1.41.59.51 0 1.02-.2 1.41-.59l7.78-7.78 2.81-2.81c.8-.78.8-2.07 0-2.86zM5.41 20L4 18.59l7.72-7.72 1.47 1.35L5.41 20z\"/>\n",
              "  </svg>\n",
              "      </button>\n",
              "      \n",
              "  <style>\n",
              "    .colab-df-container {\n",
              "      display:flex;\n",
              "      flex-wrap:wrap;\n",
              "      gap: 12px;\n",
              "    }\n",
              "\n",
              "    .colab-df-convert {\n",
              "      background-color: #E8F0FE;\n",
              "      border: none;\n",
              "      border-radius: 50%;\n",
              "      cursor: pointer;\n",
              "      display: none;\n",
              "      fill: #1967D2;\n",
              "      height: 32px;\n",
              "      padding: 0 0 0 0;\n",
              "      width: 32px;\n",
              "    }\n",
              "\n",
              "    .colab-df-convert:hover {\n",
              "      background-color: #E2EBFA;\n",
              "      box-shadow: 0px 1px 2px rgba(60, 64, 67, 0.3), 0px 1px 3px 1px rgba(60, 64, 67, 0.15);\n",
              "      fill: #174EA6;\n",
              "    }\n",
              "\n",
              "    [theme=dark] .colab-df-convert {\n",
              "      background-color: #3B4455;\n",
              "      fill: #D2E3FC;\n",
              "    }\n",
              "\n",
              "    [theme=dark] .colab-df-convert:hover {\n",
              "      background-color: #434B5C;\n",
              "      box-shadow: 0px 1px 3px 1px rgba(0, 0, 0, 0.15);\n",
              "      filter: drop-shadow(0px 1px 2px rgba(0, 0, 0, 0.3));\n",
              "      fill: #FFFFFF;\n",
              "    }\n",
              "  </style>\n",
              "\n",
              "      <script>\n",
              "        const buttonEl =\n",
              "          document.querySelector('#df-1f60dd0d-dd97-454f-aabf-3a7ba85a0f4b button.colab-df-convert');\n",
              "        buttonEl.style.display =\n",
              "          google.colab.kernel.accessAllowed ? 'block' : 'none';\n",
              "\n",
              "        async function convertToInteractive(key) {\n",
              "          const element = document.querySelector('#df-1f60dd0d-dd97-454f-aabf-3a7ba85a0f4b');\n",
              "          const dataTable =\n",
              "            await google.colab.kernel.invokeFunction('convertToInteractive',\n",
              "                                                     [key], {});\n",
              "          if (!dataTable) return;\n",
              "\n",
              "          const docLinkHtml = 'Like what you see? Visit the ' +\n",
              "            '<a target=\"_blank\" href=https://colab.research.google.com/notebooks/data_table.ipynb>data table notebook</a>'\n",
              "            + ' to learn more about interactive tables.';\n",
              "          element.innerHTML = '';\n",
              "          dataTable['output_type'] = 'display_data';\n",
              "          await google.colab.output.renderOutput(dataTable, element);\n",
              "          const docLink = document.createElement('div');\n",
              "          docLink.innerHTML = docLinkHtml;\n",
              "          element.appendChild(docLink);\n",
              "        }\n",
              "      </script>\n",
              "    </div>\n",
              "  </div>\n",
              "  "
            ],
            "text/plain": [
              "   carat  depth  table  price  cut_Ideal  cut_Premium  cut_Very Good  \\\n",
              "0   0.23   61.5   55.0    326          1            0              0   \n",
              "1   0.21   59.8   61.0    326          0            1              0   \n",
              "2   0.23   56.9   65.0    327          0            0              0   \n",
              "3   0.29   62.4   58.0    334          0            1              0   \n",
              "4   0.31   63.3   58.0    335          0            0              0   \n",
              "\n",
              "   cut_Good  cut_Fair  color_D  ...  color_I  color_J  clarity_IF  \\\n",
              "0         0         0        0  ...        0        0           0   \n",
              "1         0         0        0  ...        0        0           0   \n",
              "2         1         0        0  ...        0        0           0   \n",
              "3         0         0        0  ...        1        0           0   \n",
              "4         1         0        0  ...        0        1           0   \n",
              "\n",
              "   clarity_VVS1  clarity_VVS2  clarity_VS1  clarity_VS2  clarity_SI1  \\\n",
              "0             0             0            0            0            0   \n",
              "1             0             0            0            0            1   \n",
              "2             0             0            1            0            0   \n",
              "3             0             0            0            1            0   \n",
              "4             0             0            0            0            0   \n",
              "\n",
              "   clarity_SI2  clarity_I1  \n",
              "0            1           0  \n",
              "1            0           0  \n",
              "2            0           0  \n",
              "3            0           0  \n",
              "4            1           0  \n",
              "\n",
              "[5 rows x 24 columns]"
            ]
          },
          "execution_count": 33,
          "metadata": {},
          "output_type": "execute_result"
        }
      ],
      "source": [
        "# Filtramos el dataset diamonds y quitamos las variables x, y z\n",
        "# Se convierten en dummies las variables categóricas\n",
        "# Cut (5) + color (7) + clarity(8) + Numéricas(4) = 24 variables\n",
        "\n",
        "diamonds_transf = pd.get_dummies(diamonds.iloc[:,0:7])\n",
        "diamonds_transf.head()\n",
        "# diamonds_transf.shape"
      ]
    },
    {
      "cell_type": "code",
      "execution_count": null,
      "metadata": {
        "colab": {
          "base_uri": "https://localhost:8080/"
        },
        "id": "aHL4_lTeYNUa",
        "outputId": "76e21416-12a5-4d6b-d5be-99eb10c6bfff"
      },
      "outputs": [
        {
          "name": "stdout",
          "output_type": "stream",
          "text": [
            "<class 'pandas.core.frame.DataFrame'>\n",
            "RangeIndex: 53940 entries, 0 to 53939\n",
            "Data columns (total 24 columns):\n",
            " #   Column         Non-Null Count  Dtype  \n",
            "---  ------         --------------  -----  \n",
            " 0   carat          53940 non-null  float64\n",
            " 1   depth          53940 non-null  float64\n",
            " 2   table          53940 non-null  float64\n",
            " 3   price          53940 non-null  int64  \n",
            " 4   cut_Ideal      53940 non-null  uint8  \n",
            " 5   cut_Premium    53940 non-null  uint8  \n",
            " 6   cut_Very Good  53940 non-null  uint8  \n",
            " 7   cut_Good       53940 non-null  uint8  \n",
            " 8   cut_Fair       53940 non-null  uint8  \n",
            " 9   color_D        53940 non-null  uint8  \n",
            " 10  color_E        53940 non-null  uint8  \n",
            " 11  color_F        53940 non-null  uint8  \n",
            " 12  color_G        53940 non-null  uint8  \n",
            " 13  color_H        53940 non-null  uint8  \n",
            " 14  color_I        53940 non-null  uint8  \n",
            " 15  color_J        53940 non-null  uint8  \n",
            " 16  clarity_IF     53940 non-null  uint8  \n",
            " 17  clarity_VVS1   53940 non-null  uint8  \n",
            " 18  clarity_VVS2   53940 non-null  uint8  \n",
            " 19  clarity_VS1    53940 non-null  uint8  \n",
            " 20  clarity_VS2    53940 non-null  uint8  \n",
            " 21  clarity_SI1    53940 non-null  uint8  \n",
            " 22  clarity_SI2    53940 non-null  uint8  \n",
            " 23  clarity_I1     53940 non-null  uint8  \n",
            "dtypes: float64(3), int64(1), uint8(20)\n",
            "memory usage: 2.7 MB\n"
          ]
        }
      ],
      "source": [
        "diamonds_transf.info()"
      ]
    },
    {
      "cell_type": "markdown",
      "metadata": {
        "id": "Ktioa7MEWoUL"
      },
      "source": [
        "## **5. Partición del dataset en entrenamiento y prueba**"
      ]
    },
    {
      "cell_type": "markdown",
      "metadata": {
        "id": "XLMmfrJrWcUG"
      },
      "source": [
        "\n",
        "Para el dataset diamond\n",
        "\n",
        "| Variable | Uso |\n",
        "| ----------- | ----------- |\n",
        "| carat | Predictora |\n",
        "| cut | Predictora|\n",
        "| color |Predictora |\n",
        "| clarity | Predictora  |\n",
        "| depth| Predictora |\n",
        "|table|Predictora|\n",
        "|price|Objetivo|"
      ]
    },
    {
      "cell_type": "code",
      "execution_count": null,
      "metadata": {
        "colab": {
          "base_uri": "https://localhost:8080/"
        },
        "id": "jqHOo1dFYR3v",
        "outputId": "a66ab55a-637f-4148-fd55-aad3cb819214"
      },
      "outputs": [
        {
          "name": "stdout",
          "output_type": "stream",
          "text": [
            "Dimensiones de X: (53940, 23)\n",
            "Dimensiones de y: (53940,)\n"
          ]
        }
      ],
      "source": [
        "# Se divide entre variables predictoras y objetivo\n",
        "# Quitamos la variable precio para obtener el conjunto de variables predictoras\n",
        "\n",
        "X = diamonds_transf.drop('price', axis = 1)\n",
        "\n",
        "y = diamonds_transf['price']\n",
        "\n",
        "print('Dimensiones de X: {}'.format(X.shape))\n",
        "print('Dimensiones de y: {}'.format(y.shape))"
      ]
    },
    {
      "cell_type": "code",
      "execution_count": null,
      "metadata": {
        "id": "OeXqFN46adyJ"
      },
      "outputs": [],
      "source": [
        "from sklearn.model_selection import train_test_split\n",
        "\n",
        "X_train, X_test, y_train, y_test = train_test_split(\n",
        "    X,y, #primero pasamos los datos\n",
        "    test_size = 0.3, # Determinamos la porción de los datos que se usará para probar el modelo, en este caso 30% \n",
        "    random_state = 4  # Semilla aleatoria que sirve para reproducibilidad\n",
        ")"
      ]
    },
    {
      "cell_type": "code",
      "execution_count": null,
      "metadata": {
        "colab": {
          "base_uri": "https://localhost:8080/"
        },
        "id": "Puw35eGEa42J",
        "outputId": "2447ce8a-2bc9-44fd-dd9d-e5b08c91ae91"
      },
      "outputs": [
        {
          "name": "stdout",
          "output_type": "stream",
          "text": [
            "Dimensiones de X de entrenamiento: (37758, 23)\n",
            "Dimensiones de y de entrenamiento: (37758,)\n",
            "\n",
            "Dimensiones de X de prueba: (16182, 23)\n",
            "Dimensiones de y de prueba: (16182,)\n"
          ]
        }
      ],
      "source": [
        "print('Dimensiones de X de entrenamiento: {}'.format(X_train.shape))\n",
        "print('Dimensiones de y de entrenamiento: {}\\n'.format(y_train.shape))\n",
        "\n",
        "print('Dimensiones de X de prueba: {}'.format(X_test.shape))\n",
        "print('Dimensiones de y de prueba: {}'.format(y_test.shape))"
      ]
    },
    {
      "cell_type": "markdown",
      "metadata": {
        "id": "OSdjMQOpa6-U"
      },
      "source": [
        "## **6. Modelamiento**"
      ]
    },
    {
      "cell_type": "markdown",
      "metadata": {
        "id": "VRMwJpuEbA6Z"
      },
      "source": [
        "Haremos la regresión utilizando el algoritmo Random Forest discutido en clase."
      ]
    },
    {
      "cell_type": "code",
      "execution_count": null,
      "metadata": {
        "colab": {
          "base_uri": "https://localhost:8080/"
        },
        "id": "P7_ImAPqNO5g",
        "outputId": "15eeacc9-075b-46b9-e683-1ae737d20193"
      },
      "outputs": [
        {
          "data": {
            "text/plain": [
              "RandomForestRegressor(max_depth=5, max_features='sqrt', max_samples=13000,\n",
              "                      oob_score=True, random_state=0)"
            ]
          },
          "execution_count": 48,
          "metadata": {},
          "output_type": "execute_result"
        }
      ],
      "source": [
        "from sklearn.ensemble import RandomForestRegressor # Importar el algoritmo de regresión\n",
        "\n",
        "# Crear un objeto que va guardar la información del modelo\n",
        "forest = RandomForestRegressor(n_estimators=100, #número de arboles dentro del bosque\n",
        "                              max_depth=5, #aplicar pre-poda para los árboles del bosque\n",
        "                              criterion = \"squared_error\", #selección de la función que mide la calidad de la división en cada rama\n",
        "                              random_state= 0, #Controla tanto la aleatoriedad del bootstrapping de las muestras utilizadas al construir árboles (si bootstrap=True) como el muestreo de las características a considerar cuando se busca la mejor división en cada nodo\n",
        "                              bootstrap=True, #selección aleatoria de las muestras para construir cada arbol\n",
        "                              max_samples= 13000, #número máximo de muestras escogidas para cada árbol\n",
        "                              max_features='sqrt', #número de variables que se escoge en cada paso de la construcción del árbol de decisión, sqrt usa la raiz cuadrada del numero de caracteristicas n_features\n",
        "                              oob_score=True #usar o no out of bag samples para evaluar el modelo, Bagging\n",
        "                               )\n",
        "# error oob - out of bag\n",
        "\n",
        "# Ajustar el modelo con los datos de entrenamiento - aprendizaje\n",
        "forest.fit(X_train,y_train)"
      ]
    },
    {
      "cell_type": "markdown",
      "metadata": {
        "id": "Qq0NCs2gepit"
      },
      "source": [
        "## **7. Evaluación del desempeño del modelo**"
      ]
    },
    {
      "cell_type": "code",
      "execution_count": null,
      "metadata": {
        "id": "3R-YhDK9dqNU"
      },
      "outputs": [],
      "source": [
        "# Realizamos predicciones usando el modelo forest que hemos entrenado tanto para l partición de entrenamiento como par ala de prueba\n",
        "\n",
        "y_predict_test = forest.predict(X_test)\n",
        "y_predict_train = forest.predict(X_train)"
      ]
    },
    {
      "cell_type": "markdown",
      "metadata": {
        "id": "8xrCcUh-zIbo"
      },
      "source": [
        "### **Error cuadrático medio**"
      ]
    },
    {
      "cell_type": "markdown",
      "metadata": {
        "id": "8-fTwhd1zBwM"
      },
      "source": [
        "Conocido por sus siglas en inglés MSE (Mean Squared Error). Es un estimador que mide el promedio de los errores al cuadrado, es decir, la diferencia entre el valor predicho y el real.\n",
        "\n",
        "$$\\text{MSE}(y, \\hat{y}) = \\frac{1}{n_\\text{samples}} \\sum_{i=0}^{n_\\text{samples} - 1} (y_i - \\hat{y}_i)^2$$\n",
        "\n",
        "Donde $y_i$ es el valor real para la i-ésima observación. $\\hat{y}_i$ es el valor predicho por el módelo para i-ésima observación.\n",
        "\n",
        "A menudo se emplea la Raíz del Error Cuadrático Medio (RMSE) para dar interpretación concorde a las unidades de trabajo.\n",
        "\n",
        "$$ \\text{RMSE}(y, \\hat{y}) = \\sqrt{\\text{MSE}}$$"
      ]
    },
    {
      "cell_type": "code",
      "execution_count": null,
      "metadata": {
        "colab": {
          "base_uri": "https://localhost:8080/"
        },
        "id": "4CjoGto2FSFF",
        "outputId": "1eafa544-41e8-48a1-fdf6-ad3a1bbbfadd"
      },
      "outputs": [
        {
          "name": "stdout",
          "output_type": "stream",
          "text": [
            "MSE en partición de prueba: 5568698.568713\n",
            "MSE en partición de entrenamiento: 5790224.095046\n",
            "\n",
            "RMSE en partición de prueba: 2359.809011\n",
            "RMSE en partición de entrenamiento: 2406.288448\n"
          ]
        }
      ],
      "source": [
        "from sklearn.metrics import mean_squared_error\n",
        "\n",
        "mse_test = mean_squared_error(y_test, y_predict_test)\n",
        "print('MSE en partición de prueba: {:3f}'.format(mse_test))\n",
        "\n",
        "\n",
        "mse_train = mean_squared_error(y_train, y_predict_train)\n",
        "print('MSE en partición de entrenamiento: {:3f}'.format(mse_train))\n",
        "\n",
        "\n",
        "print('\\nRMSE en partición de prueba: {:3f}'.format(np.sqrt(mse_test)))\n",
        "print('RMSE en partición de entrenamiento: {:3f}'.format(np.sqrt(mse_train)))"
      ]
    },
    {
      "cell_type": "markdown",
      "metadata": {
        "id": "prtWGHS00vwr"
      },
      "source": [
        "### **Error absoluto medio**"
      ]
    },
    {
      "cell_type": "markdown",
      "metadata": {
        "id": "50QsgjFh01A6"
      },
      "source": [
        "Conocido por sus siglas en inglés MAE (Mean Absolute Error). Es un estimador que mide el promedio de los errores absolutos.\n",
        "\n",
        "$$\\text{MAE}(y, \\hat{y}) = \\frac{1}{n_{\\text{samples}}} \\sum_{i=0}^{n_{\\text{samples}}-1} \\left| y_i - \\hat{y}_i \\right|$$\n",
        "\n",
        "Donde $y_i$ es el valor real para la i-ésima observación. $\\hat{y}_i$ es el valor predicho por el módelo para i-ésima observación."
      ]
    },
    {
      "cell_type": "code",
      "execution_count": null,
      "metadata": {
        "colab": {
          "base_uri": "https://localhost:8080/"
        },
        "id": "PVHOftwkb11V",
        "outputId": "c0904ba6-c3d9-423b-88c3-429c740ee6a6"
      },
      "outputs": [
        {
          "name": "stdout",
          "output_type": "stream",
          "text": [
            "Coeficiente de determinación en prueba: 1655.170840\n",
            "Coeficiente de determinación en entrenamiento: 1680.190168\n"
          ]
        }
      ],
      "source": [
        "from sklearn.metrics import mean_absolute_error\n",
        "\n",
        "mae_test = mean_absolute_error(y_test, y_predict_test)\n",
        "print('Coeficiente de determinación en prueba: {:3f}'.format(mae_test))\n",
        "\n",
        "\n",
        "mae_train = mean_absolute_error(y_train, y_predict_train)\n",
        "print('Coeficiente de determinación en entrenamiento: {:3f}'.format(mae_train))"
      ]
    },
    {
      "cell_type": "markdown",
      "metadata": {
        "id": "1TUbmvRay08r"
      },
      "source": [
        "### **Coeficiente de determinación $R^{2}$**"
      ]
    },
    {
      "cell_type": "markdown",
      "metadata": {
        "id": "IFgwxSh7ySRy"
      },
      "source": [
        "El coeficiente de determinación representa la proporción de la varianza de y que ha sido explicado por las variables independientes del modelo. Provee una indicación de que tan bueno fue el ajuste además de indicar que tan bueno será el desempeño de las predicciones con nuevos datos. El mejor valor posible es 1, en el peor de los casos un modelo constante que siempre predice el mismo valor sin imporar el valor de x tendría un score de 0.\n",
        "\n",
        "$$R^2(y, \\hat{y}) = 1 - \\frac{\\sum_{i=1}^{n} (y_i - \\hat{y}_i)^2}{\\sum_{i=1}^{n} (y_i - \\bar{y})^2}$$\n",
        "\n",
        "Donde $y_i$ es el valor real para la i-ésima observación. $\\hat{y}_i$ es el valor predicho por el módelo para i-ésima observación y $\\bar{y}$ es el promedio de los valores observados para y."
      ]
    },
    {
      "cell_type": "code",
      "execution_count": null,
      "metadata": {
        "colab": {
          "base_uri": "https://localhost:8080/"
        },
        "id": "UlFfid5wEHkK",
        "outputId": "463a691c-c010-447e-c1a2-3abc18f0b3e6"
      },
      "outputs": [
        {
          "name": "stdout",
          "output_type": "stream",
          "text": [
            "Coeficiente de determinación en prueba: 0.640885\n",
            "Coeficiente de determinación en entrenamiento: 0.640137\n"
          ]
        }
      ],
      "source": [
        "from sklearn.metrics import r2_score\n",
        "\n",
        "r2_test = r2_score(y_test, y_predict_test)\n",
        "print('Coeficiente de determinación en prueba: {:3f}'.format(r2_test))\n",
        "\n",
        "\n",
        "r2_train = r2_score(y_train, y_predict_train)\n",
        "print('Coeficiente de determinación en entrenamiento: {:3f}'.format(r2_train))"
      ]
    },
    {
      "cell_type": "markdown",
      "metadata": {
        "id": "Y1-5TDHnM9t5"
      },
      "source": [
        "Este primero modelo explica solamente el 64% de la varianza del precio. ¿Considera que el modelo entrenado es bueno, es óptimo?"
      ]
    },
    {
      "cell_type": "markdown",
      "metadata": {
        "id": "ilhNVYAJNNlX"
      },
      "source": [
        "A continuación se muestran algunos atributos importantes del objeto forest."
      ]
    },
    {
      "cell_type": "code",
      "execution_count": null,
      "metadata": {
        "colab": {
          "base_uri": "https://localhost:8080/"
        },
        "id": "R8zUWUIyheog",
        "outputId": "26b77a59-2a6d-4fd6-fc65-0b66d3353ee8"
      },
      "outputs": [
        {
          "name": "stdout",
          "output_type": "stream",
          "text": [
            "Importancia de características\n",
            "\n",
            "[8.31094186e-01 7.91778868e-03 4.15307059e-02 6.22091176e-03\n",
            " 8.50420286e-03 8.83454312e-04 1.04508332e-03 8.73886075e-04\n",
            " 6.27009114e-03 1.44896868e-02 1.25755774e-03 8.06626906e-04\n",
            " 3.85151540e-03 1.75701589e-02 9.66437669e-03 4.10630427e-03\n",
            " 1.06216934e-02 4.39937440e-03 4.91723387e-04 7.01590798e-04\n",
            " 1.38834711e-03 2.43690674e-02 1.94166667e-03]\n",
            "1.0\n"
          ]
        }
      ],
      "source": [
        "# Importancia de las caracteristicas usadas para crear el modelo\n",
        "importances = forest.feature_importances_\n",
        "\n",
        "print('Importancia de características\\n\\n{}'.format(importances))\n",
        "print(np.sum(importances))"
      ]
    },
    {
      "cell_type": "code",
      "execution_count": null,
      "metadata": {
        "colab": {
          "base_uri": "https://localhost:8080/",
          "height": 296
        },
        "id": "zjVESXEiPeBA",
        "outputId": "94a8f693-08f8-4224-d9ad-f654370097e5"
      },
      "outputs": [
        {
          "data": {
            "text/plain": [
              "Text(0, 0.5, 'Características')"
            ]
          },
          "execution_count": 66,
          "metadata": {},
          "output_type": "execute_result"
        },
        {
          "data": {
            "image/png": "[encoded data removed]",
            "text/plain": [
              "<Figure size 432x288 with 1 Axes>"
            ]
          },
          "metadata": {
            "needs_background": "light"
          },
          "output_type": "display_data"
        }
      ],
      "source": [
        "importancia_1 = pd.Series(data = importances, index = X.columns.values)\n",
        "importancia_1.sort_values(ascending = True).plot(kind = 'barh')\n",
        "plt.xlabel('Importancia')\n",
        "plt.ylabel('Características')"
      ]
    },
    {
      "cell_type": "markdown",
      "metadata": {
        "id": "LcexNzqeRiK2"
      },
      "source": [
        "## **8. Busqueda de hiperparámetros**"
      ]
    },
    {
      "cell_type": "markdown",
      "metadata": {
        "id": "7DJpEQenRw3h"
      },
      "source": [
        "Vamos a experimentar con la cantidad de arboles presentes en el bosque, se aconseja usar escala exponencial en base 10. Usaremos el ciclo for para que recorra la tupla con los valores que deseamos y se los daremos como hiperparámetro al algoritmo. **La ejecución de la siguiente celda dura una hora y 8 minutos.** En la parte inferior se muestran los resultados para que no tenga que esperar tanto."
      ]
    },
    {
      "cell_type": "code",
      "execution_count": null,
      "metadata": {
        "id": "f8uSPvv5QqYa"
      },
      "outputs": [],
      "source": [
        "# Se crea una lista vacia que va a almacenar las métricas durante el experimento\n",
        "mse = []\n",
        "\n",
        "for arboles in (10,100,1000,10000,100000):\n",
        "\n",
        "  # Se crea la variable que contiene la información del modelo y se escogen los hiperparámetros\n",
        "  forest = RandomForestRegressor(n_estimators = arboles, #número de arboles dentro del bosque\n",
        "                              max_depth=5, #aplicar pre-poda para los árboles del bosque\n",
        "                              random_state= 0, #Controla tanto la aleatoriedad del bootstrapping de las muestras utilizadas al construir árboles (si bootstrap=True) como el muestreo de las características a considerar cuando se busca la mejor división en cada nodo\n",
        "                              bootstrap=True) #selección aleatoria de las muestras para construir cada arbol\n",
        "  \n",
        "  # Se entrena el modelo con los datos de entrenamiento        \n",
        "  forest.fit(X_train,y_train)\n",
        "\n",
        "  # Se hace una predicción a partir del conjunto de prueba\n",
        "  y_pred = forest.predict(X_test)\n",
        "\n",
        "  # Se calcula el mse para esa configuración\n",
        "  a = mean_squared_error(y_test,y_pred)\n",
        "\n",
        "  # Se guarda el resultado del mse en una lista llamada mse\n",
        "  mse.append(a)  "
      ]
    },
    {
      "cell_type": "code",
      "execution_count": null,
      "metadata": {
        "id": "lOx1Y0OA_VmA"
      },
      "outputs": [],
      "source": [
        "mse = [1347231.1945840367,  1338729.1620982857,  1337555.547157138,  1336960.7780563114,  1336935.0106402775]\n",
        "numero_arboles = [10,100,1000,10000,100000]"
      ]
    },
    {
      "cell_type": "markdown",
      "metadata": {
        "id": "1997h5-xDVqR"
      },
      "source": [
        "Se puede observar que 10.000 es un buen número de árboles, hay una mejor importante respecto a 100 y muy poca perdida en comparación a 1000.000 donde el costo computacional es muy alto."
      ]
    },
    {
      "cell_type": "code",
      "execution_count": null,
      "metadata": {
        "colab": {
          "base_uri": "https://localhost:8080/",
          "height": 307
        },
        "id": "k2WLm_ViVIpZ",
        "outputId": "0e18571a-fe06-4c6a-af7f-911c6b1759f0"
      },
      "outputs": [
        {
          "data": {
            "image/png": "[encoded data removed]",
            "text/plain": [
              "<Figure size 400x300 with 1 Axes>"
            ]
          },
          "metadata": {
            "needs_background": "light"
          },
          "output_type": "display_data"
        }
      ],
      "source": [
        "fig = plt.figure(dpi = 100, figsize=(4,3))\n",
        "plt.plot(numero_arboles,mse, marker = 'o',linestyle = '--', color = 'b')\n",
        "\n",
        "plt.title('Error en función del número de arboles')\n",
        "plt.xlabel('Número de arboles')\n",
        "plt.ylabel('Error cuadrático medio')\n"
      ]
    },
    {
      "cell_type": "markdown",
      "metadata": {
        "id": "RZy9hfYDDt9x"
      },
      "source": [
        "Por último vamos a experimentar con la profundidad del bosque. Para asegurar que el entrenamiento sea más rápido vamos a quedarnos con 1000 arboles. Este experimento solo tarda 1 minuto y 45 segundos en ejecutarse."
      ]
    },
    {
      "cell_type": "code",
      "execution_count": null,
      "metadata": {
        "id": "kO7P5LcmDuZT"
      },
      "outputs": [],
      "source": [
        "# Se crea una lista vacia que va a almacenar las métricas durante el experimento\n",
        "mse_train = []\n",
        "mse_test = []\n",
        "r2_train = []\n",
        "r2_test = []\n",
        "\n",
        "for profundidad in (3,5,10,15,20,25):\n",
        "\n",
        "  # Se crea la variable que contiene la información del modelo y se escogen los hiperparámetros\n",
        "  forest = RandomForestRegressor(n_estimators = 1000, #número de arboles dentro del bosque\n",
        "                              max_depth = profundidad, #aplicar pre-poda para los árboles del bosque\n",
        "                              random_state= 0, #Controla tanto la aleatoriedad del bootstrapping de las muestras utilizadas al construir árboles (si bootstrap=True) como el muestreo de las características a considerar cuando se busca la mejor división en cada nodo\n",
        "                              max_samples= 13000, #número máximo de muestras escogidas para cada árbol\n",
        "                               criterion=\"squared_error\", #selección de la función que mide la calidad de la división en cada rama\n",
        "                              max_features='sqrt', #número de variables que se escoge en cada paso de la construcción del árbol de decisión, sqrt usa la raiz cuadrada del numero de caracteristicas n_features\n",
        "                              bootstrap=True) #selección aleatoria de las muestras para construir cada arbol\n",
        "\n",
        "                                \n",
        "  # Se entrena el modelo con los datos de entrenamiento        \n",
        "  forest.fit(X_train,y_train)\n",
        "\n",
        "  # Se hace una predicción a partir del conjunto de prueba\n",
        "  y_pred = forest.predict(X_test)\n",
        "  y_pred2 = forest.predict(X_train)\n",
        "\n",
        "  # Se calcula el mse y el r2 para esa configuración y se almacena\n",
        "  mse_test.append(mean_squared_error(y_test,y_pred)) \n",
        "  r2_test.append(r2_score(y_test,y_pred))\n",
        "\n",
        "  mse_train.append(mean_squared_error(y_train,y_pred2)) \n",
        "  r2_train.append(r2_score(y_train,y_pred2))"
      ]
    },
    {
      "cell_type": "markdown",
      "metadata": {
        "id": "0DCNAifpJycb"
      },
      "source": [
        "Se puede observar que la mejor profundidad se encuentra entre 10 y 15. Profundidades mayores a 15 implican un mayor costo computacional y la mejora en el desempeño es muy poca."
      ]
    },
    {
      "cell_type": "code",
      "execution_count": null,
      "metadata": {
        "cellView": "form",
        "colab": {
          "base_uri": "https://localhost:8080/",
          "height": 607
        },
        "id": "l2k2bIR3FbZi",
        "outputId": "c82dde7c-4efa-481b-9fbd-ed80aab8d5e8"
      },
      "outputs": [
        {
          "data": {
            "image/png": "[encoded data removed]",
            "text/plain": [
              "<Figure size 600x600 with 2 Axes>"
            ]
          },
          "metadata": {
            "needs_background": "light"
          },
          "output_type": "display_data"
        }
      ],
      "source": [
        "#@title Dé click solo para ver como fue creada la visualización\n",
        "profundidad = (3,5,10,15,20,25)\n",
        "\n",
        "# Definición del canva con 2 gráficas apiladas\n",
        "fig,axes = plt.subplots(2,1,dpi = 100, figsize=(6,6))\n",
        "\n",
        "# Gráfica superior\n",
        "axes[0].plot(profundidad,mse_test, marker = 'o',linestyle = '--', color = 'b')\n",
        "axes[0].plot(profundidad,mse_train, marker = 'o',linestyle = '-.', color = 'r')\n",
        "\n",
        "axes[0].set_title('Error en función de la profundidad del bosque')\n",
        "axes[0].set_xlabel('Profundidad del bosque')\n",
        "axes[0].set_ylabel('Error cuadrático medio')\n",
        "\n",
        "# Gráfica inferior\n",
        "axes[1].plot(profundidad,r2_test, marker = 'o',linestyle = '--', color = 'b')\n",
        "axes[1].plot(profundidad,r2_train, marker = 'o',linestyle = '-.', color = 'r')\n",
        "\n",
        "\n",
        "axes[1].set_title('Coeficiente R2 en función de la profundidad del bosque')\n",
        "axes[1].set_xlabel('Profundidad del bosque')\n",
        "axes[1].set_ylabel('Coeficiente R2')\n",
        "\n",
        "# Ubicación de la leyenda\n",
        "plt.legend([\"Prueba\", \"Entrenamiento\"], loc =\"center right\")\n",
        "\n",
        "# Evita que los elementos se sobrelapen\n",
        "plt.tight_layout()"
      ]
    },
    {
      "cell_type": "markdown",
      "metadata": {
        "id": "xp0i8DL1r1W7"
      },
      "source": [
        "Ahora, entrenemos el model óptimo de acuerdo a nuestra experimentación previa. Usaremos 10.000 árboles y profundidad máxima de 15. El entrenamiento de este modelo tarda solamente 3 minutos y 27 segundos."
      ]
    },
    {
      "cell_type": "code",
      "execution_count": null,
      "metadata": {
        "colab": {
          "base_uri": "https://localhost:8080/"
        },
        "id": "5tkUkTgKrtVo",
        "outputId": "23d4639f-cf36-4c57-af35-e0780d69e913"
      },
      "outputs": [
        {
          "name": "stdout",
          "output_type": "stream",
          "text": [
            "CPU times: user 3min 22s, sys: 4.22 s, total: 3min 26s\n",
            "Wall time: 3min 27s\n"
          ]
        },
        {
          "data": {
            "text/plain": [
              "RandomForestRegressor(max_depth=15, max_features='sqrt', max_samples=13000,\n",
              "                      n_estimators=10000, oob_score=True, random_state=0)"
            ]
          },
          "execution_count": 59,
          "metadata": {},
          "output_type": "execute_result"
        }
      ],
      "source": [
        "import time\n",
        "\n",
        "# Crear un objeto que va guardar la información del modelo\n",
        "forest = RandomForestRegressor(n_estimators=10000, #número de arboles dentro del bosque\n",
        "                              max_depth=15, #aplicar pre-poda para los árboles del bosque\n",
        "                              criterion = \"squared_error\", #selección de la función que mide la calidad de la división en cada rama\n",
        "                              random_state= 0, #Controla tanto la aleatoriedad del bootstrapping de las muestras utilizadas al construir árboles (si bootstrap=True) como el muestreo de las características a considerar cuando se busca la mejor división en cada nodo\n",
        "                              bootstrap=True, #selección aleatoria de las muestras para construir cada arbol\n",
        "                              max_samples= 13000, #número máximo de muestras escogidas para cada árbol\n",
        "                              max_features='sqrt', #número de variables que se escoge en cada paso de la construcción del árbol de decisión, sqrt usa la raiz cuadrada del numero de caracteristicas n_features\n",
        "                              oob_score=True #usar o no out of bag samples para evaluar el modelo, Bagging\n",
        "                               )\n",
        "# error oob - out of bag\n",
        "\n",
        "# Ajustar el modelo con los datos de entrenamiento - aprendizaje\n",
        "%time forest.fit(X_train,y_train)"
      ]
    },
    {
      "cell_type": "code",
      "execution_count": null,
      "metadata": {
        "colab": {
          "base_uri": "https://localhost:8080/"
        },
        "id": "epwG7NGjtjzi",
        "outputId": "f104a2c8-9318-4ecf-c572-c6bcdfde3786"
      },
      "outputs": [
        {
          "data": {
            "text/plain": [
              "array([0.84822389, 0.03304468, 0.02570097, 0.00412457, 0.00379365,\n",
              "       0.00199932, 0.00192994, 0.00168407, 0.0041983 , 0.00549047,\n",
              "       0.0029117 , 0.00271859, 0.00369285, 0.00679385, 0.00596665,\n",
              "       0.00504767, 0.00615257, 0.0050263 , 0.00348043, 0.00348115,\n",
              "       0.00537873, 0.01246406, 0.00669558])"
            ]
          },
          "execution_count": 67,
          "metadata": {},
          "output_type": "execute_result"
        }
      ],
      "source": [
        "importances = forest.feature_importances_\n",
        "importances"
      ]
    },
    {
      "cell_type": "code",
      "execution_count": null,
      "metadata": {
        "colab": {
          "base_uri": "https://localhost:8080/",
          "height": 296
        },
        "id": "TMOc-9lDuB-e",
        "outputId": "4350b6f1-bd32-4f53-ad13-9644fa33fe68"
      },
      "outputs": [
        {
          "data": {
            "text/plain": [
              "Text(0, 0.5, 'Características')"
            ]
          },
          "execution_count": 68,
          "metadata": {},
          "output_type": "execute_result"
        },
        {
          "data": {
            "image/png": "[encoded data removed]",
            "text/plain": [
              "<Figure size 432x288 with 1 Axes>"
            ]
          },
          "metadata": {
            "needs_background": "light"
          },
          "output_type": "display_data"
        }
      ],
      "source": [
        "importancia_2 = pd.Series(data = importances, index = X.columns.values)\n",
        "importancia_2.sort_values(ascending = True).plot(kind = 'barh')\n",
        "plt.xlabel('Importancia')\n",
        "plt.ylabel('Características')"
      ]
    },
    {
      "cell_type": "markdown",
      "metadata": {
        "id": "UWUA3OgGVNJo"
      },
      "source": [
        "## **Recursos adicionales**\n",
        "\n",
        "* Artículo métricas de regesión\n",
        "\n",
        "https://towardsdatascience.com/what-are-the-best-metrics-to-evaluate-your-regression-model-418ca481755b\n",
        "\n",
        "* Documentación métricas de regresión\n",
        "\n",
        "https://scikit-learn.org/stable/modules/model_evaluation.html#regression-metrics\n",
        "\n",
        "* Documentación random forest\n",
        "\n",
        "https://scikit-learn.org/stable/modules/generated/sklearn.ensemble.RandomForestRegressor.html\n",
        "https://scikit-learn.org/stable/modules/generated/sklearn.ensemble.RandomForestClassifier.html\n",
        "\n",
        "* Información adicional\n",
        "\n",
        "https://christophm.github.io/interpretable-ml-book/tree.html#tree\n",
        "\n",
        "* Explicación en video del algoritmo Random Forest, subtitulos en español disponibles.\n",
        "\n",
        "https://youtu.be/J4Wdy0Wc_xQ\n",
        "\n"
      ]
    },
    {
      "cell_type": "markdown",
      "metadata": {
        "id": "vfVxpGxLmry2"
      },
      "source": [
        "## **Créditos**\n",
        "---\n",
        "\n",
        "**Profesor:** Harry Vargas Rodríguez\n",
        "\n",
        "**Corporación Universitaria de Cataluña** - *Diplomado en Big Data y Data Science*"
      ]
    }
  ],
  "metadata": {
    "colab": {
      "collapsed_sections": [],
      "name": "M5 - Métricas de evaluación para regresión.ipynb",
      "provenance": []
    },
    "kernelspec": {
      "display_name": "Python 3.8.5 64-bit",
      "language": "python",
      "name": "python3"
    },
    "language_info": {
      "name": "python",
      "version": "3.8.5"
    },
    "vscode": {
      "interpreter": {
        "hash": "9650cb4e16cdd4a8e8e2d128bf38d875813998db22a3c986335f89e0cb4d7bb2"
      }
    }
  },
  "nbformat": 4,
  "nbformat_minor": 0
}
