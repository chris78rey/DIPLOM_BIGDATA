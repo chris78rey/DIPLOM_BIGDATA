{
  "cells": [
    {
      "cell_type": "markdown",
      "metadata": {
        "id": "Qn9KhQOz9tm4"
      },
      "source": [
        "<img src = \"https://github.com/HarryVargas96/UdeCataluna/blob/main/logo_uc_grande.png?raw=true\" alt = \"Encabezado\" width = \"100%\">  </img>\n",
        "\n"
      ]
    },
    {
      "cell_type": "markdown",
      "metadata": {
        "id": "dS7TNLMohllL"
      },
      "source": [
        "Cree una copia de este Notebook en su Drive y desarrolle el taller sobre ese documento copia. Para crear la copia debe dar click en el botón **Copiar en Drive** ubicado en el panel superior, se abrirá un nuevo notebook que podrá manipular a su antojo y que se almacenará en su Drive dentro de la Carpeta *Colab Notebooks*."
      ]
    },
    {
      "cell_type": "markdown",
      "metadata": {
        "id": "Mz2E7fl9h7L_"
      },
      "source": [
        "# **Predicción del precio de hospedajes en Airbnb para la ciudad de Nueva York**"
      ]
    },
    {
      "cell_type": "markdown",
      "metadata": {
        "id": "4DWyiWV6V7bW"
      },
      "source": [
        "**Contexto:** Airbnb es una empresa que ofrece una plataforma de software dedicada a la oferta de alojamientos particulares y turísticos mediante la cual los anfitriones pueden publicitar y contratar el arriendo de sus propiedades con sus huéspedes; anfitriones y huéspedes pueden valorarse mutuamente, como referencia para futuros usuarios. Muchos nuevos anfitriones no cuentan con información global de tendencias del mercado por lo que sus precios no son óptimos. Airbnb gana una comisión por cada arrendamiento, por lo tanto, está interesado en que sus anfitriones cobren una tarifa óptima de acuerdo a las características del hospedaje. Si los anfitriones ganan más… Airbnb también.\n",
        "\n",
        "**Problema de Negocio:** La empresa Airbnb lo ha contratado para desarrollar un modelo que permita responder la siguiente pregunta: ¿Cuál es la variable o característica más relevante para determinar el precio de un hospedaje en Airbnb? Y además que permita predecir el precio de un hospedaje dadas ciertas características del mismo.\n",
        "\n",
        "**Sistema de información:** El conjunto de datos objetivo posee información acerca de 30.000 hospedajes de la plataforma Airbnb en la ciudad de Nueva York. Los datos a usar son datos públicos creados por Inside Airbnb, para más información puede consultar [aquí]( http://insideairbnb.com/get-the-data/).\n"
      ]
    },
    {
      "cell_type": "markdown",
      "metadata": {
        "id": "HBaTjU1MZoUG"
      },
      "source": [
        "## Indicaciones para resolver el Taller"
      ]
    },
    {
      "cell_type": "markdown",
      "metadata": {
        "id": "efhkBeo-U9_o"
      },
      "source": [
        "El objetivo de este taller es que cree varios modelos que permitan predecir el precio de un hospedaje dadas ciertas características del mismo, además de responder algunas preguntas de negocio. Para ello tendrá que programar, investigar y analizar todos los resultados que vaya obteniendo. Tenga en cuenta las siguientes indicaciones:\n",
        "\n",
        "* Añada comentarios al código para que documente sus soluciones. \n",
        "* Coloque su análisis en una celda de Texto luego de cada resultado.\n",
        "* Para resolver un ejercicio puede usar tantas celdas de Código o Texto como requiera.\n",
        "\n",
        "Si se le presenta un error de código o duda. Siga los siguientes pasos:\n",
        "1. Lea y entienda el error, para ello puede buscar en la documentación de la librería o googlearlo\n",
        "2. Intente resolverlo\n",
        "3. Comuníquese con el expero temático usando el Foro, recuerde enviar un pantallazo del error y mencionar que Ejercicio está solucionando. **Abstengase de compartir el link de su Notebook en el Foro.**\n",
        "\n",
        "\n",
        "\n",
        "A continuación, se listan algunos recursos que pueden ser valiosos para su análisis.\n",
        "* En esta página puede encontrar las gráficas que se pueden construir dependiendo de las variables disponibles, una breve explicación de cada gráfica y código para construir cada visualización. https://www.data-to-viz.com/\n",
        "* Documentación de Pandas. https://pandas.pydata.org/docs/index.html\n",
        "* Documentación de Seaborn. https://seaborn.pydata.org/index.html\n",
        "* Documentación de Scikit-learn. https://scikit-learn.org/stable/"
      ]
    },
    {
      "cell_type": "markdown",
      "metadata": {
        "id": "Y6VyUG5tXJVk"
      },
      "source": [
        "## Instalar, actualizar y cargar las librerías necesarias"
      ]
    },
    {
      "cell_type": "markdown",
      "metadata": {
        "id": "TaTMauXVNsyt"
      },
      "source": [
        "A continuación vamos a cargar las librerías necesarias para el desarrollo de este caso."
      ]
    },
    {
      "cell_type": "code",
      "execution_count": 50,
      "metadata": {
        "id": "T1gKWD8P7ywa"
      },
      "outputs": [],
      "source": [
        "import numpy as np\n",
        "import pandas as pd\n",
        "import matplotlib as mpl\n",
        "import matplotlib.pyplot as plt\n",
        "import seaborn as sns\n",
        "import sklearn\n",
        "%matplotlib inline\n",
        "sns.set()"
      ]
    },
    {
      "cell_type": "code",
      "execution_count": 51,
      "metadata": {
        "colab": {
          "base_uri": "https://localhost:8080/"
        },
        "id": "-6WQYSOHLCz1",
        "outputId": "12c6d8c2-6e47-4016-83c6-ac34ce7f1c73"
      },
      "outputs": [
        {
          "name": "stdout",
          "output_type": "stream",
          "text": [
            "Python 3.8.5\n",
            "NumPy 1.23.0\n",
            "Pandas 1.4.3\n",
            "Matplotlib 3.5.2\n",
            "Seaborn 0.11.2\n",
            "Scikit-learn 1.1.2\n"
          ]
        }
      ],
      "source": [
        "!python --version\n",
        "print('NumPy', np.__version__)\n",
        "print('Pandas', pd.__version__)\n",
        "print('Matplotlib', mpl.__version__)\n",
        "print('Seaborn',sns.__version__)\n",
        "print('Scikit-learn',sklearn.__version__)"
      ]
    },
    {
      "cell_type": "markdown",
      "metadata": {
        "id": "vVOT-Bea8HOG"
      },
      "source": [
        "Este caso fue creado con las siguientes versiones:\n",
        "\n",
        "```\n",
        "Python 3.7.13\n",
        "NumPy 1.21.6\n",
        "Pandas 1.3.5\n",
        "Matplotlib 3.2.2\n",
        "Seaborn 0.11.2\n",
        "Scikit-learn 1.0.2\n",
        "```"
      ]
    },
    {
      "cell_type": "markdown",
      "metadata": {
        "id": "LnjpuOoQPAWO"
      },
      "source": [
        "## **Etapas de la Fase de modelamiento**"
      ]
    },
    {
      "cell_type": "markdown",
      "metadata": {
        "id": "K2HtrY-qokHg"
      },
      "source": [
        "Antes de comenzar, debemos revisar el cumplimiento de algunas condiciones y los pasos a seguir durante esta fase.\n",
        "\n",
        "**Condiciones iniciales:**\n",
        "1. Se hizo una fase de exploración prevía en la cuál se encontraron relaciones importantes, se encontraron errores o problemas que debían ser corregidos.\n",
        "2. Se hizo la limpieza de valores faltantes, atípicos y además la transformación de las variables cualitativas.\n",
        "**Pasos en la fase de modelamiento**\n",
        "3. Se tiene una clara variable objetivo, y se ha definido cual es el problema a resolver.\n",
        "4. Definir los algoritmos de trabajo.\n",
        "5. Entrenar modelos, optimizarlos y evaluar su desempeño\n",
        "6. Extraer valor de los modelos construidos\n",
        "\n",
        "**Análisis de nuestra situación**\n",
        "\n",
        "En las fases previas nos hemos encargado de los dos primeros pasos.  Tenemos una clara variable objetivo, el precio por noche de nuestros hospedajes en la ciudad de Nueva York, al tratarse de una variable cuantitativa estaremos resolviendo un **problema de regresión**. Como modelos preliminares estaremos empleando los algoritmos de Vecinos más Cercanos y Árbol de Decisión. Para la evaluación de modelos emplearemos el error cuadrático medio. En la siguiente fase realizaremos dos modelos más complejos usando Redes Neuronales y Bosque Aleatorio.\n",
        "\n",
        "A continuación se listan las tareas que realizaremos en esta Fase:\n",
        "1. Exploración rápida del conjunto de datos\n",
        "2. Partición de prueba y entrenamiento\n",
        "3. Entrenamiento y optimización de un modelo usando Vecinos más Cercanos\n",
        "4. Entrenamiento y optimización de un modelo usando Árboles de Decisión.\n",
        "5. Aprovechamiento del árbol\n",
        "6. Comparación de los modelos obtenidos\n",
        "7. Conclusiones "
      ]
    },
    {
      "cell_type": "markdown",
      "metadata": {
        "id": "o5kPM6IKYOs9"
      },
      "source": [
        "## Cargar el dataset de trabajo"
      ]
    },
    {
      "cell_type": "markdown",
      "metadata": {
        "id": "fLL4FmyGmdx5"
      },
      "source": [
        "Vamos a cargar el archivo producto de la fase de Limpieza y Transformación. Un conjunto de datos sin datos atípicos, valores faltantes y con las transformaciones necesarias."
      ]
    },
    {
      "cell_type": "code",
      "execution_count": 52,
      "metadata": {
        "colab": {
          "base_uri": "https://localhost:8080/",
          "height": 288
        },
        "id": "63YgHaHeiG6m",
        "outputId": "9275d597-e40a-49fe-85fc-87e9267b6b90"
      },
      "outputs": [
        {
          "data": {
            "text/html": [
              "<div>\n",
              "<style scoped>\n",
              "    .dataframe tbody tr th:only-of-type {\n",
              "        vertical-align: middle;\n",
              "    }\n",
              "\n",
              "    .dataframe tbody tr th {\n",
              "        vertical-align: top;\n",
              "    }\n",
              "\n",
              "    .dataframe thead th {\n",
              "        text-align: right;\n",
              "    }\n",
              "</style>\n",
              "<table border=\"1\" class=\"dataframe\">\n",
              "  <thead>\n",
              "    <tr style=\"text-align: right;\">\n",
              "      <th></th>\n",
              "      <th>price</th>\n",
              "      <th>neighbourhood</th>\n",
              "      <th>latitude</th>\n",
              "      <th>longitude</th>\n",
              "      <th>property_type</th>\n",
              "      <th>bathrooms</th>\n",
              "      <th>bedrooms</th>\n",
              "      <th>beds</th>\n",
              "      <th>host_is_superhost</th>\n",
              "      <th>parking</th>\n",
              "      <th>room_type_Entire home/apt</th>\n",
              "      <th>room_type_Private room</th>\n",
              "      <th>room_type_Shared room</th>\n",
              "    </tr>\n",
              "  </thead>\n",
              "  <tbody>\n",
              "    <tr>\n",
              "      <th>0</th>\n",
              "      <td>149</td>\n",
              "      <td>18.0</td>\n",
              "      <td>40.64749</td>\n",
              "      <td>-73.97237</td>\n",
              "      <td>1.0</td>\n",
              "      <td>1.0</td>\n",
              "      <td>1</td>\n",
              "      <td>1</td>\n",
              "      <td>0.0</td>\n",
              "      <td>1.0</td>\n",
              "      <td>0</td>\n",
              "      <td>1</td>\n",
              "      <td>0</td>\n",
              "    </tr>\n",
              "    <tr>\n",
              "      <th>1</th>\n",
              "      <td>150</td>\n",
              "      <td>80.0</td>\n",
              "      <td>40.80902</td>\n",
              "      <td>-73.94190</td>\n",
              "      <td>1.0</td>\n",
              "      <td>1.0</td>\n",
              "      <td>1</td>\n",
              "      <td>1</td>\n",
              "      <td>0.0</td>\n",
              "      <td>0.0</td>\n",
              "      <td>0</td>\n",
              "      <td>1</td>\n",
              "      <td>0</td>\n",
              "    </tr>\n",
              "    <tr>\n",
              "      <th>2</th>\n",
              "      <td>190</td>\n",
              "      <td>80.0</td>\n",
              "      <td>40.79685</td>\n",
              "      <td>-73.94872</td>\n",
              "      <td>1.0</td>\n",
              "      <td>1.0</td>\n",
              "      <td>2</td>\n",
              "      <td>2</td>\n",
              "      <td>0.0</td>\n",
              "      <td>0.0</td>\n",
              "      <td>1</td>\n",
              "      <td>0</td>\n",
              "      <td>0</td>\n",
              "    </tr>\n",
              "    <tr>\n",
              "      <th>3</th>\n",
              "      <td>60</td>\n",
              "      <td>18.0</td>\n",
              "      <td>40.65599</td>\n",
              "      <td>-73.97519</td>\n",
              "      <td>12.0</td>\n",
              "      <td>1.0</td>\n",
              "      <td>1</td>\n",
              "      <td>1</td>\n",
              "      <td>1.0</td>\n",
              "      <td>1.0</td>\n",
              "      <td>0</td>\n",
              "      <td>1</td>\n",
              "      <td>0</td>\n",
              "    </tr>\n",
              "    <tr>\n",
              "      <th>4</th>\n",
              "      <td>80</td>\n",
              "      <td>101.0</td>\n",
              "      <td>40.86754</td>\n",
              "      <td>-73.92639</td>\n",
              "      <td>1.0</td>\n",
              "      <td>1.0</td>\n",
              "      <td>1</td>\n",
              "      <td>1</td>\n",
              "      <td>0.0</td>\n",
              "      <td>1.0</td>\n",
              "      <td>0</td>\n",
              "      <td>1</td>\n",
              "      <td>0</td>\n",
              "    </tr>\n",
              "  </tbody>\n",
              "</table>\n",
              "</div>"
            ],
            "text/plain": [
              "   price  neighbourhood  latitude  longitude  property_type  bathrooms  \\\n",
              "0    149           18.0  40.64749  -73.97237            1.0        1.0   \n",
              "1    150           80.0  40.80902  -73.94190            1.0        1.0   \n",
              "2    190           80.0  40.79685  -73.94872            1.0        1.0   \n",
              "3     60           18.0  40.65599  -73.97519           12.0        1.0   \n",
              "4     80          101.0  40.86754  -73.92639            1.0        1.0   \n",
              "\n",
              "   bedrooms  beds  host_is_superhost  parking  room_type_Entire home/apt  \\\n",
              "0         1     1                0.0      1.0                          0   \n",
              "1         1     1                0.0      0.0                          0   \n",
              "2         2     2                0.0      0.0                          1   \n",
              "3         1     1                1.0      1.0                          0   \n",
              "4         1     1                0.0      1.0                          0   \n",
              "\n",
              "   room_type_Private room  room_type_Shared room  \n",
              "0                       1                      0  \n",
              "1                       1                      0  \n",
              "2                       0                      0  \n",
              "3                       1                      0  \n",
              "4                       1                      0  "
            ]
          },
          "execution_count": 52,
          "metadata": {},
          "output_type": "execute_result"
        }
      ],
      "source": [
        "airbnb = pd.read_csv('https://raw.githubusercontent.com/HarryVargas96/UdeCataluna/main/data/aibnb_limpio_sinnas_sincat.csv')\n",
        "airbnb.head()"
      ]
    },
    {
      "cell_type": "code",
      "execution_count": 53,
      "metadata": {
        "colab": {
          "base_uri": "https://localhost:8080/"
        },
        "id": "iZf8Jq1TbyDM",
        "outputId": "4c2ca6aa-c112-4167-f4b9-4a44fcca9a22"
      },
      "outputs": [
        {
          "data": {
            "text/plain": [
              "(30173, 13)"
            ]
          },
          "execution_count": 53,
          "metadata": {},
          "output_type": "execute_result"
        }
      ],
      "source": [
        "# Dimensiones del dataframe\n",
        "airbnb.shape"
      ]
    },
    {
      "cell_type": "code",
      "execution_count": 54,
      "metadata": {
        "colab": {
          "base_uri": "https://localhost:8080/"
        },
        "id": "eDmHmLfe6FOG",
        "outputId": "c96602bb-7a7b-4d4b-d086-237ca3de760d"
      },
      "outputs": [
        {
          "name": "stdout",
          "output_type": "stream",
          "text": [
            "<class 'pandas.core.frame.DataFrame'>\n",
            "RangeIndex: 30173 entries, 0 to 30172\n",
            "Data columns (total 13 columns):\n",
            " #   Column                     Non-Null Count  Dtype  \n",
            "---  ------                     --------------  -----  \n",
            " 0   price                      30173 non-null  int64  \n",
            " 1   neighbourhood              30173 non-null  float64\n",
            " 2   latitude                   30173 non-null  float64\n",
            " 3   longitude                  30173 non-null  float64\n",
            " 4   property_type              30173 non-null  float64\n",
            " 5   bathrooms                  30173 non-null  float64\n",
            " 6   bedrooms                   30173 non-null  int64  \n",
            " 7   beds                       30173 non-null  int64  \n",
            " 8   host_is_superhost          30173 non-null  float64\n",
            " 9   parking                    30173 non-null  float64\n",
            " 10  room_type_Entire home/apt  30173 non-null  int64  \n",
            " 11  room_type_Private room     30173 non-null  int64  \n",
            " 12  room_type_Shared room      30173 non-null  int64  \n",
            "dtypes: float64(7), int64(6)\n",
            "memory usage: 3.0 MB\n"
          ]
        }
      ],
      "source": [
        "# Resumen de las variables del dataframe\n",
        "airbnb.info()"
      ]
    },
    {
      "cell_type": "code",
      "execution_count": 55,
      "metadata": {
        "colab": {
          "base_uri": "https://localhost:8080/"
        },
        "id": "AZ9WTEYzmoaj",
        "outputId": "a05476d6-adc0-4035-c9c6-95faf5ce978e"
      },
      "outputs": [
        {
          "data": {
            "text/plain": [
              "price                        0\n",
              "neighbourhood                0\n",
              "latitude                     0\n",
              "longitude                    0\n",
              "property_type                0\n",
              "bathrooms                    0\n",
              "bedrooms                     0\n",
              "beds                         0\n",
              "host_is_superhost            0\n",
              "parking                      0\n",
              "room_type_Entire home/apt    0\n",
              "room_type_Private room       0\n",
              "room_type_Shared room        0\n",
              "dtype: int64"
            ]
          },
          "execution_count": 55,
          "metadata": {},
          "output_type": "execute_result"
        }
      ],
      "source": [
        "# El dataset de trabajo no contiene ningún valor nulo\n",
        "\n",
        "airbnb.isnull().sum()"
      ]
    },
    {
      "cell_type": "markdown",
      "metadata": {
        "id": "eCw4P6RvAiQx"
      },
      "source": [
        "### Partición del dataset: Subconjuntos de prueba y entrenamiento"
      ]
    },
    {
      "cell_type": "markdown",
      "metadata": {
        "id": "mRzbLpLrsYfN"
      },
      "source": [
        "#### Ejercicio 1\n",
        "1. Divida el dataset en variables predictoras con el nombre `X` y variable objetivo con el nombre `y`.\n",
        "2. Use la función `train_test_split()` para obtener los subconjuntos de prueba y entrenamiento. La partición de prueba debe ser del 30%, emplee `random_state = 0`.\n"
      ]
    },
    {
      "cell_type": "code",
      "execution_count": 56,
      "metadata": {},
      "outputs": [],
      "source": [
        "#dividir el dataset airbnb en X y y siendo y el campo de price\n",
        "X = airbnb.drop(['price'], axis=1)\n",
        "y = airbnb[['price']]\n",
        "#ahora se divide en entrenamiento y test\n",
        "\n",
        "\n",
        "from sklearn.model_selection import train_test_split\n",
        "X_train, X_test, y_train, y_test = train_test_split(X, y, test_size=0.3, random_state=0)\n"
      ]
    },
    {
      "cell_type": "markdown",
      "metadata": {
        "id": "WV-IvntGtTut"
      },
      "source": [
        "<details>    \n",
        "<summary>\n",
        "    <font size=\"3\" color=\"darkblue\"><b>Pistas</b></font>\n",
        "</summary>\n",
        "\n",
        "* Deje en el conjunto `X` todas las variables excepto el precio.\n",
        "* Deje en el conjunto `y` solamente la variable precio.\n",
        "* Importe la función `train_test_split()` desde el módulo sklearn. Más información [aquí](https://scikit-learn.org/stable/modules/generated/sklearn.model_selection.train_test_split.html).\n",
        "* Preste cuidado al orden de las variables generadas por la función `train_test_split()`.\n",
        "\n",
        "\n"
      ]
    },
    {
      "cell_type": "code",
      "execution_count": 17,
      "metadata": {
        "colab": {
          "base_uri": "https://localhost:8080/"
        },
        "id": "YcOK3mN5uwcR",
        "outputId": "080637ad-3854-4228-d0fd-0559f9823f2f"
      },
      "outputs": [],
      "source": [
        "# Respuesta"
      ]
    },
    {
      "cell_type": "markdown",
      "metadata": {
        "id": "Uz3JErTWXrj1"
      },
      "source": [
        "Observemos cómo están distrbuidas las muestras en el conjunto de prueba y entrenamiento."
      ]
    },
    {
      "cell_type": "markdown",
      "metadata": {
        "id": "RYLFAINQBHiz"
      },
      "source": [
        "### **Vecinos más cercanos - KNN**"
      ]
    },
    {
      "cell_type": "markdown",
      "metadata": {
        "id": "G2JypVimCGoC"
      },
      "source": [
        "#### Ejercicio 2\n",
        "\n",
        "Investigue cuales son las ventajas y desventajas del algoritmo de vecinos más cercanos. No olvide añadir las fuentes consultadas."
      ]
    },
    {
      "cell_type": "markdown",
      "metadata": {
        "id": "1APl89GLCP-c"
      },
      "source": [
        "Respuesta\n"
      ]
    },
    {
      "cell_type": "code",
      "execution_count": null,
      "metadata": {},
      "outputs": [],
      "source": [
        "#cuales son las ventajas del algoritno k nearest neighbor\n",
        "\n",
        "\n",
        "# Respuesta\n",
        "\n",
        "\n",
        "# No modifique esta celda\n",
        "# Esta celda le permite graficar los resultados del Ejercicio anterior\n",
        "\n"
      ]
    },
    {
      "cell_type": "markdown",
      "metadata": {},
      "source": [
        "[Ventajas y Desventajas del algoritmo KNN](https://programmerclick.com/article/24621148533/)\n"
      ]
    },
    {
      "cell_type": "markdown",
      "metadata": {
        "id": "y7vHqh8kbw0L"
      },
      "source": [
        "Entrenemos ahora nuestro primero modelo usando el regresor de vecinos más cercanos."
      ]
    },
    {
      "cell_type": "code",
      "execution_count": 49,
      "metadata": {
        "colab": {
          "base_uri": "https://localhost:8080/"
        },
        "id": "BGXJYTcWaukr",
        "outputId": "8456eddb-6f65-4050-ee2e-be92c994525e"
      },
      "outputs": [
        {
          "data": {
            "text/html": [
              "<style>#sk-container-id-5 {color: black;background-color: white;}#sk-container-id-5 pre{padding: 0;}#sk-container-id-5 div.sk-toggleable {background-color: white;}#sk-container-id-5 label.sk-toggleable__label {cursor: pointer;display: block;width: 100%;margin-bottom: 0;padding: 0.3em;box-sizing: border-box;text-align: center;}#sk-container-id-5 label.sk-toggleable__label-arrow:before {content: \"▸\";float: left;margin-right: 0.25em;color: #696969;}#sk-container-id-5 label.sk-toggleable__label-arrow:hover:before {color: black;}#sk-container-id-5 div.sk-estimator:hover label.sk-toggleable__label-arrow:before {color: black;}#sk-container-id-5 div.sk-toggleable__content {max-height: 0;max-width: 0;overflow: hidden;text-align: left;background-color: #f0f8ff;}#sk-container-id-5 div.sk-toggleable__content pre {margin: 0.2em;color: black;border-radius: 0.25em;background-color: #f0f8ff;}#sk-container-id-5 input.sk-toggleable__control:checked~div.sk-toggleable__content {max-height: 200px;max-width: 100%;overflow: auto;}#sk-container-id-5 input.sk-toggleable__control:checked~label.sk-toggleable__label-arrow:before {content: \"▾\";}#sk-container-id-5 div.sk-estimator input.sk-toggleable__control:checked~label.sk-toggleable__label {background-color: #d4ebff;}#sk-container-id-5 div.sk-label input.sk-toggleable__control:checked~label.sk-toggleable__label {background-color: #d4ebff;}#sk-container-id-5 input.sk-hidden--visually {border: 0;clip: rect(1px 1px 1px 1px);clip: rect(1px, 1px, 1px, 1px);height: 1px;margin: -1px;overflow: hidden;padding: 0;position: absolute;width: 1px;}#sk-container-id-5 div.sk-estimator {font-family: monospace;background-color: #f0f8ff;border: 1px dotted black;border-radius: 0.25em;box-sizing: border-box;margin-bottom: 0.5em;}#sk-container-id-5 div.sk-estimator:hover {background-color: #d4ebff;}#sk-container-id-5 div.sk-parallel-item::after {content: \"\";width: 100%;border-bottom: 1px solid gray;flex-grow: 1;}#sk-container-id-5 div.sk-label:hover label.sk-toggleable__label {background-color: #d4ebff;}#sk-container-id-5 div.sk-serial::before {content: \"\";position: absolute;border-left: 1px solid gray;box-sizing: border-box;top: 0;bottom: 0;left: 50%;z-index: 0;}#sk-container-id-5 div.sk-serial {display: flex;flex-direction: column;align-items: center;background-color: white;padding-right: 0.2em;padding-left: 0.2em;position: relative;}#sk-container-id-5 div.sk-item {position: relative;z-index: 1;}#sk-container-id-5 div.sk-parallel {display: flex;align-items: stretch;justify-content: center;background-color: white;position: relative;}#sk-container-id-5 div.sk-item::before, #sk-container-id-5 div.sk-parallel-item::before {content: \"\";position: absolute;border-left: 1px solid gray;box-sizing: border-box;top: 0;bottom: 0;left: 50%;z-index: -1;}#sk-container-id-5 div.sk-parallel-item {display: flex;flex-direction: column;z-index: 1;position: relative;background-color: white;}#sk-container-id-5 div.sk-parallel-item:first-child::after {align-self: flex-end;width: 50%;}#sk-container-id-5 div.sk-parallel-item:last-child::after {align-self: flex-start;width: 50%;}#sk-container-id-5 div.sk-parallel-item:only-child::after {width: 0;}#sk-container-id-5 div.sk-dashed-wrapped {border: 1px dashed gray;margin: 0 0.4em 0.5em 0.4em;box-sizing: border-box;padding-bottom: 0.4em;background-color: white;}#sk-container-id-5 div.sk-label label {font-family: monospace;font-weight: bold;display: inline-block;line-height: 1.2em;}#sk-container-id-5 div.sk-label-container {text-align: center;}#sk-container-id-5 div.sk-container {/* jupyter's `normalize.less` sets `[hidden] { display: none; }` but bootstrap.min.css set `[hidden] { display: none !important; }` so we also need the `!important` here to be able to override the default hidden behavior on the sphinx rendered scikit-learn.org. See: https://github.com/scikit-learn/scikit-learn/issues/21755 */display: inline-block !important;position: relative;}#sk-container-id-5 div.sk-text-repr-fallback {display: none;}</style><div id=\"sk-container-id-5\" class=\"sk-top-container\"><div class=\"sk-text-repr-fallback\"><pre>KNeighborsRegressor()</pre><b>In a Jupyter environment, please rerun this cell to show the HTML representation or trust the notebook. <br />On GitHub, the HTML representation is unable to render, please try loading this page with nbviewer.org.</b></div><div class=\"sk-container\" hidden><div class=\"sk-item\"><div class=\"sk-estimator sk-toggleable\"><input class=\"sk-toggleable__control sk-hidden--visually\" id=\"sk-estimator-id-5\" type=\"checkbox\" checked><label for=\"sk-estimator-id-5\" class=\"sk-toggleable__label sk-toggleable__label-arrow\">KNeighborsRegressor</label><div class=\"sk-toggleable__content\"><pre>KNeighborsRegressor()</pre></div></div></div></div></div>"
            ],
            "text/plain": [
              "KNeighborsRegressor()"
            ]
          },
          "execution_count": 49,
          "metadata": {},
          "output_type": "execute_result"
        }
      ],
      "source": [
        "from sklearn.neighbors import KNeighborsRegressor\n",
        "\n",
        "knn = KNeighborsRegressor()\n",
        "knn.fit(X_train,y_train)"
      ]
    },
    {
      "cell_type": "markdown",
      "metadata": {
        "id": "LtbW5XhOhKv-"
      },
      "source": [
        "Note que no hemos pasado ningún parámetro al algoritmo. Sin embargo, se ha entrenado exitosamente un modelo."
      ]
    },
    {
      "cell_type": "markdown",
      "metadata": {
        "id": "D60tHesiuuLT"
      },
      "source": [
        "#### Ejercicio 3 \n",
        "\n",
        "Investigue cuales fueron los parámetros por defecto usados para entrenar el modelo `knn`, preste atención especial al número de vecinos usados y la métrica para medir distancia que se empleó. ¿Se usó la métrica euclidiana, Manhattan o coseno?\n",
        "\n",
        "\n"
      ]
    },
    {
      "cell_type": "markdown",
      "metadata": {
        "id": "UsOUKhTkRuWg"
      },
      "source": [
        "<details>    \n",
        "<summary>\n",
        "    <font size=\"3\" color=\"darkblue\"><b>Pistas</b></font>\n",
        "</summary>\n",
        "\n",
        "Puede consultar en la documentación los parámetros por defecto del regresor `KNeighborsRegressor`. Recuerde que puede usar diferentes extensiones para traducir la documentación.\n"
      ]
    },
    {
      "cell_type": "markdown",
      "metadata": {
        "id": "hrx3Ql14jphY"
      },
      "source": [
        "Respuesta"
      ]
    },
    {
      "cell_type": "code",
      "execution_count": 27,
      "metadata": {},
      "outputs": [
        {
          "data": {
            "text/html": [
              "<div>\n",
              "<style scoped>\n",
              "    .dataframe tbody tr th:only-of-type {\n",
              "        vertical-align: middle;\n",
              "    }\n",
              "\n",
              "    .dataframe tbody tr th {\n",
              "        vertical-align: top;\n",
              "    }\n",
              "\n",
              "    .dataframe thead th {\n",
              "        text-align: right;\n",
              "    }\n",
              "</style>\n",
              "<table border=\"1\" class=\"dataframe\">\n",
              "  <thead>\n",
              "    <tr style=\"text-align: right;\">\n",
              "      <th></th>\n",
              "      <th>0</th>\n",
              "    </tr>\n",
              "  </thead>\n",
              "  <tbody>\n",
              "    <tr>\n",
              "      <th>algorithm</th>\n",
              "      <td>auto</td>\n",
              "    </tr>\n",
              "    <tr>\n",
              "      <th>leaf_size</th>\n",
              "      <td>30</td>\n",
              "    </tr>\n",
              "    <tr>\n",
              "      <th>metric</th>\n",
              "      <td>minkowski</td>\n",
              "    </tr>\n",
              "    <tr>\n",
              "      <th>metric_params</th>\n",
              "      <td>None</td>\n",
              "    </tr>\n",
              "    <tr>\n",
              "      <th>n_jobs</th>\n",
              "      <td>None</td>\n",
              "    </tr>\n",
              "    <tr>\n",
              "      <th>n_neighbors</th>\n",
              "      <td>5</td>\n",
              "    </tr>\n",
              "    <tr>\n",
              "      <th>p</th>\n",
              "      <td>2</td>\n",
              "    </tr>\n",
              "    <tr>\n",
              "      <th>weights</th>\n",
              "      <td>uniform</td>\n",
              "    </tr>\n",
              "  </tbody>\n",
              "</table>\n",
              "</div>"
            ],
            "text/plain": [
              "                       0\n",
              "algorithm           auto\n",
              "leaf_size             30\n",
              "metric         minkowski\n",
              "metric_params       None\n",
              "n_jobs              None\n",
              "n_neighbors            5\n",
              "p                      2\n",
              "weights          uniform"
            ]
          },
          "execution_count": 27,
          "metadata": {},
          "output_type": "execute_result"
        }
      ],
      "source": [
        "#extraer los parametros del modelo y los convierto en dataframe\n",
        "parametros=knn.get_params()\n",
        "#se debe transformar el diccionario en dataframe\n",
        "parametros=pd.DataFrame.from_dict(parametros, orient='index')\n",
        "parametros\n",
        "\n",
        "\n",
        "\n"
      ]
    },
    {
      "cell_type": "markdown",
      "metadata": {
        "id": "stJ83TapQHK5"
      },
      "source": [
        "#### Ejercicio 4\n",
        "\n",
        "Evalué el desempeño del modelo `knn` con el conjunto de prueba. Calcule el error cuadrático medio (MSE) y el coeficiente de determinación ($R^2$). ¿Qué opina acerca del desempeño de este primer modelo?"
      ]
    },
    {
      "cell_type": "markdown",
      "metadata": {
        "id": "me07quCPkTED"
      },
      "source": [
        "<details>    \n",
        "<summary>\n",
        "    <font size=\"3\" color=\"darkblue\"><b>Pistas</b></font>\n",
        "</summary>\n",
        "\n",
        "* Primero debe hacer una predicción usando el conjunto `X_test`. El modelo `knn` no ha visto estos datos, por lo cuál nos permitirá conocer el desempeño del modelo con nuevas observaciones.\n",
        "* Importe desde el módulo `sklearn.metrics` las dos funciones para calcular las métricas.\n"
      ]
    },
    {
      "cell_type": "code",
      "execution_count": 32,
      "metadata": {
        "colab": {
          "base_uri": "https://localhost:8080/"
        },
        "id": "IbUXmrQDj14B",
        "outputId": "fb2af780-6460-4cc0-9bf7-e238123d1f18"
      },
      "outputs": [
        {
          "data": {
            "text/html": [
              "<style>#sk-container-id-4 {color: black;background-color: white;}#sk-container-id-4 pre{padding: 0;}#sk-container-id-4 div.sk-toggleable {background-color: white;}#sk-container-id-4 label.sk-toggleable__label {cursor: pointer;display: block;width: 100%;margin-bottom: 0;padding: 0.3em;box-sizing: border-box;text-align: center;}#sk-container-id-4 label.sk-toggleable__label-arrow:before {content: \"▸\";float: left;margin-right: 0.25em;color: #696969;}#sk-container-id-4 label.sk-toggleable__label-arrow:hover:before {color: black;}#sk-container-id-4 div.sk-estimator:hover label.sk-toggleable__label-arrow:before {color: black;}#sk-container-id-4 div.sk-toggleable__content {max-height: 0;max-width: 0;overflow: hidden;text-align: left;background-color: #f0f8ff;}#sk-container-id-4 div.sk-toggleable__content pre {margin: 0.2em;color: black;border-radius: 0.25em;background-color: #f0f8ff;}#sk-container-id-4 input.sk-toggleable__control:checked~div.sk-toggleable__content {max-height: 200px;max-width: 100%;overflow: auto;}#sk-container-id-4 input.sk-toggleable__control:checked~label.sk-toggleable__label-arrow:before {content: \"▾\";}#sk-container-id-4 div.sk-estimator input.sk-toggleable__control:checked~label.sk-toggleable__label {background-color: #d4ebff;}#sk-container-id-4 div.sk-label input.sk-toggleable__control:checked~label.sk-toggleable__label {background-color: #d4ebff;}#sk-container-id-4 input.sk-hidden--visually {border: 0;clip: rect(1px 1px 1px 1px);clip: rect(1px, 1px, 1px, 1px);height: 1px;margin: -1px;overflow: hidden;padding: 0;position: absolute;width: 1px;}#sk-container-id-4 div.sk-estimator {font-family: monospace;background-color: #f0f8ff;border: 1px dotted black;border-radius: 0.25em;box-sizing: border-box;margin-bottom: 0.5em;}#sk-container-id-4 div.sk-estimator:hover {background-color: #d4ebff;}#sk-container-id-4 div.sk-parallel-item::after {content: \"\";width: 100%;border-bottom: 1px solid gray;flex-grow: 1;}#sk-container-id-4 div.sk-label:hover label.sk-toggleable__label {background-color: #d4ebff;}#sk-container-id-4 div.sk-serial::before {content: \"\";position: absolute;border-left: 1px solid gray;box-sizing: border-box;top: 0;bottom: 0;left: 50%;z-index: 0;}#sk-container-id-4 div.sk-serial {display: flex;flex-direction: column;align-items: center;background-color: white;padding-right: 0.2em;padding-left: 0.2em;position: relative;}#sk-container-id-4 div.sk-item {position: relative;z-index: 1;}#sk-container-id-4 div.sk-parallel {display: flex;align-items: stretch;justify-content: center;background-color: white;position: relative;}#sk-container-id-4 div.sk-item::before, #sk-container-id-4 div.sk-parallel-item::before {content: \"\";position: absolute;border-left: 1px solid gray;box-sizing: border-box;top: 0;bottom: 0;left: 50%;z-index: -1;}#sk-container-id-4 div.sk-parallel-item {display: flex;flex-direction: column;z-index: 1;position: relative;background-color: white;}#sk-container-id-4 div.sk-parallel-item:first-child::after {align-self: flex-end;width: 50%;}#sk-container-id-4 div.sk-parallel-item:last-child::after {align-self: flex-start;width: 50%;}#sk-container-id-4 div.sk-parallel-item:only-child::after {width: 0;}#sk-container-id-4 div.sk-dashed-wrapped {border: 1px dashed gray;margin: 0 0.4em 0.5em 0.4em;box-sizing: border-box;padding-bottom: 0.4em;background-color: white;}#sk-container-id-4 div.sk-label label {font-family: monospace;font-weight: bold;display: inline-block;line-height: 1.2em;}#sk-container-id-4 div.sk-label-container {text-align: center;}#sk-container-id-4 div.sk-container {/* jupyter's `normalize.less` sets `[hidden] { display: none; }` but bootstrap.min.css set `[hidden] { display: none !important; }` so we also need the `!important` here to be able to override the default hidden behavior on the sphinx rendered scikit-learn.org. See: https://github.com/scikit-learn/scikit-learn/issues/21755 */display: inline-block !important;position: relative;}#sk-container-id-4 div.sk-text-repr-fallback {display: none;}</style><div id=\"sk-container-id-4\" class=\"sk-top-container\"><div class=\"sk-text-repr-fallback\"><pre>KNeighborsRegressor()</pre><b>In a Jupyter environment, please rerun this cell to show the HTML representation or trust the notebook. <br />On GitHub, the HTML representation is unable to render, please try loading this page with nbviewer.org.</b></div><div class=\"sk-container\" hidden><div class=\"sk-item\"><div class=\"sk-estimator sk-toggleable\"><input class=\"sk-toggleable__control sk-hidden--visually\" id=\"sk-estimator-id-4\" type=\"checkbox\" checked><label for=\"sk-estimator-id-4\" class=\"sk-toggleable__label sk-toggleable__label-arrow\">KNeighborsRegressor</label><div class=\"sk-toggleable__content\"><pre>KNeighborsRegressor()</pre></div></div></div></div></div>"
            ],
            "text/plain": [
              "KNeighborsRegressor()"
            ]
          },
          "execution_count": 32,
          "metadata": {},
          "output_type": "execute_result"
        }
      ],
      "source": [
        "# Respuesta\n",
        "#se crea el modelo\n",
        "knn.fit(X_train,y_train)"
      ]
    },
    {
      "cell_type": "markdown",
      "metadata": {},
      "source": [
        "## **Evaluación del desempeño del modelo**"
      ]
    },
    {
      "cell_type": "code",
      "execution_count": 59,
      "metadata": {},
      "outputs": [],
      "source": [
        "#calcular el coeficientes de determinacion de los modelos\n",
        "y_predict = knn.predict(X_test)\n",
        "y_pred2 = knn.predict(X_train)\n"
      ]
    },
    {
      "cell_type": "code",
      "execution_count": 62,
      "metadata": {},
      "outputs": [
        {
          "name": "stdout",
          "output_type": "stream",
          "text": [
            "Exactitud en partición de prueba: 0.639595\n",
            "Exactitud en partición de entrenamiento: 0.641688\n",
            "\n",
            "Otra forma de calcular el R2: 0.6395945246584944\n"
          ]
        }
      ],
      "source": [
        "# Evaluación del desempeño del modelo con R^2\n",
        "\n",
        "from sklearn.metrics import r2_score\n",
        "\n",
        "r2_prueba = r2_score(y_test, y_predict)\n",
        "print('Exactitud en partición de prueba: {:3f}'.format(r2_prueba))\n",
        "\n",
        "\n",
        "r2_entren = r2_score(y_train, y_pred2)\n",
        "print('Exactitud en partición de entrenamiento: {:3f}'.format(r2_entren))\n",
        "\n",
        "# Para modelos de clasificación score es el coeficiente de determinación R^2\n",
        "\n",
        "print('\\nOtra forma de calcular el R2: {}'.format(knn.score(X_test,y_test)))"
      ]
    },
    {
      "cell_type": "code",
      "execution_count": 65,
      "metadata": {},
      "outputs": [
        {
          "data": {
            "text/plain": [
              "3145.752041537781"
            ]
          },
          "execution_count": 65,
          "metadata": {},
          "output_type": "execute_result"
        }
      ],
      "source": [
        "#calcular el error cuadrado medio\n",
        "from sklearn.metrics import mean_squared_error\n",
        "mse = mean_squared_error(y_test, y_predict)\n",
        "mse"
      ]
    },
    {
      "cell_type": "markdown",
      "metadata": {
        "id": "4Nj1YjT9lTLC"
      },
      "source": [
        "### **Experimentación**\n",
        "\n",
        "Vamos a modificar la complejidad del modelo con el fin de optimizar la salida. La complejidad puede ser modificada cambiando el parámetro K, número de vecinos. Vamos a realizar experimentos para determinar cuál es el parámetro que minimiza el error de predicción en el conjunto de prueba."
      ]
    },
    {
      "cell_type": "markdown",
      "metadata": {
        "id": "PLXRXulVUxQy"
      },
      "source": [
        "#### Ejercicio 5\n",
        "\n",
        "Complete el siguiente código con el fin de encontrar el valor de error cuadrático medio para 40 modelos con valores impares de K entre 1 y 80."
      ]
    },
    {
      "cell_type": "markdown",
      "metadata": {
        "id": "IYkcj5JSrMdA"
      },
      "source": [
        "<details>    \n",
        "<summary>\n",
        "    <font size=\"3\" color=\"darkblue\"><b>Pistas</b></font>\n",
        "</summary>\n",
        "\n",
        "* Use el ciclo for para entrenar 40 modelos y evaluar su desempeño, recuerde guardar el error de cada modelo en la lista mse.\n"
      ]
    },
    {
      "cell_type": "code",
      "execution_count": null,
      "metadata": {
        "id": "zCHleZyrWICY"
      },
      "outputs": [],
      "source": [
        "# Respuesta\n",
        "\n",
        "# Lista vacía para almacenar los errores\n",
        "mse_knn = []\n",
        "# Lista con los valores de K, valores impares de 1 a 80\n",
        "valores_vecinos = range(1,80,2)\n",
        "\n",
        "for i in range(1,80,2):\n",
        "  knn = \n",
        "  knn.fit() \n",
        "  y_pred = \n",
        "  error = \n",
        "  mse_knn.append() \n"
      ]
    },
    {
      "cell_type": "code",
      "execution_count": null,
      "metadata": {
        "colab": {
          "base_uri": "https://localhost:8080/",
          "height": 318
        },
        "id": "qYsQdFwio4Pc",
        "outputId": "4de4b8c2-9566-46db-fed2-6d4ba9998e84"
      },
      "outputs": [
        {
          "data": {
            "text/plain": [
              "Text(0, 0.5, 'Error cuadrático medio')"
            ]
          },
          "execution_count": 12,
          "metadata": {},
          "output_type": "execute_result"
        },
        {
          "data": {
            "image/png": "[encoded data removed]",
            "text/plain": [
              "<Figure size 432x288 with 1 Axes>"
            ]
          },
          "metadata": {
            "needs_background": "light"
          },
          "output_type": "display_data"
        }
      ],
      "source": [
        "# No modifique esta celda\n",
        "# Esta celda le permite graficar los resultados del Ejercicio anterior\n",
        "\n",
        "plt.plot(valores_vecinos, mse_knn,'o',linestyle='dashed')\n",
        "\n",
        "plt.title('Error de prueba en función del número de vecinos')\n",
        "plt.xlabel('Número de vecinos')\n",
        "plt.ylabel('Error cuadrático medio')"
      ]
    },
    {
      "cell_type": "markdown",
      "metadata": {
        "id": "nQ_s7R0zbHXe"
      },
      "source": [
        "#### Ejercicio 6\n",
        "\n",
        "Basado en los experimentos realizados en el ejercicio 4, ¿cuál es el número de vecinos óptimo para el modelo de regresión?\n",
        "\n"
      ]
    },
    {
      "cell_type": "markdown",
      "metadata": {
        "id": "saYWSoaE9s7D"
      },
      "source": [
        "Respuesta"
      ]
    },
    {
      "cell_type": "markdown",
      "metadata": {
        "id": "cQnmDCmOBW-O"
      },
      "source": [
        "#### Ejercicio 7\n",
        "\n",
        "Entrene un modelo con el nombre `knn_final` con el número de vecinos óptimo que encontró en el Ejercicio 5. \n",
        "\n",
        "Evalue el desempeño del modelo `knn_final` con las siguientes métricas, recuerde hacer el cálculo con el conjunto de prueba.\n",
        "* Error cuadrático medio (MSE)\n",
        "* Raíz del error cuadrático medio (RMSE)\n",
        "* Error absoluto medio (MAE)\n",
        "* Coeficiente de determinación ($R^2$)\n",
        "\n",
        "Interprete los coeficientes obtenidos, ¿cree que el modelo obtenido cumple con los requisitos del negocio?\n"
      ]
    },
    {
      "cell_type": "code",
      "execution_count": null,
      "metadata": {
        "colab": {
          "base_uri": "https://localhost:8080/"
        },
        "id": "sQITfE1O8ndV",
        "outputId": "1566fa34-ba2f-4557-b300-3a6461646db6"
      },
      "outputs": [
        {
          "name": "stdout",
          "output_type": "stream",
          "text": [
            "El error cuadrático medio es: 3960.036327828786\n",
            "La ráiz del error cuadrático medio es: 62.92881953309458\n",
            "El error absoluto medio es: 42.35933127117396\n",
            "El coeficiente de determinación es: 0.546302837523368\n"
          ]
        }
      ],
      "source": [
        "# Respuesta\n"
      ]
    },
    {
      "cell_type": "markdown",
      "metadata": {
        "id": "MRgNKGo4B62K"
      },
      "source": [
        "### Árboles de Decisión"
      ]
    },
    {
      "cell_type": "markdown",
      "metadata": {
        "id": "atpSg0OePqMn"
      },
      "source": [
        "#### Ejercicio 8\n",
        "\n",
        "Investigue cuales son las ventajas y desventajas del algoritmo árbol de decisión. No añadir colocar las fuentes consultadas."
      ]
    },
    {
      "cell_type": "markdown",
      "metadata": {
        "id": "CoWRyv5WCpQk"
      },
      "source": [
        "Respuesta"
      ]
    },
    {
      "cell_type": "markdown",
      "metadata": {
        "id": "sp27GPPoC4RJ"
      },
      "source": [
        "Entrenemos ahora nuestro primero modelo usando el regresor de vecinos más cercanos."
      ]
    },
    {
      "cell_type": "code",
      "execution_count": null,
      "metadata": {
        "colab": {
          "base_uri": "https://localhost:8080/"
        },
        "id": "F2NV-bRuC5N3",
        "outputId": "d6068f6f-beaa-4b9e-b33e-66538bf8dd59"
      },
      "outputs": [
        {
          "data": {
            "text/plain": [
              "DecisionTreeRegressor(random_state=5)"
            ]
          },
          "execution_count": 14,
          "metadata": {},
          "output_type": "execute_result"
        }
      ],
      "source": [
        "from sklearn.tree import DecisionTreeRegressor\n",
        "\n",
        "tree = DecisionTreeRegressor(random_state= 5)\n",
        "tree.fit(X_train,y_train)\n"
      ]
    },
    {
      "cell_type": "markdown",
      "metadata": {
        "id": "D-YbkMQ_Dt84"
      },
      "source": [
        "Ya hemos entrenado un modelo preliminar usando un árbol de decisión sin control de hiperparámetros."
      ]
    },
    {
      "cell_type": "markdown",
      "metadata": {
        "id": "L7blLnQGse9m"
      },
      "source": [
        "#### Ejercicio 9\n",
        "\n",
        "Investigue y responda las siguientes preguntas.\n",
        "\n",
        "¿Cuál fue el parámetro por defecto empleado para limitar la profundidad el árbol? \n",
        "\n",
        "¿Cuál fue la profundidad del árbol?\n",
        "\n",
        "¿Qué opina de la complejidad del módelo obtenido?"
      ]
    },
    {
      "cell_type": "markdown",
      "metadata": {
        "id": "7j_izmEGtK_i"
      },
      "source": [
        "<details>    \n",
        "<summary>\n",
        "    <font size=\"3\" color=\"darkblue\"><b>Pistas</b></font>\n",
        "</summary>\n",
        "\n",
        "* Busque en la documentación de `DecisionTreeRegressor` el parámetro por defecto del hiperparámetro `max_depth`\n",
        "* Busque en la documentación cómo acceder a la profundidad del árbol generado. \n",
        "\n"
      ]
    },
    {
      "cell_type": "code",
      "execution_count": null,
      "metadata": {
        "colab": {
          "base_uri": "https://localhost:8080/"
        },
        "id": "7jMQ5lN2shuK",
        "outputId": "1cd66fab-1bea-4cc7-9b04-1b12d30f0bac"
      },
      "outputs": [
        {
          "name": "stdout",
          "output_type": "stream",
          "text": [
            "La profundidad del modelo tree fue de 39\n"
          ]
        }
      ],
      "source": [
        "# Respuesta"
      ]
    },
    {
      "cell_type": "markdown",
      "metadata": {
        "id": "1014j5gIu6_0"
      },
      "source": [
        "#### Ejercicio 10\n",
        "\n",
        "Evalué el desempeño del modelo `tree` con el conjunto de prueba. Calcule el error cuadrático medio (MSE) y el coeficiente de determinación ($R^2$). ¿Qué opina del desempeño de este modelo?\n",
        "\n"
      ]
    },
    {
      "cell_type": "code",
      "execution_count": null,
      "metadata": {
        "colab": {
          "base_uri": "https://localhost:8080/"
        },
        "id": "QwlL8ofovjQq",
        "outputId": "56f6456b-35ae-4256-b949-4944106a02dc"
      },
      "outputs": [
        {
          "name": "stdout",
          "output_type": "stream",
          "text": [
            "Resultados del modelo tree\n",
            "------------------------------------\n",
            "El coeficiente de determinación es:  0.29023252254017684\n",
            "El error cuadrático medio es:  6195.112571807335\n"
          ]
        }
      ],
      "source": [
        "# Respuesta"
      ]
    },
    {
      "cell_type": "markdown",
      "metadata": {
        "id": "CO3eNoCUko1Y"
      },
      "source": [
        "### **Experimentación**\n",
        "\n",
        "Vamos a modificar la complejidad del modelo basado en árbol de decisión con el fin de optimizar la salida. La complejidad puede ser modificada cambiando el parámetro de profundidad maxima, la pureza de las hojas o el ccp_alpha. Vamos a realizar experimentos para determinar cuál es el parámetro de profundidad que minimiza el error de predicción en el conjunto de prueba."
      ]
    },
    {
      "cell_type": "markdown",
      "metadata": {
        "id": "MqzRJQwqKeNS"
      },
      "source": [
        "#### Ejercicio 11\n",
        "\n",
        "Complete el siguiente código con el fin de encontrar el valor de error cuadrático medio para 40 modelos con diferente profundidad máxima que va desde 1 hasta 40."
      ]
    },
    {
      "cell_type": "markdown",
      "metadata": {
        "id": "MPvxw90aH3zB"
      },
      "source": [
        "<details>    \n",
        "<summary>\n",
        "    <font size=\"3\" color=\"darkblue\"><b>Pistas</b></font>\n",
        "</summary>\n",
        "\n",
        "\n",
        "* Use el ciclo for para entrenar 40 modelos y evaluar su desempeño, recuerde guardar el error de cada modelo en la lista mse.\n"
      ]
    },
    {
      "cell_type": "code",
      "execution_count": null,
      "metadata": {
        "id": "wxZOeBufGXoC"
      },
      "outputs": [],
      "source": [
        "# Respuesta\n",
        "\n",
        "# Lista vacía para almacenar los errores\n",
        "mse_tree = []\n",
        "# Lista con los valores de profundidad, valores de 1 a 40\n",
        "valores_profundidad = range(1,40,1)\n",
        "\n",
        "for profundidad in valores_profundidad:\n",
        "  tree =\n",
        "  tree.fit()\n",
        "  y_pred =\n",
        "  error = \n",
        "  mse_tree.append()\n"
      ]
    },
    {
      "cell_type": "code",
      "execution_count": null,
      "metadata": {
        "colab": {
          "base_uri": "https://localhost:8080/",
          "height": 318
        },
        "id": "rEuac529GXoL",
        "outputId": "f7e1ec7f-335b-4780-f424-3b2096bf1bf9"
      },
      "outputs": [
        {
          "data": {
            "text/plain": [
              "Text(0, 0.5, 'Error cuadrático medio')"
            ]
          },
          "execution_count": 18,
          "metadata": {},
          "output_type": "execute_result"
        },
        {
          "data": {
            "image/png": "[encoded data removed]",
            "text/plain": [
              "<Figure size 432x288 with 1 Axes>"
            ]
          },
          "metadata": {
            "needs_background": "light"
          },
          "output_type": "display_data"
        }
      ],
      "source": [
        "# No modifique esta celda\n",
        "# Esta celda le permite graficar los resultados del Ejercicio anterior\n",
        "\n",
        "plt.plot(valores_profundidad, mse_tree,'o',linestyle='dashed')\n",
        "\n",
        "plt.title('Error de prueba en función de la profundidad máxima')\n",
        "plt.xlabel('Profundidad máxima')\n",
        "plt.ylabel('Error cuadrático medio')"
      ]
    },
    {
      "cell_type": "markdown",
      "metadata": {
        "id": "zYTBflmLIYT9"
      },
      "source": [
        "#### Ejercicio 12\n",
        "\n",
        "Basado en los experimentos realizados en el ejercicio 11, ¿cuál es la profundidad óptima para el modelo de regresión?\n",
        "\n"
      ]
    },
    {
      "cell_type": "markdown",
      "metadata": {
        "id": "qUaK-VJOIYT9"
      },
      "source": [
        "Respuesta"
      ]
    },
    {
      "cell_type": "markdown",
      "metadata": {
        "id": "0pokZAKjIYT9"
      },
      "source": [
        "#### Ejercicio 13\n",
        "\n",
        "Entrene un modelo con el nombre `tree_final` con la profundidad óptima que encontró en el Ejercicio 11. \n",
        "\n",
        "Evalue el desempeño del modelo `tree_final` con las siguientes métricas, recuerde hacer el cálculo con el conjunto de prueba.\n",
        "* Error cuadrático medio (MSE)\n",
        "* Raíz del error cuadrático medio (RMSE)\n",
        "* Error absoluto medio (MAE)\n",
        "* Coeficiente de determinación ($R^2$)\n",
        "\n",
        "Interprete los coeficientes obtenidos, ¿cree que el modelo obtenido cumple con los requisitos del negocio?\n"
      ]
    },
    {
      "cell_type": "code",
      "execution_count": null,
      "metadata": {
        "colab": {
          "base_uri": "https://localhost:8080/"
        },
        "id": "t-QZE9hbIYT-",
        "outputId": "ea647f64-daea-4039-c64e-b44c71057fcf"
      },
      "outputs": [
        {
          "name": "stdout",
          "output_type": "stream",
          "text": [
            "El error cuadrático medio es: 3960.036327828786\n",
            "La ráiz del error cuadrático medio es: 62.92881953309458\n",
            "El error absoluto medio es: 42.35933127117396\n",
            "El coeficiente de determinación es: 0.546302837523368\n"
          ]
        }
      ],
      "source": [
        "# Respuesta\n"
      ]
    },
    {
      "cell_type": "markdown",
      "metadata": {
        "id": "hdRhA5cCl3A5"
      },
      "source": [
        "### Extracción de valor"
      ]
    },
    {
      "cell_type": "markdown",
      "metadata": {
        "id": "XWcMriqzJObp"
      },
      "source": [
        "#### Ejercicio 14\n",
        "\n",
        "Los árboles de decisión se caracterizan por su alta interpretabilidad, cree una lista llamada `importancia` con la importancia de las características del modelo `tree_final`. Analice la visualización obtenida, de acuerdo con el modelo entrenado. ¿Cuáles son las variables más importantes a la hora de predecir el precio de un hospedaje? \n"
      ]
    },
    {
      "cell_type": "code",
      "execution_count": null,
      "metadata": {
        "colab": {
          "base_uri": "https://localhost:8080/"
        },
        "id": "NaPv1F5vJpnN",
        "outputId": "ee4d5576-56fa-499d-8230-73eeebd1a5e3"
      },
      "outputs": [
        {
          "name": "stdout",
          "output_type": "stream",
          "text": [
            "[1.05622172e-03 9.35232802e-02 1.35576411e-01 2.51642253e-02\n",
            " 1.20748321e-01 5.43394011e-02 1.56606874e-02 0.00000000e+00\n",
            " 1.77435055e-05 5.53368357e-01 5.45351988e-04 0.00000000e+00]\n"
          ]
        }
      ],
      "source": [
        "# Respuesta\n"
      ]
    },
    {
      "cell_type": "code",
      "execution_count": null,
      "metadata": {
        "colab": {
          "base_uri": "https://localhost:8080/",
          "height": 318
        },
        "id": "2n3qiSV1JzeJ",
        "outputId": "ef86cee8-42b4-48ee-fd80-4c5417dc2b47"
      },
      "outputs": [
        {
          "data": {
            "text/plain": [
              "Text(0, 0.5, 'Variables predictoras')"
            ]
          },
          "execution_count": 22,
          "metadata": {},
          "output_type": "execute_result"
        },
        {
          "data": {
            "image/png": "[encoded data removed]",
            "text/plain": [
              "<Figure size 432x288 with 1 Axes>"
            ]
          },
          "metadata": {
            "needs_background": "light"
          },
          "output_type": "display_data"
        }
      ],
      "source": [
        "# No modifique esta celda\n",
        "# Esta celda le permite graficar los resultados del Ejercicio anterior\n",
        "\n",
        "sns.barplot(x = importancia,y = list(X_train.columns))\n",
        "\n",
        "plt.title('Importancia de las variables predictoras')\n",
        "plt.xlabel('Importancia')\n",
        "plt.ylabel('Variables predictoras')"
      ]
    },
    {
      "cell_type": "markdown",
      "metadata": {
        "id": "3WNCGCzhLBNj"
      },
      "source": [
        "#### Ejercicio 15 (Opcional)\n",
        "\n",
        "Dibuje el árbol de decisión `tree_final`. \n",
        "\n",
        "Hay muchas formas de dibujar árboles de decisión, en el Notebook M5 - Introducción al problema de clasificación se ilustra una manera. Aquí les dejo algunos artículos que muestran otras formas. \n",
        "* https://towardsdatascience.com/visualizing-decision-trees-with-python-scikit-learn-graphviz-matplotlib-1c50b4aa68dc\n",
        "* https://towardsdatascience.com/interactive-visualization-of-decision-trees-with-jupyter-widgets-ca15dd312084\n",
        "\n",
        "[Aquí](https://github.com/HarryVargas96/UdeCataluna/blob/main/data/tree.png?raw=true) les dejo el resultado de una de esas opciones. Si encuentran otras formas por favor no duden en compartirlas en el Foro."
      ]
    },
    {
      "cell_type": "code",
      "execution_count": null,
      "metadata": {
        "id": "a0aPoN3qLL_a"
      },
      "outputs": [],
      "source": [
        "# Respuesta\n"
      ]
    },
    {
      "cell_type": "markdown",
      "metadata": {
        "id": "OP1FGzIYK8V7"
      },
      "source": [
        "### Conclusiones"
      ]
    },
    {
      "cell_type": "markdown",
      "metadata": {
        "id": "0PJ3hv1xX9ZU"
      },
      "source": [
        "#### Ejercicio 16\n",
        "\n",
        "Para finalizar, compare los modelos obtenidos. A continuación se dejan algunas preguntas guia para que enfoque sus conclusiones.\n",
        "\n",
        "¿Cuál es el mejor modelo? ¿Cuál modelo utilizaría en producción? \n",
        "Recuerde que las métricas no lo son todo, considere también la interpretabilidad del modelo y el tiempo de entrenamiento. Justifique su respuesta. ¿Qué hallazgos encontró con la fase de modelamiento? ¿Qué recomendaciones haría para mejorar el desempeño de los modelos? ¿Los modelos creados cumplieron con los objetivos demarcados?¿qué falta para que su modelo tenga el desempeño requerido? ¿qué otro algoritmo podría emplear para lograr mejores resultados?\n",
        "\n",
        "\n"
      ]
    },
    {
      "cell_type": "markdown",
      "metadata": {
        "id": "oYCma5eFYwKL"
      },
      "source": [
        "|Métrica|Vecinos más cercanos|Árbol de Decisión|\n",
        "|---|---|---|\n",
        "|Error cuadrático medio|||\n",
        "|Error absoluto medio|||\n",
        "|Coeficiente de determinación|||"
      ]
    },
    {
      "cell_type": "markdown",
      "metadata": {
        "id": "iNhU3Wq1Xte_"
      },
      "source": [
        "**Aquí termina la tercera fase del proyecto, ya hemos entrenado y optimizado dos modelos, en la siguiente y última fase se van a presentar 2 algoritmos más avanzados y algunos métodos optimizados para la busqueda de hiperparámetros.**"
      ]
    },
    {
      "cell_type": "markdown",
      "metadata": {
        "id": "LgyxZ1SDV_nU"
      },
      "source": [
        "## **Créditos**\n",
        "---\n",
        "\n",
        "**Profesor:** Harry Vargas Rodríguez\n",
        "\n",
        "**Corporación Universitaria de Cataluña** - *Diplomado en Big Data y Data Science*"
      ]
    }
  ],
  "metadata": {
    "colab": {
      "collapsed_sections": [],
      "provenance": []
    },
    "kernelspec": {
      "display_name": "Python 3.8.5 64-bit",
      "language": "python",
      "name": "python3"
    },
    "language_info": {
      "codemirror_mode": {
        "name": "ipython",
        "version": 3
      },
      "file_extension": ".py",
      "mimetype": "text/x-python",
      "name": "python",
      "nbconvert_exporter": "python",
      "pygments_lexer": "ipython3",
      "version": "3.8.5"
    },
    "vscode": {
      "interpreter": {
        "hash": "9650cb4e16cdd4a8e8e2d128bf38d875813998db22a3c986335f89e0cb4d7bb2"
      }
    }
  },
  "nbformat": 4,
  "nbformat_minor": 0
}
