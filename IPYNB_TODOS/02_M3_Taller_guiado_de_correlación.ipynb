{
  "cells": [
    {
      "cell_type": "markdown",
      "metadata": {
        "id": "08vAxgzmPqlo"
      },
      "source": [
        "<img src = \"https://github.com/HarryVargas96/Wine-quality/blob/main/logo_uc_grande.png?raw=true\" alt = \"Encabezado\" width = \"100%\">  </img>"
      ]
    },
    {
      "cell_type": "markdown",
      "metadata": {
        "id": "s99KTt_VPprn"
      },
      "source": [
        "# **Taller guiado de correlación**"
      ]
    },
    {
      "cell_type": "markdown",
      "metadata": {
        "id": "1aEkJ6S8Qaoj"
      },
      "source": [
        "Este taller guiado tiene como objetivo hacer un acercamiento práctico al análisis de correlaciones y una introducción al análisis de regresión.\n",
        "\n",
        "En este taller guiado veremos como:\n",
        "\n"
      ]
    },
    {
      "cell_type": "markdown",
      "metadata": {
        "id": "Uj0uOJhuRp5F"
      },
      "source": [
        "## **1. Instalar e importar los paquetes necesarios**"
      ]
    },
    {
      "cell_type": "code",
      "execution_count": null,
      "metadata": {
        "id": "Mow53ze6su1-"
      },
      "outputs": [],
      "source": [
        "from scipy import stats\n",
        "import scipy\n",
        "import statsmodels.api as sm\n",
        "import statsmodels.formula.api as smf"
      ]
    },
    {
      "cell_type": "code",
      "execution_count": null,
      "metadata": {
        "id": "_UW96mIISC_E"
      },
      "outputs": [],
      "source": [
        "import numpy as np\n",
        "import pandas as pd\n",
        "import seaborn as sns\n",
        "import matplotlib as mpl\n",
        "import matplotlib.pyplot as plt"
      ]
    },
    {
      "cell_type": "code",
      "execution_count": null,
      "metadata": {
        "colab": {
          "base_uri": "https://localhost:8080/"
        },
        "id": "-o9GGVrESYOs",
        "outputId": "317cb5f7-bf16-4e36-d7e1-799532ececd1"
      },
      "outputs": [
        {
          "name": "stdout",
          "output_type": "stream",
          "text": [
            "Python 3.7.12\n",
            "NumPy 1.19.5\n",
            "Pandas 1.1.5\n",
            "Matplotlib 3.2.2\n",
            "Seaborn 0.11.2\n"
          ]
        }
      ],
      "source": [
        "!python --version\n",
        "print('NumPy', np.__version__)\n",
        "print('Pandas', pd.__version__)\n",
        "print('Matplotlib', mpl.__version__)\n",
        "print('Seaborn',sns.__version__)"
      ]
    },
    {
      "cell_type": "markdown",
      "metadata": {
        "id": "SH8wn_4OSrCR"
      },
      "source": [
        "## **2. Cargar datos**"
      ]
    },
    {
      "cell_type": "markdown",
      "metadata": {
        "id": "jI_vsbWlS3DV"
      },
      "source": [
        "Para este taller vamos a utilizar algunos datos sintéticos pero también los datasets que ya conocen como el dataset Iris y el dataset housepricing, para mayor información consulte:\n",
        "\n",
        "* https://www.kaggle.com/ashydv/housing-dataset\n",
        "\n",
        "* https://archive.ics.uci.edu/ml/datasets/Iris"
      ]
    },
    {
      "cell_type": "code",
      "execution_count": null,
      "metadata": {
        "id": "SnqPeYtQTSQ0"
      },
      "outputs": [],
      "source": [
        "variables = ['sepal_length','sepal_width','petal_length','petal_width','species']\n",
        "iris = pd.read_csv('https://archive.ics.uci.edu/ml/machine-learning-databases/iris/iris.data', names= variables)"
      ]
    },
    {
      "cell_type": "code",
      "execution_count": null,
      "metadata": {
        "colab": {
          "base_uri": "https://localhost:8080/"
        },
        "id": "wzhMGVjhUUmb",
        "outputId": "555f977c-db78-4baf-9e49-5581e735764f"
      },
      "outputs": [
        {
          "name": "stdout",
          "output_type": "stream",
          "text": [
            "<class 'pandas.core.frame.DataFrame'>\n",
            "RangeIndex: 150 entries, 0 to 149\n",
            "Data columns (total 5 columns):\n",
            " #   Column        Non-Null Count  Dtype  \n",
            "---  ------        --------------  -----  \n",
            " 0   sepal_length  150 non-null    float64\n",
            " 1   sepal_width   150 non-null    float64\n",
            " 2   petal_length  150 non-null    float64\n",
            " 3   petal_width   150 non-null    float64\n",
            " 4   species       150 non-null    object \n",
            "dtypes: float64(4), object(1)\n",
            "memory usage: 6.0+ KB\n"
          ]
        }
      ],
      "source": [
        "iris.info()"
      ]
    },
    {
      "cell_type": "code",
      "execution_count": null,
      "metadata": {
        "id": "AocAJUK2UPyy"
      },
      "outputs": [],
      "source": [
        "housing = pd.read_csv(\"https://raw.githubusercontent.com/HarryVargas96/UdeCataluna/main/Housing.csv\")"
      ]
    },
    {
      "cell_type": "code",
      "execution_count": null,
      "metadata": {
        "colab": {
          "base_uri": "https://localhost:8080/"
        },
        "id": "150bv620UTE-",
        "outputId": "899eade0-0fcc-4f5e-baf5-71a934d6faff"
      },
      "outputs": [
        {
          "name": "stdout",
          "output_type": "stream",
          "text": [
            "<class 'pandas.core.frame.DataFrame'>\n",
            "RangeIndex: 545 entries, 0 to 544\n",
            "Data columns (total 13 columns):\n",
            " #   Column            Non-Null Count  Dtype \n",
            "---  ------            --------------  ----- \n",
            " 0   price             545 non-null    int64 \n",
            " 1   area              545 non-null    int64 \n",
            " 2   bedrooms          545 non-null    int64 \n",
            " 3   bathrooms         545 non-null    int64 \n",
            " 4   stories           545 non-null    int64 \n",
            " 5   mainroad          545 non-null    object\n",
            " 6   guestroom         545 non-null    object\n",
            " 7   basement          545 non-null    object\n",
            " 8   hotwaterheating   545 non-null    object\n",
            " 9   airconditioning   545 non-null    object\n",
            " 10  parking           545 non-null    int64 \n",
            " 11  prefarea          545 non-null    object\n",
            " 12  furnishingstatus  545 non-null    object\n",
            "dtypes: int64(6), object(7)\n",
            "memory usage: 55.5+ KB\n"
          ]
        }
      ],
      "source": [
        "housing.info()"
      ]
    },
    {
      "cell_type": "markdown",
      "metadata": {
        "id": "4o4EmpEtn4b0"
      },
      "source": [
        "## **3. Análisis de correlación**\n",
        "\n",
        "Este es un tipo de análisis estadístico usado para medir la fortaleza de relaciones lineas entre dos variables y medir su grado de asociación. Esto se logra calculando coeficientes de correlación que permiten cuantificar el grado de asociación entre dos variables."
      ]
    },
    {
      "cell_type": "markdown",
      "metadata": {
        "id": "gMM94vfxrOMq"
      },
      "source": [
        "### **3.1 Coeficientes de correlación**\n",
        "\n",
        "Los coeficientes toman valores entre -1.0 y 1.0. Toman valores positivos cuando las variables son directamente proporcionales, y valores negativos cuando la relación entre las variables es inversamente proporcional. La fortaleza de la correlación se incrementa hacía los extremos -1.0 y 1.0, y es más débil cuando se acerca a 0.\n",
        "\n",
        "Existen 3 tipos de coeficientes de correlación\n",
        "\n",
        "* **Coeficiente de correlación $r$ de Pearson**: Este es el coeficiente de correlación más conocido y ampliamente utilizado. Es útil para el análisis de variables cuantitativas. Este es un método parámetrico, eso quiere decir que parte de varios supuestos sobre las variables analizadas, como la normalidad de las variables y la homegeneidad de varianzas.\n",
        "* **Coeficientes de correlación $\\rho$ de Spearman**: Es un método no paramétrico, puede ser utilizado con variables categóricas ordinales o variables numéricas. Las variables pueden no ser normales y puede no haber homogeneidad de varianzas.\n",
        "* **Coeficiente de correlación $\\tau$ de Kendall**:\n",
        "Este tmabién es un método no parámetrico empleado para variables categóricas ordinales. Evalua relaciones monotónicas entre las variables analizadas. Es computacionalmente más costoso."
      ]
    },
    {
      "cell_type": "markdown",
      "metadata": {
        "id": "ReedWSoKABfj"
      },
      "source": [
        "### Con Pandas..."
      ]
    },
    {
      "cell_type": "markdown",
      "metadata": {
        "id": "71CnZA9W0OOU"
      },
      "source": [
        "Se puede hacer análisis de correlación empleando pandas, numpy o scipy. Empezaremos con los métodos más básicos usando pandas.\n",
        "\n",
        "* `pd.Series.corr`: Permite calcular el coeficiente de correlación de una serie con otra.\n",
        "* `pd.DataFrame.corrwith`: Calula correlación entre las filas o columnas de un DataFrame contra las filas o columnas de una Series u otro DataFrame.\n",
        "\n",
        "* `pd.Dataframe.corr`: Calcula la matriz de correlación entre las columnas de un DataFrame.\n",
        "\n",
        "Todos estos métodos pueden trabajar con los métodos `'pearson', 'kendall', 'spearman'`, por defecto si no se epecífica se trabaja con pearson.\n",
        "\n",
        "\n",
        "\n",
        "Primero vamos a crear algunos datos de ejemplo para trabajar.\n",
        "\n"
      ]
    },
    {
      "cell_type": "code",
      "execution_count": null,
      "metadata": {
        "colab": {
          "base_uri": "https://localhost:8080/",
          "height": 423
        },
        "id": "ouRZE8en0dVX",
        "outputId": "e66d57be-8f0d-4a8d-b49b-6562b0da1e34"
      },
      "outputs": [
        {
          "data": {
            "text/html": [
              "<div>\n",
              "<style scoped>\n",
              "    .dataframe tbody tr th:only-of-type {\n",
              "        vertical-align: middle;\n",
              "    }\n",
              "\n",
              "    .dataframe tbody tr th {\n",
              "        vertical-align: top;\n",
              "    }\n",
              "\n",
              "    .dataframe thead th {\n",
              "        text-align: right;\n",
              "    }\n",
              "</style>\n",
              "<table border=\"1\" class=\"dataframe\">\n",
              "  <thead>\n",
              "    <tr style=\"text-align: right;\">\n",
              "      <th></th>\n",
              "      <th>v1</th>\n",
              "      <th>v2</th>\n",
              "      <th>v3</th>\n",
              "      <th>v4</th>\n",
              "    </tr>\n",
              "  </thead>\n",
              "  <tbody>\n",
              "    <tr>\n",
              "      <th>0</th>\n",
              "      <td>0</td>\n",
              "      <td>100</td>\n",
              "      <td>37</td>\n",
              "      <td>0</td>\n",
              "    </tr>\n",
              "    <tr>\n",
              "      <th>1</th>\n",
              "      <td>1</td>\n",
              "      <td>99</td>\n",
              "      <td>12</td>\n",
              "      <td>77</td>\n",
              "    </tr>\n",
              "    <tr>\n",
              "      <th>2</th>\n",
              "      <td>2</td>\n",
              "      <td>98</td>\n",
              "      <td>72</td>\n",
              "      <td>6</td>\n",
              "    </tr>\n",
              "    <tr>\n",
              "      <th>3</th>\n",
              "      <td>3</td>\n",
              "      <td>97</td>\n",
              "      <td>9</td>\n",
              "      <td>52</td>\n",
              "    </tr>\n",
              "    <tr>\n",
              "      <th>4</th>\n",
              "      <td>4</td>\n",
              "      <td>96</td>\n",
              "      <td>75</td>\n",
              "      <td>85</td>\n",
              "    </tr>\n",
              "    <tr>\n",
              "      <th>...</th>\n",
              "      <td>...</td>\n",
              "      <td>...</td>\n",
              "      <td>...</td>\n",
              "      <td>...</td>\n",
              "    </tr>\n",
              "    <tr>\n",
              "      <th>95</th>\n",
              "      <td>95</td>\n",
              "      <td>5</td>\n",
              "      <td>23</td>\n",
              "      <td>77</td>\n",
              "    </tr>\n",
              "    <tr>\n",
              "      <th>96</th>\n",
              "      <td>96</td>\n",
              "      <td>4</td>\n",
              "      <td>55</td>\n",
              "      <td>91</td>\n",
              "    </tr>\n",
              "    <tr>\n",
              "      <th>97</th>\n",
              "      <td>97</td>\n",
              "      <td>3</td>\n",
              "      <td>65</td>\n",
              "      <td>49</td>\n",
              "    </tr>\n",
              "    <tr>\n",
              "      <th>98</th>\n",
              "      <td>98</td>\n",
              "      <td>2</td>\n",
              "      <td>77</td>\n",
              "      <td>47</td>\n",
              "    </tr>\n",
              "    <tr>\n",
              "      <th>99</th>\n",
              "      <td>99</td>\n",
              "      <td>1</td>\n",
              "      <td>3</td>\n",
              "      <td>77</td>\n",
              "    </tr>\n",
              "  </tbody>\n",
              "</table>\n",
              "<p>100 rows × 4 columns</p>\n",
              "</div>"
            ],
            "text/plain": [
              "    v1   v2  v3  v4\n",
              "0    0  100  37   0\n",
              "1    1   99  12  77\n",
              "2    2   98  72   6\n",
              "3    3   97   9  52\n",
              "4    4   96  75  85\n",
              "..  ..  ...  ..  ..\n",
              "95  95    5  23  77\n",
              "96  96    4  55  91\n",
              "97  97    3  65  49\n",
              "98  98    2  77  47\n",
              "99  99    1   3  77\n",
              "\n",
              "[100 rows x 4 columns]"
            ]
          },
          "execution_count": 24,
          "metadata": {},
          "output_type": "execute_result"
        }
      ],
      "source": [
        "np.random.seed(1) # Semilla para que genere los mismos estados aleatorias\n",
        "\n",
        "v1 = pd.Series(range(100)) # recuerde range inicia desde 0 y por defecto va de uno a uno\n",
        "v2 = pd.Series(range(100,0,-1))\n",
        "\n",
        "# Generación de números enteros aleatorios\n",
        "v3 = pd.Series(np.random.randint(0,100,100)) # valor minimo, valor maximo, cantidad de números\n",
        "v4 = pd.Series(np.random.randint(0,100,100))\n",
        "\n",
        "datos = pd.DataFrame(data={'v1':v1, \n",
        "                           'v2':v2,\n",
        "                           'v3':v3,\n",
        "                           'v4':v4, })\n",
        "\n",
        "datos"
      ]
    },
    {
      "cell_type": "code",
      "execution_count": null,
      "metadata": {
        "id": "RKFjxjTa70cQ"
      },
      "outputs": [],
      "source": [
        "# Esta función nos va a ayudar a ahorrar código\n",
        "# Va a graficar la relación entre un par de variables presentes en el mismo dataframe\n",
        "# También va a calcular el coeficiente de correlación de pearson y va a mostrarlo\n",
        "\n",
        "def graficar_correlación(df, var_a, var_b):\n",
        "\n",
        "  coef = df[var_a].corr(df[var_b]); # Calcula el coeficiente de correlacion\n",
        "\n",
        "  fig, axes = plt.subplots(dpi = 110);\n",
        "  \n",
        "  sns.scatterplot(data = df,\n",
        "                  x = var_a, y = var_b, \n",
        "                 \n",
        "                  ax = axes,\n",
        "                  marker='o', \n",
        "                  linestyle='None', \n",
        "                  s = 50,  # tamaño de los puntos\n",
        "                  alpha = 0.5,  # grado de transparencia\n",
        "                  ); \n",
        "\n",
        "  axes.set_title(f\"Coeficiente de correlación: {coef :.2}\") # titulo con formateo de string"
      ]
    },
    {
      "cell_type": "markdown",
      "metadata": {
        "id": "KbJNSlP32KvC"
      },
      "source": [
        "Veremos algunos casos que se pueden presentar en el análisis de correlación."
      ]
    },
    {
      "cell_type": "code",
      "execution_count": null,
      "metadata": {
        "colab": {
          "base_uri": "https://localhost:8080/"
        },
        "id": "vUydIUf-2QQ0",
        "outputId": "d3a8936c-bab2-4d96-d3dc-e0948ccb622b"
      },
      "outputs": [
        {
          "data": {
            "text/plain": [
              "0.9999999999999999"
            ]
          },
          "execution_count": 26,
          "metadata": {},
          "output_type": "execute_result"
        }
      ],
      "source": [
        "# Correlación perfecta positiva - relación directa, entre v1 y v1\n",
        "\n",
        "r = v1.corr(v1)\n",
        "r"
      ]
    },
    {
      "cell_type": "code",
      "execution_count": null,
      "metadata": {
        "colab": {
          "base_uri": "https://localhost:8080/",
          "height": 441
        },
        "id": "cfP7FCc67FQh",
        "outputId": "2f88a2c2-f65b-41c5-db96-fd2b59da3d02"
      },
      "outputs": [
        {
          "data": {
            "image/png": "[encoded data removed]",
            "text/plain": [
              "<Figure size 660x440 with 1 Axes>"
            ]
          },
          "metadata": {
            "needs_background": "light"
          },
          "output_type": "display_data"
        }
      ],
      "source": [
        "# Es valioso y además recomendado acompañar el cálculo de coeficientes de correlación con visualización\n",
        "\n",
        "graficar_correlación(datos,'v1','v1')"
      ]
    },
    {
      "cell_type": "code",
      "execution_count": null,
      "metadata": {
        "colab": {
          "base_uri": "https://localhost:8080/"
        },
        "id": "GJ0QqSsv9aCj",
        "outputId": "86bef0f8-ae63-4c51-ec0f-e43feeb25c8f"
      },
      "outputs": [
        {
          "data": {
            "text/plain": [
              "-0.9999999999999999"
            ]
          },
          "execution_count": 28,
          "metadata": {},
          "output_type": "execute_result"
        }
      ],
      "source": [
        "# Correlación perfecta negativa, relación inversa entre V1 y V2\n",
        "\n",
        "r = v1.corr(v2)\n",
        "r\n"
      ]
    },
    {
      "cell_type": "code",
      "execution_count": null,
      "metadata": {
        "colab": {
          "base_uri": "https://localhost:8080/",
          "height": 441
        },
        "id": "kpzmXiQY9kQ1",
        "outputId": "c5150f9f-b6fb-49ff-b8c5-b9866753eef3"
      },
      "outputs": [
        {
          "data": {
            "image/png": "[encoded data removed]",
            "text/plain": [
              "<Figure size 660x440 with 1 Axes>"
            ]
          },
          "metadata": {
            "needs_background": "light"
          },
          "output_type": "display_data"
        }
      ],
      "source": [
        "graficar_correlación(datos,'v1','v2')"
      ]
    },
    {
      "cell_type": "code",
      "execution_count": null,
      "metadata": {
        "colab": {
          "base_uri": "https://localhost:8080/",
          "height": 441
        },
        "id": "3K8UB1XS9zSO",
        "outputId": "e0d2d109-18d9-4a40-c5ec-7133ebfe112e"
      },
      "outputs": [
        {
          "data": {
            "image/png": "[encoded data removed]",
            "text/plain": [
              "<Figure size 660x440 with 1 Axes>"
            ]
          },
          "metadata": {
            "needs_background": "light"
          },
          "output_type": "display_data"
        }
      ],
      "source": [
        "graficar_correlación(datos,'v1','v3')"
      ]
    },
    {
      "cell_type": "markdown",
      "metadata": {
        "id": "_UXHakZ_AY_j"
      },
      "source": [
        "### Matriz de confusión\n",
        "\n",
        "Este método es muy valioso porque permite evaluar la correlación entre cada par de variables presentes en el dataset. La matriz obtenida es simétrica ya que el coeficiente de correlación no depende del orden.\n",
        "\n",
        "https://pandas.pydata.org/docs/reference/api/pandas.DataFrame.corr.html"
      ]
    },
    {
      "cell_type": "code",
      "execution_count": null,
      "metadata": {
        "colab": {
          "base_uri": "https://localhost:8080/",
          "height": 174
        },
        "id": "iBSaxwPKAnoK",
        "outputId": "b0497112-8b22-43f4-c779-846ce4f6ab2b"
      },
      "outputs": [
        {
          "data": {
            "text/html": [
              "<div>\n",
              "<style scoped>\n",
              "    .dataframe tbody tr th:only-of-type {\n",
              "        vertical-align: middle;\n",
              "    }\n",
              "\n",
              "    .dataframe tbody tr th {\n",
              "        vertical-align: top;\n",
              "    }\n",
              "\n",
              "    .dataframe thead th {\n",
              "        text-align: right;\n",
              "    }\n",
              "</style>\n",
              "<table border=\"1\" class=\"dataframe\">\n",
              "  <thead>\n",
              "    <tr style=\"text-align: right;\">\n",
              "      <th></th>\n",
              "      <th>v1</th>\n",
              "      <th>v2</th>\n",
              "      <th>v3</th>\n",
              "      <th>v4</th>\n",
              "    </tr>\n",
              "  </thead>\n",
              "  <tbody>\n",
              "    <tr>\n",
              "      <th>v1</th>\n",
              "      <td>1.000000</td>\n",
              "      <td>-1.000000</td>\n",
              "      <td>0.058680</td>\n",
              "      <td>0.022354</td>\n",
              "    </tr>\n",
              "    <tr>\n",
              "      <th>v2</th>\n",
              "      <td>-1.000000</td>\n",
              "      <td>1.000000</td>\n",
              "      <td>-0.058680</td>\n",
              "      <td>-0.022354</td>\n",
              "    </tr>\n",
              "    <tr>\n",
              "      <th>v3</th>\n",
              "      <td>0.058680</td>\n",
              "      <td>-0.058680</td>\n",
              "      <td>1.000000</td>\n",
              "      <td>-0.064611</td>\n",
              "    </tr>\n",
              "    <tr>\n",
              "      <th>v4</th>\n",
              "      <td>0.022354</td>\n",
              "      <td>-0.022354</td>\n",
              "      <td>-0.064611</td>\n",
              "      <td>1.000000</td>\n",
              "    </tr>\n",
              "  </tbody>\n",
              "</table>\n",
              "</div>"
            ],
            "text/plain": [
              "          v1        v2        v3        v4\n",
              "v1  1.000000 -1.000000  0.058680  0.022354\n",
              "v2 -1.000000  1.000000 -0.058680 -0.022354\n",
              "v3  0.058680 -0.058680  1.000000 -0.064611\n",
              "v4  0.022354 -0.022354 -0.064611  1.000000"
            ]
          },
          "execution_count": 31,
          "metadata": {},
          "output_type": "execute_result"
        }
      ],
      "source": [
        "a = datos.corr()\n",
        "a"
      ]
    },
    {
      "cell_type": "code",
      "execution_count": null,
      "metadata": {
        "colab": {
          "base_uri": "https://localhost:8080/",
          "height": 286
        },
        "id": "arBRrOQGA4R0",
        "outputId": "b81a31db-1a2e-441d-c022-31261c4d2604"
      },
      "outputs": [
        {
          "data": {
            "text/plain": [
              "<matplotlib.axes._subplots.AxesSubplot at 0x7fc22d352c90>"
            ]
          },
          "execution_count": 32,
          "metadata": {},
          "output_type": "execute_result"
        },
        {
          "data": {
            "image/png": "[encoded data removed]",
            "text/plain": [
              "<Figure size 432x288 with 2 Axes>"
            ]
          },
          "metadata": {
            "needs_background": "light"
          },
          "output_type": "display_data"
        }
      ],
      "source": [
        "sns.heatmap(data = a,\n",
        "            vmin = -1,\n",
        "            vmax = 1,\n",
        "            center = 0,\n",
        "            annot = True,\n",
        "            cmap=\"YlGnBu\")"
      ]
    },
    {
      "cell_type": "markdown",
      "metadata": {
        "id": "Vm8qJ5xfvcp5"
      },
      "source": [
        "### **Ejercicio**:\n",
        "\n",
        "* Calcule el coeficiente de correlación entre las variables área y precio del dataset housing. Elabore una grafica que le permita evaluar visualmente la relación entre estas variables.\n",
        "* Calcule la matriz de correlación para las variables cuantitativas presentes en Iris"
      ]
    },
    {
      "cell_type": "markdown",
      "metadata": {
        "id": "AwChlnRRAFu6"
      },
      "source": [
        "### Con Scipy"
      ]
    },
    {
      "cell_type": "markdown",
      "metadata": {
        "id": "kPPEVenp__RR"
      },
      "source": [
        "Ahora, pasando a la librería Scipy. Es importante a la hora de reportar coeficientes de correlación soportar las conclusiones con la estadística inferencial, para establecer los niveles de significacia de las relaciones encontradas.\n",
        "\n",
        "Para conocer el coeficiente de correlación y el p_value se pueden usar los siguientes métodos:\n",
        "\n",
        "* [**`stats.pearsonr`**](https://docs.scipy.org/doc/scipy/reference/generated/scipy.stats.pearsonr.html): coeficiente de correlación $r$ de Pearson.\n",
        "* [**`stats.spearmanr`**](https://docs.scipy.org/doc/scipy/reference/generated/scipy.stats.spearmanr.html): coeficiente de correlación $\\rho$ de Spearman.\n",
        "* [**`stats.kendalltau`**](https://docs.scipy.org/doc/scipy/reference/generated/scipy.stats.kendalltau.html): coeficiente de correlación $\\tau$ de Kendall.\n",
        "\n",
        "Estas funciones reciben como parámetros los arreglos **`x`** y **`y`**, y retornan:\n",
        "* El coeficiente de correlación correspondiente.\n",
        "* El **p-valor** para un test de hipótesis cuya hipótesis nula es que los datos no están correlacionados. Por lo tanto, si el **p-valor $\\lt \\alpha$** (nivel de significancia), esto quiere decir que la correlación es significativa. De lo contrario, la correlación puede deberse a la aleatoriedad de los datos, independientemente de su valor.\n",
        "\n",
        "Generalmente se trabaja con un nivel de significancia $ \\alpha=0.05$, entonces si el p-valor es menor a 0.05 se puede establecer que la correlación es significativa."
      ]
    },
    {
      "cell_type": "code",
      "execution_count": null,
      "metadata": {
        "colab": {
          "base_uri": "https://localhost:8080/"
        },
        "id": "t9-rGljzAFFO",
        "outputId": "4087d97d-1a50-4774-9fbd-7407b7390a09"
      },
      "outputs": [
        {
          "name": "stdout",
          "output_type": "stream",
          "text": [
            "0.5359973457780801 7.388225401525694e-42\n"
          ]
        }
      ],
      "source": [
        "x = housing['price']\n",
        "y = housing['area']\n",
        "\n",
        "coef, p = stats.pearsonr(x, y)\n",
        "print(coef,p)"
      ]
    },
    {
      "cell_type": "markdown",
      "metadata": {
        "id": "qgDUENKp0HZx"
      },
      "source": [
        "### **Ejercicio**\n",
        "\n",
        "Calcule el coeficiente de correlación de Pearson y el p-valor de las posibles combinaciones 6 combinaciones entre las variables cuantitativas del dataset Iris. Establezca la fortaleza de la correlación y determine si es o no significativa.\n",
        "\n",
        "Para lo anterior declare una función que reciba dos arreglos `x` y `y` y retorne un mensaje con el coeficiente de correlación, el p valor y si la correlación es o no es significativa.\n",
        "\n",
        "**Ejemplo:**\n",
        "```\n",
        "Input:\n",
        "correlacion(x,y)\n",
        "\n",
        "Output:\n",
        "El coeficiente de correlación es: 0,869\n",
        "El p-value es: 0.0048\n",
        "La correlación es significativa\n",
        "```"
      ]
    },
    {
      "cell_type": "markdown",
      "metadata": {
        "id": "SEPVGe0aQA_b"
      },
      "source": [
        "## **Recursos adicionales**"
      ]
    },
    {
      "cell_type": "markdown",
      "metadata": {
        "id": "o_F1GJ8vQD1b"
      },
      "source": [
        "## **Créditos**\n",
        "---\n",
        "\n",
        "**Profesor:** Harry Vargas Rodríguez\n",
        "\n",
        "**Corporación Universitaria de Cataluña** - *Diplomado en Big Data y Data Science*"
      ]
    }
  ],
  "metadata": {
    "colab": {
      "collapsed_sections": [],
      "name": "M3-Taller guiado de correlación.ipynb",
      "provenance": []
    },
    "kernelspec": {
      "display_name": "Python 3.8.5 64-bit",
      "language": "python",
      "name": "python3"
    },
    "language_info": {
      "name": "python",
      "version": "3.8.5"
    },
    "vscode": {
      "interpreter": {
        "hash": "9650cb4e16cdd4a8e8e2d128bf38d875813998db22a3c986335f89e0cb4d7bb2"
      }
    }
  },
  "nbformat": 4,
  "nbformat_minor": 0
}
