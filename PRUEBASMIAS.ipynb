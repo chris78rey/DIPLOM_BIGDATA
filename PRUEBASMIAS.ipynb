{
 "cells": [
  {
   "cell_type": "code",
   "execution_count": 1,
   "metadata": {},
   "outputs": [],
   "source": [
    "import pandas as pd"
   ]
  },
  {
   "cell_type": "code",
   "execution_count": 2,
   "metadata": {},
   "outputs": [],
   "source": [
    "df= pd.read_excel('https://github.com/chris78rey/DIPLOM_BIGDATA/blob/main/DATOS_PRUEBA.xlsx?raw=true')"
   ]
  },
  {
   "cell_type": "code",
   "execution_count": 3,
   "metadata": {},
   "outputs": [
    {
     "data": {
      "text/html": [
       "<div>\n",
       "<style scoped>\n",
       "    .dataframe tbody tr th:only-of-type {\n",
       "        vertical-align: middle;\n",
       "    }\n",
       "\n",
       "    .dataframe tbody tr th {\n",
       "        vertical-align: top;\n",
       "    }\n",
       "\n",
       "    .dataframe thead th {\n",
       "        text-align: right;\n",
       "    }\n",
       "</style>\n",
       "<table border=\"1\" class=\"dataframe\">\n",
       "  <thead>\n",
       "    <tr style=\"text-align: right;\">\n",
       "      <th></th>\n",
       "      <th>CATEGORIA</th>\n",
       "      <th>VALOR</th>\n",
       "      <th>VALOR 2</th>\n",
       "      <th>Date&amp;Time</th>\n",
       "    </tr>\n",
       "  </thead>\n",
       "  <tbody>\n",
       "    <tr>\n",
       "      <th>0</th>\n",
       "      <td>Item4</td>\n",
       "      <td>87</td>\n",
       "      <td>87.09</td>\n",
       "      <td>2021-08-01 18:07:20</td>\n",
       "    </tr>\n",
       "    <tr>\n",
       "      <th>1</th>\n",
       "      <td>Item</td>\n",
       "      <td>46</td>\n",
       "      <td>45.58</td>\n",
       "      <td>2021-08-01 21:02:37</td>\n",
       "    </tr>\n",
       "    <tr>\n",
       "      <th>2</th>\n",
       "      <td>Item5</td>\n",
       "      <td>84</td>\n",
       "      <td>84.28</td>\n",
       "      <td>2021-08-01 23:57:53</td>\n",
       "    </tr>\n",
       "    <tr>\n",
       "      <th>3</th>\n",
       "      <td>Item0</td>\n",
       "      <td>35</td>\n",
       "      <td>35.04</td>\n",
       "      <td>2021-08-02 02:53:10</td>\n",
       "    </tr>\n",
       "    <tr>\n",
       "      <th>4</th>\n",
       "      <td>Item2</td>\n",
       "      <td>10</td>\n",
       "      <td>10.25</td>\n",
       "      <td>2021-08-02 05:48:27</td>\n",
       "    </tr>\n",
       "    <tr>\n",
       "      <th>...</th>\n",
       "      <td>...</td>\n",
       "      <td>...</td>\n",
       "      <td>...</td>\n",
       "      <td>...</td>\n",
       "    </tr>\n",
       "    <tr>\n",
       "      <th>2995</th>\n",
       "      <td>Item6</td>\n",
       "      <td>52</td>\n",
       "      <td>52.22</td>\n",
       "      <td>2022-08-01 07:26:13</td>\n",
       "    </tr>\n",
       "    <tr>\n",
       "      <th>2996</th>\n",
       "      <td>Item</td>\n",
       "      <td>89</td>\n",
       "      <td>88.94</td>\n",
       "      <td>2022-08-01 10:21:30</td>\n",
       "    </tr>\n",
       "    <tr>\n",
       "      <th>2997</th>\n",
       "      <td>Item3</td>\n",
       "      <td>16</td>\n",
       "      <td>15.70</td>\n",
       "      <td>2022-08-01 13:16:47</td>\n",
       "    </tr>\n",
       "    <tr>\n",
       "      <th>2998</th>\n",
       "      <td>Item1</td>\n",
       "      <td>12</td>\n",
       "      <td>11.84</td>\n",
       "      <td>2022-08-01 16:12:03</td>\n",
       "    </tr>\n",
       "    <tr>\n",
       "      <th>2999</th>\n",
       "      <td>Item</td>\n",
       "      <td>69</td>\n",
       "      <td>69.04</td>\n",
       "      <td>2022-08-01 19:07:20</td>\n",
       "    </tr>\n",
       "  </tbody>\n",
       "</table>\n",
       "<p>3000 rows × 4 columns</p>\n",
       "</div>"
      ],
      "text/plain": [
       "     CATEGORIA  VALOR  VALOR 2           Date&Time\n",
       "0        Item4     87    87.09 2021-08-01 18:07:20\n",
       "1         Item     46    45.58 2021-08-01 21:02:37\n",
       "2        Item5     84    84.28 2021-08-01 23:57:53\n",
       "3        Item0     35    35.04 2021-08-02 02:53:10\n",
       "4        Item2     10    10.25 2021-08-02 05:48:27\n",
       "...        ...    ...      ...                 ...\n",
       "2995     Item6     52    52.22 2022-08-01 07:26:13\n",
       "2996      Item     89    88.94 2022-08-01 10:21:30\n",
       "2997     Item3     16    15.70 2022-08-01 13:16:47\n",
       "2998     Item1     12    11.84 2022-08-01 16:12:03\n",
       "2999      Item     69    69.04 2022-08-01 19:07:20\n",
       "\n",
       "[3000 rows x 4 columns]"
      ]
     },
     "execution_count": 3,
     "metadata": {},
     "output_type": "execute_result"
    }
   ],
   "source": [
    "df"
   ]
  },
  {
   "cell_type": "code",
   "execution_count": 4,
   "metadata": {},
   "outputs": [
    {
     "data": {
      "text/plain": [
       "<bound method DataFrame.reset_index of      CATEGORIA  VALOR  VALOR 2           Date&Time\n",
       "0        Item4     87    87.09 2021-08-01 18:07:20\n",
       "1         Item     46    45.58 2021-08-01 21:02:37\n",
       "2        Item5     84    84.28 2021-08-01 23:57:53\n",
       "3        Item0     35    35.04 2021-08-02 02:53:10\n",
       "4        Item2     10    10.25 2021-08-02 05:48:27\n",
       "...        ...    ...      ...                 ...\n",
       "2995     Item6     52    52.22 2022-08-01 07:26:13\n",
       "2996      Item     89    88.94 2022-08-01 10:21:30\n",
       "2997     Item3     16    15.70 2022-08-01 13:16:47\n",
       "2998     Item1     12    11.84 2022-08-01 16:12:03\n",
       "2999      Item     69    69.04 2022-08-01 19:07:20\n",
       "\n",
       "[3000 rows x 4 columns]>"
      ]
     },
     "execution_count": 4,
     "metadata": {},
     "output_type": "execute_result"
    }
   ],
   "source": [
    "df.reset_index"
   ]
  },
  {
   "cell_type": "code",
   "execution_count": 5,
   "metadata": {},
   "outputs": [
    {
     "name": "stdout",
     "output_type": "stream",
     "text": [
      "<class 'pandas.core.frame.DataFrame'>\n",
      "RangeIndex: 3000 entries, 0 to 2999\n",
      "Data columns (total 4 columns):\n",
      " #   Column     Non-Null Count  Dtype         \n",
      "---  ------     --------------  -----         \n",
      " 0   CATEGORIA  3000 non-null   object        \n",
      " 1   VALOR      3000 non-null   int64         \n",
      " 2   VALOR 2    3000 non-null   float64       \n",
      " 3   Date&Time  3000 non-null   datetime64[ns]\n",
      "dtypes: datetime64[ns](1), float64(1), int64(1), object(1)\n",
      "memory usage: 93.9+ KB\n"
     ]
    }
   ],
   "source": [
    "df.info()"
   ]
  },
  {
   "cell_type": "code",
   "execution_count": 7,
   "metadata": {},
   "outputs": [],
   "source": [
    "df_grupo_suma=df.groupby(['CATEGORIA'])"
   ]
  },
  {
   "cell_type": "code",
   "execution_count": null,
   "metadata": {},
   "outputs": [],
   "source": []
  }
 ],
 "metadata": {
  "kernelspec": {
   "display_name": "Python 3.8.5 64-bit",
   "language": "python",
   "name": "python3"
  },
  "language_info": {
   "codemirror_mode": {
    "name": "ipython",
    "version": 3
   },
   "file_extension": ".py",
   "mimetype": "text/x-python",
   "name": "python",
   "nbconvert_exporter": "python",
   "pygments_lexer": "ipython3",
   "version": "3.8.5"
  },
  "orig_nbformat": 4,
  "vscode": {
   "interpreter": {
    "hash": "9650cb4e16cdd4a8e8e2d128bf38d875813998db22a3c986335f89e0cb4d7bb2"
   }
  }
 },
 "nbformat": 4,
 "nbformat_minor": 2
}
