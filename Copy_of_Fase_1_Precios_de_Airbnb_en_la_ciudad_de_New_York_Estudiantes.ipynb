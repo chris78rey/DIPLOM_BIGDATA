{
  "nbformat": 4,
  "nbformat_minor": 0,
  "metadata": {
    "colab": {
      "name": "Copy of Fase 1: Precios de Airbnb en la ciudad de New York - Estudiantes.ipynb",
      "provenance": [],
      "collapsed_sections": [],
      "include_colab_link": true
    },
    "kernelspec": {
      "name": "python3",
      "display_name": "Python 3"
    },
    "language_info": {
      "name": "python"
    }
  },
  "cells": [
    {
      "cell_type": "markdown",
      "metadata": {
        "id": "view-in-github",
        "colab_type": "text"
      },
      "source": [
        "<a href=\"https://colab.research.google.com/github/chris78rey/DIPLOM_BIGDATA/blob/main/Copy_of_Fase_1_Precios_de_Airbnb_en_la_ciudad_de_New_York_Estudiantes.ipynb\" target=\"_parent\"><img src=\"https://colab.research.google.com/assets/colab-badge.svg\" alt=\"Open In Colab\"/></a>"
      ]
    },
    {
      "cell_type": "markdown",
      "source": [
        "Cree una copia de este Notebook en su Drive y desarrolle el taller sobre ese documento copia. Para crear la copia debe dar click en el botón **Copiar en Drive** ubicado en el panel superior, se abrirá un nuevo notebook que podrá manipular a su antojo y que se almacenará en su Drive dentro de la Carpeta *Colab Notebooks*."
      ],
      "metadata": {
        "id": "d2CFUIQjjVTo"
      }
    },
    {
      "cell_type": "markdown",
      "source": [
        "<img src = \"https://github.com/HarryVargas96/UdeCataluna/blob/main/logo_uc_grande.png?raw=true\" alt = \"Encabezado\" width = \"100%\">  </img>\n",
        "\n"
      ],
      "metadata": {
        "id": "Qn9KhQOz9tm4"
      }
    },
    {
      "cell_type": "markdown",
      "source": [
        "# **Agrupar los diferente tipos de hospedaje de acuerdo a sus características(Cluster) Predicción del precio de hospedajes en Airbnb para la ciudad de Amsterdam**"
      ],
      "metadata": {
        "id": "Mz2E7fl9h7L_"
      }
    },
    {
      "cell_type": "markdown",
      "source": [
        "**Contexto:** Airbnb es una empresa que ofrece una plataforma de software dedicada a la oferta de alojamientos particulares y turísticos mediante la cual los anfitriones pueden publicitar y contratar el arriendo de sus propiedades con sus huéspedes; anfitriones y huéspedes pueden valorarse mutuamente, como referencia para futuros usuarios. Muchos nuevos anfitriones no cuentan con información global de tendencias del mercado por lo que sus precios no son óptimos. Airbnb gana una comisión por cada arrendamiento, por lo tanto, está interesado en que sus anfitriones cobren una tarifa óptima de acuerdo a las características del hospedaje. Si los anfitriones ganan más… Airbnb también.\n",
        "\n",
        "**Problema de Negocio:** La empresa Airbnb lo ha contratado para desarrollar un análisis descriptivo y exploratorio que permita responder la siguiente pregunta: ¿Cuál es la variable o característica más relevante para determinar el precio de un hospedaje en Airbnb?\n",
        "\n",
        "**Sistema de información:** El conjunto de datos objetivo posee información acerca de 30.000 hospedajes de la plataforma Airbnb en la ciudad de Nueva York. Los datos a usar son datos públicos creados por Inside Airbnb, para más información puede consultar [aquí]( http://insideairbnb.com/get-the-data/).\n"
      ],
      "metadata": {
        "id": "4DWyiWV6V7bW"
      }
    },
    {
      "cell_type": "markdown",
      "source": [
        "## Indicaciones para resolver el Taller"
      ],
      "metadata": {
        "id": "HBaTjU1MZoUG"
      }
    },
    {
      "cell_type": "markdown",
      "source": [
        "El objetivo de este taller es que usted pueda desarrollar un análisis exploratorio completo del dataset propuesto. Para ello tendrá que programar, investigar y analizar todos los resultados que vaya obteniendo. Tenga en cuenta las siguientes indicaciones:\n",
        "\n",
        "* Puede visualizar los resultados esperados en la mayoría de ejercicios, use esto como una guía, no es un requisito.\n",
        "* Añada comentarios al código para que documente sus soluciones. \n",
        "* **Coloque su análisis en una celda de Texto luego de cada resultado.**\n",
        "* Para resolver un ejercicio puede usar tantas celdas de Código o Texto como requiera.\n",
        "\n",
        "Si se le presenta un error de código o duda. Siga los siguientes pasos:\n",
        "1. Lea y entienda el error, para ello puede buscar en la documentación de la librería o googlearlo\n",
        "2. Intente resolverlo\n",
        "3. Comuníquese con el expero temático usando el Foro, recuerde enviar un pantallazo del error y mencionar que Ejercicio está solucionando. **Abstengase de compartir el link de su Notebook en el Foro.**\n",
        "\n",
        "\n",
        "\n",
        "A continuación, se listan algunos recursos que pueden ser valiosos para su análisis.\n",
        "* En esta página puede encontrar las gráficas que se pueden construir dependiendo de las variables disponibles, una breve explicación de cada gráfica y código para construir cada visualización. https://www.data-to-viz.com/\n",
        "* Documentación de Pandas. https://pandas.pydata.org/docs/index.html\n",
        "* Documentación de Seaborn. https://seaborn.pydata.org/index.html\n",
        "* Documentación de Folium. https://python-visualization.github.io/folium/"
      ],
      "metadata": {
        "id": "efhkBeo-U9_o"
      }
    },
    {
      "cell_type": "markdown",
      "source": [
        "## Cargar las librerías necesarias"
      ],
      "metadata": {
        "id": "Y6VyUG5tXJVk"
      }
    },
    {
      "cell_type": "markdown",
      "source": [
        "A continuación vamos a cargar las librerías necesarias para el desarrollo de este caso."
      ],
      "metadata": {
        "id": "TaTMauXVNsyt"
      }
    },
    {
      "cell_type": "code",
      "source": [
        "import numpy as np\n",
        "import pandas as pd\n",
        "import matplotlib as mpl\n",
        "import matplotlib.pyplot as plt\n",
        "import seaborn as sns\n",
        "%matplotlib inline\n",
        "sns.set()"
      ],
      "metadata": {
        "id": "eywIxOMDhsJp"
      },
      "execution_count": null,
      "outputs": []
    },
    {
      "cell_type": "code",
      "source": [
        "!python --version\n",
        "print('NumPy', np.__version__)\n",
        "print('Pandas', pd.__version__)\n",
        "print('Matplotlib', mpl.__version__)\n",
        "print('Seaborn',sns.__version__)"
      ],
      "metadata": {
        "colab": {
          "base_uri": "https://localhost:8080/"
        },
        "id": "-6WQYSOHLCz1",
        "outputId": "5f78b067-e0b6-4ef8-d8a8-34057949f5f1"
      },
      "execution_count": null,
      "outputs": [
        {
          "output_type": "stream",
          "name": "stdout",
          "text": [
            "Python 3.7.13\n",
            "NumPy 1.21.6\n",
            "Pandas 1.3.5\n",
            "Matplotlib 3.5.2\n",
            "Seaborn 0.11.2\n"
          ]
        }
      ]
    },
    {
      "cell_type": "markdown",
      "source": [
        "Este caso de uso fue creado con las siguientes versiones:\n",
        "\n",
        "```\n",
        "Python 3.7.13\n",
        "NumPy 1.21.6\n",
        "Pandas 1.3.5\n",
        "Matplotlib 3.2.2\n",
        "Seaborn 0.11.2\n",
        "```\n",
        "\n"
      ],
      "metadata": {
        "id": "ZO3ynx-mLxJr"
      }
    },
    {
      "cell_type": "markdown",
      "source": [
        "## Cargar el dataset de trabajo"
      ],
      "metadata": {
        "id": "o5kPM6IKYOs9"
      }
    },
    {
      "cell_type": "code",
      "source": [
        "pd.options.display.max_columns = 100 # Permite visualizar todas las columnas del dataframe\n",
        "\n",
        "airbnb =  pd.read_csv('https://github.com/chris78rey/DIPLOM_BIGDATA/blob/main/listings_amsterdam_sin_limpiar.csv?raw=true')\n",
        "\n",
        "airbnb.head(3)"
      ],
      "metadata": {
        "colab": {
          "base_uri": "https://localhost:8080/",
          "height": 450
        },
        "id": "63YgHaHeiG6m",
        "outputId": "9382dd8f-1077-4a93-c095-d1e219072758"
      },
      "execution_count": null,
      "outputs": [
        {
          "output_type": "execute_result",
          "data": {
            "text/plain": [
              "         id                            listing_url       scrape_id  \\\n",
              "0  23726706  https://www.airbnb.com/rooms/23726706  20220605131734   \n",
              "1  35815036  https://www.airbnb.com/rooms/35815036  20220605131734   \n",
              "2  31553121  https://www.airbnb.com/rooms/31553121  20220605131734   \n",
              "\n",
              "  last_scraped                                               name  \\\n",
              "0   2022-06-05  Private room 20 minutes from Amsterdam + Break...   \n",
              "1   2022-06-05  Vrijstaand vakantiehuis, privé tuin aan het water   \n",
              "2   2022-06-05                    Quiet Guesthouse near Amsterdam   \n",
              "\n",
              "                                         description  \\\n",
              "0  Cousy  private room 20 min. from Amsterdam. Sh...   \n",
              "1  Bij het pittoreske dorpje Watergang ligt ons p...   \n",
              "2  Welcome to the countryside north of Amsterdam ...   \n",
              "\n",
              "                               neighborhood_overview  \\\n",
              "0  We live in a nice Cousy and clean house with e...   \n",
              "1  U heeft hier diverse mogelijkheden. Zo kunt u ...   \n",
              "2  Within 6 kilometers of the city center you'll ...   \n",
              "\n",
              "                                         picture_url    host_id  \\\n",
              "0  https://a0.muscache.com/pictures/eb6d6636-02d6...  122619127   \n",
              "1  https://a0.muscache.com/pictures/e309d415-78de...  269425139   \n",
              "2  https://a0.muscache.com/pictures/64edc273-3b2b...   76806621   \n",
              "\n",
              "                                      host_url host_name  host_since  \\\n",
              "0  https://www.airbnb.com/users/show/122619127  Patricia  2017-03-26   \n",
              "1  https://www.airbnb.com/users/show/269425139     Lydia  2019-06-18   \n",
              "2   https://www.airbnb.com/users/show/76806621      Ralf  2016-06-09   \n",
              "\n",
              "                           host_location  \\\n",
              "0     Diemen, North Holland, Netherlands   \n",
              "1  Watergang, North Holland, Netherlands   \n",
              "2  Landsmeer, North Holland, Netherlands   \n",
              "\n",
              "                                          host_about host_response_time  \\\n",
              "0  Hi, Welcome. we are so glade we are able to op...     within an hour   \n",
              "1                                                NaN     within an hour   \n",
              "2                                                NaN     within an hour   \n",
              "\n",
              "  host_response_rate host_acceptance_rate host_is_superhost  \\\n",
              "0               100%                  95%                 f   \n",
              "1               100%                  99%                 t   \n",
              "2               100%                 100%                 f   \n",
              "\n",
              "                                  host_thumbnail_url  \\\n",
              "0  https://a0.muscache.com/im/pictures/user/52706...   \n",
              "1  https://a0.muscache.com/im/pictures/user/af417...   \n",
              "2  https://a0.muscache.com/im/pictures/user/1df22...   \n",
              "\n",
              "                                    host_picture_url host_neighbourhood  \\\n",
              "0  https://a0.muscache.com/im/pictures/user/52706...                NaN   \n",
              "1  https://a0.muscache.com/im/pictures/user/af417...                NaN   \n",
              "2  https://a0.muscache.com/im/pictures/user/1df22...                NaN   \n",
              "\n",
              "   host_listings_count  host_total_listings_count  \\\n",
              "0                    1                          1   \n",
              "1                    1                          1   \n",
              "2                    1                          1   \n",
              "\n",
              "                 host_verifications host_has_profile_pic  \\\n",
              "0  ['email', 'phone', 'work_email']                    t   \n",
              "1                ['email', 'phone']                    t   \n",
              "2                ['email', 'phone']                    t   \n",
              "\n",
              "  host_identity_verified                          neighbourhood  \\\n",
              "0                      t     Diemen, Noord-Holland, Netherlands   \n",
              "1                      t  Watergang, Noord-Holland, Netherlands   \n",
              "2                      t  Landsmeer, Noord-Holland, Netherlands   \n",
              "\n",
              "     neighbourhood_cleansed  neighbourhood_group_cleansed  latitude  \\\n",
              "0  IJburg - Zeeburgereiland                           NaN  52.34916   \n",
              "1                Noord-Oost                           NaN  52.42419   \n",
              "2                Noord-West                           NaN  52.43237   \n",
              "\n",
              "   longitude         property_type        room_type  accommodates  bathrooms  \\\n",
              "0    4.97879  Private room in home     Private room             2        NaN   \n",
              "1    4.95689             Tiny home  Entire home/apt             2        NaN   \n",
              "2    4.91821     Entire guesthouse  Entire home/apt             4        NaN   \n",
              "\n",
              "  bathrooms_text  bedrooms  beds  \\\n",
              "0  1 shared bath       1.0   1.0   \n",
              "1      1.5 baths       NaN   1.0   \n",
              "2         1 bath       1.0   3.0   \n",
              "\n",
              "                                           amenities    price  minimum_nights  \\\n",
              "0  [\"Carbon monoxide alarm\", \"Dishes and silverwa...   $88.00               2   \n",
              "1  [\"Carbon monoxide alarm\", \"Dishes and silverwa...  $105.00               3   \n",
              "2  [\"Dishwasher\", \"Carbon monoxide alarm\", \"Ether...  $152.00               2   \n",
              "\n",
              "   maximum_nights  minimum_minimum_nights  maximum_minimum_nights  \\\n",
              "0              14                     2.0                     2.0   \n",
              "1             100                     1.0                     3.0   \n",
              "2              60                     2.0                     2.0   \n",
              "\n",
              "   minimum_maximum_nights  maximum_maximum_nights  minimum_nights_avg_ntm  \\\n",
              "0                  1125.0                  1125.0                     2.0   \n",
              "1                  1125.0                  1125.0                     3.0   \n",
              "2                  1125.0                  1125.0                     2.0   \n",
              "\n",
              "   maximum_nights_avg_ntm  calendar_updated has_availability  availability_30  \\\n",
              "0                  1125.0               NaN                t                0   \n",
              "1                  1125.0               NaN                t                4   \n",
              "2                  1125.0               NaN                t                0   \n",
              "\n",
              "   availability_60  availability_90  availability_365 calendar_last_scraped  \\\n",
              "0                6               20                66            2022-06-05   \n",
              "1                6               12               243            2022-06-05   \n",
              "2                3                3                 3            2022-06-05   \n",
              "\n",
              "   number_of_reviews  number_of_reviews_ltm  number_of_reviews_l30d  \\\n",
              "0                 78                     11                       3   \n",
              "1                 95                     36                       6   \n",
              "2                 82                     26                       1   \n",
              "\n",
              "  first_review last_review  review_scores_rating  review_scores_accuracy  \\\n",
              "0   2018-03-26  2022-05-29                  4.99                    4.96   \n",
              "1   2019-06-26  2022-06-02                  4.96                    4.94   \n",
              "2   2019-02-04  2022-05-29                  4.74                    4.85   \n",
              "\n",
              "   review_scores_cleanliness  review_scores_checkin  \\\n",
              "0                       4.97                   4.95   \n",
              "1                       5.00                   4.98   \n",
              "2                       4.84                   4.98   \n",
              "\n",
              "   review_scores_communication  review_scores_location  review_scores_value  \\\n",
              "0                         4.97                    4.73                 4.87   \n",
              "1                         4.98                    4.81                 4.83   \n",
              "2                         4.95                    4.62                 4.59   \n",
              "\n",
              "                license instant_bookable  calculated_host_listings_count  \\\n",
              "0  038469D9AA6BDF1142CE                t                               1   \n",
              "1                   NaN                f                               1   \n",
              "2                   NaN                f                               1   \n",
              "\n",
              "   calculated_host_listings_count_entire_homes  \\\n",
              "0                                            0   \n",
              "1                                            1   \n",
              "2                                            1   \n",
              "\n",
              "   calculated_host_listings_count_private_rooms  \\\n",
              "0                                             1   \n",
              "1                                             0   \n",
              "2                                             0   \n",
              "\n",
              "   calculated_host_listings_count_shared_rooms  reviews_per_month  \n",
              "0                                            0               1.53  \n",
              "1                                            0               2.65  \n",
              "2                                            0               2.02  "
            ],
            "text/html": [
              "\n",
              "  <div id=\"df-1c62fb6c-09b5-473b-b3da-27dc88b1de59\">\n",
              "    <div class=\"colab-df-container\">\n",
              "      <div>\n",
              "<style scoped>\n",
              "    .dataframe tbody tr th:only-of-type {\n",
              "        vertical-align: middle;\n",
              "    }\n",
              "\n",
              "    .dataframe tbody tr th {\n",
              "        vertical-align: top;\n",
              "    }\n",
              "\n",
              "    .dataframe thead th {\n",
              "        text-align: right;\n",
              "    }\n",
              "</style>\n",
              "<table border=\"1\" class=\"dataframe\">\n",
              "  <thead>\n",
              "    <tr style=\"text-align: right;\">\n",
              "      <th></th>\n",
              "      <th>id</th>\n",
              "      <th>listing_url</th>\n",
              "      <th>scrape_id</th>\n",
              "      <th>last_scraped</th>\n",
              "      <th>name</th>\n",
              "      <th>description</th>\n",
              "      <th>neighborhood_overview</th>\n",
              "      <th>picture_url</th>\n",
              "      <th>host_id</th>\n",
              "      <th>host_url</th>\n",
              "      <th>host_name</th>\n",
              "      <th>host_since</th>\n",
              "      <th>host_location</th>\n",
              "      <th>host_about</th>\n",
              "      <th>host_response_time</th>\n",
              "      <th>host_response_rate</th>\n",
              "      <th>host_acceptance_rate</th>\n",
              "      <th>host_is_superhost</th>\n",
              "      <th>host_thumbnail_url</th>\n",
              "      <th>host_picture_url</th>\n",
              "      <th>host_neighbourhood</th>\n",
              "      <th>host_listings_count</th>\n",
              "      <th>host_total_listings_count</th>\n",
              "      <th>host_verifications</th>\n",
              "      <th>host_has_profile_pic</th>\n",
              "      <th>host_identity_verified</th>\n",
              "      <th>neighbourhood</th>\n",
              "      <th>neighbourhood_cleansed</th>\n",
              "      <th>neighbourhood_group_cleansed</th>\n",
              "      <th>latitude</th>\n",
              "      <th>longitude</th>\n",
              "      <th>property_type</th>\n",
              "      <th>room_type</th>\n",
              "      <th>accommodates</th>\n",
              "      <th>bathrooms</th>\n",
              "      <th>bathrooms_text</th>\n",
              "      <th>bedrooms</th>\n",
              "      <th>beds</th>\n",
              "      <th>amenities</th>\n",
              "      <th>price</th>\n",
              "      <th>minimum_nights</th>\n",
              "      <th>maximum_nights</th>\n",
              "      <th>minimum_minimum_nights</th>\n",
              "      <th>maximum_minimum_nights</th>\n",
              "      <th>minimum_maximum_nights</th>\n",
              "      <th>maximum_maximum_nights</th>\n",
              "      <th>minimum_nights_avg_ntm</th>\n",
              "      <th>maximum_nights_avg_ntm</th>\n",
              "      <th>calendar_updated</th>\n",
              "      <th>has_availability</th>\n",
              "      <th>availability_30</th>\n",
              "      <th>availability_60</th>\n",
              "      <th>availability_90</th>\n",
              "      <th>availability_365</th>\n",
              "      <th>calendar_last_scraped</th>\n",
              "      <th>number_of_reviews</th>\n",
              "      <th>number_of_reviews_ltm</th>\n",
              "      <th>number_of_reviews_l30d</th>\n",
              "      <th>first_review</th>\n",
              "      <th>last_review</th>\n",
              "      <th>review_scores_rating</th>\n",
              "      <th>review_scores_accuracy</th>\n",
              "      <th>review_scores_cleanliness</th>\n",
              "      <th>review_scores_checkin</th>\n",
              "      <th>review_scores_communication</th>\n",
              "      <th>review_scores_location</th>\n",
              "      <th>review_scores_value</th>\n",
              "      <th>license</th>\n",
              "      <th>instant_bookable</th>\n",
              "      <th>calculated_host_listings_count</th>\n",
              "      <th>calculated_host_listings_count_entire_homes</th>\n",
              "      <th>calculated_host_listings_count_private_rooms</th>\n",
              "      <th>calculated_host_listings_count_shared_rooms</th>\n",
              "      <th>reviews_per_month</th>\n",
              "    </tr>\n",
              "  </thead>\n",
              "  <tbody>\n",
              "    <tr>\n",
              "      <th>0</th>\n",
              "      <td>23726706</td>\n",
              "      <td>https://www.airbnb.com/rooms/23726706</td>\n",
              "      <td>20220605131734</td>\n",
              "      <td>2022-06-05</td>\n",
              "      <td>Private room 20 minutes from Amsterdam + Break...</td>\n",
              "      <td>Cousy  private room 20 min. from Amsterdam. Sh...</td>\n",
              "      <td>We live in a nice Cousy and clean house with e...</td>\n",
              "      <td>https://a0.muscache.com/pictures/eb6d6636-02d6...</td>\n",
              "      <td>122619127</td>\n",
              "      <td>https://www.airbnb.com/users/show/122619127</td>\n",
              "      <td>Patricia</td>\n",
              "      <td>2017-03-26</td>\n",
              "      <td>Diemen, North Holland, Netherlands</td>\n",
              "      <td>Hi, Welcome. we are so glade we are able to op...</td>\n",
              "      <td>within an hour</td>\n",
              "      <td>100%</td>\n",
              "      <td>95%</td>\n",
              "      <td>f</td>\n",
              "      <td>https://a0.muscache.com/im/pictures/user/52706...</td>\n",
              "      <td>https://a0.muscache.com/im/pictures/user/52706...</td>\n",
              "      <td>NaN</td>\n",
              "      <td>1</td>\n",
              "      <td>1</td>\n",
              "      <td>['email', 'phone', 'work_email']</td>\n",
              "      <td>t</td>\n",
              "      <td>t</td>\n",
              "      <td>Diemen, Noord-Holland, Netherlands</td>\n",
              "      <td>IJburg - Zeeburgereiland</td>\n",
              "      <td>NaN</td>\n",
              "      <td>52.34916</td>\n",
              "      <td>4.97879</td>\n",
              "      <td>Private room in home</td>\n",
              "      <td>Private room</td>\n",
              "      <td>2</td>\n",
              "      <td>NaN</td>\n",
              "      <td>1 shared bath</td>\n",
              "      <td>1.0</td>\n",
              "      <td>1.0</td>\n",
              "      <td>[\"Carbon monoxide alarm\", \"Dishes and silverwa...</td>\n",
              "      <td>$88.00</td>\n",
              "      <td>2</td>\n",
              "      <td>14</td>\n",
              "      <td>2.0</td>\n",
              "      <td>2.0</td>\n",
              "      <td>1125.0</td>\n",
              "      <td>1125.0</td>\n",
              "      <td>2.0</td>\n",
              "      <td>1125.0</td>\n",
              "      <td>NaN</td>\n",
              "      <td>t</td>\n",
              "      <td>0</td>\n",
              "      <td>6</td>\n",
              "      <td>20</td>\n",
              "      <td>66</td>\n",
              "      <td>2022-06-05</td>\n",
              "      <td>78</td>\n",
              "      <td>11</td>\n",
              "      <td>3</td>\n",
              "      <td>2018-03-26</td>\n",
              "      <td>2022-05-29</td>\n",
              "      <td>4.99</td>\n",
              "      <td>4.96</td>\n",
              "      <td>4.97</td>\n",
              "      <td>4.95</td>\n",
              "      <td>4.97</td>\n",
              "      <td>4.73</td>\n",
              "      <td>4.87</td>\n",
              "      <td>038469D9AA6BDF1142CE</td>\n",
              "      <td>t</td>\n",
              "      <td>1</td>\n",
              "      <td>0</td>\n",
              "      <td>1</td>\n",
              "      <td>0</td>\n",
              "      <td>1.53</td>\n",
              "    </tr>\n",
              "    <tr>\n",
              "      <th>1</th>\n",
              "      <td>35815036</td>\n",
              "      <td>https://www.airbnb.com/rooms/35815036</td>\n",
              "      <td>20220605131734</td>\n",
              "      <td>2022-06-05</td>\n",
              "      <td>Vrijstaand vakantiehuis, privé tuin aan het water</td>\n",
              "      <td>Bij het pittoreske dorpje Watergang ligt ons p...</td>\n",
              "      <td>U heeft hier diverse mogelijkheden. Zo kunt u ...</td>\n",
              "      <td>https://a0.muscache.com/pictures/e309d415-78de...</td>\n",
              "      <td>269425139</td>\n",
              "      <td>https://www.airbnb.com/users/show/269425139</td>\n",
              "      <td>Lydia</td>\n",
              "      <td>2019-06-18</td>\n",
              "      <td>Watergang, North Holland, Netherlands</td>\n",
              "      <td>NaN</td>\n",
              "      <td>within an hour</td>\n",
              "      <td>100%</td>\n",
              "      <td>99%</td>\n",
              "      <td>t</td>\n",
              "      <td>https://a0.muscache.com/im/pictures/user/af417...</td>\n",
              "      <td>https://a0.muscache.com/im/pictures/user/af417...</td>\n",
              "      <td>NaN</td>\n",
              "      <td>1</td>\n",
              "      <td>1</td>\n",
              "      <td>['email', 'phone']</td>\n",
              "      <td>t</td>\n",
              "      <td>t</td>\n",
              "      <td>Watergang, Noord-Holland, Netherlands</td>\n",
              "      <td>Noord-Oost</td>\n",
              "      <td>NaN</td>\n",
              "      <td>52.42419</td>\n",
              "      <td>4.95689</td>\n",
              "      <td>Tiny home</td>\n",
              "      <td>Entire home/apt</td>\n",
              "      <td>2</td>\n",
              "      <td>NaN</td>\n",
              "      <td>1.5 baths</td>\n",
              "      <td>NaN</td>\n",
              "      <td>1.0</td>\n",
              "      <td>[\"Carbon monoxide alarm\", \"Dishes and silverwa...</td>\n",
              "      <td>$105.00</td>\n",
              "      <td>3</td>\n",
              "      <td>100</td>\n",
              "      <td>1.0</td>\n",
              "      <td>3.0</td>\n",
              "      <td>1125.0</td>\n",
              "      <td>1125.0</td>\n",
              "      <td>3.0</td>\n",
              "      <td>1125.0</td>\n",
              "      <td>NaN</td>\n",
              "      <td>t</td>\n",
              "      <td>4</td>\n",
              "      <td>6</td>\n",
              "      <td>12</td>\n",
              "      <td>243</td>\n",
              "      <td>2022-06-05</td>\n",
              "      <td>95</td>\n",
              "      <td>36</td>\n",
              "      <td>6</td>\n",
              "      <td>2019-06-26</td>\n",
              "      <td>2022-06-02</td>\n",
              "      <td>4.96</td>\n",
              "      <td>4.94</td>\n",
              "      <td>5.00</td>\n",
              "      <td>4.98</td>\n",
              "      <td>4.98</td>\n",
              "      <td>4.81</td>\n",
              "      <td>4.83</td>\n",
              "      <td>NaN</td>\n",
              "      <td>f</td>\n",
              "      <td>1</td>\n",
              "      <td>1</td>\n",
              "      <td>0</td>\n",
              "      <td>0</td>\n",
              "      <td>2.65</td>\n",
              "    </tr>\n",
              "    <tr>\n",
              "      <th>2</th>\n",
              "      <td>31553121</td>\n",
              "      <td>https://www.airbnb.com/rooms/31553121</td>\n",
              "      <td>20220605131734</td>\n",
              "      <td>2022-06-05</td>\n",
              "      <td>Quiet Guesthouse near Amsterdam</td>\n",
              "      <td>Welcome to the countryside north of Amsterdam ...</td>\n",
              "      <td>Within 6 kilometers of the city center you'll ...</td>\n",
              "      <td>https://a0.muscache.com/pictures/64edc273-3b2b...</td>\n",
              "      <td>76806621</td>\n",
              "      <td>https://www.airbnb.com/users/show/76806621</td>\n",
              "      <td>Ralf</td>\n",
              "      <td>2016-06-09</td>\n",
              "      <td>Landsmeer, North Holland, Netherlands</td>\n",
              "      <td>NaN</td>\n",
              "      <td>within an hour</td>\n",
              "      <td>100%</td>\n",
              "      <td>100%</td>\n",
              "      <td>f</td>\n",
              "      <td>https://a0.muscache.com/im/pictures/user/1df22...</td>\n",
              "      <td>https://a0.muscache.com/im/pictures/user/1df22...</td>\n",
              "      <td>NaN</td>\n",
              "      <td>1</td>\n",
              "      <td>1</td>\n",
              "      <td>['email', 'phone']</td>\n",
              "      <td>t</td>\n",
              "      <td>t</td>\n",
              "      <td>Landsmeer, Noord-Holland, Netherlands</td>\n",
              "      <td>Noord-West</td>\n",
              "      <td>NaN</td>\n",
              "      <td>52.43237</td>\n",
              "      <td>4.91821</td>\n",
              "      <td>Entire guesthouse</td>\n",
              "      <td>Entire home/apt</td>\n",
              "      <td>4</td>\n",
              "      <td>NaN</td>\n",
              "      <td>1 bath</td>\n",
              "      <td>1.0</td>\n",
              "      <td>3.0</td>\n",
              "      <td>[\"Dishwasher\", \"Carbon monoxide alarm\", \"Ether...</td>\n",
              "      <td>$152.00</td>\n",
              "      <td>2</td>\n",
              "      <td>60</td>\n",
              "      <td>2.0</td>\n",
              "      <td>2.0</td>\n",
              "      <td>1125.0</td>\n",
              "      <td>1125.0</td>\n",
              "      <td>2.0</td>\n",
              "      <td>1125.0</td>\n",
              "      <td>NaN</td>\n",
              "      <td>t</td>\n",
              "      <td>0</td>\n",
              "      <td>3</td>\n",
              "      <td>3</td>\n",
              "      <td>3</td>\n",
              "      <td>2022-06-05</td>\n",
              "      <td>82</td>\n",
              "      <td>26</td>\n",
              "      <td>1</td>\n",
              "      <td>2019-02-04</td>\n",
              "      <td>2022-05-29</td>\n",
              "      <td>4.74</td>\n",
              "      <td>4.85</td>\n",
              "      <td>4.84</td>\n",
              "      <td>4.98</td>\n",
              "      <td>4.95</td>\n",
              "      <td>4.62</td>\n",
              "      <td>4.59</td>\n",
              "      <td>NaN</td>\n",
              "      <td>f</td>\n",
              "      <td>1</td>\n",
              "      <td>1</td>\n",
              "      <td>0</td>\n",
              "      <td>0</td>\n",
              "      <td>2.02</td>\n",
              "    </tr>\n",
              "  </tbody>\n",
              "</table>\n",
              "</div>\n",
              "      <button class=\"colab-df-convert\" onclick=\"convertToInteractive('df-1c62fb6c-09b5-473b-b3da-27dc88b1de59')\"\n",
              "              title=\"Convert this dataframe to an interactive table.\"\n",
              "              style=\"display:none;\">\n",
              "        \n",
              "  <svg xmlns=\"http://www.w3.org/2000/svg\" height=\"24px\"viewBox=\"0 0 24 24\"\n",
              "       width=\"24px\">\n",
              "    <path d=\"M0 0h24v24H0V0z\" fill=\"none\"/>\n",
              "    <path d=\"M18.56 5.44l.94 2.06.94-2.06 2.06-.94-2.06-.94-.94-2.06-.94 2.06-2.06.94zm-11 1L8.5 8.5l.94-2.06 2.06-.94-2.06-.94L8.5 2.5l-.94 2.06-2.06.94zm10 10l.94 2.06.94-2.06 2.06-.94-2.06-.94-.94-2.06-.94 2.06-2.06.94z\"/><path d=\"M17.41 7.96l-1.37-1.37c-.4-.4-.92-.59-1.43-.59-.52 0-1.04.2-1.43.59L10.3 9.45l-7.72 7.72c-.78.78-.78 2.05 0 2.83L4 21.41c.39.39.9.59 1.41.59.51 0 1.02-.2 1.41-.59l7.78-7.78 2.81-2.81c.8-.78.8-2.07 0-2.86zM5.41 20L4 18.59l7.72-7.72 1.47 1.35L5.41 20z\"/>\n",
              "  </svg>\n",
              "      </button>\n",
              "      \n",
              "  <style>\n",
              "    .colab-df-container {\n",
              "      display:flex;\n",
              "      flex-wrap:wrap;\n",
              "      gap: 12px;\n",
              "    }\n",
              "\n",
              "    .colab-df-convert {\n",
              "      background-color: #E8F0FE;\n",
              "      border: none;\n",
              "      border-radius: 50%;\n",
              "      cursor: pointer;\n",
              "      display: none;\n",
              "      fill: #1967D2;\n",
              "      height: 32px;\n",
              "      padding: 0 0 0 0;\n",
              "      width: 32px;\n",
              "    }\n",
              "\n",
              "    .colab-df-convert:hover {\n",
              "      background-color: #E2EBFA;\n",
              "      box-shadow: 0px 1px 2px rgba(60, 64, 67, 0.3), 0px 1px 3px 1px rgba(60, 64, 67, 0.15);\n",
              "      fill: #174EA6;\n",
              "    }\n",
              "\n",
              "    [theme=dark] .colab-df-convert {\n",
              "      background-color: #3B4455;\n",
              "      fill: #D2E3FC;\n",
              "    }\n",
              "\n",
              "    [theme=dark] .colab-df-convert:hover {\n",
              "      background-color: #434B5C;\n",
              "      box-shadow: 0px 1px 3px 1px rgba(0, 0, 0, 0.15);\n",
              "      filter: drop-shadow(0px 1px 2px rgba(0, 0, 0, 0.3));\n",
              "      fill: #FFFFFF;\n",
              "    }\n",
              "  </style>\n",
              "\n",
              "      <script>\n",
              "        const buttonEl =\n",
              "          document.querySelector('#df-1c62fb6c-09b5-473b-b3da-27dc88b1de59 button.colab-df-convert');\n",
              "        buttonEl.style.display =\n",
              "          google.colab.kernel.accessAllowed ? 'block' : 'none';\n",
              "\n",
              "        async function convertToInteractive(key) {\n",
              "          const element = document.querySelector('#df-1c62fb6c-09b5-473b-b3da-27dc88b1de59');\n",
              "          const dataTable =\n",
              "            await google.colab.kernel.invokeFunction('convertToInteractive',\n",
              "                                                     [key], {});\n",
              "          if (!dataTable) return;\n",
              "\n",
              "          const docLinkHtml = 'Like what you see? Visit the ' +\n",
              "            '<a target=\"_blank\" href=https://colab.research.google.com/notebooks/data_table.ipynb>data table notebook</a>'\n",
              "            + ' to learn more about interactive tables.';\n",
              "          element.innerHTML = '';\n",
              "          dataTable['output_type'] = 'display_data';\n",
              "          await google.colab.output.renderOutput(dataTable, element);\n",
              "          const docLink = document.createElement('div');\n",
              "          docLink.innerHTML = docLinkHtml;\n",
              "          element.appendChild(docLink);\n",
              "        }\n",
              "      </script>\n",
              "    </div>\n",
              "  </div>\n",
              "  "
            ]
          },
          "metadata": {},
          "execution_count": 89
        }
      ]
    },
    {
      "cell_type": "code",
      "source": [
        "airbnb['price'].describe()"
      ],
      "metadata": {
        "id": "8CiuXRBUdIbZ",
        "outputId": "2e2ca630-41f9-4b9a-d80f-8358f4650c0a",
        "colab": {
          "base_uri": "https://localhost:8080/"
        }
      },
      "execution_count": null,
      "outputs": [
        {
          "output_type": "execute_result",
          "data": {
            "text/plain": [
              "count        6173\n",
              "unique        532\n",
              "top       $150.00\n",
              "freq          249\n",
              "Name: price, dtype: object"
            ]
          },
          "metadata": {},
          "execution_count": 90
        }
      ]
    },
    {
      "cell_type": "code",
      "source": [
        "# Dimensiones del dataframe\n",
        "airbnb.shape"
      ],
      "metadata": {
        "colab": {
          "base_uri": "https://localhost:8080/"
        },
        "id": "iZf8Jq1TbyDM",
        "outputId": "f93aecfa-010f-48b7-880f-f017fe8576c6"
      },
      "execution_count": null,
      "outputs": [
        {
          "output_type": "execute_result",
          "data": {
            "text/plain": [
              "(6173, 74)"
            ]
          },
          "metadata": {},
          "execution_count": 91
        }
      ]
    },
    {
      "cell_type": "code",
      "source": [
        "# Resumen de las variables del dataframe\n",
        "airbnb.info()"
      ],
      "metadata": {
        "colab": {
          "base_uri": "https://localhost:8080/"
        },
        "id": "eDmHmLfe6FOG",
        "outputId": "b0036be4-78e7-47e5-d06a-01de3d3cda41"
      },
      "execution_count": null,
      "outputs": [
        {
          "output_type": "stream",
          "name": "stdout",
          "text": [
            "<class 'pandas.core.frame.DataFrame'>\n",
            "RangeIndex: 6173 entries, 0 to 6172\n",
            "Data columns (total 74 columns):\n",
            " #   Column                                        Non-Null Count  Dtype  \n",
            "---  ------                                        --------------  -----  \n",
            " 0   id                                            6173 non-null   int64  \n",
            " 1   listing_url                                   6173 non-null   object \n",
            " 2   scrape_id                                     6173 non-null   int64  \n",
            " 3   last_scraped                                  6173 non-null   object \n",
            " 4   name                                          6173 non-null   object \n",
            " 5   description                                   6157 non-null   object \n",
            " 6   neighborhood_overview                         4316 non-null   object \n",
            " 7   picture_url                                   6173 non-null   object \n",
            " 8   host_id                                       6173 non-null   int64  \n",
            " 9   host_url                                      6173 non-null   object \n",
            " 10  host_name                                     6173 non-null   object \n",
            " 11  host_since                                    6173 non-null   object \n",
            " 12  host_location                                 6157 non-null   object \n",
            " 13  host_about                                    3853 non-null   object \n",
            " 14  host_response_time                            4692 non-null   object \n",
            " 15  host_response_rate                            4692 non-null   object \n",
            " 16  host_acceptance_rate                          5373 non-null   object \n",
            " 17  host_is_superhost                             6173 non-null   object \n",
            " 18  host_thumbnail_url                            6173 non-null   object \n",
            " 19  host_picture_url                              6173 non-null   object \n",
            " 20  host_neighbourhood                            3060 non-null   object \n",
            " 21  host_listings_count                           6173 non-null   int64  \n",
            " 22  host_total_listings_count                     6173 non-null   int64  \n",
            " 23  host_verifications                            6173 non-null   object \n",
            " 24  host_has_profile_pic                          6173 non-null   object \n",
            " 25  host_identity_verified                        6173 non-null   object \n",
            " 26  neighbourhood                                 4316 non-null   object \n",
            " 27  neighbourhood_cleansed                        6173 non-null   object \n",
            " 28  neighbourhood_group_cleansed                  0 non-null      float64\n",
            " 29  latitude                                      6173 non-null   float64\n",
            " 30  longitude                                     6173 non-null   float64\n",
            " 31  property_type                                 6173 non-null   object \n",
            " 32  room_type                                     6173 non-null   object \n",
            " 33  accommodates                                  6173 non-null   int64  \n",
            " 34  bathrooms                                     0 non-null      float64\n",
            " 35  bathrooms_text                                6158 non-null   object \n",
            " 36  bedrooms                                      5859 non-null   float64\n",
            " 37  beds                                          6082 non-null   float64\n",
            " 38  amenities                                     6173 non-null   object \n",
            " 39  price                                         6173 non-null   object \n",
            " 40  minimum_nights                                6173 non-null   int64  \n",
            " 41  maximum_nights                                6173 non-null   int64  \n",
            " 42  minimum_minimum_nights                        6171 non-null   float64\n",
            " 43  maximum_minimum_nights                        6171 non-null   float64\n",
            " 44  minimum_maximum_nights                        6171 non-null   float64\n",
            " 45  maximum_maximum_nights                        6171 non-null   float64\n",
            " 46  minimum_nights_avg_ntm                        6171 non-null   float64\n",
            " 47  maximum_nights_avg_ntm                        6171 non-null   float64\n",
            " 48  calendar_updated                              0 non-null      float64\n",
            " 49  has_availability                              6173 non-null   object \n",
            " 50  availability_30                               6173 non-null   int64  \n",
            " 51  availability_60                               6173 non-null   int64  \n",
            " 52  availability_90                               6173 non-null   int64  \n",
            " 53  availability_365                              6173 non-null   int64  \n",
            " 54  calendar_last_scraped                         6173 non-null   object \n",
            " 55  number_of_reviews                             6173 non-null   int64  \n",
            " 56  number_of_reviews_ltm                         6173 non-null   int64  \n",
            " 57  number_of_reviews_l30d                        6173 non-null   int64  \n",
            " 58  first_review                                  5583 non-null   object \n",
            " 59  last_review                                   5583 non-null   object \n",
            " 60  review_scores_rating                          5583 non-null   float64\n",
            " 61  review_scores_accuracy                        5575 non-null   float64\n",
            " 62  review_scores_cleanliness                     5575 non-null   float64\n",
            " 63  review_scores_checkin                         5575 non-null   float64\n",
            " 64  review_scores_communication                   5575 non-null   float64\n",
            " 65  review_scores_location                        5575 non-null   float64\n",
            " 66  review_scores_value                           5575 non-null   float64\n",
            " 67  license                                       5758 non-null   object \n",
            " 68  instant_bookable                              6173 non-null   object \n",
            " 69  calculated_host_listings_count                6173 non-null   int64  \n",
            " 70  calculated_host_listings_count_entire_homes   6173 non-null   int64  \n",
            " 71  calculated_host_listings_count_private_rooms  6173 non-null   int64  \n",
            " 72  calculated_host_listings_count_shared_rooms   6173 non-null   int64  \n",
            " 73  reviews_per_month                             5583 non-null   float64\n",
            "dtypes: float64(21), int64(19), object(34)\n",
            "memory usage: 3.5+ MB\n"
          ]
        }
      ]
    },
    {
      "cell_type": "markdown",
      "source": [
        "## Análisis Univariado"
      ],
      "metadata": {
        "id": "7LhZaQhRlN18"
      }
    },
    {
      "cell_type": "markdown",
      "source": [
        "### Ejercicio 1\n",
        "\n",
        "Como puede observar en el resumen anterior, el dataframe airbnb tiene 28 columnas. \n",
        "Haga la detección de las variables listadas a continuación, siga la tabla de ejemplo.\n",
        "\n",
        "* price\n",
        "* latitud\n",
        "* longitud\n",
        "* host_is_superhost\n",
        "* neighbourhood\n",
        "* property_type\n",
        "* room_types\n",
        "* bathrooms\n",
        "* bedrooms\n",
        "* number_of_reviews\n",
        "* reviews_per_month\n",
        "\n",
        "\n",
        "[Aquí](https://docs.google.com/spreadsheets/d/1iWCNJcSutYqpULSQHlNyGInUvHg2BoUGoNRIGa6Szc4/edit?usp=sharing) encontrará el diccionario de Datos para el conjunto de datos de trabajo.\n",
        "\n",
        "Nota: Puede encontrar variables que estén representadas por números, sin embargo, su tipología es cualitativa o categórica."
      ],
      "metadata": {
        "id": "vp6U7ZfPZnX9"
      }
    },
    {
      "cell_type": "markdown",
      "source": [
        "Respuesta:\n",
        "\n",
        "|Nombre de la variable|Descripción|Tipología estadística|Tipología computacional|\n",
        "|---|---|---|---|\n",
        "|price|Precio diario en dólares|Cuantitativa continua|int|\n",
        "|latitude|Latitud basado en World Geodetic System|Cuantitativa continua|float|\n",
        "|parking|Si tiene o no tiene parqueadero|Cualitativa dicotómico|int|\n",
        "|host_is_superhost|Toma el valor de true o false|Cualitativa dicotómico|boolean|\n",
        "|neighbourhood|Vecindario|Cuantitativa continua|text|\n",
        "|property_type|Tipo de propiedad autoseleccionable|Cualitativa dicotómico|text|\n",
        "|room_types|Agrupamiento de las casas|Cualitativa dicotómico|text|\n",
        "|bathrooms|Numero de baños en la lista|Cuantitativa continua|numerico|\n",
        "|bedrooms| Numero de dormitorios|Cuantitativa continua|int|\n",
        "|number_of_reviews|Numero de revisiones|Cuantitativa continua|int|\n",
        "|reviews_per_month|Numero de revisiones en su vida útil|Cuantitativa continua|numerico|"
      ],
      "metadata": {
        "id": "qqhFtLDrY8Qy"
      }
    },
    {
      "cell_type": "markdown",
      "source": [
        "### Ejercicio 2\n",
        "\n",
        "Obtenga un resumen estadístico para las variables: price, bedrooms, bathrooms latitude y longitude. Haga un corto análisis de sus hallazgos. ¿Cuál es el rango de cada variable? ¿La distribución de la variable es simétrica? ¿Hay atípicos? ¿Los valores son lógicos en el contexto del negocio?\n",
        "\n"
      ],
      "metadata": {
        "id": "CcDNziWebnar"
      }
    },
    {
      "cell_type": "markdown",
      "source": [
        "<details>    \n",
        "<summary>\n",
        "    <font size=\"3\" color=\"darkblue\"><b>Pistas</b></font>\n",
        "</summary>\n",
        "\n",
        "\n",
        "\n",
        "* Filtre las 5 variables, obtendrá un dataframe solo con esas columnas.\n",
        "* Aplique el método `describe()`"
      ],
      "metadata": {
        "id": "HDgen8ySSdes"
      }
    },
    {
      "cell_type": "code",
      "source": [
        "# Respuesta:\n",
        "airbnb5col=airbnb[['price','bedrooms','bathrooms','latitude','longitude']]\n",
        "airbnb5col\n",
        "airbnb5col.describe()\n",
        "airbnb5col.rank()\n",
        "\n",
        "airbnb5col\n"
      ],
      "metadata": {
        "colab": {
          "base_uri": "https://localhost:8080/",
          "height": 424
        },
        "id": "qQisYAtfctf4",
        "outputId": "db855afa-9dae-47aa-ac3f-e41d71d7138e"
      },
      "execution_count": null,
      "outputs": [
        {
          "output_type": "execute_result",
          "data": {
            "text/plain": [
              "        price  bedrooms  bathrooms   latitude  longitude\n",
              "0      $88.00       1.0        NaN  52.349160   4.978790\n",
              "1     $105.00       NaN        NaN  52.424190   4.956890\n",
              "2     $152.00       1.0        NaN  52.432370   4.918210\n",
              "3      $87.00       1.0        NaN  52.296200   5.012310\n",
              "4     $160.00       2.0        NaN  52.314750   5.030300\n",
              "...       ...       ...        ...        ...        ...\n",
              "6168  $142.00       NaN        NaN  52.318428   4.870775\n",
              "6169   $95.00       1.0        NaN  52.346680   4.963590\n",
              "6170  $180.00       3.0        NaN  52.426240   4.902360\n",
              "6171  $174.00       2.0        NaN  52.319830   4.864630\n",
              "6172   $65.00       2.0        NaN  52.339460   4.957490\n",
              "\n",
              "[6173 rows x 5 columns]"
            ],
            "text/html": [
              "\n",
              "  <div id=\"df-ec4951b6-9ba6-4a0c-81e3-4e6d38772b57\">\n",
              "    <div class=\"colab-df-container\">\n",
              "      <div>\n",
              "<style scoped>\n",
              "    .dataframe tbody tr th:only-of-type {\n",
              "        vertical-align: middle;\n",
              "    }\n",
              "\n",
              "    .dataframe tbody tr th {\n",
              "        vertical-align: top;\n",
              "    }\n",
              "\n",
              "    .dataframe thead th {\n",
              "        text-align: right;\n",
              "    }\n",
              "</style>\n",
              "<table border=\"1\" class=\"dataframe\">\n",
              "  <thead>\n",
              "    <tr style=\"text-align: right;\">\n",
              "      <th></th>\n",
              "      <th>price</th>\n",
              "      <th>bedrooms</th>\n",
              "      <th>bathrooms</th>\n",
              "      <th>latitude</th>\n",
              "      <th>longitude</th>\n",
              "    </tr>\n",
              "  </thead>\n",
              "  <tbody>\n",
              "    <tr>\n",
              "      <th>0</th>\n",
              "      <td>$88.00</td>\n",
              "      <td>1.0</td>\n",
              "      <td>NaN</td>\n",
              "      <td>52.349160</td>\n",
              "      <td>4.978790</td>\n",
              "    </tr>\n",
              "    <tr>\n",
              "      <th>1</th>\n",
              "      <td>$105.00</td>\n",
              "      <td>NaN</td>\n",
              "      <td>NaN</td>\n",
              "      <td>52.424190</td>\n",
              "      <td>4.956890</td>\n",
              "    </tr>\n",
              "    <tr>\n",
              "      <th>2</th>\n",
              "      <td>$152.00</td>\n",
              "      <td>1.0</td>\n",
              "      <td>NaN</td>\n",
              "      <td>52.432370</td>\n",
              "      <td>4.918210</td>\n",
              "    </tr>\n",
              "    <tr>\n",
              "      <th>3</th>\n",
              "      <td>$87.00</td>\n",
              "      <td>1.0</td>\n",
              "      <td>NaN</td>\n",
              "      <td>52.296200</td>\n",
              "      <td>5.012310</td>\n",
              "    </tr>\n",
              "    <tr>\n",
              "      <th>4</th>\n",
              "      <td>$160.00</td>\n",
              "      <td>2.0</td>\n",
              "      <td>NaN</td>\n",
              "      <td>52.314750</td>\n",
              "      <td>5.030300</td>\n",
              "    </tr>\n",
              "    <tr>\n",
              "      <th>...</th>\n",
              "      <td>...</td>\n",
              "      <td>...</td>\n",
              "      <td>...</td>\n",
              "      <td>...</td>\n",
              "      <td>...</td>\n",
              "    </tr>\n",
              "    <tr>\n",
              "      <th>6168</th>\n",
              "      <td>$142.00</td>\n",
              "      <td>NaN</td>\n",
              "      <td>NaN</td>\n",
              "      <td>52.318428</td>\n",
              "      <td>4.870775</td>\n",
              "    </tr>\n",
              "    <tr>\n",
              "      <th>6169</th>\n",
              "      <td>$95.00</td>\n",
              "      <td>1.0</td>\n",
              "      <td>NaN</td>\n",
              "      <td>52.346680</td>\n",
              "      <td>4.963590</td>\n",
              "    </tr>\n",
              "    <tr>\n",
              "      <th>6170</th>\n",
              "      <td>$180.00</td>\n",
              "      <td>3.0</td>\n",
              "      <td>NaN</td>\n",
              "      <td>52.426240</td>\n",
              "      <td>4.902360</td>\n",
              "    </tr>\n",
              "    <tr>\n",
              "      <th>6171</th>\n",
              "      <td>$174.00</td>\n",
              "      <td>2.0</td>\n",
              "      <td>NaN</td>\n",
              "      <td>52.319830</td>\n",
              "      <td>4.864630</td>\n",
              "    </tr>\n",
              "    <tr>\n",
              "      <th>6172</th>\n",
              "      <td>$65.00</td>\n",
              "      <td>2.0</td>\n",
              "      <td>NaN</td>\n",
              "      <td>52.339460</td>\n",
              "      <td>4.957490</td>\n",
              "    </tr>\n",
              "  </tbody>\n",
              "</table>\n",
              "<p>6173 rows × 5 columns</p>\n",
              "</div>\n",
              "      <button class=\"colab-df-convert\" onclick=\"convertToInteractive('df-ec4951b6-9ba6-4a0c-81e3-4e6d38772b57')\"\n",
              "              title=\"Convert this dataframe to an interactive table.\"\n",
              "              style=\"display:none;\">\n",
              "        \n",
              "  <svg xmlns=\"http://www.w3.org/2000/svg\" height=\"24px\"viewBox=\"0 0 24 24\"\n",
              "       width=\"24px\">\n",
              "    <path d=\"M0 0h24v24H0V0z\" fill=\"none\"/>\n",
              "    <path d=\"M18.56 5.44l.94 2.06.94-2.06 2.06-.94-2.06-.94-.94-2.06-.94 2.06-2.06.94zm-11 1L8.5 8.5l.94-2.06 2.06-.94-2.06-.94L8.5 2.5l-.94 2.06-2.06.94zm10 10l.94 2.06.94-2.06 2.06-.94-2.06-.94-.94-2.06-.94 2.06-2.06.94z\"/><path d=\"M17.41 7.96l-1.37-1.37c-.4-.4-.92-.59-1.43-.59-.52 0-1.04.2-1.43.59L10.3 9.45l-7.72 7.72c-.78.78-.78 2.05 0 2.83L4 21.41c.39.39.9.59 1.41.59.51 0 1.02-.2 1.41-.59l7.78-7.78 2.81-2.81c.8-.78.8-2.07 0-2.86zM5.41 20L4 18.59l7.72-7.72 1.47 1.35L5.41 20z\"/>\n",
              "  </svg>\n",
              "      </button>\n",
              "      \n",
              "  <style>\n",
              "    .colab-df-container {\n",
              "      display:flex;\n",
              "      flex-wrap:wrap;\n",
              "      gap: 12px;\n",
              "    }\n",
              "\n",
              "    .colab-df-convert {\n",
              "      background-color: #E8F0FE;\n",
              "      border: none;\n",
              "      border-radius: 50%;\n",
              "      cursor: pointer;\n",
              "      display: none;\n",
              "      fill: #1967D2;\n",
              "      height: 32px;\n",
              "      padding: 0 0 0 0;\n",
              "      width: 32px;\n",
              "    }\n",
              "\n",
              "    .colab-df-convert:hover {\n",
              "      background-color: #E2EBFA;\n",
              "      box-shadow: 0px 1px 2px rgba(60, 64, 67, 0.3), 0px 1px 3px 1px rgba(60, 64, 67, 0.15);\n",
              "      fill: #174EA6;\n",
              "    }\n",
              "\n",
              "    [theme=dark] .colab-df-convert {\n",
              "      background-color: #3B4455;\n",
              "      fill: #D2E3FC;\n",
              "    }\n",
              "\n",
              "    [theme=dark] .colab-df-convert:hover {\n",
              "      background-color: #434B5C;\n",
              "      box-shadow: 0px 1px 3px 1px rgba(0, 0, 0, 0.15);\n",
              "      filter: drop-shadow(0px 1px 2px rgba(0, 0, 0, 0.3));\n",
              "      fill: #FFFFFF;\n",
              "    }\n",
              "  </style>\n",
              "\n",
              "      <script>\n",
              "        const buttonEl =\n",
              "          document.querySelector('#df-ec4951b6-9ba6-4a0c-81e3-4e6d38772b57 button.colab-df-convert');\n",
              "        buttonEl.style.display =\n",
              "          google.colab.kernel.accessAllowed ? 'block' : 'none';\n",
              "\n",
              "        async function convertToInteractive(key) {\n",
              "          const element = document.querySelector('#df-ec4951b6-9ba6-4a0c-81e3-4e6d38772b57');\n",
              "          const dataTable =\n",
              "            await google.colab.kernel.invokeFunction('convertToInteractive',\n",
              "                                                     [key], {});\n",
              "          if (!dataTable) return;\n",
              "\n",
              "          const docLinkHtml = 'Like what you see? Visit the ' +\n",
              "            '<a target=\"_blank\" href=https://colab.research.google.com/notebooks/data_table.ipynb>data table notebook</a>'\n",
              "            + ' to learn more about interactive tables.';\n",
              "          element.innerHTML = '';\n",
              "          dataTable['output_type'] = 'display_data';\n",
              "          await google.colab.output.renderOutput(dataTable, element);\n",
              "          const docLink = document.createElement('div');\n",
              "          docLink.innerHTML = docLinkHtml;\n",
              "          element.appendChild(docLink);\n",
              "        }\n",
              "      </script>\n",
              "    </div>\n",
              "  </div>\n",
              "  "
            ]
          },
          "metadata": {},
          "execution_count": 93
        }
      ]
    },
    {
      "cell_type": "code",
      "source": [
        "airbnb5col\n",
        "airbnb5col['price'] = airbnb5col['price'].str.replace('$','')\n",
        "airbnb5col['price'] = pd.to_numeric(airbnb5col['price'],errors='coerce')\n"
      ],
      "metadata": {
        "colab": {
          "base_uri": "https://localhost:8080/",
          "height": 315
        },
        "id": "ORnM8d8HEYeu",
        "outputId": "2fa7319e-f585-4e7c-b16a-60cf297874d8"
      },
      "execution_count": null,
      "outputs": [
        {
          "output_type": "stream",
          "name": "stderr",
          "text": [
            "/usr/local/lib/python3.7/dist-packages/ipykernel_launcher.py:2: FutureWarning: The default value of regex will change from True to False in a future version. In addition, single character regular expressions will *not* be treated as literal strings when regex=True.\n",
            "  \n",
            "/usr/local/lib/python3.7/dist-packages/ipykernel_launcher.py:2: SettingWithCopyWarning: \n",
            "A value is trying to be set on a copy of a slice from a DataFrame.\n",
            "Try using .loc[row_indexer,col_indexer] = value instead\n",
            "\n",
            "See the caveats in the documentation: https://pandas.pydata.org/pandas-docs/stable/user_guide/indexing.html#returning-a-view-versus-a-copy\n",
            "  \n",
            "/usr/local/lib/python3.7/dist-packages/ipykernel_launcher.py:3: SettingWithCopyWarning: \n",
            "A value is trying to be set on a copy of a slice from a DataFrame.\n",
            "Try using .loc[row_indexer,col_indexer] = value instead\n",
            "\n",
            "See the caveats in the documentation: https://pandas.pydata.org/pandas-docs/stable/user_guide/indexing.html#returning-a-view-versus-a-copy\n",
            "  This is separate from the ipykernel package so we can avoid doing imports until\n"
          ]
        },
        {
          "output_type": "execute_result",
          "data": {
            "text/plain": [
              "\"\\nairbnb5col['price'] = airbnb5col['price'].str.replace('$','')\\nairbnb5col['price'] = pd.to_numeric(airbnb5col['price'],errors='coerce')\\n\""
            ],
            "application/vnd.google.colaboratory.intrinsic+json": {
              "type": "string"
            }
          },
          "metadata": {},
          "execution_count": 94
        }
      ]
    },
    {
      "cell_type": "code",
      "source": [
        "histogram = airbnb5col.plot.hist()\n",
        "print(histogram)\n",
        "plt.show()"
      ],
      "metadata": {
        "colab": {
          "base_uri": "https://localhost:8080/",
          "height": 285
        },
        "id": "Bp1TGk_uG1pn",
        "outputId": "42589847-ee7a-4d3a-cc42-dda2d8b7b134"
      },
      "execution_count": null,
      "outputs": [
        {
          "output_type": "stream",
          "name": "stdout",
          "text": [
            "AxesSubplot(0.125,0.125;0.775x0.755)\n"
          ]
        },
        {
          "output_type": "display_data",
          "data": {
            "text/plain": [
              "<Figure size 432x288 with 1 Axes>"
            ],
            "image/png": "[encoded data removed]"
          },
          "metadata": {}
        }
      ]
    },
    {
      "cell_type": "code",
      "source": [
        "airbnb5col=airbnb[['bedrooms']]\n",
        "histogram = airbnb5col.plot.hist(   )\n",
        "print(histogram)\n",
        "plt.show()"
      ],
      "metadata": {
        "colab": {
          "base_uri": "https://localhost:8080/",
          "height": 285
        },
        "id": "swPBZpzRHiF_",
        "outputId": "959861e3-770d-4638-dd73-f3224ceb973d"
      },
      "execution_count": null,
      "outputs": [
        {
          "output_type": "stream",
          "name": "stdout",
          "text": [
            "AxesSubplot(0.125,0.125;0.775x0.755)\n"
          ]
        },
        {
          "output_type": "display_data",
          "data": {
            "text/plain": [
              "<Figure size 432x288 with 1 Axes>"
            ],
            "image/png": "[encoded data removed]"
          },
          "metadata": {}
        }
      ]
    },
    {
      "cell_type": "code",
      "source": [
        "airbnb5col=airbnb[['bathrooms']]\n",
        "airbnb5col.head(100)\n",
        "histogram = airbnb5col.plot.hist()\n",
        "print(histogram)\n",
        "plt.show()"
      ],
      "metadata": {
        "colab": {
          "base_uri": "https://localhost:8080/",
          "height": 285
        },
        "id": "GvFchAEVH4X_",
        "outputId": "01ea3145-2bf8-4311-cf1f-393112dd372a"
      },
      "execution_count": null,
      "outputs": [
        {
          "output_type": "stream",
          "name": "stdout",
          "text": [
            "AxesSubplot(0.125,0.125;0.775x0.755)\n"
          ]
        },
        {
          "output_type": "display_data",
          "data": {
            "text/plain": [
              "<Figure size 432x288 with 1 Axes>"
            ],
            "image/png": "[encoded data removed]"
          },
          "metadata": {}
        }
      ]
    },
    {
      "cell_type": "code",
      "source": [
        "airbnb5col=airbnb[['latitude']]\n",
        "airbnb5col.head(100)\n",
        "histogram = airbnb5col.plot.hist()\n",
        "print(histogram)\n",
        "plt.show()"
      ],
      "metadata": {
        "colab": {
          "base_uri": "https://localhost:8080/",
          "height": 285
        },
        "id": "ZP_K12P6IQGI",
        "outputId": "1c890e0b-e82e-4bf7-a1dd-771b658204f5"
      },
      "execution_count": null,
      "outputs": [
        {
          "output_type": "stream",
          "name": "stdout",
          "text": [
            "AxesSubplot(0.125,0.125;0.775x0.755)\n"
          ]
        },
        {
          "output_type": "display_data",
          "data": {
            "text/plain": [
              "<Figure size 432x288 with 1 Axes>"
            ],
            "image/png": "[encoded data removed]"
          },
          "metadata": {}
        }
      ]
    },
    {
      "cell_type": "code",
      "source": [
        "airbnb5col=airbnb[['longitude']]\n",
        "airbnb5col.head(100)\n",
        "histogram = airbnb5col.plot.hist()\n",
        "print(histogram)\n",
        "plt.show()"
      ],
      "metadata": {
        "colab": {
          "base_uri": "https://localhost:8080/",
          "height": 285
        },
        "id": "hY1LYonFIVe2",
        "outputId": "670eee6e-780f-4fba-ff45-0857f1cb561c"
      },
      "execution_count": null,
      "outputs": [
        {
          "output_type": "stream",
          "name": "stdout",
          "text": [
            "AxesSubplot(0.125,0.125;0.775x0.755)\n"
          ]
        },
        {
          "output_type": "display_data",
          "data": {
            "text/plain": [
              "<Figure size 432x288 with 1 Axes>"
            ],
            "image/png": "[encoded data removed]"
          },
          "metadata": {}
        }
      ]
    },
    {
      "cell_type": "markdown",
      "source": [
        "## Visualizaciones\n",
        "Tenga presente las siguientes recomendaciones para todas las gráficas que realice.\n",
        "\n",
        "Recuerde que una buena gráfica al menos debe tener:\n",
        "* **título:** descripción corta de lo que se está mostrando\n",
        "* **títulos de ejes:** título para la variable en x, título para la variable en y\n",
        "* **análisis:** lo más valioso de la gráfica es la interpretación y análisis del analista, la gráfica por sí sola no genera valor"
      ],
      "metadata": {
        "id": "eh3vf4t2MeUQ"
      }
    },
    {
      "cell_type": "code",
      "source": [
        "airbnb5col=airbnb[['price','bedrooms','bathrooms','latitude','longitude']]\n",
        "histogram = airbnb5col.plot.hist()\n",
        "print(histogram)\n",
        "plt.show()"
      ],
      "metadata": {
        "colab": {
          "base_uri": "https://localhost:8080/",
          "height": 285
        },
        "id": "L4KoOLfJGvkC",
        "outputId": "074a8295-11a9-4ff4-84e1-ce4e14296854"
      },
      "execution_count": null,
      "outputs": [
        {
          "output_type": "stream",
          "name": "stdout",
          "text": [
            "AxesSubplot(0.125,0.125;0.775x0.755)\n"
          ]
        },
        {
          "output_type": "display_data",
          "data": {
            "text/plain": [
              "<Figure size 432x288 with 1 Axes>"
            ],
            "image/png": "[encoded data removed]"
          },
          "metadata": {}
        }
      ]
    },
    {
      "cell_type": "markdown",
      "source": [
        "### Ejercicio 3\n",
        "\n",
        "Revisemos nuestra variable objetivo price. Construya un histograma para conocer su distribución. \n",
        "\n",
        "Describa la distribución del precio, su forma, simetría, kurtosis, sesgo, presencia de atípicos. Puede también apoyarse de las estadísticas descriptivas obtenidas en el ejercicio anterior.\n",
        "\n",
        "\n",
        "\n"
      ],
      "metadata": {
        "id": "uY3SHkE-LbeP"
      }
    },
    {
      "cell_type": "markdown",
      "source": [
        "<details>    \n",
        "<summary>\n",
        "    <font size=\"3\" color=\"darkblue\"><b>Pistas</b></font>\n",
        "</summary>\n",
        "\n",
        "\n",
        "\n",
        "* Use `histplot()` de seaborn. Puede construir también el perfil de densidad kde.\n",
        "* [Curtosis](https://pandas.pydata.org/docs/reference/api/pandas.Series.kurtosis.html?highlight=kurtosis#pandas.Series.kurtosis)\n",
        "* [Sesgo](https://pandas.pydata.org/docs/reference/api/pandas.DataFrame.skew.html)"
      ],
      "metadata": {
        "id": "rkQCqKYXTUmr"
      }
    },
    {
      "cell_type": "code",
      "source": [
        "\n",
        "airbnb5col=airbnb[['price','bedrooms','bathrooms','latitude','longitude']]\n",
        "\n",
        "\n",
        "airbnb5col\n",
        "airbnb5col['price'] = airbnb5col['price'].str.replace('$','')\n",
        "airbnb5col['price'] = pd.to_numeric(airbnb5col['price'],errors='coerce')\n",
        "\n",
        "\n",
        "histogram = airbnb5col.plot.hist()\n",
        "print(histogram)\n",
        "plt.show()"
      ],
      "metadata": {
        "colab": {
          "base_uri": "https://localhost:8080/",
          "height": 548
        },
        "id": "_XTRCCXJVRuX",
        "outputId": "e885a1bc-d816-4cdc-92c7-6350d6522d05"
      },
      "execution_count": null,
      "outputs": [
        {
          "output_type": "stream",
          "name": "stderr",
          "text": [
            "/usr/local/lib/python3.7/dist-packages/ipykernel_launcher.py:6: FutureWarning: The default value of regex will change from True to False in a future version. In addition, single character regular expressions will *not* be treated as literal strings when regex=True.\n",
            "  \n",
            "/usr/local/lib/python3.7/dist-packages/ipykernel_launcher.py:6: SettingWithCopyWarning: \n",
            "A value is trying to be set on a copy of a slice from a DataFrame.\n",
            "Try using .loc[row_indexer,col_indexer] = value instead\n",
            "\n",
            "See the caveats in the documentation: https://pandas.pydata.org/pandas-docs/stable/user_guide/indexing.html#returning-a-view-versus-a-copy\n",
            "  \n",
            "/usr/local/lib/python3.7/dist-packages/ipykernel_launcher.py:7: SettingWithCopyWarning: \n",
            "A value is trying to be set on a copy of a slice from a DataFrame.\n",
            "Try using .loc[row_indexer,col_indexer] = value instead\n",
            "\n",
            "See the caveats in the documentation: https://pandas.pydata.org/pandas-docs/stable/user_guide/indexing.html#returning-a-view-versus-a-copy\n",
            "  import sys\n"
          ]
        },
        {
          "output_type": "stream",
          "name": "stdout",
          "text": [
            "AxesSubplot(0.125,0.125;0.775x0.755)\n"
          ]
        },
        {
          "output_type": "display_data",
          "data": {
            "text/plain": [
              "<Figure size 432x288 with 1 Axes>"
            ],
            "image/png": "[encoded data removed]"
          },
          "metadata": {}
        }
      ]
    },
    {
      "cell_type": "markdown",
      "source": [
        "### Ejercicio 4\n",
        "\n",
        "Acompañe el análisis del punto anterior con la construcción e interpretación de un boxplot para el precio."
      ],
      "metadata": {
        "id": "4N-tOYZNd1I6"
      }
    },
    {
      "cell_type": "code",
      "source": [
        "df = pd.DataFrame(airbnb5col,\n",
        "                  columns=['price'])\n",
        "boxplot = df.boxplot(column=['price'])  "
      ],
      "metadata": {
        "colab": {
          "base_uri": "https://localhost:8080/",
          "height": 268
        },
        "id": "Hg-zK-yYd0nk",
        "outputId": "b262ce08-749a-4e1e-cb14-5ab352326cf2"
      },
      "execution_count": null,
      "outputs": [
        {
          "output_type": "display_data",
          "data": {
            "text/plain": [
              "<Figure size 432x288 with 1 Axes>"
            ],
            "image/png": "[encoded data removed]"
          },
          "metadata": {}
        }
      ]
    },
    {
      "cell_type": "markdown",
      "source": [
        "### Ejercicio 5\n",
        "\n",
        "Basado en lo que hemos hecho hasta ahora, analice las variables longitude y latitude. Use los recursos que crea necesarios para analizar de forma univariada estas 2 variables. No olvide discutir los resultados obtenidos."
      ],
      "metadata": {
        "id": "r91SzBcOgDHV"
      }
    },
    {
      "cell_type": "code",
      "source": [
        "# Respuesta\n",
        "x =airbnb5col['latitude'].tolist()\n",
        " \n",
        "y =airbnb5col['longitude'].tolist()\n",
        " \n",
        "plt.scatter(x, y, c =\"black\")\n",
        " \n",
        "# To show the plot\n",
        "plt.show()"
      ],
      "metadata": {
        "id": "SvQ_MocwhLxJ",
        "colab": {
          "base_uri": "https://localhost:8080/",
          "height": 268
        },
        "outputId": "5e9c5d9e-b233-41a6-c0ab-e54098152bc7"
      },
      "execution_count": null,
      "outputs": [
        {
          "output_type": "display_data",
          "data": {
            "text/plain": [
              "<Figure size 432x288 with 1 Axes>"
            ],
            "image/png": "[encoded data removed]"
          },
          "metadata": {}
        }
      ]
    },
    {
      "cell_type": "markdown",
      "source": [
        "### Ejercicio 6\n",
        "\n",
        "Pasemos ahora a analizar las variables cualitativas ¿Cuántos barrios diferentes tiene la variable neighbourhood? \n",
        "\n",
        "Haga una gráfica que muestre la cantidad de hospedajes por barrio. Solamente muestre el top 10.\n",
        "\n",
        "\n",
        "\n"
      ],
      "metadata": {
        "id": "9Isz9oxXgpPv"
      }
    },
    {
      "cell_type": "markdown",
      "source": [
        "<details>    \n",
        "<summary>\n",
        "    <font size=\"3\" color=\"darkblue\"><b>Pistas</b></font>\n",
        "</summary>\n",
        "\n",
        "* Métodos útiles:\n",
        "`.nunique(), .unique(), .value_counts(),.sort_values(),head()`\n",
        "* Obtenga la cantidad de valores únicos y una lista con el nombre de los barrios.\n",
        "* Obtenga la tabla de frecuencia con la cantidad de hospedajes por barrio. \n",
        "* Organicela de mayor a menor a frecuencia.\n",
        "* Grafique usando el método `.plot()`\n",
        "* No olvide describir y analizar la visualización obtenida. ¿Todos los barrios tienen la misma cantidad de hospedajes? ¿Cuales son los 3 más importantes?\n",
        "* ¿Qué porcentaje de los hospedajes están el top 3?"
      ],
      "metadata": {
        "id": "kd9LjmC6UAUy"
      }
    },
    {
      "cell_type": "code",
      "source": [
        "# Respuesta\n",
        "var1=airbnb['neighbourhood'].unique()\n",
        "unicas=len(airbnb['neighbourhood'].unique())\n",
        "print('Obtenga la cantidad de valores únicos y una lista con el nombre de los barrios ',unicas, ' y los barrios son:')\n",
        "lista=var1.tolist()\n",
        "for i in lista:\n",
        "    print(i)\n",
        "\n"
      ],
      "metadata": {
        "colab": {
          "base_uri": "https://localhost:8080/"
        },
        "id": "LkYLwdmRg09n",
        "outputId": "7bcbfbff-02f4-4319-da84-e7d8d199f52e"
      },
      "execution_count": null,
      "outputs": [
        {
          "output_type": "stream",
          "name": "stdout",
          "text": [
            "Obtenga la cantidad de valores únicos y una lista con el nombre de los barrios  92  y los barrios son:\n",
            "Diemen, Noord-Holland, Netherlands\n",
            "Watergang, Noord-Holland, Netherlands\n",
            "Landsmeer, Noord-Holland, Netherlands\n",
            "Abcoude, Utrecht, Netherlands\n",
            "Weesp, Noord-Holland, Netherlands\n",
            "Ouderkerk aan de Amstel, Noord-Holland, Netherlands\n",
            "nan\n",
            "Zuiderwoude, Noord-Holland, Netherlands\n",
            "Amsterdam, ., Netherlands\n",
            "Amsterdam, Noord-Holland, Netherlands\n",
            "Amstelveen, Noord-Holland, Netherlands\n",
            "Amsterdam, North Holland, Netherlands\n",
            "Amsterdam, NH, Netherlands\n",
            "Amsterdam, Netherlands, Netherlands\n",
            "De Pijp, North Holland, Netherlands\n",
            "Watergraafsmeer, North Holland, Netherlands\n",
            "Jordaan, North Holland, Netherlands\n",
            "Zeeburg, North Holland, Netherlands\n",
            "Amsterdam, Haarlemmerbuurt, Netherlands\n",
            "Amsterdam, Netherlands\n",
            "Amsterdam-Zuidoost, North Holland, Netherlands\n",
            "Amsterdam, SN, Netherlands\n",
            "Amsterdam, Noord Holland, Netherlands\n",
            "Amsterdam, Holland, Netherlands\n",
            "Amsterdam Zuidoost, North Holland, Netherlands\n",
            "Amsterdam Zuid-Oost, Noord-Holland, Netherlands\n",
            "Amsterdam, Emmy andriessestraat, Netherlands\n",
            "Amsterdam, AH, Netherlands\n",
            "Amsterdam, GA, Netherlands\n",
            "Amsterdam, GD, Netherlands\n",
            "Amsterdam, Amstel, Netherlands\n",
            "Amsterdam-Zuidoost, Noord-Holland, Netherlands\n",
            "Amsterdam , 2 de Egelantiersdwarsstraat 13 III, Netherlands\n",
            "Amsterdam, Noord- Holland, Netherlands\n",
            "Amsterdam, VX, Netherlands\n",
            "Amsterdam, North-Holland, Netherlands\n",
            "Amsterdam, DP, Netherlands\n",
            "Amsterdam , Noord-Holland, Netherlands\n",
            "Amsterdam, Frederiksstraat, Netherlands\n",
            "Amsterdam , North Holland, Netherlands\n",
            "Duivendrecht, Noord-Holland, Netherlands\n",
            "Amsterdam, NM, Netherlands\n",
            "Netherlands\n",
            "Amsterdam, BH, Netherlands\n",
            "Amsterdam, AA, Netherlands\n",
            "TC Amsterdam, Netherlands\n",
            "Badhoevedorp, Noord-Holland, Netherlands\n",
            "Amsterdam, LL, Netherlands\n",
            "Amsterdam-Centrum, Noord-Holland, Netherlands\n",
            "Amsterdam, Nord Holland, Netherlands\n",
            "Central Amsterdam, Amsterdam, Netherlands\n",
            "*, Amsterdam, Netherlands\n",
            "Badhoevedorp, NH, Netherlands\n",
            "Oostzaan, Noord-Holland, Netherlands\n",
            "1054 ZV, Noord-Holland, Netherlands\n",
            "Amsterdam, NORTH HOLLAND, Netherlands\n",
            "Ouder-Amstel, Noord-Holland, Netherlands\n",
            "Lijnden, Noord-Holland, Netherlands\n",
            "Amsterdam , Netherlands\n",
            "Duivendrecht Amsterdam, NH, Netherlands\n",
            "Landsmeer, North Holland, Netherlands\n",
            "Uitdam, North Holland, Netherlands\n",
            "Amstelveen, North Holland, Netherlands\n",
            "Amsterdam-Duivendrecht, Noord-Holland, Netherlands\n",
            "Amstelveen, Netherlands\n",
            "Uitdam, Noord-Holland, Netherlands\n",
            "amstelveen, Netherlands\n",
            "Watergang, North Holland, Netherlands\n",
            "Broek in Waterland, Noord-Holland, Netherlands\n",
            "Halfweg, Noord-Holland, Netherlands\n",
            "Abcoude , Netherlands\n",
            "Badhoevedorp, North Holland, Netherlands\n",
            "Diemen, North Holland, Netherlands\n",
            "Broek in Waterland, North Holland, Netherlands\n",
            "Abcoude, UT, Netherlands\n",
            "Duivendrecht, NH, Netherlands\n",
            "Zwanenburg, North Holland, Netherlands\n",
            "Zwanenburg, Noord-Holland, Netherlands\n",
            "Zwanenburg, NH, Netherlands\n",
            "Oostzaan , NH, Netherlands\n",
            "Halfweg, North Holland, Netherlands\n",
            "Weesp, NH, Netherlands\n",
            "Zuiderwoude, Netherlands\n",
            "Zuiderwoude, NH, Netherlands\n",
            "Broek in Waterland, NH, Netherlands\n",
            "Diemen, NH, Netherlands\n",
            "Amstelveen, Noord Holland, Netherlands\n",
            "Amstelveen, NH, Netherlands\n",
            "Weesp, North Holland, Netherlands\n",
            "Zuiderwoude, North Holland, Netherlands\n",
            "Amstelveen , Netherlands\n",
            "Ouderkerk aan de Amstel, North Holland, Netherlands\n"
          ]
        }
      ]
    },
    {
      "cell_type": "markdown",
      "source": [
        "Obtenga la tabla de frecuencia con la cantidad de hospedajes por barrio.\n"
      ],
      "metadata": {
        "id": "FJxmbpD3hWYh"
      }
    },
    {
      "cell_type": "code",
      "source": [
        "n_by_state = airbnb.groupby(\"neighbourhood\")[\"id\"].count()\n",
        "df_cuenta_hospedajes=n_by_state.to_frame()\n",
        "df_cuenta_hospedajes\n",
        "df=df_cuenta_hospedajes.sort_values('id',ascending=False)\n",
        "df_top10= df.head(10)\n",
        "df_top10\n"
      ],
      "metadata": {
        "colab": {
          "base_uri": "https://localhost:8080/",
          "height": 394
        },
        "id": "mrkqlRQLhZTx",
        "outputId": "81b5aee6-492e-4164-fd89-8ec4cb528c02"
      },
      "execution_count": null,
      "outputs": [
        {
          "output_type": "execute_result",
          "data": {
            "text/plain": [
              "                                                  id\n",
              "neighbourhood                                       \n",
              "Amsterdam, Noord-Holland, Netherlands           3148\n",
              "Amsterdam, North Holland, Netherlands            533\n",
              "Amsterdam, NH, Netherlands                       179\n",
              "Amsterdam, Netherlands                            48\n",
              "Abcoude, Utrecht, Netherlands                     37\n",
              "Amstelveen, Noord-Holland, Netherlands            30\n",
              "Badhoevedorp, Noord-Holland, Netherlands          27\n",
              "Diemen, Noord-Holland, Netherlands                25\n",
              "Landsmeer, Noord-Holland, Netherlands             22\n",
              "Broek in Waterland, Noord-Holland, Netherlands    20"
            ],
            "text/html": [
              "\n",
              "  <div id=\"df-51c9eecb-ac15-436d-9570-ed7c136d5ebf\">\n",
              "    <div class=\"colab-df-container\">\n",
              "      <div>\n",
              "<style scoped>\n",
              "    .dataframe tbody tr th:only-of-type {\n",
              "        vertical-align: middle;\n",
              "    }\n",
              "\n",
              "    .dataframe tbody tr th {\n",
              "        vertical-align: top;\n",
              "    }\n",
              "\n",
              "    .dataframe thead th {\n",
              "        text-align: right;\n",
              "    }\n",
              "</style>\n",
              "<table border=\"1\" class=\"dataframe\">\n",
              "  <thead>\n",
              "    <tr style=\"text-align: right;\">\n",
              "      <th></th>\n",
              "      <th>id</th>\n",
              "    </tr>\n",
              "    <tr>\n",
              "      <th>neighbourhood</th>\n",
              "      <th></th>\n",
              "    </tr>\n",
              "  </thead>\n",
              "  <tbody>\n",
              "    <tr>\n",
              "      <th>Amsterdam, Noord-Holland, Netherlands</th>\n",
              "      <td>3148</td>\n",
              "    </tr>\n",
              "    <tr>\n",
              "      <th>Amsterdam, North Holland, Netherlands</th>\n",
              "      <td>533</td>\n",
              "    </tr>\n",
              "    <tr>\n",
              "      <th>Amsterdam, NH, Netherlands</th>\n",
              "      <td>179</td>\n",
              "    </tr>\n",
              "    <tr>\n",
              "      <th>Amsterdam, Netherlands</th>\n",
              "      <td>48</td>\n",
              "    </tr>\n",
              "    <tr>\n",
              "      <th>Abcoude, Utrecht, Netherlands</th>\n",
              "      <td>37</td>\n",
              "    </tr>\n",
              "    <tr>\n",
              "      <th>Amstelveen, Noord-Holland, Netherlands</th>\n",
              "      <td>30</td>\n",
              "    </tr>\n",
              "    <tr>\n",
              "      <th>Badhoevedorp, Noord-Holland, Netherlands</th>\n",
              "      <td>27</td>\n",
              "    </tr>\n",
              "    <tr>\n",
              "      <th>Diemen, Noord-Holland, Netherlands</th>\n",
              "      <td>25</td>\n",
              "    </tr>\n",
              "    <tr>\n",
              "      <th>Landsmeer, Noord-Holland, Netherlands</th>\n",
              "      <td>22</td>\n",
              "    </tr>\n",
              "    <tr>\n",
              "      <th>Broek in Waterland, Noord-Holland, Netherlands</th>\n",
              "      <td>20</td>\n",
              "    </tr>\n",
              "  </tbody>\n",
              "</table>\n",
              "</div>\n",
              "      <button class=\"colab-df-convert\" onclick=\"convertToInteractive('df-51c9eecb-ac15-436d-9570-ed7c136d5ebf')\"\n",
              "              title=\"Convert this dataframe to an interactive table.\"\n",
              "              style=\"display:none;\">\n",
              "        \n",
              "  <svg xmlns=\"http://www.w3.org/2000/svg\" height=\"24px\"viewBox=\"0 0 24 24\"\n",
              "       width=\"24px\">\n",
              "    <path d=\"M0 0h24v24H0V0z\" fill=\"none\"/>\n",
              "    <path d=\"M18.56 5.44l.94 2.06.94-2.06 2.06-.94-2.06-.94-.94-2.06-.94 2.06-2.06.94zm-11 1L8.5 8.5l.94-2.06 2.06-.94-2.06-.94L8.5 2.5l-.94 2.06-2.06.94zm10 10l.94 2.06.94-2.06 2.06-.94-2.06-.94-.94-2.06-.94 2.06-2.06.94z\"/><path d=\"M17.41 7.96l-1.37-1.37c-.4-.4-.92-.59-1.43-.59-.52 0-1.04.2-1.43.59L10.3 9.45l-7.72 7.72c-.78.78-.78 2.05 0 2.83L4 21.41c.39.39.9.59 1.41.59.51 0 1.02-.2 1.41-.59l7.78-7.78 2.81-2.81c.8-.78.8-2.07 0-2.86zM5.41 20L4 18.59l7.72-7.72 1.47 1.35L5.41 20z\"/>\n",
              "  </svg>\n",
              "      </button>\n",
              "      \n",
              "  <style>\n",
              "    .colab-df-container {\n",
              "      display:flex;\n",
              "      flex-wrap:wrap;\n",
              "      gap: 12px;\n",
              "    }\n",
              "\n",
              "    .colab-df-convert {\n",
              "      background-color: #E8F0FE;\n",
              "      border: none;\n",
              "      border-radius: 50%;\n",
              "      cursor: pointer;\n",
              "      display: none;\n",
              "      fill: #1967D2;\n",
              "      height: 32px;\n",
              "      padding: 0 0 0 0;\n",
              "      width: 32px;\n",
              "    }\n",
              "\n",
              "    .colab-df-convert:hover {\n",
              "      background-color: #E2EBFA;\n",
              "      box-shadow: 0px 1px 2px rgba(60, 64, 67, 0.3), 0px 1px 3px 1px rgba(60, 64, 67, 0.15);\n",
              "      fill: #174EA6;\n",
              "    }\n",
              "\n",
              "    [theme=dark] .colab-df-convert {\n",
              "      background-color: #3B4455;\n",
              "      fill: #D2E3FC;\n",
              "    }\n",
              "\n",
              "    [theme=dark] .colab-df-convert:hover {\n",
              "      background-color: #434B5C;\n",
              "      box-shadow: 0px 1px 3px 1px rgba(0, 0, 0, 0.15);\n",
              "      filter: drop-shadow(0px 1px 2px rgba(0, 0, 0, 0.3));\n",
              "      fill: #FFFFFF;\n",
              "    }\n",
              "  </style>\n",
              "\n",
              "      <script>\n",
              "        const buttonEl =\n",
              "          document.querySelector('#df-51c9eecb-ac15-436d-9570-ed7c136d5ebf button.colab-df-convert');\n",
              "        buttonEl.style.display =\n",
              "          google.colab.kernel.accessAllowed ? 'block' : 'none';\n",
              "\n",
              "        async function convertToInteractive(key) {\n",
              "          const element = document.querySelector('#df-51c9eecb-ac15-436d-9570-ed7c136d5ebf');\n",
              "          const dataTable =\n",
              "            await google.colab.kernel.invokeFunction('convertToInteractive',\n",
              "                                                     [key], {});\n",
              "          if (!dataTable) return;\n",
              "\n",
              "          const docLinkHtml = 'Like what you see? Visit the ' +\n",
              "            '<a target=\"_blank\" href=https://colab.research.google.com/notebooks/data_table.ipynb>data table notebook</a>'\n",
              "            + ' to learn more about interactive tables.';\n",
              "          element.innerHTML = '';\n",
              "          dataTable['output_type'] = 'display_data';\n",
              "          await google.colab.output.renderOutput(dataTable, element);\n",
              "          const docLink = document.createElement('div');\n",
              "          docLink.innerHTML = docLinkHtml;\n",
              "          element.appendChild(docLink);\n",
              "        }\n",
              "      </script>\n",
              "    </div>\n",
              "  </div>\n",
              "  "
            ]
          },
          "metadata": {},
          "execution_count": 132
        }
      ]
    },
    {
      "cell_type": "code",
      "source": [
        "df_top10['barrio'] = df_top10.index\n",
        "df_top10.reset_index()\n",
        "df_top10\n",
        "\n",
        "df_top10.dtypes\n",
        "\n",
        "ax = df_top10.plot.bar(x='barrio', y='id', rot=0)"
      ],
      "metadata": {
        "colab": {
          "base_uri": "https://localhost:8080/",
          "height": 409
        },
        "id": "kGJ7t7M-ld5K",
        "outputId": "8894dd38-4f35-4dca-e1c0-83ffa0293e4d"
      },
      "execution_count": null,
      "outputs": [
        {
          "output_type": "stream",
          "name": "stderr",
          "text": [
            "/usr/local/lib/python3.7/dist-packages/ipykernel_launcher.py:1: SettingWithCopyWarning: \n",
            "A value is trying to be set on a copy of a slice from a DataFrame.\n",
            "Try using .loc[row_indexer,col_indexer] = value instead\n",
            "\n",
            "See the caveats in the documentation: https://pandas.pydata.org/pandas-docs/stable/user_guide/indexing.html#returning-a-view-versus-a-copy\n",
            "  \"\"\"Entry point for launching an IPython kernel.\n"
          ]
        },
        {
          "output_type": "display_data",
          "data": {
            "text/plain": [
              "<Figure size 432x288 with 1 Axes>"
            ],
            "image/png": "[encoded data removed]"
          },
          "metadata": {}
        }
      ]
    },
    {
      "cell_type": "markdown",
      "source": [
        "No olvide describir y analizar la visualización obtenida. ¿Todos los barrios tienen la misma cantidad de hospedajes?\n",
        "\n",
        "No todos los barrios tienen la misma cantidad de hospedajes.\n",
        " \n",
        " \n",
        " ¿Cuales son los 3 más importantes?\n",
        "\n",
        "\n",
        "\n",
        "\n",
        "\n",
        "Los tres mas importantes son:\n",
        "Amsterdam, Noord-Holland, Netherlands\t3148\n",
        "Amsterdam, North Holland, Netherlands\t533\n",
        "Amsterdam, NH, Netherlands\t179"
      ],
      "metadata": {
        "id": "HPH6z1u7oIZq"
      }
    },
    {
      "cell_type": "markdown",
      "source": [
        "### Ejercicio 7\n",
        "\n",
        "Superhost (cuya traducción del inglés significa “Super anfitrión”) es una categoría de Airbnb que destaca a los anfitriones más experimentados, hospitalarios y mejor valorados. Estos anfitriones reciben un distintivo especial en su anuncio y su perfil que les otorga una mayor visibilidad en la plataforma.\n",
        "\n",
        "¿Qué porcentaje de los hospedajes son ofrecidos por un superhost?"
      ],
      "metadata": {
        "id": "06-kBsFkgJ-T"
      }
    },
    {
      "cell_type": "markdown",
      "source": [
        "<details>    \n",
        "<summary>\n",
        "    <font size=\"3\" color=\"darkblue\"><b>Pistas</b></font>\n",
        "</summary>\n",
        "\n",
        "* value_counts()\n",
        "* Normalice el conteo y multiplique por 100\n",
        "* Haga una gráfica"
      ],
      "metadata": {
        "id": "I6A0gWsfiJBs"
      }
    },
    {
      "cell_type": "code",
      "source": [
        "# Respuesta\n"
      ],
      "metadata": {
        "id": "guB50be6iuhg"
      },
      "execution_count": null,
      "outputs": []
    },
    {
      "cell_type": "markdown",
      "source": [
        "### Ejercicio 8\n",
        "\n",
        "Basado en los ejercicios anteriores analice las variable property_type y parking con los recursos que considere necesarios. No olvide analizar y describir sus resultados."
      ],
      "metadata": {
        "id": "GDWHf8v7jR9b"
      }
    },
    {
      "cell_type": "code",
      "source": [
        "# Respuesta\n",
        "n_by_state = airbnb.groupby(\"property_type\")[\"id\"].count()\n",
        "df_cuenta_hospedajes=n_by_state.to_frame()\n",
        "\n",
        "df_cuenta_hospedajes['property_type'] = df_cuenta_hospedajes.index\n",
        "\n",
        "\n",
        "ax = df_cuenta_hospedajes.plot.bar(x='property_type', y='id', rot=0)\n",
        "\n"
      ],
      "metadata": {
        "id": "bEwxUL1IltoG",
        "colab": {
          "base_uri": "https://localhost:8080/",
          "height": 285
        },
        "outputId": "5333adcb-2d99-4001-8f68-e2ef3205b2fe"
      },
      "execution_count": null,
      "outputs": [
        {
          "output_type": "display_data",
          "data": {
            "text/plain": [
              "<Figure size 432x288 with 1 Axes>"
            ],
            "image/png": "[encoded data removed]"
          },
          "metadata": {}
        }
      ]
    },
    {
      "cell_type": "markdown",
      "source": [
        "## Análisis multivariado"
      ],
      "metadata": {
        "id": "5IQs9dFKlJvd"
      }
    },
    {
      "cell_type": "markdown",
      "source": [
        "Hasta aquí hemos estado analizando nuestras variables y describiendo las características principales de nuestra población. Ahora vamos a comenzar a buscar relaciones entre nuestras variables, sobretodo con respecto al precio, recuerde que esta es nuestra variable objetivo.\n"
      ],
      "metadata": {
        "id": "wLOZaIdNw55M"
      }
    },
    {
      "cell_type": "markdown",
      "source": [
        "### Ejercicio 9\n",
        "\n",
        "Construya una gráfica que muestre el mínimo, máximo, media y mediana del precio para las hospedajes con Superhost y sin Superhost.\n",
        "\n",
        "¿Existe alguna relación entre el precio y ser un *Superhost*? Justifique su respuesta.\n",
        "\n",
        "Recuerde describir y discutir sus resultados. \n"
      ],
      "metadata": {
        "id": "zh698ObH_YRZ"
      }
    },
    {
      "cell_type": "markdown",
      "source": [
        "<details>    \n",
        "<summary>\n",
        "    <font size=\"3\" color=\"darkblue\"><b>Pistas</b></font>\n",
        "</summary>\n",
        "\n",
        "* agrupe los datos usando `.groupby()` \n",
        "* Use el método `.agg()` para calcular las descriptivas de la variable precio\n",
        "* Grafique con el método `.plot`  \n",
        "* Puede construir también un boxplot.\n",
        "\n"
      ],
      "metadata": {
        "id": "101Yle1T_w2m"
      }
    },
    {
      "cell_type": "code",
      "source": [
        "# Respuesta\n",
        "\n",
        "df_superhost=airbnb[['price','host_is_superhost']]\n",
        "\n",
        "\n",
        "df_superhost['price'] = df_superhost['price'].str.replace('$','')\n",
        "df_superhost['price'] = pd.to_numeric(df_superhost['price'],errors='coerce')\n",
        "\n",
        "\n",
        "\n",
        "grouped_df = df_superhost.groupby('host_is_superhost')\n",
        "#print(\"El valor mínimo es:\",grouped_df.min())#\n",
        "#print(\"El valor maximo es:\", grouped_df.max())\n",
        "#grouped_df.min()\n",
        "#grouped_df.max()\n",
        "grouped_df.mean()\n",
        "#df_superhost\n",
        "boxplot = df_superhost.boxplot(column=['price'])  "
      ],
      "metadata": {
        "id": "iVxypLPB_wg6",
        "colab": {
          "base_uri": "https://localhost:8080/",
          "height": 531
        },
        "outputId": "5d9ed560-5712-45ef-f478-b1401e6bb02b"
      },
      "execution_count": null,
      "outputs": [
        {
          "output_type": "stream",
          "name": "stderr",
          "text": [
            "/usr/local/lib/python3.7/dist-packages/ipykernel_launcher.py:6: FutureWarning: The default value of regex will change from True to False in a future version. In addition, single character regular expressions will *not* be treated as literal strings when regex=True.\n",
            "  \n",
            "/usr/local/lib/python3.7/dist-packages/ipykernel_launcher.py:6: SettingWithCopyWarning: \n",
            "A value is trying to be set on a copy of a slice from a DataFrame.\n",
            "Try using .loc[row_indexer,col_indexer] = value instead\n",
            "\n",
            "See the caveats in the documentation: https://pandas.pydata.org/pandas-docs/stable/user_guide/indexing.html#returning-a-view-versus-a-copy\n",
            "  \n",
            "/usr/local/lib/python3.7/dist-packages/ipykernel_launcher.py:7: SettingWithCopyWarning: \n",
            "A value is trying to be set on a copy of a slice from a DataFrame.\n",
            "Try using .loc[row_indexer,col_indexer] = value instead\n",
            "\n",
            "See the caveats in the documentation: https://pandas.pydata.org/pandas-docs/stable/user_guide/indexing.html#returning-a-view-versus-a-copy\n",
            "  import sys\n"
          ]
        },
        {
          "output_type": "display_data",
          "data": {
            "text/plain": [
              "<Figure size 432x288 with 1 Axes>"
            ],
            "image/png": "[encoded data removed]"
          },
          "metadata": {}
        }
      ]
    },
    {
      "cell_type": "code",
      "source": [
        ""
      ],
      "metadata": {
        "id": "pTKesWtV0NYN"
      },
      "execution_count": null,
      "outputs": []
    },
    {
      "cell_type": "markdown",
      "source": [
        "### Ejercicio 10\n",
        "\n",
        "Para complementar el punto anterior, construya un boxplot para evaluar la siguiente pregunta. \n",
        "\n",
        "¿Existe alguna relación entre el precio y ser un *Superhost*? Justifique su respuesta."
      ],
      "metadata": {
        "id": "_AkNJCdroYQN"
      }
    },
    {
      "cell_type": "code",
      "source": [
        "# Respuesta\n",
        "airbnb =  pd.read_csv('https://github.com/chris78rey/DIPLOM_BIGDATA/blob/main/listings_amsterdam_sin_limpiar.csv?raw=true')\n",
        "\n",
        "df_superhost=airbnb[['price','host_is_superhost']]\n",
        "df_superhost.dtypes\n",
        "\n",
        "df_superhost['price'] = df_superhost['price'].str.replace('$','')\n",
        "df_superhost['price'] = pd.to_numeric(df_superhost['price'],errors='coerce')\n",
        "\n",
        "\n",
        "\n",
        "df_superhost['host_is_superhost'] = df_superhost['host_is_superhost'].str.replace('t','1')\n",
        "df_superhost['host_is_superhost'] = df_superhost['host_is_superhost'].str.replace('f','0')\n",
        "df_superhost['host_is_superhost'] = pd.to_numeric(df_superhost['host_is_superhost'],errors='coerce')\n",
        "\n",
        "\n",
        "print(df_superhost.corr())\n",
        "\n",
        "\n"
      ],
      "metadata": {
        "colab": {
          "base_uri": "https://localhost:8080/"
        },
        "id": "kWShIQZxol85",
        "outputId": "d74688ad-35ce-4628-9603-9ac8f76d2223"
      },
      "execution_count": null,
      "outputs": [
        {
          "output_type": "stream",
          "name": "stdout",
          "text": [
            "                      price  host_is_superhost\n",
            "price              1.000000          -0.061668\n",
            "host_is_superhost -0.061668           1.000000\n"
          ]
        },
        {
          "output_type": "stream",
          "name": "stderr",
          "text": [
            "/usr/local/lib/python3.7/dist-packages/ipykernel_launcher.py:7: FutureWarning: The default value of regex will change from True to False in a future version. In addition, single character regular expressions will *not* be treated as literal strings when regex=True.\n",
            "  import sys\n",
            "/usr/local/lib/python3.7/dist-packages/ipykernel_launcher.py:7: SettingWithCopyWarning: \n",
            "A value is trying to be set on a copy of a slice from a DataFrame.\n",
            "Try using .loc[row_indexer,col_indexer] = value instead\n",
            "\n",
            "See the caveats in the documentation: https://pandas.pydata.org/pandas-docs/stable/user_guide/indexing.html#returning-a-view-versus-a-copy\n",
            "  import sys\n",
            "/usr/local/lib/python3.7/dist-packages/ipykernel_launcher.py:8: SettingWithCopyWarning: \n",
            "A value is trying to be set on a copy of a slice from a DataFrame.\n",
            "Try using .loc[row_indexer,col_indexer] = value instead\n",
            "\n",
            "See the caveats in the documentation: https://pandas.pydata.org/pandas-docs/stable/user_guide/indexing.html#returning-a-view-versus-a-copy\n",
            "  \n",
            "/usr/local/lib/python3.7/dist-packages/ipykernel_launcher.py:12: SettingWithCopyWarning: \n",
            "A value is trying to be set on a copy of a slice from a DataFrame.\n",
            "Try using .loc[row_indexer,col_indexer] = value instead\n",
            "\n",
            "See the caveats in the documentation: https://pandas.pydata.org/pandas-docs/stable/user_guide/indexing.html#returning-a-view-versus-a-copy\n",
            "  if sys.path[0] == '':\n",
            "/usr/local/lib/python3.7/dist-packages/ipykernel_launcher.py:13: SettingWithCopyWarning: \n",
            "A value is trying to be set on a copy of a slice from a DataFrame.\n",
            "Try using .loc[row_indexer,col_indexer] = value instead\n",
            "\n",
            "See the caveats in the documentation: https://pandas.pydata.org/pandas-docs/stable/user_guide/indexing.html#returning-a-view-versus-a-copy\n",
            "  del sys.path[0]\n",
            "/usr/local/lib/python3.7/dist-packages/ipykernel_launcher.py:14: SettingWithCopyWarning: \n",
            "A value is trying to be set on a copy of a slice from a DataFrame.\n",
            "Try using .loc[row_indexer,col_indexer] = value instead\n",
            "\n",
            "See the caveats in the documentation: https://pandas.pydata.org/pandas-docs/stable/user_guide/indexing.html#returning-a-view-versus-a-copy\n",
            "  \n"
          ]
        }
      ]
    },
    {
      "cell_type": "code",
      "source": [
        "\n",
        "boxplot = df_superhost.boxplot(column=['price'])  "
      ],
      "metadata": {
        "colab": {
          "base_uri": "https://localhost:8080/",
          "height": 268
        },
        "id": "H8motnKG7Oab",
        "outputId": "00b124e3-a0e2-4a92-9eb3-738e059eb64c"
      },
      "execution_count": null,
      "outputs": [
        {
          "output_type": "display_data",
          "data": {
            "text/plain": [
              "<Figure size 432x288 with 1 Axes>"
            ],
            "image/png": "[encoded data removed]"
          },
          "metadata": {}
        }
      ]
    },
    {
      "cell_type": "markdown",
      "source": [
        "## Ejemplo 1: Análisis del precio en función del tipo de propiedad"
      ],
      "metadata": {
        "id": "fH0ipaJs0eoe"
      }
    },
    {
      "cell_type": "markdown",
      "source": [
        "Analicemos ahora la relación entre el tipo de propiedad y el precio usando un boxplot.\n"
      ],
      "metadata": {
        "id": "e8_HOFwmWXoV"
      }
    },
    {
      "cell_type": "code",
      "source": [
        "# Para darle orden a la gráfica vamos a organizar los tipos de propiedades de menor mayor mediana\n",
        "\n",
        "median_order = (airbnb.groupby('property_type') # agrupar por tipo de propiedad\n",
        "['price'].                                      # filtrar el precio en cada grupo\n",
        "median().                                       # calcular la mediana\n",
        "sort_values().                 # organizar \n",
        "index)\n",
        "\n",
        "median_order"
      ],
      "metadata": {
        "colab": {
          "base_uri": "https://localhost:8080/",
          "height": 537
        },
        "id": "VuLV_oulxJPt",
        "outputId": "45cdd794-33bc-4920-884a-62cc5231b5f0"
      },
      "execution_count": null,
      "outputs": [
        {
          "output_type": "error",
          "ename": "TypeError",
          "evalue": "ignored",
          "traceback": [
            "\u001b[0;31m---------------------------------------------------------------------------\u001b[0m",
            "\u001b[0;31mNotImplementedError\u001b[0m                       Traceback (most recent call last)",
            "\u001b[0;32m/usr/local/lib/python3.7/dist-packages/pandas/core/groupby/generic.py\u001b[0m in \u001b[0;36marray_func\u001b[0;34m(values)\u001b[0m\n\u001b[1;32m    340\u001b[0m                 result = self.grouper._cython_operation(\n\u001b[0;32m--> 341\u001b[0;31m                     \u001b[0;34m\"aggregate\"\u001b[0m\u001b[0;34m,\u001b[0m \u001b[0mvalues\u001b[0m\u001b[0;34m,\u001b[0m \u001b[0mhow\u001b[0m\u001b[0;34m,\u001b[0m \u001b[0maxis\u001b[0m\u001b[0;34m=\u001b[0m\u001b[0mdata\u001b[0m\u001b[0;34m.\u001b[0m\u001b[0mndim\u001b[0m \u001b[0;34m-\u001b[0m \u001b[0;36m1\u001b[0m\u001b[0;34m,\u001b[0m \u001b[0mmin_count\u001b[0m\u001b[0;34m=\u001b[0m\u001b[0mmin_count\u001b[0m\u001b[0;34m\u001b[0m\u001b[0;34m\u001b[0m\u001b[0m\n\u001b[0m\u001b[1;32m    342\u001b[0m                 )\n",
            "\u001b[0;32m/usr/local/lib/python3.7/dist-packages/pandas/core/groupby/ops.py\u001b[0m in \u001b[0;36m_cython_operation\u001b[0;34m(self, kind, values, how, axis, min_count, **kwargs)\u001b[0m\n\u001b[1;32m   1015\u001b[0m             \u001b[0mngroups\u001b[0m\u001b[0;34m=\u001b[0m\u001b[0mngroups\u001b[0m\u001b[0;34m,\u001b[0m\u001b[0;34m\u001b[0m\u001b[0;34m\u001b[0m\u001b[0m\n\u001b[0;32m-> 1016\u001b[0;31m             \u001b[0;34m**\u001b[0m\u001b[0mkwargs\u001b[0m\u001b[0;34m,\u001b[0m\u001b[0;34m\u001b[0m\u001b[0;34m\u001b[0m\u001b[0m\n\u001b[0m\u001b[1;32m   1017\u001b[0m         )\n",
            "\u001b[0;32m/usr/local/lib/python3.7/dist-packages/pandas/core/groupby/ops.py\u001b[0m in \u001b[0;36mcython_operation\u001b[0;34m(self, values, axis, min_count, comp_ids, ngroups, **kwargs)\u001b[0m\n\u001b[1;32m    676\u001b[0m             \u001b[0mmask\u001b[0m\u001b[0;34m=\u001b[0m\u001b[0;32mNone\u001b[0m\u001b[0;34m,\u001b[0m\u001b[0;34m\u001b[0m\u001b[0;34m\u001b[0m\u001b[0m\n\u001b[0;32m--> 677\u001b[0;31m             \u001b[0;34m**\u001b[0m\u001b[0mkwargs\u001b[0m\u001b[0;34m,\u001b[0m\u001b[0;34m\u001b[0m\u001b[0;34m\u001b[0m\u001b[0m\n\u001b[0m\u001b[1;32m    678\u001b[0m         )\n",
            "\u001b[0;32m/usr/local/lib/python3.7/dist-packages/pandas/core/groupby/ops.py\u001b[0m in \u001b[0;36m_cython_op_ndim_compat\u001b[0;34m(self, values, min_count, ngroups, comp_ids, mask, **kwargs)\u001b[0m\n\u001b[1;32m    507\u001b[0m                 \u001b[0mmask\u001b[0m\u001b[0;34m=\u001b[0m\u001b[0mmask\u001b[0m\u001b[0;34m,\u001b[0m\u001b[0;34m\u001b[0m\u001b[0;34m\u001b[0m\u001b[0m\n\u001b[0;32m--> 508\u001b[0;31m                 \u001b[0;34m**\u001b[0m\u001b[0mkwargs\u001b[0m\u001b[0;34m,\u001b[0m\u001b[0;34m\u001b[0m\u001b[0;34m\u001b[0m\u001b[0m\n\u001b[0m\u001b[1;32m    509\u001b[0m             )\n",
            "\u001b[0;32m/usr/local/lib/python3.7/dist-packages/pandas/core/groupby/ops.py\u001b[0m in \u001b[0;36m_call_cython_op\u001b[0;34m(self, values, min_count, ngroups, comp_ids, mask, **kwargs)\u001b[0m\n\u001b[1;32m    562\u001b[0m         \u001b[0mout_shape\u001b[0m \u001b[0;34m=\u001b[0m \u001b[0mself\u001b[0m\u001b[0;34m.\u001b[0m\u001b[0m_get_output_shape\u001b[0m\u001b[0;34m(\u001b[0m\u001b[0mngroups\u001b[0m\u001b[0;34m,\u001b[0m \u001b[0mvalues\u001b[0m\u001b[0;34m)\u001b[0m\u001b[0;34m\u001b[0m\u001b[0;34m\u001b[0m\u001b[0m\n\u001b[0;32m--> 563\u001b[0;31m         \u001b[0mfunc\u001b[0m\u001b[0;34m,\u001b[0m \u001b[0mvalues\u001b[0m \u001b[0;34m=\u001b[0m \u001b[0mself\u001b[0m\u001b[0;34m.\u001b[0m\u001b[0mget_cython_func_and_vals\u001b[0m\u001b[0;34m(\u001b[0m\u001b[0mvalues\u001b[0m\u001b[0;34m,\u001b[0m \u001b[0mis_numeric\u001b[0m\u001b[0;34m)\u001b[0m\u001b[0;34m\u001b[0m\u001b[0;34m\u001b[0m\u001b[0m\n\u001b[0m\u001b[1;32m    564\u001b[0m         \u001b[0mout_dtype\u001b[0m \u001b[0;34m=\u001b[0m \u001b[0mself\u001b[0m\u001b[0;34m.\u001b[0m\u001b[0mget_out_dtype\u001b[0m\u001b[0;34m(\u001b[0m\u001b[0mvalues\u001b[0m\u001b[0;34m.\u001b[0m\u001b[0mdtype\u001b[0m\u001b[0;34m)\u001b[0m\u001b[0;34m\u001b[0m\u001b[0;34m\u001b[0m\u001b[0m\n",
            "\u001b[0;32m/usr/local/lib/python3.7/dist-packages/pandas/core/groupby/ops.py\u001b[0m in \u001b[0;36mget_cython_func_and_vals\u001b[0;34m(self, values, is_numeric)\u001b[0m\n\u001b[1;32m    198\u001b[0m                 raise NotImplementedError(\n\u001b[0;32m--> 199\u001b[0;31m                     \u001b[0;34mf\"function is not implemented for this dtype: \"\u001b[0m\u001b[0;34m\u001b[0m\u001b[0;34m\u001b[0m\u001b[0m\n\u001b[0m\u001b[1;32m    200\u001b[0m                     \u001b[0;34mf\"[how->{how},dtype->{values.dtype.name}]\"\u001b[0m\u001b[0;34m\u001b[0m\u001b[0;34m\u001b[0m\u001b[0m\n",
            "\u001b[0;31mNotImplementedError\u001b[0m: function is not implemented for this dtype: [how->median,dtype->object]",
            "\nDuring handling of the above exception, another exception occurred:\n",
            "\u001b[0;31mValueError\u001b[0m                                Traceback (most recent call last)",
            "\u001b[0;32m/usr/local/lib/python3.7/dist-packages/pandas/core/nanops.py\u001b[0m in \u001b[0;36mnanmedian\u001b[0;34m(values, axis, skipna, mask)\u001b[0m\n\u001b[1;32m    719\u001b[0m         \u001b[0;32mtry\u001b[0m\u001b[0;34m:\u001b[0m\u001b[0;34m\u001b[0m\u001b[0;34m\u001b[0m\u001b[0m\n\u001b[0;32m--> 720\u001b[0;31m             \u001b[0mvalues\u001b[0m \u001b[0;34m=\u001b[0m \u001b[0mvalues\u001b[0m\u001b[0;34m.\u001b[0m\u001b[0mastype\u001b[0m\u001b[0;34m(\u001b[0m\u001b[0;34m\"f8\"\u001b[0m\u001b[0;34m)\u001b[0m\u001b[0;34m\u001b[0m\u001b[0;34m\u001b[0m\u001b[0m\n\u001b[0m\u001b[1;32m    721\u001b[0m         \u001b[0;32mexcept\u001b[0m \u001b[0mValueError\u001b[0m \u001b[0;32mas\u001b[0m \u001b[0merr\u001b[0m\u001b[0;34m:\u001b[0m\u001b[0;34m\u001b[0m\u001b[0;34m\u001b[0m\u001b[0m\n",
            "\u001b[0;31mValueError\u001b[0m: could not convert string to float: '$85.00'",
            "\nThe above exception was the direct cause of the following exception:\n",
            "\u001b[0;31mTypeError\u001b[0m                                 Traceback (most recent call last)",
            "\u001b[0;32m<ipython-input-110-7707182aecc3>\u001b[0m in \u001b[0;36m<module>\u001b[0;34m()\u001b[0m\n\u001b[1;32m      2\u001b[0m \u001b[0;34m\u001b[0m\u001b[0m\n\u001b[1;32m      3\u001b[0m median_order = (airbnb.groupby('property_type') # agrupar por tipo de propiedad\n\u001b[0;32m----> 4\u001b[0;31m \u001b[0;34m[\u001b[0m\u001b[0;34m'price'\u001b[0m\u001b[0;34m]\u001b[0m\u001b[0;34m.\u001b[0m                                      \u001b[0;31m# filtrar el precio en cada grupo\u001b[0m\u001b[0;34m\u001b[0m\u001b[0;34m\u001b[0m\u001b[0m\n\u001b[0m\u001b[1;32m      5\u001b[0m \u001b[0mmedian\u001b[0m\u001b[0;34m(\u001b[0m\u001b[0;34m)\u001b[0m\u001b[0;34m.\u001b[0m                                       \u001b[0;31m# calcular la mediana\u001b[0m\u001b[0;34m\u001b[0m\u001b[0;34m\u001b[0m\u001b[0m\n\u001b[1;32m      6\u001b[0m \u001b[0msort_values\u001b[0m\u001b[0;34m(\u001b[0m\u001b[0;34m)\u001b[0m\u001b[0;34m.\u001b[0m                 \u001b[0;31m# organizar\u001b[0m\u001b[0;34m\u001b[0m\u001b[0;34m\u001b[0m\u001b[0m\n",
            "\u001b[0;32m/usr/local/lib/python3.7/dist-packages/pandas/core/groupby/groupby.py\u001b[0m in \u001b[0;36mmedian\u001b[0;34m(self, numeric_only)\u001b[0m\n\u001b[1;32m   1717\u001b[0m             \u001b[0;34m\"median\"\u001b[0m\u001b[0;34m,\u001b[0m\u001b[0;34m\u001b[0m\u001b[0;34m\u001b[0m\u001b[0m\n\u001b[1;32m   1718\u001b[0m             \u001b[0malt\u001b[0m\u001b[0;34m=\u001b[0m\u001b[0;32mlambda\u001b[0m \u001b[0mx\u001b[0m\u001b[0;34m:\u001b[0m \u001b[0mSeries\u001b[0m\u001b[0;34m(\u001b[0m\u001b[0mx\u001b[0m\u001b[0;34m)\u001b[0m\u001b[0;34m.\u001b[0m\u001b[0mmedian\u001b[0m\u001b[0;34m(\u001b[0m\u001b[0mnumeric_only\u001b[0m\u001b[0;34m=\u001b[0m\u001b[0mnumeric_only\u001b[0m\u001b[0;34m)\u001b[0m\u001b[0;34m,\u001b[0m\u001b[0;34m\u001b[0m\u001b[0;34m\u001b[0m\u001b[0m\n\u001b[0;32m-> 1719\u001b[0;31m             \u001b[0mnumeric_only\u001b[0m\u001b[0;34m=\u001b[0m\u001b[0mnumeric_only\u001b[0m\u001b[0;34m,\u001b[0m\u001b[0;34m\u001b[0m\u001b[0;34m\u001b[0m\u001b[0m\n\u001b[0m\u001b[1;32m   1720\u001b[0m         )\n\u001b[1;32m   1721\u001b[0m         \u001b[0;32mreturn\u001b[0m \u001b[0mresult\u001b[0m\u001b[0;34m.\u001b[0m\u001b[0m__finalize__\u001b[0m\u001b[0;34m(\u001b[0m\u001b[0mself\u001b[0m\u001b[0;34m.\u001b[0m\u001b[0mobj\u001b[0m\u001b[0;34m,\u001b[0m \u001b[0mmethod\u001b[0m\u001b[0;34m=\u001b[0m\u001b[0;34m\"groupby\"\u001b[0m\u001b[0;34m)\u001b[0m\u001b[0;34m\u001b[0m\u001b[0;34m\u001b[0m\u001b[0m\n",
            "\u001b[0;32m/usr/local/lib/python3.7/dist-packages/pandas/core/groupby/generic.py\u001b[0m in \u001b[0;36m_cython_agg_general\u001b[0;34m(self, how, alt, numeric_only, min_count)\u001b[0m\n\u001b[1;32m    350\u001b[0m             \u001b[0;32mreturn\u001b[0m \u001b[0mresult\u001b[0m\u001b[0;34m\u001b[0m\u001b[0;34m\u001b[0m\u001b[0m\n\u001b[1;32m    351\u001b[0m \u001b[0;34m\u001b[0m\u001b[0m\n\u001b[0;32m--> 352\u001b[0;31m         \u001b[0mresult\u001b[0m \u001b[0;34m=\u001b[0m \u001b[0marray_func\u001b[0m\u001b[0;34m(\u001b[0m\u001b[0mobjvals\u001b[0m\u001b[0;34m)\u001b[0m\u001b[0;34m\u001b[0m\u001b[0;34m\u001b[0m\u001b[0m\n\u001b[0m\u001b[1;32m    353\u001b[0m \u001b[0;34m\u001b[0m\u001b[0m\n\u001b[1;32m    354\u001b[0m         ser = self.obj._constructor(\n",
            "\u001b[0;32m/usr/local/lib/python3.7/dist-packages/pandas/core/groupby/generic.py\u001b[0m in \u001b[0;36marray_func\u001b[0;34m(values)\u001b[0m\n\u001b[1;32m    346\u001b[0m                 \u001b[0;31m# try to python agg\u001b[0m\u001b[0;34m\u001b[0m\u001b[0;34m\u001b[0m\u001b[0;34m\u001b[0m\u001b[0m\n\u001b[1;32m    347\u001b[0m                 \u001b[0;31m# TODO: shouldn't min_count matter?\u001b[0m\u001b[0;34m\u001b[0m\u001b[0;34m\u001b[0m\u001b[0;34m\u001b[0m\u001b[0m\n\u001b[0;32m--> 348\u001b[0;31m                 \u001b[0mresult\u001b[0m \u001b[0;34m=\u001b[0m \u001b[0mself\u001b[0m\u001b[0;34m.\u001b[0m\u001b[0m_agg_py_fallback\u001b[0m\u001b[0;34m(\u001b[0m\u001b[0mvalues\u001b[0m\u001b[0;34m,\u001b[0m \u001b[0mndim\u001b[0m\u001b[0;34m=\u001b[0m\u001b[0mdata\u001b[0m\u001b[0;34m.\u001b[0m\u001b[0mndim\u001b[0m\u001b[0;34m,\u001b[0m \u001b[0malt\u001b[0m\u001b[0;34m=\u001b[0m\u001b[0malt\u001b[0m\u001b[0;34m)\u001b[0m\u001b[0;34m\u001b[0m\u001b[0;34m\u001b[0m\u001b[0m\n\u001b[0m\u001b[1;32m    349\u001b[0m \u001b[0;34m\u001b[0m\u001b[0m\n\u001b[1;32m    350\u001b[0m             \u001b[0;32mreturn\u001b[0m \u001b[0mresult\u001b[0m\u001b[0;34m\u001b[0m\u001b[0;34m\u001b[0m\u001b[0m\n",
            "\u001b[0;32m/usr/local/lib/python3.7/dist-packages/pandas/core/groupby/groupby.py\u001b[0m in \u001b[0;36m_agg_py_fallback\u001b[0;34m(self, values, ndim, alt)\u001b[0m\n\u001b[1;32m   1396\u001b[0m         \u001b[0;31m#  should always be preserved by the implemented aggregations\u001b[0m\u001b[0;34m\u001b[0m\u001b[0;34m\u001b[0m\u001b[0;34m\u001b[0m\u001b[0m\n\u001b[1;32m   1397\u001b[0m         \u001b[0;31m# TODO: Is this exactly right; see WrappedCythonOp get_result_dtype?\u001b[0m\u001b[0;34m\u001b[0m\u001b[0;34m\u001b[0m\u001b[0;34m\u001b[0m\u001b[0m\n\u001b[0;32m-> 1398\u001b[0;31m         \u001b[0mres_values\u001b[0m \u001b[0;34m=\u001b[0m \u001b[0mself\u001b[0m\u001b[0;34m.\u001b[0m\u001b[0mgrouper\u001b[0m\u001b[0;34m.\u001b[0m\u001b[0magg_series\u001b[0m\u001b[0;34m(\u001b[0m\u001b[0mser\u001b[0m\u001b[0;34m,\u001b[0m \u001b[0malt\u001b[0m\u001b[0;34m,\u001b[0m \u001b[0mpreserve_dtype\u001b[0m\u001b[0;34m=\u001b[0m\u001b[0;32mTrue\u001b[0m\u001b[0;34m)\u001b[0m\u001b[0;34m\u001b[0m\u001b[0;34m\u001b[0m\u001b[0m\n\u001b[0m\u001b[1;32m   1399\u001b[0m \u001b[0;34m\u001b[0m\u001b[0m\n\u001b[1;32m   1400\u001b[0m         \u001b[0;32mif\u001b[0m \u001b[0misinstance\u001b[0m\u001b[0;34m(\u001b[0m\u001b[0mvalues\u001b[0m\u001b[0;34m,\u001b[0m \u001b[0mCategorical\u001b[0m\u001b[0;34m)\u001b[0m\u001b[0;34m:\u001b[0m\u001b[0;34m\u001b[0m\u001b[0;34m\u001b[0m\u001b[0m\n",
            "\u001b[0;32m/usr/local/lib/python3.7/dist-packages/pandas/core/groupby/ops.py\u001b[0m in \u001b[0;36magg_series\u001b[0;34m(self, obj, func, preserve_dtype)\u001b[0m\n\u001b[1;32m   1058\u001b[0m \u001b[0;34m\u001b[0m\u001b[0m\n\u001b[1;32m   1059\u001b[0m         \u001b[0;32melse\u001b[0m\u001b[0;34m:\u001b[0m\u001b[0;34m\u001b[0m\u001b[0;34m\u001b[0m\u001b[0m\n\u001b[0;32m-> 1060\u001b[0;31m             \u001b[0mresult\u001b[0m \u001b[0;34m=\u001b[0m \u001b[0mself\u001b[0m\u001b[0;34m.\u001b[0m\u001b[0m_aggregate_series_fast\u001b[0m\u001b[0;34m(\u001b[0m\u001b[0mobj\u001b[0m\u001b[0;34m,\u001b[0m \u001b[0mfunc\u001b[0m\u001b[0;34m)\u001b[0m\u001b[0;34m\u001b[0m\u001b[0;34m\u001b[0m\u001b[0m\n\u001b[0m\u001b[1;32m   1061\u001b[0m \u001b[0;34m\u001b[0m\u001b[0m\n\u001b[1;32m   1062\u001b[0m         \u001b[0mnpvalues\u001b[0m \u001b[0;34m=\u001b[0m \u001b[0mlib\u001b[0m\u001b[0;34m.\u001b[0m\u001b[0mmaybe_convert_objects\u001b[0m\u001b[0;34m(\u001b[0m\u001b[0mresult\u001b[0m\u001b[0;34m,\u001b[0m \u001b[0mtry_float\u001b[0m\u001b[0;34m=\u001b[0m\u001b[0;32mFalse\u001b[0m\u001b[0;34m)\u001b[0m\u001b[0;34m\u001b[0m\u001b[0;34m\u001b[0m\u001b[0m\n",
            "\u001b[0;32m/usr/local/lib/python3.7/dist-packages/pandas/core/groupby/ops.py\u001b[0m in \u001b[0;36m_aggregate_series_fast\u001b[0;34m(self, obj, func)\u001b[0m\n\u001b[1;32m   1083\u001b[0m         \u001b[0mids\u001b[0m \u001b[0;34m=\u001b[0m \u001b[0mids\u001b[0m\u001b[0;34m.\u001b[0m\u001b[0mtake\u001b[0m\u001b[0;34m(\u001b[0m\u001b[0mindexer\u001b[0m\u001b[0;34m)\u001b[0m\u001b[0;34m\u001b[0m\u001b[0;34m\u001b[0m\u001b[0m\n\u001b[1;32m   1084\u001b[0m         \u001b[0msgrouper\u001b[0m \u001b[0;34m=\u001b[0m \u001b[0mlibreduction\u001b[0m\u001b[0;34m.\u001b[0m\u001b[0mSeriesGrouper\u001b[0m\u001b[0;34m(\u001b[0m\u001b[0mobj\u001b[0m\u001b[0;34m,\u001b[0m \u001b[0mfunc\u001b[0m\u001b[0;34m,\u001b[0m \u001b[0mids\u001b[0m\u001b[0;34m,\u001b[0m \u001b[0mngroups\u001b[0m\u001b[0;34m)\u001b[0m\u001b[0;34m\u001b[0m\u001b[0;34m\u001b[0m\u001b[0m\n\u001b[0;32m-> 1085\u001b[0;31m         \u001b[0mresult\u001b[0m\u001b[0;34m,\u001b[0m \u001b[0m_\u001b[0m \u001b[0;34m=\u001b[0m \u001b[0msgrouper\u001b[0m\u001b[0;34m.\u001b[0m\u001b[0mget_result\u001b[0m\u001b[0;34m(\u001b[0m\u001b[0;34m)\u001b[0m\u001b[0;34m\u001b[0m\u001b[0;34m\u001b[0m\u001b[0m\n\u001b[0m\u001b[1;32m   1086\u001b[0m         \u001b[0;32mreturn\u001b[0m \u001b[0mresult\u001b[0m\u001b[0;34m\u001b[0m\u001b[0;34m\u001b[0m\u001b[0m\n\u001b[1;32m   1087\u001b[0m \u001b[0;34m\u001b[0m\u001b[0m\n",
            "\u001b[0;32m/usr/local/lib/python3.7/dist-packages/pandas/_libs/reduction.pyx\u001b[0m in \u001b[0;36mpandas._libs.reduction.SeriesGrouper.get_result\u001b[0;34m()\u001b[0m\n",
            "\u001b[0;32m/usr/local/lib/python3.7/dist-packages/pandas/_libs/reduction.pyx\u001b[0m in \u001b[0;36mpandas._libs.reduction._BaseGrouper._apply_to_group\u001b[0;34m()\u001b[0m\n",
            "\u001b[0;32m/usr/local/lib/python3.7/dist-packages/pandas/core/groupby/groupby.py\u001b[0m in \u001b[0;36m<lambda>\u001b[0;34m(x)\u001b[0m\n\u001b[1;32m   1716\u001b[0m         result = self._cython_agg_general(\n\u001b[1;32m   1717\u001b[0m             \u001b[0;34m\"median\"\u001b[0m\u001b[0;34m,\u001b[0m\u001b[0;34m\u001b[0m\u001b[0;34m\u001b[0m\u001b[0m\n\u001b[0;32m-> 1718\u001b[0;31m             \u001b[0malt\u001b[0m\u001b[0;34m=\u001b[0m\u001b[0;32mlambda\u001b[0m \u001b[0mx\u001b[0m\u001b[0;34m:\u001b[0m \u001b[0mSeries\u001b[0m\u001b[0;34m(\u001b[0m\u001b[0mx\u001b[0m\u001b[0;34m)\u001b[0m\u001b[0;34m.\u001b[0m\u001b[0mmedian\u001b[0m\u001b[0;34m(\u001b[0m\u001b[0mnumeric_only\u001b[0m\u001b[0;34m=\u001b[0m\u001b[0mnumeric_only\u001b[0m\u001b[0;34m)\u001b[0m\u001b[0;34m,\u001b[0m\u001b[0;34m\u001b[0m\u001b[0;34m\u001b[0m\u001b[0m\n\u001b[0m\u001b[1;32m   1719\u001b[0m             \u001b[0mnumeric_only\u001b[0m\u001b[0;34m=\u001b[0m\u001b[0mnumeric_only\u001b[0m\u001b[0;34m,\u001b[0m\u001b[0;34m\u001b[0m\u001b[0;34m\u001b[0m\u001b[0m\n\u001b[1;32m   1720\u001b[0m         )\n",
            "\u001b[0;32m/usr/local/lib/python3.7/dist-packages/pandas/core/generic.py\u001b[0m in \u001b[0;36mmedian\u001b[0;34m(self, axis, skipna, level, numeric_only, **kwargs)\u001b[0m\n\u001b[1;32m  10800\u001b[0m             \u001b[0mself\u001b[0m\u001b[0;34m,\u001b[0m \u001b[0maxis\u001b[0m\u001b[0;34m=\u001b[0m\u001b[0;32mNone\u001b[0m\u001b[0;34m,\u001b[0m \u001b[0mskipna\u001b[0m\u001b[0;34m=\u001b[0m\u001b[0;32mNone\u001b[0m\u001b[0;34m,\u001b[0m \u001b[0mlevel\u001b[0m\u001b[0;34m=\u001b[0m\u001b[0;32mNone\u001b[0m\u001b[0;34m,\u001b[0m \u001b[0mnumeric_only\u001b[0m\u001b[0;34m=\u001b[0m\u001b[0;32mNone\u001b[0m\u001b[0;34m,\u001b[0m \u001b[0;34m**\u001b[0m\u001b[0mkwargs\u001b[0m\u001b[0;34m\u001b[0m\u001b[0;34m\u001b[0m\u001b[0m\n\u001b[1;32m  10801\u001b[0m         ):\n\u001b[0;32m> 10802\u001b[0;31m             \u001b[0;32mreturn\u001b[0m \u001b[0mNDFrame\u001b[0m\u001b[0;34m.\u001b[0m\u001b[0mmedian\u001b[0m\u001b[0;34m(\u001b[0m\u001b[0mself\u001b[0m\u001b[0;34m,\u001b[0m \u001b[0maxis\u001b[0m\u001b[0;34m,\u001b[0m \u001b[0mskipna\u001b[0m\u001b[0;34m,\u001b[0m \u001b[0mlevel\u001b[0m\u001b[0;34m,\u001b[0m \u001b[0mnumeric_only\u001b[0m\u001b[0;34m,\u001b[0m \u001b[0;34m**\u001b[0m\u001b[0mkwargs\u001b[0m\u001b[0;34m)\u001b[0m\u001b[0;34m\u001b[0m\u001b[0;34m\u001b[0m\u001b[0m\n\u001b[0m\u001b[1;32m  10803\u001b[0m \u001b[0;34m\u001b[0m\u001b[0m\n\u001b[1;32m  10804\u001b[0m         \u001b[0msetattr\u001b[0m\u001b[0;34m(\u001b[0m\u001b[0mcls\u001b[0m\u001b[0;34m,\u001b[0m \u001b[0;34m\"median\"\u001b[0m\u001b[0;34m,\u001b[0m \u001b[0mmedian\u001b[0m\u001b[0;34m)\u001b[0m\u001b[0;34m\u001b[0m\u001b[0;34m\u001b[0m\u001b[0m\n",
            "\u001b[0;32m/usr/local/lib/python3.7/dist-packages/pandas/core/generic.py\u001b[0m in \u001b[0;36mmedian\u001b[0;34m(self, axis, skipna, level, numeric_only, **kwargs)\u001b[0m\n\u001b[1;32m  10373\u001b[0m     \u001b[0;32mdef\u001b[0m \u001b[0mmedian\u001b[0m\u001b[0;34m(\u001b[0m\u001b[0mself\u001b[0m\u001b[0;34m,\u001b[0m \u001b[0maxis\u001b[0m\u001b[0;34m=\u001b[0m\u001b[0;32mNone\u001b[0m\u001b[0;34m,\u001b[0m \u001b[0mskipna\u001b[0m\u001b[0;34m=\u001b[0m\u001b[0;32mNone\u001b[0m\u001b[0;34m,\u001b[0m \u001b[0mlevel\u001b[0m\u001b[0;34m=\u001b[0m\u001b[0;32mNone\u001b[0m\u001b[0;34m,\u001b[0m \u001b[0mnumeric_only\u001b[0m\u001b[0;34m=\u001b[0m\u001b[0;32mNone\u001b[0m\u001b[0;34m,\u001b[0m \u001b[0;34m**\u001b[0m\u001b[0mkwargs\u001b[0m\u001b[0;34m)\u001b[0m\u001b[0;34m:\u001b[0m\u001b[0;34m\u001b[0m\u001b[0;34m\u001b[0m\u001b[0m\n\u001b[1;32m  10374\u001b[0m         return self._stat_function(\n\u001b[0;32m> 10375\u001b[0;31m             \u001b[0;34m\"median\"\u001b[0m\u001b[0;34m,\u001b[0m \u001b[0mnanops\u001b[0m\u001b[0;34m.\u001b[0m\u001b[0mnanmedian\u001b[0m\u001b[0;34m,\u001b[0m \u001b[0maxis\u001b[0m\u001b[0;34m,\u001b[0m \u001b[0mskipna\u001b[0m\u001b[0;34m,\u001b[0m \u001b[0mlevel\u001b[0m\u001b[0;34m,\u001b[0m \u001b[0mnumeric_only\u001b[0m\u001b[0;34m,\u001b[0m \u001b[0;34m**\u001b[0m\u001b[0mkwargs\u001b[0m\u001b[0;34m\u001b[0m\u001b[0;34m\u001b[0m\u001b[0m\n\u001b[0m\u001b[1;32m  10376\u001b[0m         )\n\u001b[1;32m  10377\u001b[0m \u001b[0;34m\u001b[0m\u001b[0m\n",
            "\u001b[0;32m/usr/local/lib/python3.7/dist-packages/pandas/core/generic.py\u001b[0m in \u001b[0;36m_stat_function\u001b[0;34m(self, name, func, axis, skipna, level, numeric_only, **kwargs)\u001b[0m\n\u001b[1;32m  10353\u001b[0m             )\n\u001b[1;32m  10354\u001b[0m         return self._reduce(\n\u001b[0;32m> 10355\u001b[0;31m             \u001b[0mfunc\u001b[0m\u001b[0;34m,\u001b[0m \u001b[0mname\u001b[0m\u001b[0;34m=\u001b[0m\u001b[0mname\u001b[0m\u001b[0;34m,\u001b[0m \u001b[0maxis\u001b[0m\u001b[0;34m=\u001b[0m\u001b[0maxis\u001b[0m\u001b[0;34m,\u001b[0m \u001b[0mskipna\u001b[0m\u001b[0;34m=\u001b[0m\u001b[0mskipna\u001b[0m\u001b[0;34m,\u001b[0m \u001b[0mnumeric_only\u001b[0m\u001b[0;34m=\u001b[0m\u001b[0mnumeric_only\u001b[0m\u001b[0;34m\u001b[0m\u001b[0;34m\u001b[0m\u001b[0m\n\u001b[0m\u001b[1;32m  10356\u001b[0m         )\n\u001b[1;32m  10357\u001b[0m \u001b[0;34m\u001b[0m\u001b[0m\n",
            "\u001b[0;32m/usr/local/lib/python3.7/dist-packages/pandas/core/series.py\u001b[0m in \u001b[0;36m_reduce\u001b[0;34m(self, op, name, axis, skipna, numeric_only, filter_type, **kwds)\u001b[0m\n\u001b[1;32m   4390\u001b[0m                 )\n\u001b[1;32m   4391\u001b[0m             \u001b[0;32mwith\u001b[0m \u001b[0mnp\u001b[0m\u001b[0;34m.\u001b[0m\u001b[0merrstate\u001b[0m\u001b[0;34m(\u001b[0m\u001b[0mall\u001b[0m\u001b[0;34m=\u001b[0m\u001b[0;34m\"ignore\"\u001b[0m\u001b[0;34m)\u001b[0m\u001b[0;34m:\u001b[0m\u001b[0;34m\u001b[0m\u001b[0;34m\u001b[0m\u001b[0m\n\u001b[0;32m-> 4392\u001b[0;31m                 \u001b[0;32mreturn\u001b[0m \u001b[0mop\u001b[0m\u001b[0;34m(\u001b[0m\u001b[0mdelegate\u001b[0m\u001b[0;34m,\u001b[0m \u001b[0mskipna\u001b[0m\u001b[0;34m=\u001b[0m\u001b[0mskipna\u001b[0m\u001b[0;34m,\u001b[0m \u001b[0;34m**\u001b[0m\u001b[0mkwds\u001b[0m\u001b[0;34m)\u001b[0m\u001b[0;34m\u001b[0m\u001b[0;34m\u001b[0m\u001b[0m\n\u001b[0m\u001b[1;32m   4393\u001b[0m \u001b[0;34m\u001b[0m\u001b[0m\n\u001b[1;32m   4394\u001b[0m     def _reindex_indexer(\n",
            "\u001b[0;32m/usr/local/lib/python3.7/dist-packages/pandas/core/nanops.py\u001b[0m in \u001b[0;36mf\u001b[0;34m(values, axis, skipna, **kwds)\u001b[0m\n\u001b[1;32m    154\u001b[0m                     \u001b[0mresult\u001b[0m \u001b[0;34m=\u001b[0m \u001b[0malt\u001b[0m\u001b[0;34m(\u001b[0m\u001b[0mvalues\u001b[0m\u001b[0;34m,\u001b[0m \u001b[0maxis\u001b[0m\u001b[0;34m=\u001b[0m\u001b[0maxis\u001b[0m\u001b[0;34m,\u001b[0m \u001b[0mskipna\u001b[0m\u001b[0;34m=\u001b[0m\u001b[0mskipna\u001b[0m\u001b[0;34m,\u001b[0m \u001b[0;34m**\u001b[0m\u001b[0mkwds\u001b[0m\u001b[0;34m)\u001b[0m\u001b[0;34m\u001b[0m\u001b[0;34m\u001b[0m\u001b[0m\n\u001b[1;32m    155\u001b[0m             \u001b[0;32melse\u001b[0m\u001b[0;34m:\u001b[0m\u001b[0;34m\u001b[0m\u001b[0;34m\u001b[0m\u001b[0m\n\u001b[0;32m--> 156\u001b[0;31m                 \u001b[0mresult\u001b[0m \u001b[0;34m=\u001b[0m \u001b[0malt\u001b[0m\u001b[0;34m(\u001b[0m\u001b[0mvalues\u001b[0m\u001b[0;34m,\u001b[0m \u001b[0maxis\u001b[0m\u001b[0;34m=\u001b[0m\u001b[0maxis\u001b[0m\u001b[0;34m,\u001b[0m \u001b[0mskipna\u001b[0m\u001b[0;34m=\u001b[0m\u001b[0mskipna\u001b[0m\u001b[0;34m,\u001b[0m \u001b[0;34m**\u001b[0m\u001b[0mkwds\u001b[0m\u001b[0;34m)\u001b[0m\u001b[0;34m\u001b[0m\u001b[0;34m\u001b[0m\u001b[0m\n\u001b[0m\u001b[1;32m    157\u001b[0m \u001b[0;34m\u001b[0m\u001b[0m\n\u001b[1;32m    158\u001b[0m             \u001b[0;32mreturn\u001b[0m \u001b[0mresult\u001b[0m\u001b[0;34m\u001b[0m\u001b[0;34m\u001b[0m\u001b[0m\n",
            "\u001b[0;32m/usr/local/lib/python3.7/dist-packages/pandas/core/nanops.py\u001b[0m in \u001b[0;36mnanmedian\u001b[0;34m(values, axis, skipna, mask)\u001b[0m\n\u001b[1;32m    721\u001b[0m         \u001b[0;32mexcept\u001b[0m \u001b[0mValueError\u001b[0m \u001b[0;32mas\u001b[0m \u001b[0merr\u001b[0m\u001b[0;34m:\u001b[0m\u001b[0;34m\u001b[0m\u001b[0;34m\u001b[0m\u001b[0m\n\u001b[1;32m    722\u001b[0m             \u001b[0;31m# e.g. \"could not convert string to float: 'a'\"\u001b[0m\u001b[0;34m\u001b[0m\u001b[0;34m\u001b[0m\u001b[0;34m\u001b[0m\u001b[0m\n\u001b[0;32m--> 723\u001b[0;31m             \u001b[0;32mraise\u001b[0m \u001b[0mTypeError\u001b[0m\u001b[0;34m(\u001b[0m\u001b[0mstr\u001b[0m\u001b[0;34m(\u001b[0m\u001b[0merr\u001b[0m\u001b[0;34m)\u001b[0m\u001b[0;34m)\u001b[0m \u001b[0;32mfrom\u001b[0m \u001b[0merr\u001b[0m\u001b[0;34m\u001b[0m\u001b[0;34m\u001b[0m\u001b[0m\n\u001b[0m\u001b[1;32m    724\u001b[0m         \u001b[0;32mif\u001b[0m \u001b[0mmask\u001b[0m \u001b[0;32mis\u001b[0m \u001b[0;32mnot\u001b[0m \u001b[0;32mNone\u001b[0m\u001b[0;34m:\u001b[0m\u001b[0;34m\u001b[0m\u001b[0;34m\u001b[0m\u001b[0m\n\u001b[1;32m    725\u001b[0m             \u001b[0mvalues\u001b[0m\u001b[0;34m[\u001b[0m\u001b[0mmask\u001b[0m\u001b[0;34m]\u001b[0m \u001b[0;34m=\u001b[0m \u001b[0mnp\u001b[0m\u001b[0;34m.\u001b[0m\u001b[0mnan\u001b[0m\u001b[0;34m\u001b[0m\u001b[0;34m\u001b[0m\u001b[0m\n",
            "\u001b[0;31mTypeError\u001b[0m: could not convert string to float: '$85.00'"
          ]
        }
      ]
    },
    {
      "cell_type": "code",
      "source": [
        "fig = plt.figure(figsize = (10,10) ) # se crea la figura y se determina el tamaño\n",
        "\n",
        "sns.boxplot(data = airbnb, \n",
        "            y = 'property_type', \n",
        "            x = 'price',\n",
        "            order = median_order ) # ordenamiento de mayor a menor frecuencia\n",
        "\n",
        "plt.xlabel('Precio en dólares')\n",
        "plt.ylabel('Tipo de propiedad')\n",
        "plt.title('Precio del hospedaje en función del tipo de propiedad')"
      ],
      "metadata": {
        "id": "d5Yviv4PoyGu"
      },
      "execution_count": null,
      "outputs": []
    },
    {
      "cell_type": "markdown",
      "source": [
        "Debido a la cantidad tan grande de tipos de propiedad, la gráfica anterior carece de valor y es demasiado compleja. Vamos a crear un subconjunto de datos solamente con los 5 tipos de propiedades que tienen mayor frecuencia. En el proceso no perderemos demasiados datos, ya que, el 96% de los hospedajes pertenecen a estas 5 categorías.\n"
      ],
      "metadata": {
        "id": "Z2BwUehYoxb4"
      }
    },
    {
      "cell_type": "code",
      "source": [
        "# Primero, encontramos cuales son los 5 tipos de propiedades más comunes\n",
        "\n",
        "airbnb['property_type'].value_counts(normalize = True).head(5)*100"
      ],
      "metadata": {
        "id": "6DbD_D8YpRFr"
      },
      "execution_count": null,
      "outputs": []
    },
    {
      "cell_type": "code",
      "source": [
        "# Extraemos el índice que contiene el nombre de las categorías de interés\n",
        "\n",
        "top5_properties = (airbnb['property_type'].value_counts(normalize = True).head(5)*100).index\n",
        "top5_properties"
      ],
      "metadata": {
        "id": "BxHpGGYtqlZb"
      },
      "execution_count": null,
      "outputs": []
    },
    {
      "cell_type": "markdown",
      "source": [
        "`.isin()` nos permite encontrar todas las coincidencias existentes sobre una lista u objeto iterable. En este caso nos permite encontrar todos los hospedajes que pertenezcan a nuestro top 5 de tipos de propiedades. Para más información sobre este método consulte [aquí](https://pandas.pydata.org/docs/reference/api/pandas.DataFrame.isin.html).\n",
        "\n"
      ],
      "metadata": {
        "id": "SLRPmTverKpd"
      }
    },
    {
      "cell_type": "code",
      "source": [
        "# Creamos un filtro con el método isin()\n",
        "\n",
        "top = airbnb.loc[airbnb['property_type'].isin (top5_properties)]\n",
        "top.head()"
      ],
      "metadata": {
        "id": "MGRp9Nwcq1ST"
      },
      "execution_count": null,
      "outputs": []
    },
    {
      "cell_type": "code",
      "source": [
        "# Creamos una lista con las 5 propiedades ordenadas de mayor a menor mediana\n",
        "\n",
        "median_order_top = (top.groupby('property_type')\n",
        "['price']\n",
        ".median()\n",
        ".sort_values(ascending= False)\n",
        ".index)\n",
        "\n",
        "median_order_top"
      ],
      "metadata": {
        "id": "_mn19JUGwUXa"
      },
      "execution_count": null,
      "outputs": []
    },
    {
      "cell_type": "code",
      "source": [
        "# Finalmente construimos la gráfica solicitada con el nuevo subconjunto top\n",
        "\n",
        "sns.boxplot(data = top, \n",
        "            y = 'property_type', \n",
        "            x = 'price',\n",
        "            order = median_order_top) # las organizamos de acuerdo al top 5 obtenido anteriormente\n",
        "\n",
        "plt.xlabel('Precio en dólares')\n",
        "plt.ylabel('Tipo de propiedad')\n",
        "plt.title('Precio del hospedaje en función del tipo de propiedad')"
      ],
      "metadata": {
        "id": "MsjfW-hqXIJG"
      },
      "execution_count": null,
      "outputs": []
    },
    {
      "cell_type": "markdown",
      "source": [
        "En la anterior visualización podemos observar una alta dispersión para  todas las categorías. Todas las distribuciones son asimétricas hacía la derecha, la asimetría es ocasionada por propiedades con precios mayores a la media en cada caso. Comparando las medianas podemos observar que en general los condominios son los tipos de propiedad más costosos seguido por los lofts y los apartamentos. \n",
        "\n",
        "**Conclusión: Se observa una distribución de precios ligeramente diferente para cada tipo de propiedad. Los precios sí se ven afectados por el tipo de propiedad, sin embargo, solamente esta variable no permite explicar el comportamiento del precio.**\n",
        "\n",
        "Nota: Observe que en la gráfica general hay tipos de propiedades con mayor precio promedio que los condominios y menor precio que las casas, discuta al respecto."
      ],
      "metadata": {
        "id": "unlWLJvDr5xh"
      }
    },
    {
      "cell_type": "markdown",
      "source": [
        "### Ejercicio 11  (Díficil)\n",
        "\n",
        "Repita el análisis que acabamos de hacer en el ejemplo anterior con el tipo de propiedad y su relación con el precio, pero ahora responda: **¿Existe una relación entre el barrio y el precio por noche del Airbnb?**"
      ],
      "metadata": {
        "id": "Wx7cMLaAziPe"
      }
    },
    {
      "cell_type": "code",
      "source": [
        "# Respuesta"
      ],
      "metadata": {
        "id": "nqfTelCNWyoA"
      },
      "execution_count": null,
      "outputs": []
    },
    {
      "cell_type": "markdown",
      "source": [
        "### Ejercicio 12\n",
        "\n",
        "Construya un boxplot entre la variable parqueadero y precio.\n",
        "\n",
        "¿Existe alguna relación entre si un Airbnb tiene parqueadero y su precio?"
      ],
      "metadata": {
        "id": "VTupqFQh2TUM"
      }
    },
    {
      "cell_type": "code",
      "source": [
        "# Respuesta\n",
        "\n"
      ],
      "metadata": {
        "id": "aoZFyxBr2Swy"
      },
      "execution_count": null,
      "outputs": []
    },
    {
      "cell_type": "markdown",
      "source": [
        "### Ejercicio 13\n",
        "\n",
        "Construya una gráfica de dispersión de longitud y latitud. Longitud debe ir en el eje horizontal y latitud en el eje vertical. Para más información consulte [aquí](https://upload.wikimedia.org/wikipedia/commons/thumb/5/58/Latitud_y_Longitud_en_la_Tierra.svg/1920px-Latitud_y_Longitud_en_la_Tierra.svg.png).\n",
        "\n",
        "\n",
        "¿Encuentra algunos patrones? ¿Los hospedajes se distribuyen de forma homogénea en la ciudad de Nueva York?"
      ],
      "metadata": {
        "id": "9c5OEgUNxuxA"
      }
    },
    {
      "cell_type": "code",
      "source": [
        "# Respuesta\n"
      ],
      "metadata": {
        "id": "vM7frab66iBN"
      },
      "execution_count": null,
      "outputs": []
    },
    {
      "cell_type": "markdown",
      "source": [
        "## Ejemplo 2: Uso de jointplot para evaluar puntos con alta concentración de hospedajes"
      ],
      "metadata": {
        "id": "YEaoqwB6-Lks"
      }
    },
    {
      "cell_type": "markdown",
      "source": [
        "En la visualización anterior pudimos observar algunos patrones de distribución de los hospedajes, sin embargo, por la gran cantidad de puntos no es posible analizar qué zonas tienen mayor cantidad de hospedajes. Vamos a ver un nuevo tipo de visualización que nos ayudará en ese análisis. La visualización jointplot nos va permitir visualizar al tiempo la distribución de cada variable por separado y adicionalmente veremos dónde hay mayor concentración de puntos usando un mapa de calor.\n",
        "\n",
        "Para más información de este tipo de visualización consulte [aquí](https://seaborn.pydata.org/generated/seaborn.jointplot.html)."
      ],
      "metadata": {
        "id": "WOvaf5zb5ztH"
      }
    },
    {
      "cell_type": "code",
      "source": [
        "sns.jointplot(data = airbnb,\n",
        "              x='longitude', \n",
        "              y='latitude', \n",
        "              kind=\"hex\", # define la forma de las zonas que vamos a construir\n",
        "              color = 'red')\n",
        "\n",
        "plt.xlabel('Longitud')\n",
        "plt.ylabel('Latitud')\n",
        "plt.title('Hospedajes en función de la ubicación')\n",
        "plt.tight_layout() # Evita el sobrelapamiento de elementos"
      ],
      "metadata": {
        "id": "GqgnlpqF3KES"
      },
      "execution_count": null,
      "outputs": []
    },
    {
      "cell_type": "markdown",
      "source": [
        "Podemos obsevar una clara concentración de hospedajes en la zona de Manhattan y Brooklyn al sur del Central Park. Alrededor de del Central Park también se puede ver una alta cantidad de hospedajes. Esto se debe principalmente a que es una zona central, turística y prestigiosa de la ciudad.  Más adelante construiremos esta misma gráfica pero sobre el mapa de la ciudad de Nueva York.\n",
        "\n",
        "<img src = \"https://origin-www.nycgo.com/images/pages/71068/neighbs_socialshare_1200x628_fiveboros__facebook.png\" alt = \"Encabezado\" width = \"50%\">  </img>"
      ],
      "metadata": {
        "id": "ClE_btvd8gRI"
      }
    },
    {
      "cell_type": "markdown",
      "source": [
        "### Ejercicio 14\n",
        "\n",
        "Utilice un jointplot para analizar la relación entre el número de reseñas (reviews) y el precio.\n",
        "¿Existe una relación entre el precio y el número de reseñas?"
      ],
      "metadata": {
        "id": "yHOxcae633p_"
      }
    },
    {
      "cell_type": "code",
      "source": [
        "# Respuesta"
      ],
      "metadata": {
        "id": "pzyR98u43839"
      },
      "execution_count": null,
      "outputs": []
    },
    {
      "cell_type": "markdown",
      "source": [
        "### Ejercicio 15\n",
        "\n",
        "¿Existe alguna relación entre los Superhosts y el número de reseñas?\n",
        "\n",
        "Puede emplear un diagrama de barras o un boxplot para responder esta pregunta. No olvide discutir el resultado."
      ],
      "metadata": {
        "id": "BQ48DS4448P9"
      }
    },
    {
      "cell_type": "code",
      "source": [
        "# Respuesta\n",
        "\n"
      ],
      "metadata": {
        "id": "robzlblO475q"
      },
      "execution_count": null,
      "outputs": []
    },
    {
      "cell_type": "markdown",
      "source": [
        "## Ejemplo 3: Creación de un geoheatmap con Folium"
      ],
      "metadata": {
        "id": "ksbST6WR-Pk6"
      }
    },
    {
      "cell_type": "markdown",
      "source": [
        "Vamos a trabajar con una herramientas de visualización de mapas interactivos. La librería se se llama folium. Instalamos la librería usando el gestor de paquetes pip. También importamos los módulos necesarios para crear nuestra visualización. Para más información de la librería folium consulte la [Documentación](https://python-visualization.github.io/folium/)."
      ],
      "metadata": {
        "id": "D0u-2TkHH7Wr"
      }
    },
    {
      "cell_type": "code",
      "source": [
        "!pip install -U folium"
      ],
      "metadata": {
        "id": "KdXatUy1LTUe"
      },
      "execution_count": null,
      "outputs": []
    },
    {
      "cell_type": "code",
      "source": [
        "import folium \n",
        "from folium.plugins import HeatMap"
      ],
      "metadata": {
        "id": "lKaj_RmsLSXI"
      },
      "execution_count": null,
      "outputs": []
    },
    {
      "cell_type": "code",
      "source": [
        "map = folium.Map()\n",
        "map"
      ],
      "metadata": {
        "id": "QB_n-KwfBcmL"
      },
      "execution_count": null,
      "outputs": []
    },
    {
      "cell_type": "markdown",
      "source": [
        "Podemos ubicar el mapa donde queramos, solo necesitamos las coordenadas del lugar. Por ejemplo, situemos nuestro mapa en la Plaza de Bolívar en Bogotá. Las coordenadas fueron obtenidas usando Google Maps. \n",
        "La estructura de las coordenadas es la siguiente:\n",
        "```\n",
        "[Latitud, Longitud]\n",
        "```\n",
        "\n"
      ],
      "metadata": {
        "id": "neSimouHPxlQ"
      }
    },
    {
      "cell_type": "code",
      "source": [
        "plaza_bolivar = [4.598464,-74.076184] # Coordenas de la plaza de Bolívar\n",
        "\n",
        "map = folium.Map(location = plaza_bolivar,\n",
        "                 zoom_start= 20, # Zoom inicial, valor más grande, mayo zoom\n",
        "                 tiles=\"OpenStreetMap\")\n",
        "map"
      ],
      "metadata": {
        "id": "MR4j_JWxBmxl"
      },
      "execution_count": null,
      "outputs": []
    },
    {
      "cell_type": "markdown",
      "source": [
        "Luego de esa prueba interesante, ahora sí, construyamos el mapa de Nueva York con las coordenadas respectivas, vamos a centrar el mapa en Central Park."
      ],
      "metadata": {
        "id": "3Q6dY2XtQUd6"
      }
    },
    {
      "cell_type": "code",
      "source": [
        "nueva_york = [40.781027,-73.965726]\n",
        "map1 = folium.Map(location = nueva_york, zoom_start= 10,tiles=\"OpenStreetMap\")\n",
        "map1"
      ],
      "metadata": {
        "id": "a_vH7-1958UQ"
      },
      "execution_count": null,
      "outputs": []
    },
    {
      "cell_type": "markdown",
      "source": [
        "Ahora necesitamos entregarle a Folium un contenedor de los datos de latitud y longitud. Para eso usamos la función zip que convierte dos objetos iterables y une los elementos en tuplas. Para más información consulte [aquí](https://ellibrodepython.com/zip-python)."
      ],
      "metadata": {
        "id": "I4aClr-rRn_C"
      }
    },
    {
      "cell_type": "code",
      "source": [
        "data = list(zip(airbnb['latitude'], \n",
        "                airbnb['longitude']))\n",
        "\n",
        "data[0:10]"
      ],
      "metadata": {
        "id": "fzJQVQRBDk02"
      },
      "execution_count": null,
      "outputs": []
    },
    {
      "cell_type": "markdown",
      "source": [
        "Ahora vamos a crear la capa del mapa de calor usando un plugin de Folium llamada HeatMap. A este le pasamos los datos y algunos parámetros para ajustar el color. Es importante que la librería Folium esté actualizada para que el mapa sea reproducible. "
      ],
      "metadata": {
        "id": "LiyPy_f3TC7J"
      }
    },
    {
      "cell_type": "code",
      "source": [
        "hm_loc = HeatMap(data,\n",
        "              min_opacity = 0.2,\n",
        "              radius = 8,\n",
        "              blur = 6)"
      ],
      "metadata": {
        "id": "6YvEjjmgD41V"
      },
      "execution_count": null,
      "outputs": []
    },
    {
      "cell_type": "code",
      "source": [
        "# Ahora añadimos la capa al mapa que ya habíamos creado\n",
        "\n",
        "map1.add_child(hm_loc)\n",
        "map1"
      ],
      "metadata": {
        "id": "B62X3PbND6i4"
      },
      "execution_count": null,
      "outputs": []
    },
    {
      "cell_type": "markdown",
      "source": [
        "El mapa de calor anterior nos está mostrando en que zonas de la ciudad hay una mayor densidad de hospedajes."
      ],
      "metadata": {
        "id": "oY8Sgi6PT_Qg"
      }
    },
    {
      "cell_type": "code",
      "source": [
        "# Podemos guardar el mapa como un archivo html interactivo\n",
        "\n",
        "map1.save(\"heat_map_density.html\")"
      ],
      "metadata": {
        "id": "CrOSiglr-txK"
      },
      "execution_count": null,
      "outputs": []
    },
    {
      "cell_type": "markdown",
      "source": [
        "### Ejercicio 16\n",
        "\n",
        "Discuta y analice lo que observa en el mapa de calor que acabamos de crear."
      ],
      "metadata": {
        "id": "xfQnM8qJUG-7"
      }
    },
    {
      "cell_type": "markdown",
      "source": [
        "Respuesta"
      ],
      "metadata": {
        "id": "TynpjOlYUM24"
      }
    },
    {
      "cell_type": "markdown",
      "source": [
        "## Ejemplo 3: Creación de un geoheatmap con Folium"
      ],
      "metadata": {
        "id": "AL157ykMUabn"
      }
    },
    {
      "cell_type": "markdown",
      "source": [
        "Ahora vamos a crear un mapa de calor que nos muestre en que zonas de la ciudad están los hospedajes más costosos."
      ],
      "metadata": {
        "id": "HOwfEHsVUW48"
      }
    },
    {
      "cell_type": "code",
      "source": [
        "nueva_york = [40.781027,-73.965726]\n",
        "map2 = folium.Map(location = nueva_york, zoom_start= 10,tiles=\"OpenStreetMap\")\n",
        "data2 = list(zip(airbnb['latitude'], \n",
        "                airbnb['longitude'],\n",
        "                airbnb['price'])) # Note que pasamos una tercera columna que es el precio\n",
        "\n",
        "data2[0:10]"
      ],
      "metadata": {
        "id": "iYwCDcAYGl06"
      },
      "execution_count": null,
      "outputs": []
    },
    {
      "cell_type": "code",
      "source": [
        "hm_price = HeatMap(data2,\n",
        "              min_opacity = 0.2,\n",
        "              radius = 8,\n",
        "              blur = 6)\n",
        "\n",
        "map2.add_child(hm_price)\n",
        "map2"
      ],
      "metadata": {
        "id": "bPjL7swCHBTQ"
      },
      "execution_count": null,
      "outputs": []
    },
    {
      "cell_type": "code",
      "source": [
        "map2.save(\"heat_map_density.html\")"
      ],
      "metadata": {
        "id": "YaDfUv-JVw2X"
      },
      "execution_count": null,
      "outputs": []
    },
    {
      "cell_type": "markdown",
      "source": [
        "### Ejercicio 17\n",
        "\n",
        "Haga un análisis del mapa que acabamos de crear."
      ],
      "metadata": {
        "id": "avC8Uv10Ve1a"
      }
    },
    {
      "cell_type": "markdown",
      "source": [
        "### Ejercicio 18\n",
        "\n",
        "Escriba sus conclusiones del análisis de datos realizado. Recuerde que las conclusiones deben ser números, estadísticos, información que sale del análisis, no es un resumen de lo aprendido, ni una observación personal acerca del trabajo realizado, ¿qué comportamiento muestran los datos? ¿cuales fueron las respuestas a las preguntas de negocio? ¿cuales considera hasta ahora las variables más importantes respecto a su relación con el precio?\n",
        "¿Encontró errores en los datos, atípicos? **Las conclusiones son parte fundamental de un informe y/o trabajo investigativo.**"
      ],
      "metadata": {
        "id": "0PJ3hv1xX9ZU"
      }
    },
    {
      "cell_type": "markdown",
      "source": [
        "Respuesta"
      ],
      "metadata": {
        "id": "oYCma5eFYwKL"
      }
    },
    {
      "cell_type": "markdown",
      "source": [
        "**Aquí termina esta primera fase de exploración, en la siguiente trabajaremos en algo de limpieza, creación de nuevas variables y complementar nuestro análisis exploratorio preliminar. Siéntase libre de añadir abajo de esta celda cualquier otra pregunta de negocio, código relacionado u observaciones relevantes.**"
      ],
      "metadata": {
        "id": "iNhU3Wq1Xte_"
      }
    },
    {
      "cell_type": "markdown",
      "source": [
        "## **Créditos**\n",
        "---\n",
        "\n",
        "**Profesor:** Harry Vargas Rodríguez\n",
        "\n",
        "**Corporación Universitaria de Cataluña** - *Diplomado en Big Data y Data Science*"
      ],
      "metadata": {
        "id": "LgyxZ1SDV_nU"
      }
    }
  ]
}